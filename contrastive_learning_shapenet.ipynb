{
  "cells": [
    {
      "cell_type": "markdown",
      "metadata": {
        "id": "JTqAbOIjjSXm"
      },
      "source": [
        "## Contrastive Learning in PyTorch with Point Clouds\n",
        "\n"
      ]
    },
    {
      "cell_type": "markdown",
      "metadata": {
        "id": "2-pAk_rLhhiV"
      },
      "source": [
        "## Installation / Setup"
      ]
    },
    {
      "cell_type": "code",
      "execution_count": 1,
      "metadata": {
        "colab": {
          "base_uri": "https://localhost:8080/"
        },
        "id": "iy3-tXq3i8dO",
        "outputId": "59429cb5-8cb3-4aa3-a78f-c1cb27ba2630"
      },
      "outputs": [
        {
          "name": "stdout",
          "output_type": "stream",
          "text": [
            "Torch version: 2.1.0+cu118\n",
            "CUDA available: False\n",
            "GPU: No GPU\n",
            "PyG installed and working. Sample layer: <class 'torch_geometric.nn.conv.gcn_conv.GCNConv'>\n"
          ]
        }
      ],
      "source": [
        "import torch\n",
        "import torch_geometric\n",
        "\n",
        "print(\"Torch version:\", torch.__version__)\n",
        "print(\"CUDA available:\", torch.cuda.is_available())\n",
        "print(\"GPU:\", torch.cuda.get_device_name(0) if torch.cuda.is_available() else \"No GPU\")\n",
        "\n",
        "from torch_geometric.nn import GCNConv\n",
        "print(\"PyG installed and working. Sample layer:\", GCNConv)"
      ]
    },
    {
      "cell_type": "markdown",
      "metadata": {
        "id": "sH4vLmajhONv"
      },
      "source": [
        "✋ **Note: You'll need to restart your runtime and execute the two cells again.** ✋"
      ]
    },
    {
      "cell_type": "markdown",
      "metadata": {
        "id": "DQDYyNK_-j--"
      },
      "source": [
        "## Dataset\n",
        "\n",
        "Goal:\n",
        "- Self-Supervised Representation Learning of Shapes\n",
        "- Can be used for downstream tasks like clustering, fine-tuning, outlier-detection, ...\n",
        "- Pointcloud = Set of unconnected nodes --> PyG\n",
        "- [ShapeNet Dataset](https://paperswithcode.com/dataset/shapenet) - we just use a subset of classes and act like we didn't have labels\n",
        "- I select 5k data points as otherwise I run out of memory on Colab\n",
        "\n"
      ]
    },
    {
      "cell_type": "code",
      "execution_count": 2,
      "metadata": {
        "colab": {
          "base_uri": "https://localhost:8080/"
        },
        "id": "MtcN0Et2h21F",
        "outputId": "283bfc8d-da6c-4e32-969b-c97ca3188a6c"
      },
      "outputs": [
        {
          "name": "stdout",
          "output_type": "stream",
          "text": [
            "Number of Samples:  5000\n",
            "Sample:  Data(x=[2787, 3], y=[2787], pos=[2787, 3], category=[1])\n"
          ]
        }
      ],
      "source": [
        "from torch_geometric.datasets import ShapeNet\n",
        "\n",
        "\n",
        "dataset = ShapeNet(root=\"./ShapeNet\", categories=[\"Airplane\", \"Car\", \"Chair\", \"Table\"]).shuffle()[:5000]\n",
        "\n",
        "print(\"Number of Samples: \", len(dataset))\n",
        "print(\"Sample: \", dataset[0])\n",
        "\n",
        "# dataset = ShapeNet(\n",
        "#     root=\"/home/DAVIDSON/gobaheti/ContrastiveModel_test/ShapeNet\",\n",
        "#     categories=['Airplane'],\n",
        "#     split='train',\n",
        "#     include_normals=True\n",
        "# )\n",
        "\n",
        "\n",
        "# print(f\"Loaded {len(dataset)} samples\")\n"
      ]
    },
    {
      "cell_type": "markdown",
      "metadata": {
        "id": "X05pyLpSiHlB"
      },
      "source": [
        "Attribute Name  | Description\n",
        "-------------------|------------------\n",
        "Pos       | Normalized positions as 3D coordinates\n",
        "X       |  Normal vectors\n",
        "Y       | Class label"
      ]
    },
    {
      "cell_type": "code",
      "execution_count": 3,
      "metadata": {
        "colab": {
          "base_uri": "https://localhost:8080/"
        },
        "id": "tXjyMJP6B3bx",
        "outputId": "568d6384-d83c-4ca8-8001-9f5514be413f"
      },
      "outputs": [
        {
          "data": {
            "text/plain": [
              "tensor([[-0.2402,  0.0755, -0.0137],\n",
              "        [-0.0671,  0.3487,  0.0185],\n",
              "        [ 0.1871, -0.1072, -0.0826],\n",
              "        ...,\n",
              "        [-0.1526, -0.0278,  0.1814],\n",
              "        [-0.1526, -0.0242,  0.1981],\n",
              "        [-0.0728, -0.0468, -0.2270]])"
            ]
          },
          "execution_count": 3,
          "metadata": {},
          "output_type": "execute_result"
        }
      ],
      "source": [
        "dataset[0].pos"
      ]
    },
    {
      "cell_type": "markdown",
      "metadata": {
        "id": "SoaKy33ckunB"
      },
      "source": [
        "Let's use plotly to inspect the data ..."
      ]
    },
    {
      "cell_type": "code",
      "execution_count": 4,
      "metadata": {
        "colab": {
          "base_uri": "https://localhost:8080/"
        },
        "id": "XLuBtphVvlMZ",
        "outputId": "9da63d0d-0abb-4042-ce52-479ebea825cc"
      },
      "outputs": [
        {
          "name": "stdout",
          "output_type": "stream",
          "text": [
            "Number of data points:  2691\n"
          ]
        },
        {
          "data": {
            "application/vnd.plotly.v1+json": {
              "config": {
                "plotlyServerURL": "https://plot.ly"
              },
              "data": [
                {
                  "hovertemplate": "x=%{x}<br>y=%{y}<br>z=%{z}<extra></extra>",
                  "legendgroup": "",
                  "marker": {
                    "color": "#636efa",
                    "opacity": 0.3,
                    "symbol": "circle"
                  },
                  "mode": "markers",
                  "name": "",
                  "scene": "scene",
                  "showlegend": false,
                  "type": "scatter3d",
                  "x": {
                    "bdata": "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",
                    "dtype": "f4"
                  },
                  "y": {
                    "bdata": "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",
                    "dtype": "f4"
                  },
                  "z": {
                    "bdata": "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",
                    "dtype": "f4"
                  }
                }
              ],
              "layout": {
                "legend": {
                  "tracegroupgap": 0
                },
                "margin": {
                  "t": 60
                },
                "scene": {
                  "domain": {
                    "x": [
                      0,
                      1
                    ],
                    "y": [
                      0,
                      1
                    ]
                  },
                  "xaxis": {
                    "title": {
                      "text": "x"
                    }
                  },
                  "yaxis": {
                    "title": {
                      "text": "y"
                    }
                  },
                  "zaxis": {
                    "title": {
                      "text": "z"
                    }
                  }
                },
                "template": {
                  "data": {
                    "bar": [
                      {
                        "error_x": {
                          "color": "#2a3f5f"
                        },
                        "error_y": {
                          "color": "#2a3f5f"
                        },
                        "marker": {
                          "line": {
                            "color": "#E5ECF6",
                            "width": 0.5
                          },
                          "pattern": {
                            "fillmode": "overlay",
                            "size": 10,
                            "solidity": 0.2
                          }
                        },
                        "type": "bar"
                      }
                    ],
                    "barpolar": [
                      {
                        "marker": {
                          "line": {
                            "color": "#E5ECF6",
                            "width": 0.5
                          },
                          "pattern": {
                            "fillmode": "overlay",
                            "size": 10,
                            "solidity": 0.2
                          }
                        },
                        "type": "barpolar"
                      }
                    ],
                    "carpet": [
                      {
                        "aaxis": {
                          "endlinecolor": "#2a3f5f",
                          "gridcolor": "white",
                          "linecolor": "white",
                          "minorgridcolor": "white",
                          "startlinecolor": "#2a3f5f"
                        },
                        "baxis": {
                          "endlinecolor": "#2a3f5f",
                          "gridcolor": "white",
                          "linecolor": "white",
                          "minorgridcolor": "white",
                          "startlinecolor": "#2a3f5f"
                        },
                        "type": "carpet"
                      }
                    ],
                    "choropleth": [
                      {
                        "colorbar": {
                          "outlinewidth": 0,
                          "ticks": ""
                        },
                        "type": "choropleth"
                      }
                    ],
                    "contour": [
                      {
                        "colorbar": {
                          "outlinewidth": 0,
                          "ticks": ""
                        },
                        "colorscale": [
                          [
                            0,
                            "#0d0887"
                          ],
                          [
                            0.1111111111111111,
                            "#46039f"
                          ],
                          [
                            0.2222222222222222,
                            "#7201a8"
                          ],
                          [
                            0.3333333333333333,
                            "#9c179e"
                          ],
                          [
                            0.4444444444444444,
                            "#bd3786"
                          ],
                          [
                            0.5555555555555556,
                            "#d8576b"
                          ],
                          [
                            0.6666666666666666,
                            "#ed7953"
                          ],
                          [
                            0.7777777777777778,
                            "#fb9f3a"
                          ],
                          [
                            0.8888888888888888,
                            "#fdca26"
                          ],
                          [
                            1,
                            "#f0f921"
                          ]
                        ],
                        "type": "contour"
                      }
                    ],
                    "contourcarpet": [
                      {
                        "colorbar": {
                          "outlinewidth": 0,
                          "ticks": ""
                        },
                        "type": "contourcarpet"
                      }
                    ],
                    "heatmap": [
                      {
                        "colorbar": {
                          "outlinewidth": 0,
                          "ticks": ""
                        },
                        "colorscale": [
                          [
                            0,
                            "#0d0887"
                          ],
                          [
                            0.1111111111111111,
                            "#46039f"
                          ],
                          [
                            0.2222222222222222,
                            "#7201a8"
                          ],
                          [
                            0.3333333333333333,
                            "#9c179e"
                          ],
                          [
                            0.4444444444444444,
                            "#bd3786"
                          ],
                          [
                            0.5555555555555556,
                            "#d8576b"
                          ],
                          [
                            0.6666666666666666,
                            "#ed7953"
                          ],
                          [
                            0.7777777777777778,
                            "#fb9f3a"
                          ],
                          [
                            0.8888888888888888,
                            "#fdca26"
                          ],
                          [
                            1,
                            "#f0f921"
                          ]
                        ],
                        "type": "heatmap"
                      }
                    ],
                    "histogram": [
                      {
                        "marker": {
                          "pattern": {
                            "fillmode": "overlay",
                            "size": 10,
                            "solidity": 0.2
                          }
                        },
                        "type": "histogram"
                      }
                    ],
                    "histogram2d": [
                      {
                        "colorbar": {
                          "outlinewidth": 0,
                          "ticks": ""
                        },
                        "colorscale": [
                          [
                            0,
                            "#0d0887"
                          ],
                          [
                            0.1111111111111111,
                            "#46039f"
                          ],
                          [
                            0.2222222222222222,
                            "#7201a8"
                          ],
                          [
                            0.3333333333333333,
                            "#9c179e"
                          ],
                          [
                            0.4444444444444444,
                            "#bd3786"
                          ],
                          [
                            0.5555555555555556,
                            "#d8576b"
                          ],
                          [
                            0.6666666666666666,
                            "#ed7953"
                          ],
                          [
                            0.7777777777777778,
                            "#fb9f3a"
                          ],
                          [
                            0.8888888888888888,
                            "#fdca26"
                          ],
                          [
                            1,
                            "#f0f921"
                          ]
                        ],
                        "type": "histogram2d"
                      }
                    ],
                    "histogram2dcontour": [
                      {
                        "colorbar": {
                          "outlinewidth": 0,
                          "ticks": ""
                        },
                        "colorscale": [
                          [
                            0,
                            "#0d0887"
                          ],
                          [
                            0.1111111111111111,
                            "#46039f"
                          ],
                          [
                            0.2222222222222222,
                            "#7201a8"
                          ],
                          [
                            0.3333333333333333,
                            "#9c179e"
                          ],
                          [
                            0.4444444444444444,
                            "#bd3786"
                          ],
                          [
                            0.5555555555555556,
                            "#d8576b"
                          ],
                          [
                            0.6666666666666666,
                            "#ed7953"
                          ],
                          [
                            0.7777777777777778,
                            "#fb9f3a"
                          ],
                          [
                            0.8888888888888888,
                            "#fdca26"
                          ],
                          [
                            1,
                            "#f0f921"
                          ]
                        ],
                        "type": "histogram2dcontour"
                      }
                    ],
                    "mesh3d": [
                      {
                        "colorbar": {
                          "outlinewidth": 0,
                          "ticks": ""
                        },
                        "type": "mesh3d"
                      }
                    ],
                    "parcoords": [
                      {
                        "line": {
                          "colorbar": {
                            "outlinewidth": 0,
                            "ticks": ""
                          }
                        },
                        "type": "parcoords"
                      }
                    ],
                    "pie": [
                      {
                        "automargin": true,
                        "type": "pie"
                      }
                    ],
                    "scatter": [
                      {
                        "fillpattern": {
                          "fillmode": "overlay",
                          "size": 10,
                          "solidity": 0.2
                        },
                        "type": "scatter"
                      }
                    ],
                    "scatter3d": [
                      {
                        "line": {
                          "colorbar": {
                            "outlinewidth": 0,
                            "ticks": ""
                          }
                        },
                        "marker": {
                          "colorbar": {
                            "outlinewidth": 0,
                            "ticks": ""
                          }
                        },
                        "type": "scatter3d"
                      }
                    ],
                    "scattercarpet": [
                      {
                        "marker": {
                          "colorbar": {
                            "outlinewidth": 0,
                            "ticks": ""
                          }
                        },
                        "type": "scattercarpet"
                      }
                    ],
                    "scattergeo": [
                      {
                        "marker": {
                          "colorbar": {
                            "outlinewidth": 0,
                            "ticks": ""
                          }
                        },
                        "type": "scattergeo"
                      }
                    ],
                    "scattergl": [
                      {
                        "marker": {
                          "colorbar": {
                            "outlinewidth": 0,
                            "ticks": ""
                          }
                        },
                        "type": "scattergl"
                      }
                    ],
                    "scattermap": [
                      {
                        "marker": {
                          "colorbar": {
                            "outlinewidth": 0,
                            "ticks": ""
                          }
                        },
                        "type": "scattermap"
                      }
                    ],
                    "scattermapbox": [
                      {
                        "marker": {
                          "colorbar": {
                            "outlinewidth": 0,
                            "ticks": ""
                          }
                        },
                        "type": "scattermapbox"
                      }
                    ],
                    "scatterpolar": [
                      {
                        "marker": {
                          "colorbar": {
                            "outlinewidth": 0,
                            "ticks": ""
                          }
                        },
                        "type": "scatterpolar"
                      }
                    ],
                    "scatterpolargl": [
                      {
                        "marker": {
                          "colorbar": {
                            "outlinewidth": 0,
                            "ticks": ""
                          }
                        },
                        "type": "scatterpolargl"
                      }
                    ],
                    "scatterternary": [
                      {
                        "marker": {
                          "colorbar": {
                            "outlinewidth": 0,
                            "ticks": ""
                          }
                        },
                        "type": "scatterternary"
                      }
                    ],
                    "surface": [
                      {
                        "colorbar": {
                          "outlinewidth": 0,
                          "ticks": ""
                        },
                        "colorscale": [
                          [
                            0,
                            "#0d0887"
                          ],
                          [
                            0.1111111111111111,
                            "#46039f"
                          ],
                          [
                            0.2222222222222222,
                            "#7201a8"
                          ],
                          [
                            0.3333333333333333,
                            "#9c179e"
                          ],
                          [
                            0.4444444444444444,
                            "#bd3786"
                          ],
                          [
                            0.5555555555555556,
                            "#d8576b"
                          ],
                          [
                            0.6666666666666666,
                            "#ed7953"
                          ],
                          [
                            0.7777777777777778,
                            "#fb9f3a"
                          ],
                          [
                            0.8888888888888888,
                            "#fdca26"
                          ],
                          [
                            1,
                            "#f0f921"
                          ]
                        ],
                        "type": "surface"
                      }
                    ],
                    "table": [
                      {
                        "cells": {
                          "fill": {
                            "color": "#EBF0F8"
                          },
                          "line": {
                            "color": "white"
                          }
                        },
                        "header": {
                          "fill": {
                            "color": "#C8D4E3"
                          },
                          "line": {
                            "color": "white"
                          }
                        },
                        "type": "table"
                      }
                    ]
                  },
                  "layout": {
                    "annotationdefaults": {
                      "arrowcolor": "#2a3f5f",
                      "arrowhead": 0,
                      "arrowwidth": 1
                    },
                    "autotypenumbers": "strict",
                    "coloraxis": {
                      "colorbar": {
                        "outlinewidth": 0,
                        "ticks": ""
                      }
                    },
                    "colorscale": {
                      "diverging": [
                        [
                          0,
                          "#8e0152"
                        ],
                        [
                          0.1,
                          "#c51b7d"
                        ],
                        [
                          0.2,
                          "#de77ae"
                        ],
                        [
                          0.3,
                          "#f1b6da"
                        ],
                        [
                          0.4,
                          "#fde0ef"
                        ],
                        [
                          0.5,
                          "#f7f7f7"
                        ],
                        [
                          0.6,
                          "#e6f5d0"
                        ],
                        [
                          0.7,
                          "#b8e186"
                        ],
                        [
                          0.8,
                          "#7fbc41"
                        ],
                        [
                          0.9,
                          "#4d9221"
                        ],
                        [
                          1,
                          "#276419"
                        ]
                      ],
                      "sequential": [
                        [
                          0,
                          "#0d0887"
                        ],
                        [
                          0.1111111111111111,
                          "#46039f"
                        ],
                        [
                          0.2222222222222222,
                          "#7201a8"
                        ],
                        [
                          0.3333333333333333,
                          "#9c179e"
                        ],
                        [
                          0.4444444444444444,
                          "#bd3786"
                        ],
                        [
                          0.5555555555555556,
                          "#d8576b"
                        ],
                        [
                          0.6666666666666666,
                          "#ed7953"
                        ],
                        [
                          0.7777777777777778,
                          "#fb9f3a"
                        ],
                        [
                          0.8888888888888888,
                          "#fdca26"
                        ],
                        [
                          1,
                          "#f0f921"
                        ]
                      ],
                      "sequentialminus": [
                        [
                          0,
                          "#0d0887"
                        ],
                        [
                          0.1111111111111111,
                          "#46039f"
                        ],
                        [
                          0.2222222222222222,
                          "#7201a8"
                        ],
                        [
                          0.3333333333333333,
                          "#9c179e"
                        ],
                        [
                          0.4444444444444444,
                          "#bd3786"
                        ],
                        [
                          0.5555555555555556,
                          "#d8576b"
                        ],
                        [
                          0.6666666666666666,
                          "#ed7953"
                        ],
                        [
                          0.7777777777777778,
                          "#fb9f3a"
                        ],
                        [
                          0.8888888888888888,
                          "#fdca26"
                        ],
                        [
                          1,
                          "#f0f921"
                        ]
                      ]
                    },
                    "colorway": [
                      "#636efa",
                      "#EF553B",
                      "#00cc96",
                      "#ab63fa",
                      "#FFA15A",
                      "#19d3f3",
                      "#FF6692",
                      "#B6E880",
                      "#FF97FF",
                      "#FECB52"
                    ],
                    "font": {
                      "color": "#2a3f5f"
                    },
                    "geo": {
                      "bgcolor": "white",
                      "lakecolor": "white",
                      "landcolor": "#E5ECF6",
                      "showlakes": true,
                      "showland": true,
                      "subunitcolor": "white"
                    },
                    "hoverlabel": {
                      "align": "left"
                    },
                    "hovermode": "closest",
                    "mapbox": {
                      "style": "light"
                    },
                    "paper_bgcolor": "white",
                    "plot_bgcolor": "#E5ECF6",
                    "polar": {
                      "angularaxis": {
                        "gridcolor": "white",
                        "linecolor": "white",
                        "ticks": ""
                      },
                      "bgcolor": "#E5ECF6",
                      "radialaxis": {
                        "gridcolor": "white",
                        "linecolor": "white",
                        "ticks": ""
                      }
                    },
                    "scene": {
                      "xaxis": {
                        "backgroundcolor": "#E5ECF6",
                        "gridcolor": "white",
                        "gridwidth": 2,
                        "linecolor": "white",
                        "showbackground": true,
                        "ticks": "",
                        "zerolinecolor": "white"
                      },
                      "yaxis": {
                        "backgroundcolor": "#E5ECF6",
                        "gridcolor": "white",
                        "gridwidth": 2,
                        "linecolor": "white",
                        "showbackground": true,
                        "ticks": "",
                        "zerolinecolor": "white"
                      },
                      "zaxis": {
                        "backgroundcolor": "#E5ECF6",
                        "gridcolor": "white",
                        "gridwidth": 2,
                        "linecolor": "white",
                        "showbackground": true,
                        "ticks": "",
                        "zerolinecolor": "white"
                      }
                    },
                    "shapedefaults": {
                      "line": {
                        "color": "#2a3f5f"
                      }
                    },
                    "ternary": {
                      "aaxis": {
                        "gridcolor": "white",
                        "linecolor": "white",
                        "ticks": ""
                      },
                      "baxis": {
                        "gridcolor": "white",
                        "linecolor": "white",
                        "ticks": ""
                      },
                      "bgcolor": "#E5ECF6",
                      "caxis": {
                        "gridcolor": "white",
                        "linecolor": "white",
                        "ticks": ""
                      }
                    },
                    "title": {
                      "x": 0.05
                    },
                    "xaxis": {
                      "automargin": true,
                      "gridcolor": "white",
                      "linecolor": "white",
                      "ticks": "",
                      "title": {
                        "standoff": 15
                      },
                      "zerolinecolor": "white",
                      "zerolinewidth": 2
                    },
                    "yaxis": {
                      "automargin": true,
                      "gridcolor": "white",
                      "linecolor": "white",
                      "ticks": "",
                      "title": {
                        "standoff": 15
                      },
                      "zerolinecolor": "white",
                      "zerolinewidth": 2
                    }
                  }
                }
              }
            }
          },
          "metadata": {},
          "output_type": "display_data"
        }
      ],
      "source": [
        "#!pip install plotly --quiet\n",
        "import plotly.express as px\n",
        "\n",
        "def plot_3d_shape(shape):\n",
        "    print(\"Number of data points: \", shape.x.shape[0])\n",
        "    x = shape.pos[:, 0]\n",
        "    y = shape.pos[:, 1]\n",
        "    z = shape.pos[:, 2]\n",
        "    fig = px.scatter_3d(x=x, y=y, z=z, opacity=0.3)\n",
        "    fig.show()\n",
        "\n",
        "# Pick a sample\n",
        "sample_idx = 3\n",
        "plot_3d_shape(dataset[sample_idx])"
      ]
    },
    {
      "cell_type": "code",
      "execution_count": 5,
      "metadata": {
        "colab": {
          "base_uri": "https://localhost:8080/"
        },
        "id": "_R4TFMbclLij",
        "outputId": "5baaa657-f224-43ca-d5bb-8b9be0584ee4"
      },
      "outputs": [
        {
          "data": {
            "text/plain": [
              "{'Airplane': 1117, 'Car': 336, 'Chair': 1438, 'Table': 2109}"
            ]
          },
          "execution_count": 5,
          "metadata": {},
          "output_type": "execute_result"
        }
      ],
      "source": [
        "# Let's check the distribution of classes\n",
        "cat_dict = {key: 0 for key in dataset.categories}\n",
        "for datapoint in dataset: cat_dict[dataset.categories[datapoint.category.int()]]+=1\n",
        "cat_dict"
      ]
    },
    {
      "cell_type": "markdown",
      "metadata": {
        "id": "rEyNxSuPGrHX"
      },
      "source": [
        "## Data Preparation\n",
        "\n",
        "- In some scenarios it makes sense to pre-compute the augmentations (for example if heavy computations are involved)\n",
        "- This would require to store multiple Data Points in one Data Object, which is possible in PyTorch\n",
        "- Here we will compute the augmentations on the fly and use the below transformations for this\n",
        "- Later, for each data point we will need 2 augmentations (positive pair)\n",
        "- What are good augmentations for Point Clouds?\n",
        "    - Rotation (if the used layer is not rotation invariant)\n",
        "    - Jittering (can be seen as adding noise to the coordinates)\n",
        "    - Shifting / Shearing\n",
        "    - ... many more\n",
        "\n",
        "\n"
      ]
    },
    {
      "cell_type": "code",
      "execution_count": 6,
      "metadata": {
        "id": "tlOnmFOUd9OP"
      },
      "outputs": [],
      "source": [
        "from torch_geometric.loader import DataLoader\n",
        "import torch_geometric.transforms as T\n",
        "\n",
        "data_loader = DataLoader(dataset, batch_size=32, shuffle=True)\n",
        "\n",
        "# We're lucky and pytorch geometric helps us with pre-implemented transforms\n",
        "# which can also be applied on the whole batch directly\n",
        "augmentation = T.Compose([T.RandomJitter(0.03), T.RandomFlip(1), T.RandomShear(0.2)])"
      ]
    },
    {
      "cell_type": "markdown",
      "metadata": {
        "id": "ce7gMHZQH54Q"
      },
      "source": [
        "Let's have a look at some samples ..."
      ]
    },
    {
      "cell_type": "code",
      "execution_count": 11,
      "metadata": {
        "colab": {
          "base_uri": "https://localhost:8080/"
        },
        "id": "9rVbZMjDkjRm",
        "outputId": "163a5814-cdfa-4f10-c6ed-41ae708a2c4a"
      },
      "outputs": [
        {
          "name": "stdout",
          "output_type": "stream",
          "text": [
            "Number of data points:  2722\n"
          ]
        },
        {
          "data": {
            "application/vnd.plotly.v1+json": {
              "config": {
                "plotlyServerURL": "https://plot.ly"
              },
              "data": [
                {
                  "hovertemplate": "x=%{x}<br>y=%{y}<br>z=%{z}<extra></extra>",
                  "legendgroup": "",
                  "marker": {
                    "color": "#636efa",
                    "opacity": 0.3,
                    "symbol": "circle"
                  },
                  "mode": "markers",
                  "name": "",
                  "scene": "scene",
                  "showlegend": false,
                  "type": "scatter3d",
                  "x": {
                    "bdata": "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",
                    "dtype": "f4"
                  },
                  "y": {
                    "bdata": "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",
                    "dtype": "f4"
                  },
                  "z": {
                    "bdata": "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",
                    "dtype": "f4"
                  }
                }
              ],
              "layout": {
                "legend": {
                  "tracegroupgap": 0
                },
                "margin": {
                  "t": 60
                },
                "scene": {
                  "domain": {
                    "x": [
                      0,
                      1
                    ],
                    "y": [
                      0,
                      1
                    ]
                  },
                  "xaxis": {
                    "title": {
                      "text": "x"
                    }
                  },
                  "yaxis": {
                    "title": {
                      "text": "y"
                    }
                  },
                  "zaxis": {
                    "title": {
                      "text": "z"
                    }
                  }
                },
                "template": {
                  "data": {
                    "bar": [
                      {
                        "error_x": {
                          "color": "#2a3f5f"
                        },
                        "error_y": {
                          "color": "#2a3f5f"
                        },
                        "marker": {
                          "line": {
                            "color": "#E5ECF6",
                            "width": 0.5
                          },
                          "pattern": {
                            "fillmode": "overlay",
                            "size": 10,
                            "solidity": 0.2
                          }
                        },
                        "type": "bar"
                      }
                    ],
                    "barpolar": [
                      {
                        "marker": {
                          "line": {
                            "color": "#E5ECF6",
                            "width": 0.5
                          },
                          "pattern": {
                            "fillmode": "overlay",
                            "size": 10,
                            "solidity": 0.2
                          }
                        },
                        "type": "barpolar"
                      }
                    ],
                    "carpet": [
                      {
                        "aaxis": {
                          "endlinecolor": "#2a3f5f",
                          "gridcolor": "white",
                          "linecolor": "white",
                          "minorgridcolor": "white",
                          "startlinecolor": "#2a3f5f"
                        },
                        "baxis": {
                          "endlinecolor": "#2a3f5f",
                          "gridcolor": "white",
                          "linecolor": "white",
                          "minorgridcolor": "white",
                          "startlinecolor": "#2a3f5f"
                        },
                        "type": "carpet"
                      }
                    ],
                    "choropleth": [
                      {
                        "colorbar": {
                          "outlinewidth": 0,
                          "ticks": ""
                        },
                        "type": "choropleth"
                      }
                    ],
                    "contour": [
                      {
                        "colorbar": {
                          "outlinewidth": 0,
                          "ticks": ""
                        },
                        "colorscale": [
                          [
                            0,
                            "#0d0887"
                          ],
                          [
                            0.1111111111111111,
                            "#46039f"
                          ],
                          [
                            0.2222222222222222,
                            "#7201a8"
                          ],
                          [
                            0.3333333333333333,
                            "#9c179e"
                          ],
                          [
                            0.4444444444444444,
                            "#bd3786"
                          ],
                          [
                            0.5555555555555556,
                            "#d8576b"
                          ],
                          [
                            0.6666666666666666,
                            "#ed7953"
                          ],
                          [
                            0.7777777777777778,
                            "#fb9f3a"
                          ],
                          [
                            0.8888888888888888,
                            "#fdca26"
                          ],
                          [
                            1,
                            "#f0f921"
                          ]
                        ],
                        "type": "contour"
                      }
                    ],
                    "contourcarpet": [
                      {
                        "colorbar": {
                          "outlinewidth": 0,
                          "ticks": ""
                        },
                        "type": "contourcarpet"
                      }
                    ],
                    "heatmap": [
                      {
                        "colorbar": {
                          "outlinewidth": 0,
                          "ticks": ""
                        },
                        "colorscale": [
                          [
                            0,
                            "#0d0887"
                          ],
                          [
                            0.1111111111111111,
                            "#46039f"
                          ],
                          [
                            0.2222222222222222,
                            "#7201a8"
                          ],
                          [
                            0.3333333333333333,
                            "#9c179e"
                          ],
                          [
                            0.4444444444444444,
                            "#bd3786"
                          ],
                          [
                            0.5555555555555556,
                            "#d8576b"
                          ],
                          [
                            0.6666666666666666,
                            "#ed7953"
                          ],
                          [
                            0.7777777777777778,
                            "#fb9f3a"
                          ],
                          [
                            0.8888888888888888,
                            "#fdca26"
                          ],
                          [
                            1,
                            "#f0f921"
                          ]
                        ],
                        "type": "heatmap"
                      }
                    ],
                    "histogram": [
                      {
                        "marker": {
                          "pattern": {
                            "fillmode": "overlay",
                            "size": 10,
                            "solidity": 0.2
                          }
                        },
                        "type": "histogram"
                      }
                    ],
                    "histogram2d": [
                      {
                        "colorbar": {
                          "outlinewidth": 0,
                          "ticks": ""
                        },
                        "colorscale": [
                          [
                            0,
                            "#0d0887"
                          ],
                          [
                            0.1111111111111111,
                            "#46039f"
                          ],
                          [
                            0.2222222222222222,
                            "#7201a8"
                          ],
                          [
                            0.3333333333333333,
                            "#9c179e"
                          ],
                          [
                            0.4444444444444444,
                            "#bd3786"
                          ],
                          [
                            0.5555555555555556,
                            "#d8576b"
                          ],
                          [
                            0.6666666666666666,
                            "#ed7953"
                          ],
                          [
                            0.7777777777777778,
                            "#fb9f3a"
                          ],
                          [
                            0.8888888888888888,
                            "#fdca26"
                          ],
                          [
                            1,
                            "#f0f921"
                          ]
                        ],
                        "type": "histogram2d"
                      }
                    ],
                    "histogram2dcontour": [
                      {
                        "colorbar": {
                          "outlinewidth": 0,
                          "ticks": ""
                        },
                        "colorscale": [
                          [
                            0,
                            "#0d0887"
                          ],
                          [
                            0.1111111111111111,
                            "#46039f"
                          ],
                          [
                            0.2222222222222222,
                            "#7201a8"
                          ],
                          [
                            0.3333333333333333,
                            "#9c179e"
                          ],
                          [
                            0.4444444444444444,
                            "#bd3786"
                          ],
                          [
                            0.5555555555555556,
                            "#d8576b"
                          ],
                          [
                            0.6666666666666666,
                            "#ed7953"
                          ],
                          [
                            0.7777777777777778,
                            "#fb9f3a"
                          ],
                          [
                            0.8888888888888888,
                            "#fdca26"
                          ],
                          [
                            1,
                            "#f0f921"
                          ]
                        ],
                        "type": "histogram2dcontour"
                      }
                    ],
                    "mesh3d": [
                      {
                        "colorbar": {
                          "outlinewidth": 0,
                          "ticks": ""
                        },
                        "type": "mesh3d"
                      }
                    ],
                    "parcoords": [
                      {
                        "line": {
                          "colorbar": {
                            "outlinewidth": 0,
                            "ticks": ""
                          }
                        },
                        "type": "parcoords"
                      }
                    ],
                    "pie": [
                      {
                        "automargin": true,
                        "type": "pie"
                      }
                    ],
                    "scatter": [
                      {
                        "fillpattern": {
                          "fillmode": "overlay",
                          "size": 10,
                          "solidity": 0.2
                        },
                        "type": "scatter"
                      }
                    ],
                    "scatter3d": [
                      {
                        "line": {
                          "colorbar": {
                            "outlinewidth": 0,
                            "ticks": ""
                          }
                        },
                        "marker": {
                          "colorbar": {
                            "outlinewidth": 0,
                            "ticks": ""
                          }
                        },
                        "type": "scatter3d"
                      }
                    ],
                    "scattercarpet": [
                      {
                        "marker": {
                          "colorbar": {
                            "outlinewidth": 0,
                            "ticks": ""
                          }
                        },
                        "type": "scattercarpet"
                      }
                    ],
                    "scattergeo": [
                      {
                        "marker": {
                          "colorbar": {
                            "outlinewidth": 0,
                            "ticks": ""
                          }
                        },
                        "type": "scattergeo"
                      }
                    ],
                    "scattergl": [
                      {
                        "marker": {
                          "colorbar": {
                            "outlinewidth": 0,
                            "ticks": ""
                          }
                        },
                        "type": "scattergl"
                      }
                    ],
                    "scattermap": [
                      {
                        "marker": {
                          "colorbar": {
                            "outlinewidth": 0,
                            "ticks": ""
                          }
                        },
                        "type": "scattermap"
                      }
                    ],
                    "scattermapbox": [
                      {
                        "marker": {
                          "colorbar": {
                            "outlinewidth": 0,
                            "ticks": ""
                          }
                        },
                        "type": "scattermapbox"
                      }
                    ],
                    "scatterpolar": [
                      {
                        "marker": {
                          "colorbar": {
                            "outlinewidth": 0,
                            "ticks": ""
                          }
                        },
                        "type": "scatterpolar"
                      }
                    ],
                    "scatterpolargl": [
                      {
                        "marker": {
                          "colorbar": {
                            "outlinewidth": 0,
                            "ticks": ""
                          }
                        },
                        "type": "scatterpolargl"
                      }
                    ],
                    "scatterternary": [
                      {
                        "marker": {
                          "colorbar": {
                            "outlinewidth": 0,
                            "ticks": ""
                          }
                        },
                        "type": "scatterternary"
                      }
                    ],
                    "surface": [
                      {
                        "colorbar": {
                          "outlinewidth": 0,
                          "ticks": ""
                        },
                        "colorscale": [
                          [
                            0,
                            "#0d0887"
                          ],
                          [
                            0.1111111111111111,
                            "#46039f"
                          ],
                          [
                            0.2222222222222222,
                            "#7201a8"
                          ],
                          [
                            0.3333333333333333,
                            "#9c179e"
                          ],
                          [
                            0.4444444444444444,
                            "#bd3786"
                          ],
                          [
                            0.5555555555555556,
                            "#d8576b"
                          ],
                          [
                            0.6666666666666666,
                            "#ed7953"
                          ],
                          [
                            0.7777777777777778,
                            "#fb9f3a"
                          ],
                          [
                            0.8888888888888888,
                            "#fdca26"
                          ],
                          [
                            1,
                            "#f0f921"
                          ]
                        ],
                        "type": "surface"
                      }
                    ],
                    "table": [
                      {
                        "cells": {
                          "fill": {
                            "color": "#EBF0F8"
                          },
                          "line": {
                            "color": "white"
                          }
                        },
                        "header": {
                          "fill": {
                            "color": "#C8D4E3"
                          },
                          "line": {
                            "color": "white"
                          }
                        },
                        "type": "table"
                      }
                    ]
                  },
                  "layout": {
                    "annotationdefaults": {
                      "arrowcolor": "#2a3f5f",
                      "arrowhead": 0,
                      "arrowwidth": 1
                    },
                    "autotypenumbers": "strict",
                    "coloraxis": {
                      "colorbar": {
                        "outlinewidth": 0,
                        "ticks": ""
                      }
                    },
                    "colorscale": {
                      "diverging": [
                        [
                          0,
                          "#8e0152"
                        ],
                        [
                          0.1,
                          "#c51b7d"
                        ],
                        [
                          0.2,
                          "#de77ae"
                        ],
                        [
                          0.3,
                          "#f1b6da"
                        ],
                        [
                          0.4,
                          "#fde0ef"
                        ],
                        [
                          0.5,
                          "#f7f7f7"
                        ],
                        [
                          0.6,
                          "#e6f5d0"
                        ],
                        [
                          0.7,
                          "#b8e186"
                        ],
                        [
                          0.8,
                          "#7fbc41"
                        ],
                        [
                          0.9,
                          "#4d9221"
                        ],
                        [
                          1,
                          "#276419"
                        ]
                      ],
                      "sequential": [
                        [
                          0,
                          "#0d0887"
                        ],
                        [
                          0.1111111111111111,
                          "#46039f"
                        ],
                        [
                          0.2222222222222222,
                          "#7201a8"
                        ],
                        [
                          0.3333333333333333,
                          "#9c179e"
                        ],
                        [
                          0.4444444444444444,
                          "#bd3786"
                        ],
                        [
                          0.5555555555555556,
                          "#d8576b"
                        ],
                        [
                          0.6666666666666666,
                          "#ed7953"
                        ],
                        [
                          0.7777777777777778,
                          "#fb9f3a"
                        ],
                        [
                          0.8888888888888888,
                          "#fdca26"
                        ],
                        [
                          1,
                          "#f0f921"
                        ]
                      ],
                      "sequentialminus": [
                        [
                          0,
                          "#0d0887"
                        ],
                        [
                          0.1111111111111111,
                          "#46039f"
                        ],
                        [
                          0.2222222222222222,
                          "#7201a8"
                        ],
                        [
                          0.3333333333333333,
                          "#9c179e"
                        ],
                        [
                          0.4444444444444444,
                          "#bd3786"
                        ],
                        [
                          0.5555555555555556,
                          "#d8576b"
                        ],
                        [
                          0.6666666666666666,
                          "#ed7953"
                        ],
                        [
                          0.7777777777777778,
                          "#fb9f3a"
                        ],
                        [
                          0.8888888888888888,
                          "#fdca26"
                        ],
                        [
                          1,
                          "#f0f921"
                        ]
                      ]
                    },
                    "colorway": [
                      "#636efa",
                      "#EF553B",
                      "#00cc96",
                      "#ab63fa",
                      "#FFA15A",
                      "#19d3f3",
                      "#FF6692",
                      "#B6E880",
                      "#FF97FF",
                      "#FECB52"
                    ],
                    "font": {
                      "color": "#2a3f5f"
                    },
                    "geo": {
                      "bgcolor": "white",
                      "lakecolor": "white",
                      "landcolor": "#E5ECF6",
                      "showlakes": true,
                      "showland": true,
                      "subunitcolor": "white"
                    },
                    "hoverlabel": {
                      "align": "left"
                    },
                    "hovermode": "closest",
                    "mapbox": {
                      "style": "light"
                    },
                    "paper_bgcolor": "white",
                    "plot_bgcolor": "#E5ECF6",
                    "polar": {
                      "angularaxis": {
                        "gridcolor": "white",
                        "linecolor": "white",
                        "ticks": ""
                      },
                      "bgcolor": "#E5ECF6",
                      "radialaxis": {
                        "gridcolor": "white",
                        "linecolor": "white",
                        "ticks": ""
                      }
                    },
                    "scene": {
                      "xaxis": {
                        "backgroundcolor": "#E5ECF6",
                        "gridcolor": "white",
                        "gridwidth": 2,
                        "linecolor": "white",
                        "showbackground": true,
                        "ticks": "",
                        "zerolinecolor": "white"
                      },
                      "yaxis": {
                        "backgroundcolor": "#E5ECF6",
                        "gridcolor": "white",
                        "gridwidth": 2,
                        "linecolor": "white",
                        "showbackground": true,
                        "ticks": "",
                        "zerolinecolor": "white"
                      },
                      "zaxis": {
                        "backgroundcolor": "#E5ECF6",
                        "gridcolor": "white",
                        "gridwidth": 2,
                        "linecolor": "white",
                        "showbackground": true,
                        "ticks": "",
                        "zerolinecolor": "white"
                      }
                    },
                    "shapedefaults": {
                      "line": {
                        "color": "#2a3f5f"
                      }
                    },
                    "ternary": {
                      "aaxis": {
                        "gridcolor": "white",
                        "linecolor": "white",
                        "ticks": ""
                      },
                      "baxis": {
                        "gridcolor": "white",
                        "linecolor": "white",
                        "ticks": ""
                      },
                      "bgcolor": "#E5ECF6",
                      "caxis": {
                        "gridcolor": "white",
                        "linecolor": "white",
                        "ticks": ""
                      }
                    },
                    "title": {
                      "x": 0.05
                    },
                    "xaxis": {
                      "automargin": true,
                      "gridcolor": "white",
                      "linecolor": "white",
                      "ticks": "",
                      "title": {
                        "standoff": 15
                      },
                      "zerolinecolor": "white",
                      "zerolinewidth": 2
                    },
                    "yaxis": {
                      "automargin": true,
                      "gridcolor": "white",
                      "linecolor": "white",
                      "ticks": "",
                      "title": {
                        "standoff": 15
                      },
                      "zerolinecolor": "white",
                      "zerolinewidth": 2
                    }
                  }
                }
              }
            }
          },
          "metadata": {},
          "output_type": "display_data"
        }
      ],
      "source": [
        "# Original data point\n",
        "sample = next(iter(data_loader))\n",
        "plot_3d_shape(sample[0])"
      ]
    },
    {
      "cell_type": "code",
      "execution_count": 12,
      "metadata": {
        "colab": {
          "base_uri": "https://localhost:8080/"
        },
        "id": "JU_NCJ1Zjw4F",
        "outputId": "52e36550-9ecb-46fb-dede-aceec4a6a0dd"
      },
      "outputs": [
        {
          "name": "stdout",
          "output_type": "stream",
          "text": [
            "Number of data points:  2722\n"
          ]
        },
        {
          "data": {
            "application/vnd.plotly.v1+json": {
              "config": {
                "plotlyServerURL": "https://plot.ly"
              },
              "data": [
                {
                  "hovertemplate": "x=%{x}<br>y=%{y}<br>z=%{z}<extra></extra>",
                  "legendgroup": "",
                  "marker": {
                    "color": "#636efa",
                    "opacity": 0.3,
                    "symbol": "circle"
                  },
                  "mode": "markers",
                  "name": "",
                  "scene": "scene",
                  "showlegend": false,
                  "type": "scatter3d",
                  "x": {
                    "bdata": "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",
                    "dtype": "f4"
                  },
                  "y": {
                    "bdata": "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",
                    "dtype": "f4"
                  },
                  "z": {
                    "bdata": "sEpgPdIyMD3UtF+9LIhKvU5JdTz8D3e9OwlzvSddkb3L4j29YlyRvX3+jb2C8FK9bMQkvYNnZb32lhK9kqnpvVZ1CT5jJII+SFQsPo46Qr5D+4S+UfNwvp4nHr5V+j6+E/JWvhwKJL4+AiS+Y3ZJvummTr6KbpO+lqhJvrrdhL7ntT++nrEjvt8+VL7L+Si+aN2AvtZhS758Dwa+e1c4vvLCSr2npPe9bLH+vRgS471Qu/W90l0ivtIYxb2dToq9GmYXvrLTJb5IBg++cdYSvuL0+LxMNaM7wE+uvU4LOD1ALha+EHXvPPwewTtg4xa+S9EJvkxjF7vTh0I98bgSvgZugb1t/h09zFgXvBKKar2sJxi+f4yqvX9AHr7hBJm8IGgQvrOpmLza17S9KfMIvlYkZbzjR4i9xrvKva1zIr5GgBK+D/VgvnKQrD15ul69YNaRuTiRsDtyNQq+drg+vgQL0r12Tx2+2JjIvT3zNT2ESBW+EGONvQ8g4bxZL2I9cguhPFBQNb4FHBC9eGbxup73+jzQvJA72djjvQYdKr5q9Zm9mj0pvlUwRL5lIq+9WCSHvcjqlDzCz/i8D+AsvTs3r704xp09eGM2PQ3N57217q69/RUkvtrKMb4eas29n2Wqvb8Nk72YmvS9ykf1vd/io7222689RMXovVx2Kr6lvbg9hm4pvhwaLr5rAFi+oOqVO8DPGD4o7PA9xf+FPYis5D0h4KE9txZ9PJz58Lu7/ty8+e0HvNUxTb2cuFy9PHoNvXQug7x27D29TqM+PDpUFb1A/2O9WjiEvBDIrT1EHbG94mA9PvqXQT5qFGU+40AhPmzlQj7I80+9RjGAPMpaPD6sMim+cNIjvgmz9L04Jyq+c8ANvvGJLL7c96A9IDHAvYi/Ob4lCwy+ZqwxvvmxKr4gz0S76EmxvYCISr7pV2S+HkMMvnJ5Gr5AGz2+nPXBvYZRJ77o5By+8W4Ovi/xIL4vhye+bZAVvvhU1b1tEB6+aDQOPq4QCD5fjCc+VbuPvQBF6TylFIw9bY6rvDbAhj2p0Be+uiNcPiyOHb6gFdy8m/y6vcYuPz2jMl4+4PywvP0jwDwrP5a9Yd74PYjgOD78miw+TNovPsxeTj566hs+mK1mPvu8XD6c+10+7CUkPsivBD5R6UI+HfLTPUapLj65WCw+uRA+PvOeHD6jji4+1AbHvBHakL0t87g98SLcvV2caL30KHu9iZaHvnDuFjxuIw4+otAyPlKkBj6dddM9Vj91vm9hO76HiUS+SpI/vn3kPb7NWzS+wes9vkZnTr7UUDW+DrZVvlWELb6wKKm9xuzWvPCTcL6BYpm+XHSMvgsKeb7m2YK+dNuLvpRxhL6yKIy+Up4Dvi1kAr5ezm++4u34Pb8VcT6Tcb898CQfPhsluj3BfPk9XkFgPR4RJD6JGfM9lOmRPTr1uT37hMQ9PLZTPuBmiT2kuQg+LXP7PUJDBD4AdTG7qza9vISiJL1GiIK8Rod7vQgZmLyFOpe9UM77O2BXM7xQ4ce7aLcMvZdDRr0IGUi8ciogvfDjcb3MVGm9MeccPcAZFztM9le9cCllvQWMVL0AJlo75iQjvo2ng762O1C+waaGvgSMlz7kgZM+e6qCvpjXSz00i/O8VDwuvpOxJz7KoEg+ks1IPlvmGT4ulEQ+KQrNPf3fljwSVw8+MtIVPvEP/T2QsO27dlrUvcQsnT2Zxgk+rGi6PazwbLwMdgU+QSUBvo0f77xsv3m9MnGVva9gPb7DY26+p9pGviS3AL4VUgC+xIJGvix0F744l/K9iq78vTiNSL5t1ZE8DqDxvAZQaD0nA+M94AcMOxAlhj0MnfI9iLLXPdPKSD6RbB++aDAxvnpXar7+iWa+UeVDviCkLb0elAu+DokDvn6wKL7MK769vufwvViVrr1NTIO+45CDvu4+ib6wXoO+Urdrvvyibr6U5oa+YXJ9vmIFZL4PHzq+PAQmvkPhP77GUg6+10VOvsAcJ7w8obA9Jt5TPo/8dT4FaSe+fjrsveIPIL70LRm+HTAGvsKsKL7PXAa+UVIovteSF74EIPa9IoBtPW/aXL7aWKa+Sgyevr6QPr58rxS+obGKviY9bL4qq42+VqKJvmbXjb6662e+IhE9viAYo75jCIm+mIRvvpzsTr4nVnC+W1dYviKuZb48J2S+KS8rvlfpXb5bH0S+KFZBvnKcSb7Fczi+VqWrveBAfrvztw++rW+Tvfqp1r0hR229Eq9FvTAj0b3+F7y8bq+JvRAsIr7RUJW9XrvcvAQIL7zUyk69DIkHvfEkxr1+FoG9ikPsvODOIbzfBg29ncSEvZa6ybxaXga+bttnvfM40b343p87PJojPgw8uj2tHc4928qBPRrL2j1Kzx8+YNsQPg7n+j0t5gM++mvjPea1Ez7LDxw+oEd4PkxcBD4QIUM+dAdpPZn0AT4u1Ma9FUywvTEfJL6E2G29iuoYPvpEZj6vQSU+LWE6PvCsET4QAoq+enwZvqIfhL5/1Ui+IGiAvmx5KD0OK+u90eIUPn2Wyz0IrZA9ly1OPXRg6zwACIc9zYSaPavWtz2nxoQ9V2F9PeDUAb7Dyia+3O3Vvdfnnb0iphe+j5nFvb5qwr00x+u9aOMKvmhGv73Jvlm9CB8QPVvU4r2aYi69UcwNvuzxHL4mGCK+iDcxvi4l1r14LfY90HQVPtzEGT6fpC4+a0kpPpnkNj6Vew8+9p7YPQAJJz4yqBg+yIEMPsQc+j3uHQc+2c0GPqWPDD5i7wA+RGAIPsQtLz6crdE8um2QPojMfj4XiZM+RXCXPnnUmj4QtY4+vPKcPq3RjT6BtZI+gc6iPrYBr732we+9TaPYvWugXz7jVjQ+8CcUPmQ6Lj7gUCk+WZ+EvkB5fb6KSG++exiLvkDpdb5Lina+kY6JvsCcNDsY/Xu7sBXmPa+smj2sxeo9Z8qIPfvK4j1ofNM94m7TPfD4Aj6AURk9WlD4vcu/HL6uYyO+chLTvWjgTb60LGK+h45BvoiFyr2+HcA9zqF9vaihlr0cDVC9fyrlvOT6TL788+e8xIZ/vZvvAr15wuy8TF4FPcb4Iz0SMIS9Pq3WPXfj+Dyrhg49t5cXvpD76r27lxK+qtU8vgdFAb7L+Di+hHlKPpCyRz5Vki294JGkuvKGkLwAGC6+m6xHvnl9Gb53viC+YJcgvqkWRb79Him+aEJKvsMzRb56MCS+yt2NvZIa5r3AqgE73QBCPn4jDj4MWPI9yyGuPQXz67wg3ca6wHGuvHKdtj2s6ie+A/DhvXpgm71WE+G9SPcJvte5972eAHY+msdjPmgtQD5ahmQ+abhfPs9DZT5KCFw+vyFVPpxtRD72WCg+AhndvAF+AD60TyU9s9uQPNmz8z2EJvS9NOwMPXPOgTxBlhc+BkL5PWgEAT4//WQ+P++DPX0pLD5mR9s9rYWgPEFnOz66eT0+r+v9PUtz8TwQBbI9gYrrPWg3rD083Yg92vQTPhvD1L0HEL48Ziv/PW04AzwVeBG8YIm4PVgfnjsa2ls8pruBPABeGT6+IM49YPwmPsRq0T0AgK26soPCPd1CBz7cIs+9/fQTPp6XO720iKc9W7LIPXXXFD5fSsc9+gW1PFEvBj50lX68HbI5PrfGUz6KECq9bH98PY/F1D1Reco9fHcVPjrILjzaddk9S2wOPcMflj2gg+k94GzGvPgYLj38s6S9YnqivBYVCT4Gc209pukIPoIXGz7A7Q8+oOIMPgLCVT2aQek91VK2PfL07b296Pc9c78kPKeN+j1oOgo9WfkbPg6bJT0YBac99HAMPupuOT5IZV09aGPTPaOsTL3mHdG82WRyPrIgij78pls+QHmNPjZ9gz7S9IA+EK14PhoMgD7sIIk+uwaKPtei+z08ERI+wGcOPg6mFj6/3T4+KYwVPhs2Bj6EewE+yB/SPXnoLD6SALC9ZBB3vXTcg7zVAb28qHbYvHmTQL02ii69Zh11PA3hg71s1oS9AIFdvUSBe71gwm68rPyKvP4ylb3W1ZS9VGhLvMC4ab15Yz+9vhmIvZAUdLxvhEu9fx1tvjcJYL7Orm2+DOuDvrrVnj0gSso8eBM/PAK8GL1oezI8qxrAvfudv73UfrK9D1JsvYdKQbt89eI82GReO4zou7ue/EE8GF/pvNYOOjzihIw8/kG9vQ4edr52pWm+/OpjvnZ5i75PEUq+9PJ4vlsrer4iRcm9e67qvVgRCb56VCK+6C0kvoJeUL56JFW99LdhvVdH2r3CHM69445ovZGgxb0inZG9IR2PvKArkr1K8f29fCVPPT56Lj4CoyY+1VXwPW9pZz6nHU0+vW9wPou3Yz6ldEg+D3RCPn/zgb2k5o29EoKZPgI1hz4EhYg+QgdwPv0Jfz4zpYM+/WglvfgXq72/Uhi+hAW9vUnuvr1UPc69nXbYvQwsur3AfUO+m0RfviUsS77rNCO+LEqCvh7KUr5GM5O+MJuQvmY3gr61O3i+1y5cviBcNr4jfhi+Qq82vsJEIr6+8YG+GDl7vtSOWb7pnjW+hW+evmOOIb6nRjE+YH+QvJjDd71OXws+8tsavV3f370Efqg9N4BhPTFnxr1eDGm9SlE5vViTCb40EWG+Sft+vr6XcL6sTSc9rjt7vW3lbj6rHTM+ISIsPjJWTT6fX0A+EehXPtacTD5DvlI+i84KPry/Ybztwfa8uBUOvnRYCr5enMi9xpf0vb8Eq73IZAK+XSrXvYj4/b23OKq9gg+8vXqr8b1z1rS9KqrpvV+9uL0UnCa99ZecvU2hdL7ytgS+nRWuvZJ+673Sn7W9BTbovZxP4r2MFsG9G13LvZjg7L0Bmde90CQuPmID6z1FXs899dkVPqz2gj3Cetw9CYmyPcxOnj3+Mrg9ehi3vf6K1r2/JNu99lUJvvqRA76qBP+9pBv6vd6Fw71AQhi+puyzvbW8V77rk0S+jBs/vgYGej6WJnI+IRdlPorwhz6mhIQ+7MmUPjIjaz7wxNs9CGvNO5nd+j0sW7i9NiDcPViYyLx2oIi+kCKdvrYmgb7TcIq92oiSPigXfT6g9YU+qC9qPn1fjT7aiIk+4AMiPv6A7D31ZRk+LiM4PrXyPT6g2yA+3RniPdrBEj6Kh9k9PCC3PWPeAj6KWis+clD+PR7l1z0BtNc929UDPkxsMz7C2xk+23hcvuj7ND1gCxk7TQq7PYThaj3KCE49XRldPWaihD2pRYU86WKGPVcEkz1IQEa+AJU+vlJiNL6zFja+pFQXvmxgCL485bC8Y7jmvRxHOL5+kh6+OEX+vbqUKr5FVS2+UAg1vvjcIb4qkvO93pBrvnbe2bx1Q+q9gNIAO1dnr73acjm+wNVTOiLBC706dTu9+OA9vWwesj3oNaC9dkDXvQocDr7G59y9MNbsvZ/YF77d/RS+M1ocvuzSCb7hCPk9/NIVPvADNz5xNio+3BFJPh1PNz4MqQU+M2IyPuSLID5m5As+x6q5vcWpUL4Ohke+kGxevpqXK76w3TS+hi2QvhSbBr70nyW+zPz6ve1PF77bQfW9axEDvszc5b2yD9a9lST8vRy9W77KGU2+fp1ovpxYfz4syn8+XvFmPsCScz4Khoo+aNTePOXP4r3WQlC+5w0OvjJBQr6EHBC+kLA1vmYSIr6bsdq92LHavSVYIL3q7o6+PQqBvs+RX77pEXC+6f6LPa3PrT2CdVk9cDEQvpuUMT5ahTY+EhosPvCbSD67QDs+fGE2Pk6tUT7+qUY+tYVPPh84VD4MHmy+lzB2vgNaQb7gu2Q+kgzlvSYrm73t98S9cJpGPpOPZj6X9Us+kdoevYifIb45feK9bXIFvvIoRr6UE2O+qA0gvkzQVD6OO2O+MXhEvnoSK74kPSq+4mo+vrzdLL5b3UG+jYr2vbPLIb4eswK+OE5AvrR1Ab4oqhG+W5Axvv+Z7L0GqBu+XZd1PvZtiD74Upc+dNeEPjU9nT7SNJI+TIKLPkSe4L3X/i++nmrZvRafr70kEuq9JAiovWIjvL2asvC9GMWdvUbm5b2PpNW9JDcbvtDfvr3kGt29cuyfvW4BFL5j9QA+QEK/PdYTAz504+Q9hHayvFpkVj6YE1s+6s83PqnLZD4+5E0+DWZFPmTXYD6ZXEs+QCg+Pm3jEz5eBkg+AMu/PZpNeL4X4ke9uqZQPrD0Jz7uhFE+CjwdPp2iHT6hyAg+nQxzPkafBj4Uytk9s/wePlykBj5u6Ts+w+MpPsqZ+D0GG+w9YWg5PvVHOj79orQ9TEgJPopNhz178Bs++EArvoI+P77dlyy+hupHPt72Fz41GBk+oX0SPsFVGj5HHQo+eSRdPoiSrL33mSI+Dt8vPupCN74ovka+coAEvpovKr7dUyK+7AThvfgEJL5/LiO+RTNOvobyiD4064Y+AQSCPhO6bj6pVb69LrD/vEMFeL0P2ly+QP00vq5biT18tkU+Y8QyPe55xr1p+Tc+dZwOPkgOiT0gOig+2OAnPmh5zztkEjc+Qs9HPqJetD0ZeRk+EoA3PuAoOj1MOfI9O5ynPdXN+T2NiEs9g5iBPXWOGb4Se9W8RgG6vAh1ubucce687rzyPBK66z2ADaa9N5ZsvaXMyz138QE+WJq5vfjjjD5S85E+bhuNPplRkj6IY4A+cOuZPuZmbz4lFs49SRDHPfXyYD1ww/c9cmibvZDD8L1il009Kn1nPQfsID3uy5a9inodPJDNdb1Y3i++knlVvmfHML7VPE8+Pnlbvedzlb0Mc1q+zzZxPsSLez6bCF0+CDiSPjxeeT7f7yw+OU5EPgTDLT7pAxs+96FRPm6TNT4MTQw+PgUVPvSjIz7sQh2+PJj6ve8oAL5gAt29L9gFvrnp8L0y3qu9WBZ6vdzhd72yOm2+zhIyPqS7jj3SpEu+9FlJvt1pXb4G1jK+UNAKvkqQFb6whyi+8ncevqTYJr4V8iC+mTZFPWCjNr6YAme+kD2CvtA/Vr2oqy49niCQvl8QN76uGDy+MP8WvpYdoL4wrHs+Gt+HPuY4jD6LnHA+ibxSPojuWz5rYTA+46BFPk5eRz7G4W0+U3N3PhwGhT5RWlw+jZYbPsCHzj186BU+tKgKPnKyAz5ECg4+AI6lPbZxi74rZNI99paIPVcgRj0u6gM+7jnGPdKZ4D2PgRk+z1P4Pcmouz3I38s9iAqxPafS/T3SaIw9LREFPlJqib4iLYO+ZMB6vtIOib70ZY++fkg2vsgKa75YfI6+as+HvtlHgb4rvHK+GjmRvqY3hr4SOIG+6laAvmQZgL7zFXO+dE5svlZxhD4AS5c+sWKLPt5ggT7gmnI+HiOnPiaQmz7+TpU+Ra93PqmFdT5tvI4+MyqFPtgalj7g05M+uHBsPuzThz5WE5A+tn2MPg4poD4idf69Ee6oPb2teD0ZCx8+K0NPve3Xn73gczu+h+kZvp1+ML7/71O+AggXvi5AP77DjDW+3VQdvgK4L76Ak/y9w81SvkO5E752rCW+3ANavtQvir1P22a+UHodvladq70Y5fe98ywEvkQlIz4C8Ok9+I34PTIwjj3I3Da9sl0DPiG/ir60N1++hdE9vsoJQb74Diq+YOKGvnxYPL6quEm+dn1EviPuEr4UsTu+NwF8vkKoPr5+9V++5jNpvux3zb3oCc292ClJvXBC6rtaVzG9E9ZWvWDo9bzFGwS9gXy2va5XGr2aS0K9BkgEPKaj4rxUwYG9NBYUvS6FBj7EpgU+YRFfPhNlJT5IUlU9GPutPQg9Cr4SdKm8Nc6PPe4QiTzr96S9tUkXvQvteL3IHF6+2Nj5vSY3gT5U/V4+TmKCPmMIkj5D3UM+S80JvtMpEL750z++u4pfvj6qPb0mOJG9xcQZvXk/872i2uK9PA6OvbdN97wbude9sgb6vTJFbr0JKwS+PPvbvQtim73q7QG+RqGKvMYr/71+EZO9BjyMvejbEb1abVO9cP1ivXijRL0bWfy9II2+usWMLb256Yy8kg4kvdAyy73mAk692V1rvV6Z1b3Proy9mr8Mvmhl2L2UoUS9DCWLvXU/3zwdpgs9MM56O3IN1zyYtpi88JiwPExFLz2Uh289hVixPMSvJD1uaqA+089tvfPPQj5mFzI+yBuKPcuUDD6aEPQ9q2NXPhwZuz2YPFU+rrkxPiWCWz6zayc+FSXCPUyT/j236T8+XPtqPtq5Qj7yIRk+zB4TPsQ7S7605j++4qg+vjBfujx4Uxq9CHFsvnfsbj5DvGU+PFMtPlscOj6t4w0+YYgePhccMD6nuws+O0UNPrr9XT672+g9PrcgPQKOa733Apk9vwCgPXDAIT7Kmiw+9s7TPR7a9T2Mu1Y+Cu+9vEgkET52qgg9zonSvSD4Cb7PIhu+bCGuvbMJF74iVf69yw0Avm6rAb7map69h4x7PsEIbj5beK+8UFWFPoOqkz63NVo+TNLbPZCL0j2uDDS+SPlUvlZpBb7Qgi++OHlkvDwDBb6udPW9J9JQvoTo+71ALTm+CAsHvsQgHL68uEO+EFNLvb0BPr1wQPW9no/UvVcTmr1tpa29880AvveiAL5tnxG+8G2cvdlW6r1Duy0+3sVVPlJkZj5VeWA+59JrvlBK/TwGTrc8HxbePBOaozzcT3s8YqdIPejpiDwgRzc7TmVrPd6sAT0oW+c8fMExvlQlJL2MBAU8zwNhPXkH/T3Mjx0+HxxCPl7FSj5SdCA+0E8kPjkH8D1aQCI+jncwvua0BL7A1as8SDbNvaQur7xzFFg+B1EnPrVFwb0gPRG+hCxWPopVUT4FZ2Q+V4FEPq3l/L36CiW+aRbhvSRHL77zwzm+k3Rqvo1VAb4ouRm+jcU1vrzPTr6dF2G9flsRPnthDD6AOB0+s5hDPuo5Hj5VaUM+ha5APiTCJz5LSl++hVtovnI9L75mqR++WhvmvauCPr5oaSe+XGDwvQipR74AJlC+Sy8zvqpdKr3YaAC+XqC1PaTck70qD/S9OLtiPRLL4z2eYHs9/gKyPYjUwr3dj7Q8guq9vSXOFj4g/w0+so3kPT6H+T1Uq6s9dtqWPaBYGD7YovQ9aAK3PSrVqD040Zc8/O3mvYbsDr6kWXK9NMPOvf5me73CG6+9oNviO1TbXr5ol987WA9mvZCIq72AMJC7gMLMuXSV4z2gCoa9l2+tvfs2nj2a17K9kJmvvfSR271OCni91lYpPRp0pT1N09o9WDehuz0N2z0kqR0+MNQ2PtZW0DuvRW497VjHPP8lXT1MDVk9aIgdPXd8Eb1UaPs87jcmPSQk3TwUW/e9ix60vYwtHb6eEwG+fEIsvnESRr4kTia+ZhsZvr0NFL4aNtq9sogSvQcCXL31lVk+3bNPPhE0RT4D4TQ+/643PofwQz4gIUQ+xfIjPhrnID6u7lg+bpZCPk5ART6IFSI+QWlRPuT9VT4QB00+Blc9PiDlIz7UAWg+fpdfPuTOQT7C70c+iCVlPj98dD4PNFA+dX+EPq9AaT6bxyc+wzgpPncUWD6wzFI+jGFVPqQVOz7IiTE+LL5YPv4IcD58e/s9+KI6PmhFPz5so0E+ER8EPpUSLz6qMS4+agRTPvJFQD5+0xI+V5QLPowmSz6v7mk+JbNEPtB9JD56riu+w6L0vRzPur20RN69/LFFvehBwL0sgBS+l4WcvVxyur2g+Xq7/owFvuPe9TxYybO83ffxPKw3xL3K75u9YDDQuwJy8j2ihwS+jxN0vXZzMz3k5Im+s85pPo4gnz1uuRA8tuJkvS4hI74yqaa9GFSzPBKPmr3IWSW+rtBMvl2q1rwQHCq+NXwGvThQCL4qTBe+vpQmvigxVr7QzyG+DEtJvth8Xr7KQkG+C2JLvmp+VL5IHA6+g7c7vnfVwz3q9BO9NtmKvTxGt73HIX696vOSvaNhZ71FiKK9GpX5vfKvLb27dcO9VwEDvibZuL3gJvO9Iu+UvTYeub1bMY+8VC4/vd4wB74FSJW9/HjnvXW6ir0E75W8iTXcvQA2n70mxG6+1h0JPQbJBr5kFOq9FR6IvQQslL0Ee6y9xVOJvMqLvbymZVm91gYxvShCo73tOIS8hLCUvZMaHb13boW9yITNPTCKfz2wHe29sFZYPW1DTz6SyX4+k3SIPoQpaD4mxW8+Q1pSPhD7Yj6hsVg+zcWGPgcGgT6nlwa+D7HjvePN1r3kW469k9C5vcackb3HRVa9Ic+fvRAyEL3uAMK9dr3tPZyyVT5A3MS8tJ8CPbq5ezx/fDM+hAcaPisGQz45+lM+JKHzPfTCKD5FzFo+4vVSPmO5Xz7UxWQ+hZ07PjgpI77UQJY90d9WvhsfGD4UTnk9mH3RvdLnB75MwQW+SKfavOMoCr5oUd69HDYLvjg/1707Id69wslwvWIbhL0+O+a9Zc4tvgC2JL4WUOG9wOAvvvKfYb44vj2+2H2gvKr+Lj4Qysg9yhgFva2GVz7KU589IkARPro5ED44gMQ9ZgLPPaldUL5oBjK+mJItvoZ7+LwRKNA9lq3jPTLFV722wIM9+5Z5Pe0Jkz2i9eU94NmXPS4UHj50RuW9iaABPcI8uz24oea96hVpPMGeG74WR/69wEZkPHRZMb6MQzi9/dLRvPqbmD2qu9O9StPdvW+U8jy5KTK+auKwvR/6G77OXQk94JpzOTLcszzEHNG8o6HnvKcGpr0kcuq9GdrivVT39b09lOa9k07+PQKL+Tw9X1O93ZoGPezzBb0s6u29sxievYdl0TzzHWI9WpZyvXiQDr0oeb084tIfvs4Rxb1qrOM8fRw1vmbMSL1+kAi+G8KlPaop1j1P1aW9acARvnHuor2cfHq9BO/dO8L0L731Kaq8Lrf4vURS1b2ZRAy+Xuo2vqqpHr5h3ri88fGbPDzyyb1w4Wq9zD/1vchHsb1WL7288oAtPLg7vz1YBBW+hCiuPZVMlb02gyO+rt7dPWGIKbxGlBe+afCHvCrD67y3CZc9IJv0vGq0uz1Y84S9/scYvm7Xvjw82da8Rkt5PY16vL0vN4q98TQ2vnKlJD1+W309jsgPvuITwDyDfwC+TICjvYoHNr1wp169c/wyvrlBMb72VSW+/itzvl5Pnb4fA5++kmtMviGzf77kZDi+Q713vrogcr6qax2+j6ZUvqgLJb4IwS++pkc1vlwOTb5YvYi+add7vZ6Fu71AyJ69RAuOvUgfR72hbta93u45vXR6n72UFvi9VimtvfF+kb2fZ+K9oVWcvTwG3L0gnrW7AD45u2D+dbx7vpy9aN8ivX94lDygBwE6gH1Jvf/+Vr1g/125Np5TvTYOJbyU+hq78+H9vbPSK76NyUy+uOP3vTEL170p/Ri+7nwNvnPqG77aRxm+8W7CPWRWRjxgdfW7EMTGvRpcub1ESFO9H+4Ivt3fqr3cK6G9sBUBvgBInDvCvBg+tItRPvjJ6LvAvFC8dEwkvF5d2L3DjCi9EsTXPUDjHb3L1Lg9wAwhPsUgGL4HpqC9p6IQvv6GAL54PBC+Fts4vthpDL7Ovkq+rjBDvszFoz3iKME9lBOuPbQEVz0WoU89RooYPowsoj2RZuY97v+wPUaCJT7a+ka+BWRBPilQBD7Yr6a9rqmKPXXsHD6E8cu8XZC3PDiVjb2S8mG+UlwPvuTpCb4Z3PG9BOIkvp7xNr66+Ca+ZD88vqAi8727u3K+QIUyvqsghb0OdAa900OHvYNXSb19QCi9mXylvUP2/r1mn/e9mX0IPq6glLzsXSu9eJbNu5COFTy5rqo9Tv4wPUD91DpfKaA97FRhPZpmGTxXvCg9goqHPURiHr7sKdO8iSVhvVWm4L0k44O9TLomvrA35r2OVQ6+imdDOxqJe7w8mhO9yokgPUbgOL3wJQE98E04O1GFAr1lQPu8qShQvq3YK74RShO+i8kKPWD20bv4Yja8GFQcvrRJDr78GgG+kO+vvWCuBr47+ue9Kw75vU2OC74HrG+9nkc2vrQ4TL4mDky+Zw02vldfML5T4iS+iQ42vthcUr4gGb08+O9XvhOiir61ezm+xoVcvjuXU74EukC+AOE9vrgqKr6skzK+Nj5LvgDvTb7gwSW+xjVEvt5gir1VR7+91GMKvYzU1724s6o7UJimu4DSTr1x7Ni9yTXWvf5FO70gzNC8OEw1PBPZl71sO4W8WnrNvd3f7rxsniW96bkBvTzpjb1aO5e93ozUvIQu97y5ke29ELmvvWSTkj3XxA29jDYLPIn8d77rIxS+DAw/PnaTRz49uDw+iPFxPi76RT4Ks3I+l15RPqxpVz6kvv69UR82PjcjGz58OxM+SpAKPjSSFj5vwiU+LI0+PjN3KD5DiAY+jlwSPu1Hhb7vo3i+BjHsvSYD072IGLG9yZESPo5t/r32mxi+EJwKvgjU3r0q0hq+uHMFvggtMz4moDM+eKlYPkffQD6LUUA+7NQmPkAXQr38cBU84uK9vGI0gr0o7v67j3BivWFnyb3kj0S8zL4rvRBcdL14GYK7Zq1IvbvuBj6oq5O8JEIMPqEwBr5AX526+UfdvUW3KL5+6nu9lpoJPew1vTxnRZm9ONVUO9/MZL4ci1g+DndqPtVrhT4vAoQ+BO9qPiAIMT65Qc896NCgO2SOCz4ZqwA9zGAHPtFcBb5e2BC9kPHTvXj2WT60YQQ+K0olPhZVUD5A7zY+OQxSPo4VLT69Zl0+P68SPjJQJD4wTRy8CjxWPl5JEj46DMQ9/mT2PfXEDD4x/Mc9b74APhgX9z32xrA9/jYLPnSRAz5S3to9wGP+PWrlq71cvoQ9wpE0vrxki76KgZe+aWdmvsbldb57DmO+xn6PvvbMmb6gtVe+zGxOvukxY75EgT6+rXqNvqLBZr5fmXW+PQx8vjmnVL7GYHe+jBFgvvfVRr6x9US+Vwcovk6dO77bhkS+Eg84vqRQXr6vY9+8s4okvQB6ST4/uE8+OdVUPiE0wr3U0py9Ap6QvQHMTj7Vz10+tJ8yvmDBNbzQhRQ7roiSPS1HgT1Tpb49rA+oPSycrj1GEH49IIJrPXy71D3YNaM9azObPVIO3TybIGy+XHGRvt4KiL6KGoe+NWJkvoRaR75UVpC+sjV/voIGY768uIO+56+TvhrLgL58mYe+cxeevvDLo751HI2+XDR4vhZnlb7YGG29EOulvWaYWj16lxC+FmGxvdAhXr3JlSE+l5ZcPtTfXD6x6WU+EylHPkAHQD6q72k+OmCZPWihoz3OIRg+TbkfPiTC/D2WxAm8SqcuPlYb5z096Iu9SKKiPX3aIz7vOfg9wxYGPt4vTj0K2xU9MHf1PQqRLT47ayI+vlWiPfEq2jyE5yE+iFjqPbT1szt2LGg9TLQMPg02/z1YUKM9R4KoPLXILD5c3kc7R9WdPKqznj0AdbY9QSwDPr39lD3QaJm9JcKQvbH15Dw/VL89hFL0PVUOdD2dz5M9rd6OPdSB2L00uCi9jzkqPsnfPT4larW9drNQvQ8IJD2YG/M96MnIvfte7D28py08tqjkPVKeizwr8OC8wtMXPm4pF7x2B+Q9FGibPUONJD4ZTe09/r1nPV7GAb3BK7w99IuXu3AQBzuXQpU90LKOPISDnr3mTpk9cBdOPpr8Ej5TmyU+JPR7vew56r06lwc+F80RPavmJj5wHP49LsLWPWfY+rzE2IQ8UI2xu7j7Pr5CckK+SF4lvuHmOr5a0Qa+zya2vRlI4L0CCsU9fKNFPirCXj5UnDU+qfBoPqEaWD4okFc+TB1sPtiyoD1Xbs09fJ+oPFpg1z1DNSs94NXtPAmDZz0OJ4I9dwlMPQdpKD5lJj4+FjpRPgrZnjuA/sa8s/8DvW7fbjyiYM870vhNPei+tTvmja88rDsgPbRC8TsW5AC+NpqAvQpPDr1lXDs+xNEcPg6WVD7T8IM9YLqYvqwzgb6SnFG+x7uGPbJ96zz3p8U9OwK4PZbXWj3PPKU96VjfPZmI372m0Oq9Z+LVvQSVnL2edAe+LtAXvmQyDr43f9e9TNTevRYMAb0Km4a+rq1FvhZLIr1UWQw95zb4PcVNGj4YkNC9mOeKvRH/qj7ZJpY+87CJPqTJlj6xxHc+DB15PoKvjj7SWn8+4pSRPpDfmT4mOMY9JQ7hPfWbsz2f8hE+xcL7PT0fID7vZik9bucEPocUyj3BybA9RHb+PUJ7tT05s/89GsPZvOaNtj01/bY8goA1PXoSlT3vCAS8nFpUPbT8wjwUpyO8GHJDPUOK/jyniYy8pIvRPagNBr4ynzK+XDc7Pg0iET40wSg+FWwfPmQ/NT0SShw+LF2sPcynGz6+Pd09ntADvX4izTwC59U9OBcwPgGEET4mdsU86jmuvfTdrr0sLMO9zFz2vVgTu73Zgs69vnjsvZ7sVj6hYyc+oms5Pvt1FT6xu8y9tg3yvXbz/b0oti++fbA+vrsIzr2k1DW+N6XhvIzg4r0GdSq9r9qVvYIB0b2PrXO9cB6WvQfvUL3sDM28TOMRva6tu72xDMa9EmTIvQ==",
                    "dtype": "f4"
                  }
                }
              ],
              "layout": {
                "legend": {
                  "tracegroupgap": 0
                },
                "margin": {
                  "t": 60
                },
                "scene": {
                  "domain": {
                    "x": [
                      0,
                      1
                    ],
                    "y": [
                      0,
                      1
                    ]
                  },
                  "xaxis": {
                    "title": {
                      "text": "x"
                    }
                  },
                  "yaxis": {
                    "title": {
                      "text": "y"
                    }
                  },
                  "zaxis": {
                    "title": {
                      "text": "z"
                    }
                  }
                },
                "template": {
                  "data": {
                    "bar": [
                      {
                        "error_x": {
                          "color": "#2a3f5f"
                        },
                        "error_y": {
                          "color": "#2a3f5f"
                        },
                        "marker": {
                          "line": {
                            "color": "#E5ECF6",
                            "width": 0.5
                          },
                          "pattern": {
                            "fillmode": "overlay",
                            "size": 10,
                            "solidity": 0.2
                          }
                        },
                        "type": "bar"
                      }
                    ],
                    "barpolar": [
                      {
                        "marker": {
                          "line": {
                            "color": "#E5ECF6",
                            "width": 0.5
                          },
                          "pattern": {
                            "fillmode": "overlay",
                            "size": 10,
                            "solidity": 0.2
                          }
                        },
                        "type": "barpolar"
                      }
                    ],
                    "carpet": [
                      {
                        "aaxis": {
                          "endlinecolor": "#2a3f5f",
                          "gridcolor": "white",
                          "linecolor": "white",
                          "minorgridcolor": "white",
                          "startlinecolor": "#2a3f5f"
                        },
                        "baxis": {
                          "endlinecolor": "#2a3f5f",
                          "gridcolor": "white",
                          "linecolor": "white",
                          "minorgridcolor": "white",
                          "startlinecolor": "#2a3f5f"
                        },
                        "type": "carpet"
                      }
                    ],
                    "choropleth": [
                      {
                        "colorbar": {
                          "outlinewidth": 0,
                          "ticks": ""
                        },
                        "type": "choropleth"
                      }
                    ],
                    "contour": [
                      {
                        "colorbar": {
                          "outlinewidth": 0,
                          "ticks": ""
                        },
                        "colorscale": [
                          [
                            0,
                            "#0d0887"
                          ],
                          [
                            0.1111111111111111,
                            "#46039f"
                          ],
                          [
                            0.2222222222222222,
                            "#7201a8"
                          ],
                          [
                            0.3333333333333333,
                            "#9c179e"
                          ],
                          [
                            0.4444444444444444,
                            "#bd3786"
                          ],
                          [
                            0.5555555555555556,
                            "#d8576b"
                          ],
                          [
                            0.6666666666666666,
                            "#ed7953"
                          ],
                          [
                            0.7777777777777778,
                            "#fb9f3a"
                          ],
                          [
                            0.8888888888888888,
                            "#fdca26"
                          ],
                          [
                            1,
                            "#f0f921"
                          ]
                        ],
                        "type": "contour"
                      }
                    ],
                    "contourcarpet": [
                      {
                        "colorbar": {
                          "outlinewidth": 0,
                          "ticks": ""
                        },
                        "type": "contourcarpet"
                      }
                    ],
                    "heatmap": [
                      {
                        "colorbar": {
                          "outlinewidth": 0,
                          "ticks": ""
                        },
                        "colorscale": [
                          [
                            0,
                            "#0d0887"
                          ],
                          [
                            0.1111111111111111,
                            "#46039f"
                          ],
                          [
                            0.2222222222222222,
                            "#7201a8"
                          ],
                          [
                            0.3333333333333333,
                            "#9c179e"
                          ],
                          [
                            0.4444444444444444,
                            "#bd3786"
                          ],
                          [
                            0.5555555555555556,
                            "#d8576b"
                          ],
                          [
                            0.6666666666666666,
                            "#ed7953"
                          ],
                          [
                            0.7777777777777778,
                            "#fb9f3a"
                          ],
                          [
                            0.8888888888888888,
                            "#fdca26"
                          ],
                          [
                            1,
                            "#f0f921"
                          ]
                        ],
                        "type": "heatmap"
                      }
                    ],
                    "histogram": [
                      {
                        "marker": {
                          "pattern": {
                            "fillmode": "overlay",
                            "size": 10,
                            "solidity": 0.2
                          }
                        },
                        "type": "histogram"
                      }
                    ],
                    "histogram2d": [
                      {
                        "colorbar": {
                          "outlinewidth": 0,
                          "ticks": ""
                        },
                        "colorscale": [
                          [
                            0,
                            "#0d0887"
                          ],
                          [
                            0.1111111111111111,
                            "#46039f"
                          ],
                          [
                            0.2222222222222222,
                            "#7201a8"
                          ],
                          [
                            0.3333333333333333,
                            "#9c179e"
                          ],
                          [
                            0.4444444444444444,
                            "#bd3786"
                          ],
                          [
                            0.5555555555555556,
                            "#d8576b"
                          ],
                          [
                            0.6666666666666666,
                            "#ed7953"
                          ],
                          [
                            0.7777777777777778,
                            "#fb9f3a"
                          ],
                          [
                            0.8888888888888888,
                            "#fdca26"
                          ],
                          [
                            1,
                            "#f0f921"
                          ]
                        ],
                        "type": "histogram2d"
                      }
                    ],
                    "histogram2dcontour": [
                      {
                        "colorbar": {
                          "outlinewidth": 0,
                          "ticks": ""
                        },
                        "colorscale": [
                          [
                            0,
                            "#0d0887"
                          ],
                          [
                            0.1111111111111111,
                            "#46039f"
                          ],
                          [
                            0.2222222222222222,
                            "#7201a8"
                          ],
                          [
                            0.3333333333333333,
                            "#9c179e"
                          ],
                          [
                            0.4444444444444444,
                            "#bd3786"
                          ],
                          [
                            0.5555555555555556,
                            "#d8576b"
                          ],
                          [
                            0.6666666666666666,
                            "#ed7953"
                          ],
                          [
                            0.7777777777777778,
                            "#fb9f3a"
                          ],
                          [
                            0.8888888888888888,
                            "#fdca26"
                          ],
                          [
                            1,
                            "#f0f921"
                          ]
                        ],
                        "type": "histogram2dcontour"
                      }
                    ],
                    "mesh3d": [
                      {
                        "colorbar": {
                          "outlinewidth": 0,
                          "ticks": ""
                        },
                        "type": "mesh3d"
                      }
                    ],
                    "parcoords": [
                      {
                        "line": {
                          "colorbar": {
                            "outlinewidth": 0,
                            "ticks": ""
                          }
                        },
                        "type": "parcoords"
                      }
                    ],
                    "pie": [
                      {
                        "automargin": true,
                        "type": "pie"
                      }
                    ],
                    "scatter": [
                      {
                        "fillpattern": {
                          "fillmode": "overlay",
                          "size": 10,
                          "solidity": 0.2
                        },
                        "type": "scatter"
                      }
                    ],
                    "scatter3d": [
                      {
                        "line": {
                          "colorbar": {
                            "outlinewidth": 0,
                            "ticks": ""
                          }
                        },
                        "marker": {
                          "colorbar": {
                            "outlinewidth": 0,
                            "ticks": ""
                          }
                        },
                        "type": "scatter3d"
                      }
                    ],
                    "scattercarpet": [
                      {
                        "marker": {
                          "colorbar": {
                            "outlinewidth": 0,
                            "ticks": ""
                          }
                        },
                        "type": "scattercarpet"
                      }
                    ],
                    "scattergeo": [
                      {
                        "marker": {
                          "colorbar": {
                            "outlinewidth": 0,
                            "ticks": ""
                          }
                        },
                        "type": "scattergeo"
                      }
                    ],
                    "scattergl": [
                      {
                        "marker": {
                          "colorbar": {
                            "outlinewidth": 0,
                            "ticks": ""
                          }
                        },
                        "type": "scattergl"
                      }
                    ],
                    "scattermap": [
                      {
                        "marker": {
                          "colorbar": {
                            "outlinewidth": 0,
                            "ticks": ""
                          }
                        },
                        "type": "scattermap"
                      }
                    ],
                    "scattermapbox": [
                      {
                        "marker": {
                          "colorbar": {
                            "outlinewidth": 0,
                            "ticks": ""
                          }
                        },
                        "type": "scattermapbox"
                      }
                    ],
                    "scatterpolar": [
                      {
                        "marker": {
                          "colorbar": {
                            "outlinewidth": 0,
                            "ticks": ""
                          }
                        },
                        "type": "scatterpolar"
                      }
                    ],
                    "scatterpolargl": [
                      {
                        "marker": {
                          "colorbar": {
                            "outlinewidth": 0,
                            "ticks": ""
                          }
                        },
                        "type": "scatterpolargl"
                      }
                    ],
                    "scatterternary": [
                      {
                        "marker": {
                          "colorbar": {
                            "outlinewidth": 0,
                            "ticks": ""
                          }
                        },
                        "type": "scatterternary"
                      }
                    ],
                    "surface": [
                      {
                        "colorbar": {
                          "outlinewidth": 0,
                          "ticks": ""
                        },
                        "colorscale": [
                          [
                            0,
                            "#0d0887"
                          ],
                          [
                            0.1111111111111111,
                            "#46039f"
                          ],
                          [
                            0.2222222222222222,
                            "#7201a8"
                          ],
                          [
                            0.3333333333333333,
                            "#9c179e"
                          ],
                          [
                            0.4444444444444444,
                            "#bd3786"
                          ],
                          [
                            0.5555555555555556,
                            "#d8576b"
                          ],
                          [
                            0.6666666666666666,
                            "#ed7953"
                          ],
                          [
                            0.7777777777777778,
                            "#fb9f3a"
                          ],
                          [
                            0.8888888888888888,
                            "#fdca26"
                          ],
                          [
                            1,
                            "#f0f921"
                          ]
                        ],
                        "type": "surface"
                      }
                    ],
                    "table": [
                      {
                        "cells": {
                          "fill": {
                            "color": "#EBF0F8"
                          },
                          "line": {
                            "color": "white"
                          }
                        },
                        "header": {
                          "fill": {
                            "color": "#C8D4E3"
                          },
                          "line": {
                            "color": "white"
                          }
                        },
                        "type": "table"
                      }
                    ]
                  },
                  "layout": {
                    "annotationdefaults": {
                      "arrowcolor": "#2a3f5f",
                      "arrowhead": 0,
                      "arrowwidth": 1
                    },
                    "autotypenumbers": "strict",
                    "coloraxis": {
                      "colorbar": {
                        "outlinewidth": 0,
                        "ticks": ""
                      }
                    },
                    "colorscale": {
                      "diverging": [
                        [
                          0,
                          "#8e0152"
                        ],
                        [
                          0.1,
                          "#c51b7d"
                        ],
                        [
                          0.2,
                          "#de77ae"
                        ],
                        [
                          0.3,
                          "#f1b6da"
                        ],
                        [
                          0.4,
                          "#fde0ef"
                        ],
                        [
                          0.5,
                          "#f7f7f7"
                        ],
                        [
                          0.6,
                          "#e6f5d0"
                        ],
                        [
                          0.7,
                          "#b8e186"
                        ],
                        [
                          0.8,
                          "#7fbc41"
                        ],
                        [
                          0.9,
                          "#4d9221"
                        ],
                        [
                          1,
                          "#276419"
                        ]
                      ],
                      "sequential": [
                        [
                          0,
                          "#0d0887"
                        ],
                        [
                          0.1111111111111111,
                          "#46039f"
                        ],
                        [
                          0.2222222222222222,
                          "#7201a8"
                        ],
                        [
                          0.3333333333333333,
                          "#9c179e"
                        ],
                        [
                          0.4444444444444444,
                          "#bd3786"
                        ],
                        [
                          0.5555555555555556,
                          "#d8576b"
                        ],
                        [
                          0.6666666666666666,
                          "#ed7953"
                        ],
                        [
                          0.7777777777777778,
                          "#fb9f3a"
                        ],
                        [
                          0.8888888888888888,
                          "#fdca26"
                        ],
                        [
                          1,
                          "#f0f921"
                        ]
                      ],
                      "sequentialminus": [
                        [
                          0,
                          "#0d0887"
                        ],
                        [
                          0.1111111111111111,
                          "#46039f"
                        ],
                        [
                          0.2222222222222222,
                          "#7201a8"
                        ],
                        [
                          0.3333333333333333,
                          "#9c179e"
                        ],
                        [
                          0.4444444444444444,
                          "#bd3786"
                        ],
                        [
                          0.5555555555555556,
                          "#d8576b"
                        ],
                        [
                          0.6666666666666666,
                          "#ed7953"
                        ],
                        [
                          0.7777777777777778,
                          "#fb9f3a"
                        ],
                        [
                          0.8888888888888888,
                          "#fdca26"
                        ],
                        [
                          1,
                          "#f0f921"
                        ]
                      ]
                    },
                    "colorway": [
                      "#636efa",
                      "#EF553B",
                      "#00cc96",
                      "#ab63fa",
                      "#FFA15A",
                      "#19d3f3",
                      "#FF6692",
                      "#B6E880",
                      "#FF97FF",
                      "#FECB52"
                    ],
                    "font": {
                      "color": "#2a3f5f"
                    },
                    "geo": {
                      "bgcolor": "white",
                      "lakecolor": "white",
                      "landcolor": "#E5ECF6",
                      "showlakes": true,
                      "showland": true,
                      "subunitcolor": "white"
                    },
                    "hoverlabel": {
                      "align": "left"
                    },
                    "hovermode": "closest",
                    "mapbox": {
                      "style": "light"
                    },
                    "paper_bgcolor": "white",
                    "plot_bgcolor": "#E5ECF6",
                    "polar": {
                      "angularaxis": {
                        "gridcolor": "white",
                        "linecolor": "white",
                        "ticks": ""
                      },
                      "bgcolor": "#E5ECF6",
                      "radialaxis": {
                        "gridcolor": "white",
                        "linecolor": "white",
                        "ticks": ""
                      }
                    },
                    "scene": {
                      "xaxis": {
                        "backgroundcolor": "#E5ECF6",
                        "gridcolor": "white",
                        "gridwidth": 2,
                        "linecolor": "white",
                        "showbackground": true,
                        "ticks": "",
                        "zerolinecolor": "white"
                      },
                      "yaxis": {
                        "backgroundcolor": "#E5ECF6",
                        "gridcolor": "white",
                        "gridwidth": 2,
                        "linecolor": "white",
                        "showbackground": true,
                        "ticks": "",
                        "zerolinecolor": "white"
                      },
                      "zaxis": {
                        "backgroundcolor": "#E5ECF6",
                        "gridcolor": "white",
                        "gridwidth": 2,
                        "linecolor": "white",
                        "showbackground": true,
                        "ticks": "",
                        "zerolinecolor": "white"
                      }
                    },
                    "shapedefaults": {
                      "line": {
                        "color": "#2a3f5f"
                      }
                    },
                    "ternary": {
                      "aaxis": {
                        "gridcolor": "white",
                        "linecolor": "white",
                        "ticks": ""
                      },
                      "baxis": {
                        "gridcolor": "white",
                        "linecolor": "white",
                        "ticks": ""
                      },
                      "bgcolor": "#E5ECF6",
                      "caxis": {
                        "gridcolor": "white",
                        "linecolor": "white",
                        "ticks": ""
                      }
                    },
                    "title": {
                      "x": 0.05
                    },
                    "xaxis": {
                      "automargin": true,
                      "gridcolor": "white",
                      "linecolor": "white",
                      "ticks": "",
                      "title": {
                        "standoff": 15
                      },
                      "zerolinecolor": "white",
                      "zerolinewidth": 2
                    },
                    "yaxis": {
                      "automargin": true,
                      "gridcolor": "white",
                      "linecolor": "white",
                      "ticks": "",
                      "title": {
                        "standoff": 15
                      },
                      "zerolinecolor": "white",
                      "zerolinewidth": 2
                    }
                  }
                }
              }
            }
          },
          "metadata": {},
          "output_type": "display_data"
        }
      ],
      "source": [
        "# Augmented data point\n",
        "transformered = augmentation(sample)\n",
        "plot_3d_shape(transformered[0])"
      ]
    },
    {
      "cell_type": "markdown",
      "metadata": {
        "id": "Lle1XiGfEsn7"
      },
      "source": [
        "## Model\n",
        "\n",
        "- Different choices for Point Cloud Feature-Learning layers (PointNet, PointNet++, EdgeConv, PointTransformer, ...)\n",
        "- In PyTorch geometric we find an implementation of DynamicEdgeConv\n",
        "- It uses the parameter k to detect the nearest neighbors which form a subgraph\n",
        "- If you have many points, you can also sample a subset\n",
        "- In the paper they use 4 layers, here we just have 2\n",
        "- Implementation is inspired by [this PyG example](https://github.com/pyg-team/pytorch_geometric/blob/a6e349621d4caf8b381fe58f8e57109b2d0947ed/examples/dgcnn_segmentation.py)\n",
        "- We only apply augmentations during training\n",
        "\n",
        "\n",
        "\n",
        "\n"
      ]
    },
    {
      "cell_type": "code",
      "execution_count": 13,
      "metadata": {
        "id": "i3G7KOpFIhjZ"
      },
      "outputs": [],
      "source": [
        "import torch\n",
        "from torch.nn import Linear\n",
        "import torch.nn.functional as F\n",
        "from torch_geometric.nn import MLP, DynamicEdgeConv, global_max_pool\n",
        "\n",
        "\n",
        "class Model(torch.nn.Module):\n",
        "    def __init__(self, k=20, aggr='max'):\n",
        "        super().__init__()\n",
        "        # Feature extraction\n",
        "        self.conv1 = DynamicEdgeConv(MLP([2 * 3, 64, 64]), k, aggr)\n",
        "        self.conv2 = DynamicEdgeConv(MLP([2 * 64, 128]), k, aggr)\n",
        "        # Encoder head\n",
        "        self.lin1 = Linear(128 + 64, 128)\n",
        "        # Projection head (See explanation in SimCLRv2)\n",
        "        self.mlp = MLP([128, 256, 32], norm=None)\n",
        "\n",
        "    def forward(self, data, train=True):\n",
        "        if train:\n",
        "            # Get 2 augmentations of the batch\n",
        "            augm_1 = augmentation(data)\n",
        "            augm_2 = augmentation(data)\n",
        "\n",
        "            # Extract properties\n",
        "            pos_1, batch_1 = augm_1.pos, augm_1.batch\n",
        "            pos_2, batch_2 = augm_2.pos, augm_2.batch\n",
        "\n",
        "            # Get representations for first augmented view\n",
        "            x1 = self.conv1(pos_1, batch_1)\n",
        "            x2 = self.conv2(x1, batch_1)\n",
        "            h_points_1 = self.lin1(torch.cat([x1, x2], dim=1))\n",
        "\n",
        "            # Get representations for second augmented view\n",
        "            x1 = self.conv1(pos_2, batch_2)\n",
        "            x2 = self.conv2(x1, batch_2)\n",
        "            h_points_2 = self.lin1(torch.cat([x1, x2], dim=1))\n",
        "\n",
        "            # Global representation\n",
        "            h_1 = global_max_pool(h_points_1, batch_1)\n",
        "            h_2 = global_max_pool(h_points_2, batch_2)\n",
        "        else:\n",
        "            x1 = self.conv1(data.pos, data.batch)\n",
        "            x2 = self.conv2(x1, data.batch)\n",
        "            h_points = self.lin1(torch.cat([x1, x2], dim=1))\n",
        "            return global_max_pool(h_points, data.batch)\n",
        "\n",
        "        # Transformation for loss function\n",
        "        compact_h_1 = self.mlp(h_1)\n",
        "        compact_h_2 = self.mlp(h_2)\n",
        "        return h_1, h_2, compact_h_1, compact_h_2"
      ]
    },
    {
      "cell_type": "markdown",
      "metadata": {
        "id": "aAh2QgX9Nof1"
      },
      "source": [
        "Possible improvement: Only pass once through model by stacking augmentations"
      ]
    },
    {
      "cell_type": "markdown",
      "metadata": {
        "id": "U0QjhMfhJ8W7"
      },
      "source": [
        "## Training"
      ]
    },
    {
      "cell_type": "markdown",
      "metadata": {
        "id": "fI18VkeQxadF"
      },
      "source": [
        "- We use InfoNCE / NT-Xent Loss implemented in pytorch metric learning library\n",
        "- Temperature allows to balance the similarity measure (make it more peaked)\n",
        "- Typical values are around 0.1 / 0.2"
      ]
    },
    {
      "cell_type": "code",
      "execution_count": 14,
      "metadata": {
        "colab": {
          "base_uri": "https://localhost:8080/"
        },
        "id": "FGxTDy0sLDTp",
        "outputId": "680c5ef2-f970-47c2-d542-e457a5a984fb"
      },
      "outputs": [],
      "source": [
        "# See https://kevinmusgrave.github.io/pytorch-metric-learning/losses/#ntxentloss\n",
        "# !pip install pytorch-metric-learning -q\n",
        "\n",
        "from pytorch_metric_learning.losses import NTXentLoss\n",
        "loss_func = NTXentLoss(temperature=0.10)"
      ]
    },
    {
      "cell_type": "code",
      "execution_count": 17,
      "metadata": {
        "id": "DDplPASCKNRD"
      },
      "outputs": [],
      "source": [
        "device = torch.device('cuda' if torch.cuda.is_available() else 'cpu')\n",
        "model = Model().to(device)\n",
        "optimizer = torch.optim.Adam(model.parameters(), lr=0.001)\n",
        "scheduler = torch.optim.lr_scheduler.StepLR(optimizer, step_size=20, gamma=0.5)\n",
        "\n",
        "# Use a large batch size (might lead to RAM issues)\n",
        "# Free Colab Version has ~ 12 GB of RAM\n",
        "data_loader = DataLoader(dataset, batch_size=32, shuffle=True)\n"
      ]
    },
    {
      "cell_type": "markdown",
      "metadata": {
        "id": "LASK3n1qz8Fx"
      },
      "source": [
        "- No test dataset, as the evaluation can be done \"downstream\"\n",
        "- The compact representations go into the loss function\n",
        "- During test time no augmentations are applied and we can use the output representations"
      ]
    },
    {
      "cell_type": "code",
      "execution_count": null,
      "metadata": {
        "colab": {
          "base_uri": "https://localhost:8080/"
        },
        "id": "PXLT7Up7Kd9g",
        "outputId": "2be7307a-b67e-490b-e497-9f395e3e887c"
      },
      "outputs": [
        {
          "name": "stderr",
          "output_type": "stream",
          "text": [
            "100%|██████████| 157/157 [44:03<00:00, 16.84s/it]\n"
          ]
        },
        {
          "name": "stdout",
          "output_type": "stream",
          "text": [
            "Epoch 001, Loss: 1.6903\n"
          ]
        },
        {
          "name": "stderr",
          "output_type": "stream",
          "text": [
            " 22%|██▏       | 34/157 [09:22<33:54, 16.54s/it]"
          ]
        }
      ],
      "source": [
        "import tqdm\n",
        "\n",
        "def train():\n",
        "    model.train()\n",
        "    total_loss = 0\n",
        "    for _, data in enumerate(tqdm.tqdm(data_loader)):\n",
        "        data = data.to(device)\n",
        "        optimizer.zero_grad()\n",
        "        # Get data representations\n",
        "        h_1, h_2, compact_h_1, compact_h_2 = model(data)\n",
        "        # Prepare for loss\n",
        "        embeddings = torch.cat((compact_h_1, compact_h_2))\n",
        "        # The same index corresponds to a positive pair\n",
        "        indices = torch.arange(0, compact_h_1.size(0), device=compact_h_2.device)\n",
        "        labels = torch.cat((indices, indices))\n",
        "        loss = loss_func(embeddings, labels)\n",
        "        loss.backward()\n",
        "        total_loss += loss.item() * data.num_graphs\n",
        "        optimizer.step()\n",
        "    return total_loss / len(dataset)\n",
        "\n",
        "for epoch in range(1, 4):\n",
        "    loss = train()\n",
        "    print(f'Epoch {epoch:03d}, Loss: {loss:.4f}')\n",
        "    scheduler.step()"
      ]
    },
    {
      "cell_type": "markdown",
      "metadata": {
        "id": "J49zjaa5cxRe"
      },
      "source": [
        "## Evaluation of the Embeddings"
      ]
    },
    {
      "cell_type": "code",
      "execution_count": 32,
      "metadata": {
        "colab": {
          "base_uri": "https://localhost:8080/",
          "height": 265
        },
        "id": "z97R1Vhou0uQ",
        "outputId": "24a95dd8-5e6b-4b46-c143-4b2f5849293e"
      },
      "outputs": [
        {
          "data": {
            "image/png": "[encoded data removed]",
            "text/plain": [
              "<Figure size 640x480 with 1 Axes>"
            ]
          },
          "metadata": {},
          "output_type": "display_data"
        }
      ],
      "source": [
        "from sklearn.manifold import TSNE\n",
        "import seaborn as sns\n",
        "import pandas as pd\n",
        "import matplotlib.pyplot as plt\n",
        "\n",
        "# Get sample batch\n",
        "sample = next(iter(data_loader))\n",
        "\n",
        "# Get representations\n",
        "h = model(sample.to(device), train=False)\n",
        "h = h.cpu().detach()\n",
        "labels = sample.category.cpu().detach().numpy()\n",
        "\n",
        "# Get low-dimensional t-SNE Embeddings\n",
        "h_embedded = TSNE(n_components=2, learning_rate='auto',\n",
        "                   init='random').fit_transform(h.numpy())\n",
        "\n",
        "# Plot\n",
        "ax = sns.scatterplot(x=h_embedded[:,0], y=h_embedded[:,1], hue=labels,\n",
        "                    alpha=0.5, palette=\"tab10\")\n",
        "\n",
        "# Add labels to be able to identify the data points\n",
        "annotations = list(range(len(h_embedded[:,0])))\n",
        "\n",
        "def label_points(x, y, val, ax):\n",
        "    a = pd.concat({'x': x, 'y': y, 'val': val}, axis=1)\n",
        "    for i, point in a.iterrows():\n",
        "        ax.text(point['x']+.02, point['y'], str(int(point['val'])))\n",
        "\n",
        "label_points(pd.Series(h_embedded[:,0]),\n",
        "            pd.Series(h_embedded[:,1]),\n",
        "            pd.Series(annotations),\n",
        "            plt.gca())"
      ]
    },
    {
      "cell_type": "markdown",
      "metadata": {
        "id": "gdEaaGAGY7X_"
      },
      "source": [
        "Let's find the most similar and most different data points ...\n",
        "\n",
        "[Source](https://stackoverflow.com/questions/50411191/how-to-compute-the-cosine-similarity-in-pytorch-for-all-rows-in-a-matrix-with-re)"
      ]
    },
    {
      "cell_type": "code",
      "execution_count": 2,
      "metadata": {
        "colab": {
          "base_uri": "https://localhost:8080/"
        },
        "id": "NwEq0v63Y4F4",
        "outputId": "0aa953f3-113e-4753-aab2-9945bbe08719"
      },
      "outputs": [
        {
          "ename": "NameError",
          "evalue": "name 'h' is not defined",
          "output_type": "error",
          "traceback": [
            "\u001b[0;31m---------------------------------------------------------------------------\u001b[0m",
            "\u001b[0;31mNameError\u001b[0m                                 Traceback (most recent call last)",
            "Cell \u001b[0;32mIn[2], line 13\u001b[0m\n\u001b[1;32m     10\u001b[0m     sim_mt \u001b[38;5;241m=\u001b[39m torch\u001b[38;5;241m.\u001b[39mmm(a_norm, b_norm\u001b[38;5;241m.\u001b[39mtranspose(\u001b[38;5;241m0\u001b[39m, \u001b[38;5;241m1\u001b[39m))\n\u001b[1;32m     11\u001b[0m     \u001b[38;5;28;01mreturn\u001b[39;00m sim_mt\n\u001b[0;32m---> 13\u001b[0m similarity \u001b[38;5;241m=\u001b[39m sim_matrix(\u001b[43mh\u001b[49m, h)\n\u001b[1;32m     14\u001b[0m max_indices \u001b[38;5;241m=\u001b[39m torch\u001b[38;5;241m.\u001b[39mtopk(similarity, k\u001b[38;5;241m=\u001b[39m\u001b[38;5;241m2\u001b[39m)[\u001b[38;5;241m1\u001b[39m][:, \u001b[38;5;241m1\u001b[39m]\n\u001b[1;32m     15\u001b[0m max_vals  \u001b[38;5;241m=\u001b[39m torch\u001b[38;5;241m.\u001b[39mtopk(similarity, k\u001b[38;5;241m=\u001b[39m\u001b[38;5;241m2\u001b[39m)[\u001b[38;5;241m0\u001b[39m][:, \u001b[38;5;241m1\u001b[39m]\n",
            "\u001b[0;31mNameError\u001b[0m: name 'h' is not defined"
          ]
        }
      ],
      "source": [
        "import numpy as np\n",
        "\n",
        "def sim_matrix(a, b, eps=1e-8):\n",
        "    \"\"\"\n",
        "    Eps for numerical stability\n",
        "    \"\"\"\n",
        "    a_n, b_n = a.norm(dim=1)[:, None], b.norm(dim=1)[:, None]\n",
        "    a_norm = a / torch.max(a_n, eps * torch.ones_like(a_n))\n",
        "    b_norm = b / torch.max(b_n, eps * torch.ones_like(b_n))\n",
        "    sim_mt = torch.mm(a_norm, b_norm.transpose(0, 1))\n",
        "    return sim_mt\n",
        "\n",
        "similarity = sim_matrix(h, h)\n",
        "max_indices = torch.topk(similarity, k=2)[1][:, 1]\n",
        "max_vals  = torch.topk(similarity, k=2)[0][:, 1]\n",
        "\n",
        "# Select index\n",
        "idx = 17\n",
        "similar_idx = max_indices[idx]\n",
        "print(f\"Most similar data point in the embedding space for {idx} is {similar_idx}\")"
      ]
    },
    {
      "cell_type": "markdown",
      "metadata": {
        "id": "mZJvNho8nQoW"
      },
      "source": [
        "Categories are: \"Table\", \"Lamp\", \"Guitar\", \"Motorbike\", \"Skateboard\"\n",
        "\n",
        "**Note**: This is only based on the data in the current batch!"
      ]
    },
    {
      "cell_type": "code",
      "execution_count": 1,
      "metadata": {
        "colab": {
          "base_uri": "https://localhost:8080/",
          "height": 559
        },
        "id": "qMv3cc_bb6ag",
        "outputId": "0445673e-e9e3-43e4-8741-ef89c28663f5"
      },
      "outputs": [
        {
          "ename": "NameError",
          "evalue": "name 'plot_3d_shape' is not defined",
          "output_type": "error",
          "traceback": [
            "\u001b[0;31m---------------------------------------------------------------------------\u001b[0m",
            "\u001b[0;31mNameError\u001b[0m                                 Traceback (most recent call last)",
            "Cell \u001b[0;32mIn[1], line 1\u001b[0m\n\u001b[0;32m----> 1\u001b[0m \u001b[43mplot_3d_shape\u001b[49m(sample[idx]\u001b[38;5;241m.\u001b[39mcpu())\n",
            "\u001b[0;31mNameError\u001b[0m: name 'plot_3d_shape' is not defined"
          ]
        }
      ],
      "source": [
        "plot_3d_shape(sample[idx].cpu())"
      ]
    },
    {
      "cell_type": "code",
      "execution_count": null,
      "metadata": {
        "colab": {
          "base_uri": "https://localhost:8080/",
          "height": 559
        },
        "id": "i7Q86ALucDEx",
        "outputId": "466bb100-1262-48d9-839a-c8fe7aea096b"
      },
      "outputs": [
        {
          "name": "stdout",
          "output_type": "stream",
          "text": [
            "Number of data points:  2705\n"
          ]
        },
        {
          "data": {
            "text/html": [
              "<html>\n",
              "<head><meta charset=\"utf-8\" /></head>\n",
              "<body>\n",
              "    <div>            <script src=\"https://cdnjs.cloudflare.com/ajax/libs/mathjax/2.7.5/MathJax.js?config=TeX-AMS-MML_SVG\"></script><script type=\"text/javascript\">if (window.MathJax) {MathJax.Hub.Config({SVG: {font: \"STIX-Web\"}});}</script>                <script type=\"text/javascript\">window.PlotlyConfig = {MathJaxConfig: 'local'};</script>\n",
              "        <script src=\"https://cdn.plot.ly/plotly-2.8.3.min.js\"></script>                <div id=\"a4ba884a-03b0-4af2-9970-d4b760f26a4a\" class=\"plotly-graph-div\" style=\"height:525px; width:100%;\"></div>            <script type=\"text/javascript\">                                    window.PLOTLYENV=window.PLOTLYENV || {};                                    if (document.getElementById(\"a4ba884a-03b0-4af2-9970-d4b760f26a4a\")) {                    Plotly.newPlot(                        \"a4ba884a-03b0-4af2-9970-d4b760f26a4a\",                        [{\"hovertemplate\":\"x=%{x}<br>y=%{y}<br>z=%{z}<extra></extra>\",\"legendgroup\":\"\",\"marker\":{\"color\":\"#636efa\",\"opacity\":0.3,\"symbol\":\"circle\"},\"mode\":\"markers\",\"name\":\"\",\"scene\":\"scene\",\"showlegend\":false,\"x\":[-0.25268998742103577,0.15883000195026398,-0.19771000742912292,-0.2526800036430359,-0.2464500069618225,-0.09184999763965607,-0.21535000205039978,-0.08545000106096268,0.18006999790668488,-0.030330000445246696,0.15300999581813812,-0.22739000618457794,0.24630999565124512,0.2403700053691864,0.23062999546527863,0.24749000370502472,0.24613000452518463,0.24352000653743744,0.24567000567913055,0.23214000463485718,-0.25286999344825745,0.2539899945259094,-0.23086999356746674,-0.22666999697685242,-0.2296999990940094,-0.25334998965263367,0.2328599989414215,0.2328599989414215,0.2328599989414215,0.2328599989414215,0.2328599989414215,0.2328599989414215,0.2328599989414215,0.2328599989414215,0.2328599989414215,0.2328599989414215,0.2328599989414215,-0.2534799873828888,-0.22401000559329987,-0.21877999603748322,-0.21929000318050385,-0.24764999747276306,-0.2246599942445755,-0.2145400047302246,-0.22405000030994415,-0.21859000623226166,-0.2540299892425537,-0.2540299892425537,-0.2540299892425537,-0.2540299892425537,-0.2540299892425537,-0.2540299892425537,-0.2540299892425537,-0.2540299892425537,-0.2540299892425537,0.2519499957561493,-0.02566000074148178,0.1125900000333786,0.2540299892425537,0.2540299892425537,0.2540299892425537,0.2540299892425537,0.2540299892425537,0.2540299892425537,0.2540299892425537,0.2540299892425537,0.2540299892425537,-0.2382899969816208,0.24220000207424164,0.1144300028681755,0.10621999949216843,0.2328599989414215,0.2328599989414215,0.2328599989414215,0.2328599989414215,0.2328599989414215,0.2328599989414215,0.2328599989414215,0.2328599989414215,0.2328599989414215,0.2328599989414215,0.2328599989414215,0.2378299981355667,-0.23068000376224518,-0.22741000354290009,-0.22944000363349915,-0.22509999573230743,-0.23623999953269958,-0.22439000010490417,-0.22439000010490417,-0.22439000010490417,-0.22439000010490417,-0.22439000010490417,-0.22439000010490417,-0.22439000010490417,-0.22439000010490417,-0.22439000010490417,-0.22439000010490417,-0.22439000010490417,-0.22439000010490417,0.22432999312877655,0.2534700036048889,0.2365799993276596,-0.21358999609947205,-0.2244199961423874,-0.22145000100135803,-0.22041000425815582,-0.23138000071048737,-0.22890999913215637,-0.22992999851703644,-0.22352999448776245,-0.23118999600410461,-0.21442000567913055,0.24977000057697296,0.24455000460147858,0.24469000101089478,0.24426999688148499,-0.2366500049829483,0.22806000709533691,0.24818000197410583,0.2540299892425537,0.2540299892425537,0.2540299892425537,0.2540299892425537,0.2540299892425537,0.2540299892425537,0.2540299892425537,0.2540299892425537,0.2540299892425537,-0.22655999660491943,-0.23029999434947968,-0.24007999897003174,-0.2469799965620041,0.2283799946308136,0.22578999400138855,0.22633999586105347,0.22610999643802643,-0.2116899937391281,-0.2116899937391281,-0.2116899937391281,-0.2116899937391281,-0.2116899937391281,-0.2116899937391281,-0.2116899937391281,-0.2116899937391281,0.22961999475955963,0.2267799973487854,0.2324800044298172,0.23180000483989716,0.03799000009894371,0.1571200042963028,0.0379600003361702,0.16019999980926514,-0.09444999694824219,0.19199000298976898,0.06532999873161316,0.2261199951171875,-0.25363999605178833,0.23619000613689423,-0.2116899937391281,-0.22869999706745148,-0.2540299892425537,-0.2540299892425537,-0.2540299892425537,-0.2540299892425537,-0.2540299892425537,-0.2540299892425537,-0.2540299892425537,-0.2540299892425537,-0.2540299892425537,-0.23159000277519226,-0.2183299958705902,-0.23107999563217163,-0.228520005941391,-0.2220900058746338,-0.21408000588417053,-0.22413000464439392,-0.2390100061893463,-0.2264000028371811,-0.23262999951839447,-0.22023999691009521,-0.21565000712871552,-0.2314700037240982,-0.21758000552654266,-0.22742000222206116,-0.21995000541210175,-0.23104999959468842,0.22596000134944916,-0.25394999980926514,-0.2526499927043915,-0.2516300082206726,-0.2534799873828888,-0.2509300112724304,0.22698000073432922,-0.19550000131130219,-0.11732999980449677,0.09522999823093414,0.11674000322818756,-0.22616000473499298,-0.22890999913215637,-0.2260199934244156,0.2261900007724762,0.08643999695777893,-0.06397999823093414,-0.22412000596523285,0.2535400092601776,0.2370000034570694,-0.21170000731945038,-0.08631999790668488,0.002460000105202198,-0.13861000537872314,0.037370000034570694,-0.03694000095129013,-0.04055999964475632,-0.01947000063955784,-0.04058000072836876,-0.011479999870061874,0.07682999968528748,-0.1929900050163269,-0.14860999584197998,-0.13993999361991882,-0.17151999473571777,-0.16221000254154205,-0.08934000134468079,-0.07348000258207321,-0.04806999862194061,-0.19607000052928925,-0.09599000215530396,-0.23409999907016754,-0.09529999643564224,0.05473000183701515,0.11328999698162079,-0.24911999702453613,-0.04845999926328659,-0.17590999603271484,-0.01841999962925911,-0.21105000376701355,-0.0807500034570694,-0.17735999822616577,0.08535999804735184,0.17858000099658966,0.07840999960899353,0.008410000242292881,-0.24278999865055084,-0.13353000581264496,-0.1590300053358078,0.018880000337958336,-0.18019999563694,-0.1544400006532669,-0.1900700032711029,-0.15921999514102936,0.15859000384807587,-0.22851000726222992,-0.13559000194072723,-0.11881999671459198,-0.13586999475955963,-0.24166999757289886,-0.2301499992609024,-0.0243500005453825,-0.017869999632239342,-0.22762000560760498,-0.2409300059080124,-0.1755799949169159,-0.0530799999833107,-0.061769999563694,-0.09492000192403793,-0.21645000576972961,-0.14928999543190002,-0.0738300010561943,0.021239999681711197,0.13142000138759613,-0.11520999670028687,-0.19251999258995056,-0.07511000335216522,-0.24153999984264374,-0.213359996676445,-0.2517800033092499,0.05967000126838684,-0.18897999823093414,-0.24905000627040863,-0.11693000048398972,0.01779000088572502,0.10298000276088715,0.0423399992287159,-0.09218999743461609,-0.22134999930858612,-0.23305000364780426,-0.23565000295639038,-0.1266700029373169,-0.22845999896526337,-0.17358000576496124,-0.11316999793052673,-0.17281000316143036,-0.18425999581813812,-0.1699499934911728,-0.05841999873518944,-0.09369999915361404,0.13931000232696533,-0.21030999720096588,-0.088639996945858,-0.20573000609874725,-0.026200000196695328,-0.24948999285697937,-0.12865999341011047,4.999999873689376e-05,-0.11811000108718872,-0.02824000082910061,0.018379999324679375,-0.16348999738693237,-0.0857900008559227,-0.1608700007200241,-0.07478000223636627,-0.2539199888706207,-0.2451999932527542,-0.02669999934732914,-0.08589000254869461,-0.1424800008535385,0.1790899932384491,-0.16557000577449799,-0.11879000067710876,-0.06560999900102615,-0.04560000076889992,-0.08275000005960464,-0.032030001282691956,0.03255999833345413,-0.055410001426935196,0.07257000356912613,-0.2291100025177002,-0.22990000247955322,-0.06532000005245209,-0.21539999544620514,-0.047240000218153,-0.005940000060945749,-0.04926000162959099,-0.15661999583244324,0.05795999988913536,-0.0008200000156648457,-0.06499999761581421,-0.23747000098228455,-0.1115799993276596,0.1030300036072731,0.060499999672174454,-0.07818999886512756,-0.17874999344348907,-0.19099999964237213,-0.1410599946975708,0.12109000235795975,-0.16301000118255615,0.001610000035725534,-0.2212499976158142,-0.10570000112056732,-0.17103999853134155,-0.1821800023317337,0.09452000260353088,-0.0963200032711029,-0.23266999423503876,-0.19221000373363495,-0.08833000063896179,0.05680999904870987,-0.17813000082969666,-0.08587999641895294,-0.11094000190496445,0.09147000312805176,-0.168830007314682,-0.07373999804258347,-0.07319000363349915,0.14162999391555786,-0.03263000026345253,-0.19634999334812164,-0.11023999750614166,0.14696000516414642,-0.18949000537395477,-0.04188999906182289,-0.09925000369548798,0.03156999871134758,-0.1297300010919571,-0.06994999945163727,-0.08992999792098999,-0.03578000143170357,-0.10888999700546265,0.10030999779701233,-0.20563000440597534,0.02490999922156334,0.06588999927043915,-0.12063000351190567,0.184129998087883,-0.21946999430656433,-0.0634400025010109,-0.16224999725818634,-0.0954200029373169,-7.999999797903001e-05,0.06479000300168991,-0.1921599954366684,0.047929998487234116,0.06866999715566635,-0.11658000200986862,-0.2137800008058548,-0.1127299964427948,0.056449998170137405,0.01590000092983246,-0.09166000038385391,0.08304999768733978,-0.07992000132799149,0.12241999804973602,-0.036400001496076584,-0.20864999294281006,-0.056529998779296875,-0.199630007147789,-0.053599998354911804,0.016759999096393585,0.02800000086426735,-0.03167000040411949,-0.22617000341415405,-0.09989000111818314,-0.24560999870300293,-0.08490999788045883,-0.23850999772548676,0.22281000018119812,-0.00930000003427267,0.009720000438392162,-0.07450000196695328,0.1716500073671341,-0.23409999907016754,-0.24618999660015106,0.03220000118017197,0.059209998697042465,0.10006000101566315,0.07322999835014343,0.1988299936056137,0.06633999943733215,0.01343000028282404,0.13276000320911407,0.04259999841451645,-0.21675999462604523,-0.24344000220298767,-0.2116899937391281,-0.2116899937391281,-0.2116899937391281,-0.2116899937391281,-0.2116899937391281,-0.2116899937391281,-0.2116899937391281,-0.2116899937391281,0.23276999592781067,0.2311599999666214,0.2540299892425537,0.2540299892425537,0.2540299892425537,0.2540299892425537,0.2540299892425537,0.2540299892425537,0.2540299892425537,0.2540299892425537,0.2135400027036667,-0.06932000070810318,-0.01988000050187111,-0.24038000404834747,-0.242249995470047,-0.2385600060224533,-0.24023999273777008,-0.24108000099658966,-0.2376900017261505,-0.24793000519275665,-0.24677999317646027,-0.2539199888706207,-0.22662000358104706,-0.23096999526023865,-0.19584999978542328,0.24241000413894653,-0.22176000475883484,-0.12927000224590302,-0.024010000750422478,0.18161000311374664,-0.18776999413967133,0.08297999948263168,-0.04874999821186066,-0.23826000094413757,0.24229000508785248,0.2116899937391281,0.2116899937391281,0.2116899937391281,0.2116899937391281,0.2116899937391281,0.2116899937391281,0.2116899937391281,0.2116899937391281,0.2116899937391281,-0.2540299892425537,-0.2540299892425537,-0.2540299892425537,-0.2540299892425537,-0.2540299892425537,-0.2540299892425537,-0.2540299892425537,-0.2540299892425537,-0.2540299892425537,0.23916000127792358,0.2234400063753128,0.25266000628471375,0.22875000536441803,-0.2410999983549118,0.2116899937391281,0.2116899937391281,0.2116899937391281,0.2116899937391281,0.2116899937391281,0.2116899937391281,0.2116899937391281,0.2116899937391281,0.2116899937391281,-0.2312300056219101,0.17524999380111694,0.18327000737190247,0.12601999938488007,0.15454000234603882,0.22675999999046326,0.14182999730110168,0.11722999811172485,0.04966000095009804,0.053780000656843185,0.18877999484539032,0.004290000069886446,0.22912999987602234,0.05861999839544296,0.24321000277996063,0.0764399990439415,0.0049600000493228436,0.21425999701023102,-0.050599999725818634,0.008129999972879887,-0.05112000182271004,0.14985999464988708,0.06340999901294708,0.2407499998807907,0.21232999861240387,-0.14259999990463257,-0.12651999294757843,0.18348999321460724,0.04766000062227249,-0.17361000180244446,0.05226000025868416,0.16689999401569366,0.04360000044107437,0.178289994597435,0.1308099925518036,0.011429999954998493,-0.05851000174880028,0.10123000293970108,0.0813400000333786,-0.10337000340223312,0.038339998573064804,-0.0957999974489212,0.2446500062942505,0.03771999850869179,-0.004670000169426203,-0.06131000071763992,0.22466999292373657,-0.00419999985024333,0.05900999903678894,0.04292000085115433,-0.019449999555945396,-0.02484999969601631,0.19391000270843506,0.19061000645160675,0.09399999678134918,0.2534700036048889,-0.00535999983549118,0.20315000414848328,0.02150999940931797,-0.16419999301433563,0.22345000505447388,0.014600000344216824,0.15610000491142273,0.23987999558448792,0.03685000166296959,0.20845000445842743,0.04382000118494034,0.15987999737262726,-0.08350999653339386,0.22258999943733215,-0.12540000677108765,0.1723099946975708,0.07304999977350235,0.08900000154972076,-0.1628500074148178,-0.08883000165224075,0.2300799936056137,0.14242999255657196,0.14404000341892242,-0.1667499989271164,-0.07361999899148941,-0.0024800000246614218,-0.08065000176429749,0.17238999903202057,0.042249999940395355,4.999999873689376e-05,-0.033250000327825546,0.16556000709533691,0.15343999862670898,0.1828799992799759,0.21270999312400818,-0.054760001599788666,-0.12178999930620193,0.10397999733686447,0.049320001155138016,0.2502700090408325,-0.06137999892234802,-0.0700099989771843,-0.0765800029039383,-0.09374000132083893,0.08654999732971191,0.23941999673843384,0.2461100071668625,0.20095999538898468,0.17949000000953674,0.06808000057935715,0.23130999505519867,0.10805000364780426,-0.1449200063943863,0.11535000056028366,-0.08006999641656876,-0.008200000040233135,0.20476000010967255,0.23914000391960144,0.10565999895334244,-0.06554999947547913,-0.1690399944782257,0.23411999642848969,0.0836699977517128,0.06785999983549118,0.25400999188423157,-0.05105999857187271,0.14667999744415283,-0.11379999667406082,-0.0833899974822998,0.19106000661849976,0.23656000196933746,-0.11660999804735184,0.02094000019133091,0.08541999757289886,0.19255000352859497,0.11364000290632248,-0.09724999964237213,0.10266000032424927,0.16238999366760254,-0.1035899966955185,0.05651000142097473,-0.055330000817775726,0.1408900022506714,0.24673999845981598,0.19517000019550323,0.022840000689029694,0.16259999573230743,0.219200000166893,0.22811000049114227,0.08973000198602676,0.08711999654769897,0.2308499962091446,-0.04757000133395195,-0.023830000311136246,0.1675100028514862,0.22381000220775604,0.10518000274896622,0.21184000372886658,0.22665999829769135,0.09537000209093094,0.0538799986243248,0.10538999736309052,0.2081799954175949,-0.1482599973678589,0.15478000044822693,0.13792000710964203,0.06262999773025513,0.02240999974310398,0.22683000564575195,0.15643000602722168,-0.08028999716043472,0.048259999603033066,0.2533400058746338,0.16607999801635742,-0.16695000231266022,0.040049999952316284,0.04983999952673912,0.20500999689102173,0.063230000436306,-0.01906999945640564,0.039329998195171356,0.0979899987578392,0.15710000693798065,0.18241000175476074,0.02225000038743019,0.21074999868869781,0.1917800009250641,0.10249999910593033,-0.11731000244617462,0.05414000153541565,0.24751999974250793,0.1375100016593933,0.00443999981507659,0.18648000061511993,0.24820999801158905,0.21739999949932098,0.1893399953842163,0.11029999703168869,0.22099000215530396,0.08930999785661697,0.18271000683307648,0.03945000097155571,0.24038000404834747,0.07483000308275223,0.13951000571250916,-0.10357999801635742,0.18532000482082367,0.028119999915361404,0.12387000024318695,-0.04873000085353851,0.0531499981880188,0.0755700021982193,0.10852000117301941,0.2499600052833557,0.12764999270439148,0.10492999851703644,-0.01915000006556511,0.16741999983787537,-0.06261000037193298,0.12816999852657318,0.21782000362873077,-0.10944999754428864,0.060120001435279846,0.1318099945783615,-0.0011699999449774623,0.2264299988746643,0.2297399938106537,-0.2116899937391281,-0.2116899937391281,-0.2116899937391281,-0.2116899937391281,-0.2116899937391281,-0.2116899937391281,-0.2116899937391281,-0.2116899937391281,-0.2116899937391281,0.22732000052928925,0.21695999801158905,0.21480000019073486,0.22526000440120697,0.2430099993944168,0.22675999999046326,0.2341800034046173,0.2267400026321411,0.21295000612735748,0.21544000506401062,0.21581999957561493,0.23024000227451324,0.2270900011062622,0.22826999425888062,0.22935999929904938,0.23048999905586243,0.23050999641418457,0.2347699999809265,0.23463000357151031,0.07548999786376953,-0.21750999987125397,0.2328599989414215,0.2328599989414215,0.2328599989414215,0.2328599989414215,0.2328599989414215,0.2328599989414215,0.2328599989414215,0.2328599989414215,0.2328599989414215,0.2328599989414215,0.2328599989414215,0.005690000019967556,0.14539000391960144,0.21258999407291412,0.2540299892425537,0.2540299892425537,0.2540299892425537,0.2540299892425537,0.2540299892425537,0.2540299892425537,0.2540299892425537,-0.1921900063753128,0.238319993019104,0.22439000010490417,0.22439000010490417,0.22439000010490417,0.22439000010490417,0.22439000010490417,0.22439000010490417,0.22439000010490417,0.22439000010490417,0.22439000010490417,0.22439000010490417,0.22439000010490417,0.22439000010490417,-0.2116899937391281,-0.2116899937391281,-0.2116899937391281,-0.2116899937391281,-0.2116899937391281,-0.2116899937391281,-0.21971000730991364,-0.21424999833106995,-0.2202499955892563,-0.22134000062942505,-0.21615000069141388,-0.23086999356746674,-0.2207300066947937,-0.24445000290870667,-0.23508000373840332,0.2290399968624115,-0.2523399889469147,0.2116899937391281,0.2116899937391281,0.2116899937391281,0.2116899937391281,0.2116899937391281,0.2116899937391281,0.2116899937391281,0.2116899937391281,0.21174000203609467,-0.2328599989414215,-0.2328599989414215,-0.2328599989414215,-0.2328599989414215,-0.2328599989414215,-0.2328599989414215,-0.2328599989414215,-0.2328599989414215,-0.2328599989414215,-0.2328599989414215,-0.2328599989414215,-0.2328599989414215,-0.19226999580860138,-0.08177000284194946,-0.0020099999383091927,0.10102000087499619,-0.1875700056552887,-0.1416500061750412,0.1324699968099594,-0.07067999988794327,0.24028000235557556,-0.22404000163078308,-0.21945999562740326,0.22638000547885895,-0.212459996342659,-0.23598000407218933,-0.001449999981559813,-0.21164999902248383,-0.1862100064754486,-0.07129999995231628,-0.11846999824047089,-0.21848000586032867,-0.05324999988079071,-0.07242999970912933,-0.11962000280618668,-0.22127999365329742,-0.08397000283002853,-0.1018500030040741,-0.20981000363826752,-0.18648000061511993,-0.18542000651359558,-0.16595999896526337,-0.0741100013256073,-0.012280000373721123,-0.10767000168561935,-0.15839999914169312,-0.16659000515937805,-0.15599000453948975,0.14733000099658966,-0.11125999689102173,-0.16118000447750092,-0.09196999669075012,-0.058329999446868896,-0.09362000226974487,-0.19008000195026398,0.10227999836206436,-0.12578999996185303,-0.10321000218391418,-0.1960200071334839,-0.14297999441623688,-0.20805999636650085,-0.14880000054836273,-0.19397999346256256,-0.18519000709056854,-0.19997000694274902,-0.09557999670505524,-0.10706999897956848,0.05212000012397766,-0.022099999710917473,0.11057999730110168,-0.2138500064611435,-0.12174999713897705,0.07789000123739243,-0.14444999396800995,-0.12476000189781189,-0.10007999837398529,-0.044130001217126846,-0.08778999745845795,-0.1287499964237213,-0.15116000175476074,-0.0466499999165535,-0.11686000227928162,-0.10289999842643738,-0.1855199933052063,-0.12928999960422516,-0.08569999784231186,-0.18097999691963196,0.007660000119358301,-0.18966999650001526,0.058729998767375946,-0.22116999328136444,-0.058240000158548355,-0.20976999402046204,0.0017600000137463212,0.03491000086069107,0.02159000001847744,-0.08840999752283096,-0.20090000331401825,-0.02428000047802925,-0.10671000182628632,-0.17461000382900238,-0.1300099939107895,-0.09763000160455704,0.11708000302314758,0.15347999334335327,0.10795000195503235,-0.1358799934387207,-0.16277000308036804,0.08709000051021576,-0.20024000108242035,-0.21750999987125397,-0.17130999267101288,-0.16944000124931335,-0.12734000384807587,0.03840000182390213,-0.1773100048303604,-0.06111999973654747,-0.04284999892115593,-0.09133999794721603,-0.030789999291300774,0.09650000184774399,-0.0025100000202655792,-0.19047999382019043,-0.19954000413417816,-0.0994499996304512,-0.1657799929380417,-0.1710200011730194,0.022180000320076942,0.04341999813914299,-0.03743999823927879,-0.1863200068473816,0.014759999699890614,-0.18449999392032623,-0.17945000529289246,-0.20134000480175018,-0.21363000571727753,-0.020349999889731407,-0.15818999707698822,-0.16120000183582306,0.1857299953699112,-0.17940999567508698,-0.1837799996137619,0.1104699969291687,0.16110999882221222,-0.1949699968099594,-0.17172999680042267,-0.05218999832868576,0.07201000303030014,-0.1859399974346161,-0.02085000090301037,-0.09915000200271606,-0.15929000079631805,0.1793700009584427,-0.020020000636577606,-0.19066999852657318,-0.14300000667572021,0.004670000169426203,0.1344500035047531,0.06556999683380127,0.08096999675035477,-0.12559999525547028,-0.22075000405311584,-0.20906999707221985,0.15816999971866608,-0.18118000030517578,-0.11777999997138977,0.063510000705719,0.052969999611377716,-0.13264000415802002,-0.1766500025987625,-0.19773000478744507,0.05863000079989433,-0.035999998450279236,-0.0865899994969368,-0.21720999479293823,0.08809000253677368,-0.20499999821186066,-0.11765000224113464,-0.18427999317646027,-0.19306999444961548,-0.09148000180721283,-0.10700000077486038,-0.09317000210285187,-0.008539999835193157,0.04191000014543533,-0.19450999796390533,-0.1772499978542328,-0.1397400051355362,-0.006010000128298998,-0.13549000024795532,-0.17301000654697418,-0.05646999925374985,-0.09199000149965286,-0.12443999946117401,0.059470001608133316,-0.21050000190734863,-0.046950001269578934,-0.1390399932861328,-0.09374000132083893,-0.15518000721931458,-0.10234999656677246,-0.05555000156164169,0.0029100000392645597,-0.20590999722480774,-0.18002000451087952,-0.21660000085830688,-0.12250000238418579,-0.16144999861717224,0.09246999770402908,0.028049999848008156,-0.01078999973833561,0.24476000666618347,-0.031120000407099724,0.017090000212192535,-0.17468999326229095,-0.14601999521255493,-0.13189999759197235,0.2116899937391281,0.2116899937391281,0.2116899937391281,0.2116899937391281,0.2116899937391281,0.2116899937391281,0.2116899937391281,0.2116899937391281,0.2116899937391281,-0.15670999884605408,-0.20024000108242035,-0.2522999942302704,-0.24514000117778778,-0.08750999718904495,-0.21355000138282776,-0.1529799997806549,-0.1657799929380417,-0.20991000533103943,-0.0573900006711483,-0.019209999591112137,-0.05834000185132027,-0.02896999940276146,-0.22439000010490417,-0.22439000010490417,-0.22439000010490417,-0.22439000010490417,-0.22439000010490417,-0.22439000010490417,-0.22439000010490417,-0.22439000010490417,0.21175000071525574,-0.2117999941110611,-0.2328599989414215,-0.2328599989414215,-0.2328599989414215,-0.2328599989414215,-0.2328599989414215,-0.2328599989414215,-0.2328599989414215,-0.2328599989414215,-0.2328599989414215,-0.2328599989414215,-0.2328599989414215,-0.2328599989414215,-0.23895999789237976,-0.24477000534534454,0.019740000367164612,-0.1341399997472763,0.011800000444054604,-0.16680000722408295,-0.23406000435352325,0.2540299892425537,0.2540299892425537,0.2540299892425537,0.2540299892425537,0.2540299892425537,0.2540299892425537,0.2540299892425537,0.2540299892425537,0.22610999643802643,0.22597000002861023,0.22582000494003296,-0.2328599989414215,-0.2328599989414215,-0.2328599989414215,-0.2328599989414215,-0.2328599989414215,-0.2328599989414215,-0.2328599989414215,-0.2328599989414215,-0.2328599989414215,-0.2328599989414215,-0.2328599989414215,-0.2328599989414215,0.23970000445842743,-0.2529500126838684,0.14315000176429749,0.16412000358104706,0.045099999755620956,0.10524000227451324,-0.031120000407099724,0.19972999393939972,-0.2540299892425537,0.18998999893665314,0.0051299999468028545,0.07946000248193741,-0.035110000520944595,-0.09354999661445618,0.17416000366210938,0.1011200025677681,-0.07368999719619751,0.1487399935722351,-0.2540299892425537,-0.2540299892425537,-0.2540299892425537,-0.2540299892425537,-0.2540299892425537,-0.2540299892425537,-0.2540299892425537,-0.2540299892425537,0.2137099951505661,-0.09912999719381332,0.07784000039100647,0.0848499983549118,-0.17169000208377838,-0.21563999354839325,-0.11902999877929688,-0.13169999420642853,0.008390000090003014,-0.17528000473976135,-0.21171000599861145,-0.19222000241279602,0.022089999169111252,-0.1728699952363968,-0.21062999963760376,-0.22134000062942505,0.08805999904870987,-0.21063999831676483,0.10270000249147415,0.09057000279426575,-0.18480999767780304,-0.04548000171780586,-0.13840000331401825,0.0029800001066178083,0.06080000102519989,-0.02961999922990799,-0.19426000118255615,0.025200000032782555,-0.022600000724196434,-0.1978899985551834,-0.18964999914169312,-0.16866999864578247,-0.07704000174999237,-0.1369599997997284,-0.16458000242710114,-0.15068000555038452,-0.15259000658988953,-0.13388000428676605,-0.12897999584674835,-0.13168999552726746,-0.06225999817252159,-0.003449999960139394,-0.20021000504493713,-0.22126999497413635,-0.2135400027036667,-0.11695999652147293,-0.11196999996900558,-0.08708000183105469,-0.2048500031232834,-0.09899000078439713,-0.0783500000834465,-0.006380000151693821,-0.12319999933242798,-0.2023800015449524,0.07897000014781952,0.020989999175071716,-0.08612000197172165,-0.18957999348640442,-0.05178999900817871,-0.0660099983215332,0.061500001698732376,-0.06599999964237213,-0.08483000099658966,0.06052999943494797,-0.10344000160694122,-0.13030000030994415,-0.211899995803833,-0.19701999425888062,-0.17948000133037567,-0.20736999809741974,-0.19931000471115112,0.05990999937057495,-0.20103999972343445,0.08850999921560287,-0.07667999714612961,0.06823000311851501,-0.0906900018453598,-0.07903999835252762,-0.09509000182151794,-0.16249999403953552,-0.014299999922513962,-0.1640699952840805,-0.17881999909877777,-0.07998000085353851,0.04154999926686287,-0.050360001623630524,-0.0928099974989891,-0.06317999958992004,-0.06347999721765518,0.05186999961733818,0.08524999767541885,-0.06358999758958817,-0.12891000509262085,-0.16690999269485474,-0.07903999835252762,-0.06360000371932983,-0.1756100058555603,0.12047000229358673,0.0737600028514862,-0.20399999618530273,0.017890000715851784,-0.09757000207901001,-0.10045000165700912,-0.21494999527931213,-0.05964000150561333,-0.20229999721050262,-0.017510000616312027,0.018799999728798866,-0.01080000028014183,-0.21126000583171844,-0.14219999313354492,-0.11004000157117844,0.006169999949634075,-0.018810000270605087,0.15139999985694885,-0.19693000614643097,-0.10830999910831451,-0.2199999988079071,-0.12591999769210815,-0.0177800003439188,-0.17483000457286835,-0.020519999787211418,-0.21744999289512634,0.11101999878883362,-0.061420001089572906,-0.12154000252485275,-0.1490200012922287,-0.05392000079154968,-0.07246000319719315,-0.10373999923467636,-0.17552000284194946,-0.20986999571323395,-0.0794999971985817,-0.15768000483512878,0.05397000163793564,0.07309000194072723,-0.01964000053703785,-0.1381099969148636,-0.20227999985218048,0.10117000341415405,-0.14746999740600586,0.18445000052452087,-0.05544000118970871,-0.1688999980688095,0.08094000071287155,0.06565000116825104,0.1338600069284439,-0.17104999721050262,0.022210000082850456,0.08307000249624252,-0.01078999973833561,-0.07744000107049942,0.04969999939203262,-0.1252100020647049,-0.20543000102043152,-0.1977899968624115,0.05094999819993973,0.06778000295162201,0.14883999526500702,-0.08130999654531479,-0.08472000062465668,-0.2006700038909912,-0.004120000172406435,0.01916000060737133,-0.25259000062942505,-0.2119400054216385,0.2034599930047989,-0.08207999914884567,0.10234999656677246,0.23579999804496765,0.23837000131607056,0.23771999776363373,0.2342900037765503,0.22518999874591827,0.24790999293327332,0.24782000482082367,0.2190600037574768,0.017559999600052834,-0.07746999710798264,-0.004470000043511391,-0.2540299892425537,-0.2540299892425537,-0.2540299892425537,-0.2540299892425537,-0.2540299892425537,-0.2540299892425537,-0.2540299892425537,-0.2540299892425537,-0.0616299994289875,-0.14879000186920166,0.07947999984025955,-0.014510000124573708,0.06218000128865242,0.17833000421524048,-0.22867000102996826,-0.21175000071525574,0.0779699981212616,-0.1804800033569336,-0.23813000321388245,0.25303998589515686,0.2116899937391281,0.2116899937391281,0.2116899937391281,0.2116899937391281,0.2116899937391281,0.2116899937391281,0.2116899937391281,0.2116899937391281,0.20893000066280365,0.21292999386787415,-0.22801999747753143,0.22746999561786652,-0.23308999836444855,-0.24504999816417694,-0.25154998898506165,-0.2439199984073639,-0.24010999500751495,-0.23694999516010284,-0.249099999666214,-0.2321700006723404,0.25275999307632446,-0.23413999378681183,0.21170000731945038,-0.14906999468803406,-0.07543999701738358,-0.08324000239372253,-0.20117999613285065,-0.1929599940776825,0.10837999731302261,0.03189000114798546,0.24403999745845795,0.2116899937391281,0.2116899937391281,0.2116899937391281,0.2116899937391281,0.2116899937391281,0.2116899937391281,0.2116899937391281,0.22561000287532806,0.21507999300956726,0.22175000607967377,0.23030999302864075,0.22567999362945557,0.23666000366210938,0.23839999735355377,-0.1170400008559227,-0.16902999579906464,-0.2116899937391281,-0.2116899937391281,-0.2116899937391281,-0.2116899937391281,-0.2116899937391281,-0.2116899937391281,-0.2116899937391281,-0.2116899937391281,0.2540299892425537,0.2540299892425537,0.2540299892425537,0.2540299892425537,0.2540299892425537,0.2540299892425537,0.2540299892425537,0.2540299892425537,0.21170000731945038,0.0006799999973736703,0.004559999797493219,0.21538999676704407,0.23091000318527222,0.22988000512123108,0.22867000102996826,0.22452999651432037,0.22046999633312225,0.22070999443531036,0.22925999760627747,0.21768000721931458,-0.22345000505447388,0.22168000042438507,-0.23128999769687653,-0.22759999334812164,-0.24131999909877777,0.23541000485420227,-0.23518000543117523,0.2540299892425537,0.2540299892425537,0.2540299892425537,0.2540299892425537,0.2540299892425537,0.2540299892425537,0.2540299892425537,0.2540299892425537,0.2540299892425537,0.2379699945449829,0.03571999818086624,-0.11726000159978867,0.05998999997973442,0.2405499964952469,0.12764999270439148,-0.12970000505447388,-0.1833299994468689,-0.10482999682426453,-0.12071000039577484,-0.14614999294281006,-0.06592000275850296,0.2428700029850006,-0.2540299892425537,-0.2540299892425537,-0.2540299892425537,-0.2540299892425537,-0.2540299892425537,-0.2540299892425537,-0.2540299892425537,-0.2540299892425537,-0.2540299892425537,0.23646999895572662,-0.2328599989414215,-0.2328599989414215,-0.2328599989414215,-0.2328599989414215,-0.2328599989414215,-0.2328599989414215,-0.2328599989414215,-0.2328599989414215,-0.2328599989414215,-0.2328599989414215,-0.2328599989414215,-0.22616000473499298,0.2540299892425537,0.2540299892425537,0.2540299892425537,0.2540299892425537,0.2540299892425537,0.2540299892425537,0.2540299892425537,0.2540299892425537,-0.2126699984073639,-0.19738000631332397,-0.19529999792575836,0.07122000306844711,-0.041930001229047775,-0.12932999432086945,0.016769999638199806,0.03215000033378601,0.22418999671936035,0.003869999898597598,0.16601000726222992,0.19494999945163727,0.10963000357151031,-0.009449999779462814,0.17952999472618103,0.17987999320030212,0.14278000593185425,0.19863000512123108,0.20539000630378723,0.1486400067806244,0.2101999968290329,0.11422000080347061,0.08631999790668488,0.20163999497890472,0.0070500001311302185,0.22107000648975372,0.1839199960231781,0.10179000347852707,0.04701999947428703,0.1691499948501587,-0.0056500001810491085,0.1743900030851364,-0.08397000283002853,0.14719000458717346,-0.165010005235672,0.15737999975681305,0.11956000328063965,0.1028200015425682,0.12180999666452408,0.21910999715328217,-0.04493999853730202,0.10113999992609024,0.13229000568389893,-0.08083000034093857,-0.044179998338222504,-0.11266999691724777,0.08280999958515167,-0.1739100068807602,0.027249999344348907,-0.13544000685214996,0.0521400012075901,0.15745000541210175,0.18544000387191772,0.10963000357151031,-0.015080000273883343,0.048239998519420624,0.19243000447750092,0.1839900016784668,0.0030400000978261232,0.13202999532222748,0.10434000194072723,0.12870000302791595,-0.00800000037997961,-0.060989998281002045,-0.044429998844861984,0.07406000047922134,0.01573999971151352,0.20220999419689178,0.17343999445438385,-0.12929999828338623,-0.1410199999809265,0.2102299928665161,0.1514900028705597,0.16832000017166138,-0.03370000049471855,-0.05812999978661537,0.15929000079631805,-0.003719999920576811,0.11527000367641449,0.022760000079870224,-0.050930000841617584,0.17256000638008118,0.12592999637126923,0.0502300001680851,0.06532000005245209,0.18565000593662262,0.12326999753713608,0.1267700046300888,-0.016519999131560326,0.021630000323057175,-0.04270999878644943,0.03909999877214432,0.21462999284267426,0.0645499974489212,0.12750999629497528,-0.12625999748706818,0.1318099945783615,0.0803999975323677,-0.050599999725818634,0.1437399983406067,0.154229998588562,-0.11347000300884247,0.16439999639987946,0.1852799952030182,0.15446999669075012,-0.021139999851584435,0.06641999632120132,0.18187999725341797,0.10795000195503235,0.2096100002527237,0.19598999619483948,0.16810999810695648,-0.00949000008404255,0.21850000321865082,0.19777999818325043,0.14730000495910645,0.1708800047636032,0.12634000182151794,0.04761999845504761,0.0995199978351593,0.054249998182058334,0.00559999980032444,0.054090000689029694,0.059220001101493835,0.1281300038099289,0.1300099939107895,0.03200000151991844,0.21578000485897064,0.08154000341892242,-0.12758000195026398,0.08744999766349792,0.1798200011253357,-0.09842000156641006,0.11219999939203262,0.1078300029039383,-0.010599999688565731,0.20833000540733337,0.11799000203609467,0.17696000635623932,0.09625999629497528,0.03060000017285347,-0.031950000673532486,0.08777999877929688,0.029750000685453415,0.03418000042438507,0.16816000640392303,0.0567299984395504,0.12244000285863876,0.19062000513076782,0.12369000166654587,-0.016370000317692757,0.16996000707149506,0.21543000638484955,0.20635999739170074,0.2128800004720688,0.18804000318050385,0.06916999816894531,0.19074000418186188,-0.08816999942064285,-0.11224000155925751,0.11845999956130981,0.11257000267505646,0.1137000024318695,0.11144000291824341,0.07502000033855438,-0.13461999595165253,0.046160001307725906,0.06080000102519989,0.18866999447345734,-0.008510000072419643,-0.04751000180840492,0.10045000165700912,0.11457999795675278,0.0038499999791383743,-0.09511999785900116,0.21979999542236328,0.05891000106930733,0.12623000144958496,-0.08523000031709671,0.1543699949979782,0.02906000055372715,0.20476000010967255,-0.2262199968099594,-0.2540299892425537,-0.2540299892425537,-0.2540299892425537,-0.2540299892425537,-0.2540299892425537,-0.2540299892425537,-0.2540299892425537,-0.2540299892425537,-0.2540299892425537,-0.03246000036597252,-0.06847000122070312,0.0500200018286705,0.08611000329256058,0.19742000102996826,0.17336000502109528,0.2224300056695938,0.2134300023317337,-0.23323999345302582,-0.22955000400543213,-0.2348099946975708,-0.23607000708580017,-0.22618000209331512,-0.22824999690055847,-0.21607999503612518,0.2263599932193756,0.24194000661373138,0.22637000679969788,0.21477000415325165,0.23913000524044037,0.24597999453544617,0.24964000284671783,0.23513999581336975,0.23161999881267548,0.251910001039505,0.2460000067949295,0.2502399981021881,0.24794000387191772,0.24233999848365784,0.22439000010490417,0.22439000010490417,0.22439000010490417,0.22439000010490417,0.22439000010490417,0.22439000010490417,0.22439000010490417,0.22439000010490417,0.22439000010490417,0.22439000010490417,0.22439000010490417,-0.2116899937391281,-0.2116899937391281,-0.2116899937391281,-0.2116899937391281,-0.2116899937391281,-0.2116899937391281,-0.2116899937391281,-0.2116899937391281,-0.2116899937391281,-0.22871999442577362,-0.23212000727653503,-0.2502500116825104,-0.22223000228405,-0.24956999719142914,-0.23625999689102173,-0.2206300050020218,-0.2309899926185608,-0.21212999522686005,0.2378000020980835,0.25248000025749207,-0.2540299892425537,-0.2540299892425537,-0.2540299892425537,-0.2540299892425537,-0.2540299892425537,-0.2540299892425537,-0.2540299892425537,0.22503000497817993,0.22294999659061432,0.23329000174999237,0.21991999447345734,0.2302599996328354,0.2397100031375885,0.2247299998998642,0.21408000588417053,-0.23813000321388245,0.2020300030708313,-0.057440001517534256,0.15676000714302063,0.091559998691082,0.10014999657869339,0.07827000319957733,-0.06618999689817429,0.1812400072813034,0.19742999970912933,0.12011999636888504,0.08060000091791153,-0.030649999156594276,0.10678000003099442,0.24997000396251678,0.07472000271081924,0.1370999962091446,0.12971000373363495,-0.04129000008106232,-0.10216999799013138,0.07498999685049057,0.1899300068616867,0.24397000670433044,-0.08737000077962875,0.20541000366210938,-0.013930000364780426,-0.015270000323653221,-0.007969999685883522,0.03748999908566475,0.18278999626636505,0.0802299976348877,-0.06713999807834625,0.15241999924182892,0.2373100072145462,0.011099999770522118,0.17803999781608582,0.012769999913871288,0.24955999851226807,-0.17924000322818756,-0.131290003657341,0.19152000546455383,-0.007360000163316727,-0.22604000568389893,-0.09584999829530716,0.2419700026512146,0.20416000485420227,0.2517699897289276,-0.1775600016117096,0.11902999877929688,0.10700000077486038,0.04772000014781952,-0.019869999960064888,0.016909999772906303,0.1414799988269806,0.009239999577403069,-0.10121999680995941,-0.013000000268220901,0.17533999681472778,0.14507000148296356,0.24077999591827393,0.1103300005197525,0.05640000104904175,0.09832999855279922,0.038679998368024826,-0.1291400045156479,0.09895999729633331,-0.03725999966263771,-0.037060000002384186,0.22123000025749207,0.12166000157594681,-0.0321200005710125,0.2438499927520752,0.032260000705718994,-0.15102000534534454,0.23589999973773956,0.20350000262260437,0.001990000018849969,-0.15254999697208405,0.16452999413013458,0.21638000011444092,0.1941400021314621,0.19871999323368073,0.17570999264717102,0.050769999623298645,-0.024900000542402267,0.18601000308990479,0.14425000548362732,0.06919000297784805,0.055720001459121704,0.12671999633312225,-0.15230000019073486,0.24011999368667603,0.2150699943304062,0.1896599978208542,-0.14835000038146973,0.2348800003528595,0.20266999304294586,0.049570001661777496,-0.14962999522686005,0.133310005068779,-0.10454999655485153,0.026419999077916145,0.0735900029540062,0.11992000043392181,0.18219000101089478,-0.034370001405477524,0.14970000088214874,0.18402999639511108,0.22924000024795532,0.09578000009059906,-0.02751999907195568,0.11473000049591064,-0.09168999642133713,0.11159999668598175,0.061000000685453415,-0.08930999785661697,0.17125000059604645,0.15884999930858612,-0.12151999771595001,-0.20642000436782837,-0.1625099927186966,0.21344000101089478,0.14517000317573547,0.17690999805927277,0.006550000049173832,-0.1607699990272522,0.0185100007802248,-0.11512000113725662,0.1179800033569336,-0.01573999971151352,0.1942099928855896,0.015939999371767044,0.12197999656200409,0.1657799929380417,0.20100000500679016,-0.14098000526428223,0.017179999500513077,0.15526999533176422,0.20377999544143677,0.1762399971485138,0.045260000973939896,0.13282999396324158,0.12492000311613083,0.2300799936056137,0.12317000329494476,0.21111999452114105,-0.07453999668359756,-0.040369998663663864,0.1301099956035614,0.1925400048494339,0.09999000281095505,0.06071000173687935,0.06362000107765198,0.18143999576568604,0.24434000253677368,0.06610000133514404,0.0010100000072270632,0.042649999260902405,0.06360000371932983,-0.01355000026524067,0.21112999320030212,0.17770999670028687,0.21074000000953674,-0.016860000789165497,0.24628999829292297,0.10506000369787216,0.21003000438213348,0.15261000394821167,0.12208999693393707,0.2289000004529953,0.03101000003516674,0.1052199974656105,-0.05034999921917915,0.09151999652385712,0.15871000289916992,0.06129999831318855,-0.009139999747276306,0.20069000124931335,-0.021299999207258224,-0.11085999757051468,0.15219999849796295,0.24792000651359558,0.19187000393867493,0.11804000288248062,-0.020109999924898148,0.11585000157356262,0.20062999427318573,0.19573000073432922,-0.0721300020813942,-0.12011999636888504,-0.03195999935269356,-0.22155000269412994,0.25383999943733215,0.24628999829292297,0.25227001309394836,0.24767999351024628,0.24893000721931458,-0.21175000071525574,-0.03886999934911728,0.186939999461174,-0.2258799970149994,0.23923000693321228,-0.24365000426769257,-0.24793000519275665,-0.24472999572753906,-0.24403999745845795,0.1062999963760376,-0.2366199940443039,0.2540299892425537,0.2540299892425537,0.2540299892425537,0.2540299892425537,0.2540299892425537,0.2540299892425537,0.2540299892425537,-0.22880999743938446,-0.2533299922943115,-0.24455000460147858,-0.24950000643730164,-0.25303998589515686,-0.24754999577999115,-0.24854999780654907,-0.21431000530719757,-0.223130002617836,0.23070000112056732,0.13702000677585602,-0.0771699994802475,0.16101999580860138,0.15602999925613403,0.051660001277923584,0.056710001081228256,0.13544000685214996,0.22536000609397888,-0.2540299892425537,-0.2540299892425537,-0.2540299892425537,-0.2540299892425537,-0.2540299892425537,-0.2540299892425537,-0.2540299892425537,-0.23535999655723572,-0.23417000472545624,-0.23005999624729156,-0.22788000106811523,-0.24814000725746155,-0.23658999800682068,-0.24835999310016632,-0.23301999270915985,-0.2508699893951416,0.21821999549865723,0.2469100058078766,0.24925999343395233,0.23834000527858734,0.2504200041294098,0.2306700050830841,0.24383999407291412,0.218299999833107,0.24382999539375305,0.23270000517368317,0.23260000348091125,0.22975000739097595,-0.2540299892425537,-0.2540299892425537,-0.2540299892425537,-0.2540299892425537,-0.2540299892425537,-0.2540299892425537,-0.2540299892425537,-0.22454999387264252,-0.22990000247955322,0.22439000010490417,0.22439000010490417,0.22439000010490417,0.22439000010490417,0.22439000010490417,0.22439000010490417,0.22439000010490417,0.22439000010490417,0.22439000010490417,0.22439000010490417,0.22439000010490417,0.22439000010490417,0.2540299892425537,-0.2131900042295456,0.22439000010490417,0.22439000010490417,0.22439000010490417,0.22439000010490417,0.22439000010490417,0.22439000010490417,0.22439000010490417,0.22439000010490417,0.22439000010490417,-0.0715399980545044,0.241239994764328,0.22476999461650848,0.2253500074148178,0.24705000221729279,0.1794700026512146,0.21504999697208405,0.168380007147789,-0.07700999826192856,0.08350999653339386,0.03206999972462654,0.2540299892425537,0.23163999617099762,0.23528000712394714,0.03562000021338463,-0.13839000463485718,-0.16200999915599823,-0.01768999919295311,-0.1806199997663498,0.10389000177383423,-0.053289998322725296,0.25317999720573425,0.2540299892425537,0.2540299892425537,0.2540299892425537,0.2540299892425537,0.2540299892425537,0.2540299892425537,-0.2536599934101105,0.23987999558448792,-0.2295999974012375,-0.21827000379562378,-0.21397000551223755,-0.2305700033903122,-0.22326000034809113,-0.2224300056695938,-0.15716999769210815,-0.0949999988079071,-0.15238000452518463,-0.159170001745224,-0.11731000244617462,0.0528700016438961,-0.01810000091791153,-0.05894999951124191,-0.2203100025653839,-0.047129999846220016,-0.1384200006723404,-0.1995300054550171,0.008919999934732914,0.2484000027179718,0.2490600049495697,0.2463800013065338,0.24612000584602356,0.2540299892425537,0.2540299892425537,0.2540299892425537,0.2540299892425537,0.2540299892425537,0.2540299892425537,0.2540299892425537,0.2540299892425537,0.2540299892425537,0.2540299892425537,0.2540299892425537,0.2540299892425537,0.2540299892425537,0.2540299892425537,0.2540299892425537,0.2540299892425537,-0.24045999348163605,0.22592000663280487,0.24216000735759735,0.24020999670028687,0.22746999561786652,0.23356999456882477,0.24875999987125397,0.23277999460697174,0.2235099971294403,0.24796000123023987,0.09561000019311905,-0.159170001745224,-0.1120700016617775,-0.0457100011408329,0.0038499999791383743,0.020309999585151672,-0.004720000084489584,0.2456900030374527,0.25367000699043274,0.24993999302387238,0.2521600127220154,-0.23397000133991241,-0.2276500016450882,-0.225040003657341,-0.230320006608963,-0.2443300038576126,-0.24003000557422638,-0.2480500042438507,-0.23879000544548035,0.13073000311851501,0.05479000136256218,-0.13461999595165253,-0.18359999358654022,-0.1098800003528595,0.04625999927520752,-0.15500999987125397,-0.07152999937534332,-0.24368000030517578,-0.0845400020480156,-0.24071000516414642,-0.091279998421669,0.04049000144004822,-0.19006000459194183,0.03798000141978264,-0.1368899941444397,0.001610000035725534,-0.11219000071287155,-0.023840000852942467,-0.18774999678134918,-0.1725900024175644,0.060770001262426376,-0.11802999675273895,-0.062460001558065414,-0.056049998849630356,-0.13558000326156616,0.026729999110102654,-0.19999000430107117,-0.1341100037097931,-0.08167000114917755,-0.2259799987077713,-0.25088998675346375,-0.12997999787330627,-0.09043999761343002,-0.025459999218583107,-0.25005999207496643,-0.06289999932050705,0.18007999658584595,0.033309999853372574,0.14905999600887299,0.09397000074386597,-0.015150000341236591,-0.05697000026702881,0.04448999837040901,0.04162999987602234,-0.1828099936246872,-0.22723999619483948,-0.04100000113248825,-0.22081999480724335,-0.23247000575065613,-0.2188200056552887,0.007029999978840351,-0.11441999673843384,-0.06069999933242798,-0.2224999964237213,-0.07220999896526337,-0.1312599927186966,0.05973000079393387,0.025860000401735306,-0.013949999585747719,0.08532000333070755,-0.15410999953746796,0.03943999856710434,0.017069999128580093,-0.1581300050020218,-0.15118999779224396,0.15212999284267426,-0.19253000617027283,0.13669000566005707,-0.16978000104427338,-0.21448999643325806,-0.02401999942958355,0.03175000101327896,-0.18986999988555908,-0.16101999580860138,-0.12578000128269196,-0.045820001512765884,0.03347000107169151,-0.06136000156402588,-0.10162000358104706,-0.24492999911308289,-0.1480100005865097,-0.09164000302553177,-0.12073999643325806,-0.05437999963760376,-0.16348999738693237,-0.2016499936580658,-0.18429000675678253,0.05147000029683113,-0.15845000743865967,-0.10813000053167343,-0.10385999828577042,0.1350799947977066,-0.23122000694274902,0.008270000107586384,-0.19723999500274658,-0.23407000303268433,-0.1433199942111969,0.01013999991118908,-0.20434999465942383,-0.18026000261306763,-0.2422800064086914,-0.12312000244855881,-0.2213200032711029,0.0026400000788271427,-0.1765500009059906,-0.20951999723911285,-0.11441999673843384,-0.1920900046825409,-0.07601000368595123,0.1062299981713295,0.03172999992966652,-0.11033999919891357,-0.0783500000834465,-0.05665000155568123,-0.11840000003576279,-0.2094999998807907,-0.066880002617836,-0.21753999590873718,0.11410000175237656,-0.1635199934244156,0.1239200010895729,-0.03010999970138073,-0.04210999980568886,-0.23844000697135925,-0.13165000081062317,-0.03748999908566475,-0.2337300032377243,0.0743200033903122,-0.14621999859809875,-0.23284000158309937,-0.06084999814629555,-0.15386000275611877,-0.20633000135421753,0.1050800010561943,-0.2116899937391281,0.05651000142097473,-0.06657999753952026,-0.16277000308036804,-0.036309998482465744,-0.24318000674247742,0.11738000065088272,-0.23433999717235565,-0.02889000065624714,-0.20969000458717346,-0.06394000351428986,-0.14110000431537628,-0.2377600073814392,-0.20155000686645508,-0.21352000534534454,0.0670199990272522,-0.17297999560832977,-0.009809999726712704,0.015799999237060547,-0.08109000325202942,-0.2365500032901764,-0.2156600058078766,-0.18953000009059906,-0.015469999983906746,-0.029729999601840973,-0.09455999732017517,0.0802299976348877,-0.22961999475955963,-0.23025000095367432,-0.16027000546455383,-0.10939999669790268,-0.21153999865055084,-0.02174999937415123,0.06249000132083893,-0.145579993724823,-0.2046400010585785,0.06168000027537346,-0.006260000169277191,0.07035999745130539,-0.09286999702453613,-0.24905000627040863,-0.06498000025749207,-0.21525999903678894,-0.23718999326229095,-0.1254899948835373,-0.2012300044298172,0.004410000052303076,-0.14263999462127686,0.04470000043511391,-0.23113000392913818,-0.04975000023841858,-0.023509999737143517,-0.16372999548912048,-0.1134599968791008,-0.031029999256134033,-0.11845999956130981,-0.22192999720573425,0.0789399966597557,-0.057840000838041306,0.13253000378608704,-0.19076000154018402,-0.07126999646425247,-0.24817000329494476,-0.12594999372959137,-0.03308999910950661,-0.15610000491142273,-0.00011000000085914508,0.1312199980020523,-0.16242000460624695,-0.24050000309944153,-0.24658000469207764,-0.2429800033569336,-0.24626000225543976,-0.21908000111579895,-0.24000999331474304,-0.23428000509738922,-0.25146999955177307,-0.2424899935722351,-0.22865000367164612,-0.22902999818325043,-0.22822000086307526,-0.2261199951171875,-0.2246900051832199,-0.22978000342845917,-0.22542999684810638,-0.2116899937391281,-0.2116899937391281,-0.2116899937391281,-0.2116899937391281,-0.2116899937391281,-0.2116899937391281,-0.2116899937391281,-0.2540299892425537,0.17152999341487885,0.07722999900579453,0.17207999527454376,0.09474000334739685,0.050599999725818634,0.22191999852657318,0.15681999921798706,-0.12804000079631805,-0.06503000110387802,0.026119999587535858,0.05262000113725662,0.20255999267101288,0.06558000296354294,0.12383999675512314,-0.018880000337958336,0.13243000209331512,0.16017000377178192,0.21788999438285828,0.026329999789595604,0.17315000295639038,0.08134999871253967,0.1799899935722351,-0.17757999897003174,0.1788100004196167,0.06084999814629555,0.012430000118911266,0.21956999599933624,0.08100000023841858,0.019589999690651894,0.12533000111579895,0.13274000585079193,0.16147999465465546,-0.07169999927282333,0.09974999725818634,0.11044999957084656,-0.05621999874711037,0.15060000121593475,0.018629999831318855,0.029980000108480453,0.09555000066757202,0.028610000386834145,0.21007999777793884,-9.999999747378752e-05,0.1808300018310547,0.04318000003695488,-0.010040000081062317,0.11720000207424164,0.06474000215530396,0.032680001109838486,0.2008499950170517,0.14544999599456787,0.05623000115156174,0.1318800002336502,0.0925000011920929,-0.07395000010728836,0.13615000247955322,0.0979200005531311,0.021709999069571495,0.08363000303506851,0.05573999881744385,0.11963000148534775,0.13334999978542328,0.15602000057697296,0.09773000329732895,0.05559999868273735,0.021849999204277992,0.20322999358177185,-0.05583000183105469,-0.07559999823570251,0.19415999948978424,0.05781000107526779,-0.00788000039756298,0.12270999699831009,0.13161000609397888,-0.06663999706506729,0.0522800013422966,0.08194000273942947,0.16593000292778015,-0.1214200034737587,0.10210999846458435,-0.002839999971911311,-0.00750999990850687,0.1418199986219406,0.03547000139951706,0.17371000349521637,0.058559998869895935,0.023760000243782997,0.20366999506950378,0.1015700027346611,0.15334999561309814,-0.08410000056028366,0.04729999974370003,0.21965999901294708,0.052639998495578766,-0.14455999433994293,0.12030000239610672,0.0050200000405311584,-0.053950000554323196,0.17570999264717102,0.13806000351905823,0.02068999968469143,0.07163000106811523,0.020090000703930855,0.18006999790668488,-0.01606000028550625,0.16218000650405884,0.041829999536275864,-0.04992000013589859,-0.12818999588489532,0.07479000091552734,0.08521000295877457,-0.05609999969601631,0.13369999825954437,0.022430000826716423,0.16335999965667725,0.11492999643087387,0.14597000181674957,0.11322999745607376,0.10958000272512436,0.2170500010251999,0.01679999940097332,0.19923999905586243,0.0961500033736229,0.017659999430179596,0.16276000440120697,0.08991999924182892,0.21974000334739685,0.0917700007557869,0.18964999914169312,0.1755400002002716,0.09677000343799591,-0.07297000288963318,0.1593800038099289,0.11087000370025635,-0.14837999641895294,0.1154400035738945,0.0742499977350235,0.019109999760985374,-0.13853000104427338,-0.2011599987745285,0.2132599949836731,0.1926800012588501,0.04749000072479248,0.06550999730825424,0.10868000239133835,-0.1277099996805191,0.05803000181913376,0.012409999966621399,-0.03711999952793121,0.0740400031208992,0.057760000228881836,0.06007999926805496,0.13885000348091125,0.2046699970960617,0.16408999264240265,0.051979999989271164,-0.06423000246286392,0.17250999808311462,0.19485999643802643,0.0001900000061141327,0.0938899964094162,-0.01933000050485134,0.03229000046849251,0.13075000047683716,0.026820000261068344,-0.1733900010585785,0.23190000653266907,-0.24126000702381134,-0.24546000361442566,-0.23770999908447266,-0.25169000029563904,-0.2460400015115738,-0.2508000135421753,-0.2371000051498413,-0.24445000290870667,-0.25262999534606934,0.22065000236034393,0.24070000648498535,0.22201000154018402,0.2179899960756302,0.21647000312805176,0.21496999263763428,0.23577000200748444,0.2328599989414215,0.2328599989414215,0.2328599989414215,0.2328599989414215,0.2328599989414215,0.2328599989414215,0.2328599989414215,0.2328599989414215,0.2328599989414215,0.2328599989414215,0.2328599989414215,0.2455900013446808,0.24542999267578125,0.24437999725341797,0.22693000733852386,0.23810000717639923,0.2453099936246872,0.22690999507904053,0.24390999972820282,0.24804000556468964,-0.25402000546455383,0.2376900017261505,0.249439999461174,0.25110000371932983,0.23833000659942627,0.24557000398635864,0.23025000095367432,0.21946999430656433,0.23512999713420868,0.2309200018644333,0.21207000315189362,0.2302599996328354,0.21626000106334686,0.23678000271320343,0.21855999529361725,0.23934000730514526,0.23841999471187592,0.21930000185966492,-0.23165999352931976,-0.22142000496387482,-0.22497999668121338,-0.22040000557899475,-0.21570999920368195,-0.21728000044822693,-0.21554000675678253,0.24129000306129456,-0.2540299892425537,-0.2540299892425537,-0.2540299892425537,-0.2540299892425537,-0.2540299892425537,-0.2540299892425537,-0.2540299892425537,-0.2540299892425537,-0.22439000010490417,-0.22439000010490417,-0.22439000010490417,-0.22439000010490417,-0.22439000010490417,-0.22439000010490417,-0.22439000010490417,-0.22439000010490417,-0.22439000010490417,-0.22439000010490417,-0.22439000010490417,-0.16321000456809998,-0.2002599984407425,-0.1019200012087822,0.01128000020980835,-0.12871000170707703,-0.030220000073313713,-0.10599000006914139,0.22633999586105347,-0.23160000145435333,-0.2537199854850769,-0.2534700036048889,-0.2486799955368042,-0.2502500116825104,-0.24824999272823334,-0.2511500120162964,-0.22940999269485474,-0.08421999961137772,-0.2540299892425537,-0.2540299892425537,-0.2540299892425537,-0.2540299892425537,-0.2540299892425537,-0.2540299892425537,-0.2540299892425537,-0.2540299892425537,0.2116899937391281,0.2116899937391281,0.2116899937391281,0.2116899937391281,0.2116899937391281,0.2116899937391281,0.2116899937391281,-0.12530000507831573,-0.06518000364303589,0.22536000609397888,-0.2463800013065338,-0.2391899973154068,-0.23582999408245087,-0.22408999502658844,-0.2190299928188324,-0.248539999127388,-0.2440200001001358,-0.2116899937391281,-0.2116899937391281,-0.2116899937391281,-0.2116899937391281,-0.2116899937391281,-0.2116899937391281,-0.2116899937391281,-0.2116899937391281,0.23261000216007233,0.22909000515937805,0.24110999703407288,0.23431000113487244,-0.21177999675273895,0.24664999544620514,0.2488899976015091,0.23389999568462372,0.23600000143051147,0.25108999013900757,0.24079999327659607,0.23917999863624573,-0.2532599866390228,0.1855500042438507,0.07357999682426453,0.02443999983370304,0.13443000614643097,0.2105800062417984,-0.22439000010490417,-0.22439000010490417,-0.22439000010490417,-0.22439000010490417,-0.22439000010490417,-0.22439000010490417,-0.22439000010490417,-0.22439000010490417,-0.22439000010490417,-0.22439000010490417,-0.22439000010490417,-0.23792999982833862,0.22481000423431396,0.22923000156879425,0.1404699981212616,0.05631000176072121,0.1234000027179718,-0.07900000363588333,0.192440003156662,-0.02686999924480915,0.21065999567508698,0.2116899937391281,0.2116899937391281,0.2116899937391281,0.2116899937391281,0.2116899937391281,0.2116899937391281,0.2116899937391281],\"y\":[0.10795000195503235,0.18219000101089478,0.19381000101566315,0.18397000432014465,0.1844100058078766,0.19086000323295593,0.19627000391483307,0.1816300004720688,0.1816300004720688,0.1816300004720688,0.1816300004720688,0.1816300004720688,-0.11632999777793884,0.04529000073671341,0.037289999425411224,-0.09504999965429306,0.1783899962902069,0.14154000580310822,-0.12756000459194183,0.15317000448703766,0.0863099992275238,0.10453999787569046,0.15198999643325806,0.15198999643325806,0.15198999643325806,-0.19867999851703644,0.17207999527454376,0.17847999930381775,0.17012999951839447,0.17844000458717346,0.17193999886512756,0.17874999344348907,0.18021999299526215,0.17892999947071075,0.17994999885559082,0.1692499965429306,0.17069000005722046,0.0481100007891655,-0.00761000020429492,0.004550000187009573,-0.12408000230789185,0.17159000039100647,-0.0007900000200606883,0.1410199999809265,0.04949000105261803,0.17910000681877136,0.13609999418258667,0.14044000208377838,0.14347000420093536,-0.08324000239372253,-0.036410000175237656,-0.048820000141859055,-0.0699400007724762,0.06021999940276146,0.09245999902486801,0.18036000430583954,0.1816300004720688,0.1816300004720688,-0.0007699999841861427,0.043949998915195465,0.05392000079154968,0.09036999940872192,0.07181999832391739,0.054030001163482666,0.13922999799251556,0.08750999718904495,-0.053029999136924744,0.1816300004720688,0.1816300004720688,0.15198999643325806,0.15198999643325806,0.15520000457763672,0.1520400047302246,0.15892000496387482,0.17156000435352325,0.15320000052452087,0.15561999380588531,0.1612199991941452,0.16112999618053436,0.1750900000333786,0.15639999508857727,0.16993999481201172,0.1816300004720688,0.1816300004720688,0.1816300004720688,0.1816300004720688,0.1816300004720688,0.1816300004720688,0.17513999342918396,0.17622999846935272,0.17764000594615936,0.15467999875545502,0.16007000207901,0.18080000579357147,0.16987000405788422,0.1728000044822693,0.1799200028181076,0.1561499983072281,0.18066999316215515,0.1725900024175644,0.18036000430583954,0.01606000028550625,0.18036000430583954,0.06233000010251999,-0.13968999683856964,0.037459999322891235,0.05948999896645546,-0.13327999413013458,-0.08083000034093857,-0.10792999714612961,-0.017149999737739563,-0.16346000134944916,-0.036010000854730606,0.1816300004720688,0.1816300004720688,0.1816300004720688,0.1816300004720688,0.1816300004720688,-0.20068000257015228,0.18036000430583954,0.1863899976015091,0.1865600049495697,0.19286000728607178,0.19800999760627747,0.18615999817848206,0.18925000727176666,0.1919800043106079,0.18294000625610352,0.18528999388217926,0.1816300004720688,0.1816300004720688,0.1816300004720688,0.18036000430583954,0.15198999643325806,0.15198999643325806,0.15198999643325806,0.15198999643325806,0.17844000458717346,-0.09854999929666519,0.1656399965286255,0.13203999400138855,0.17191000282764435,0.05279000103473663,0.15428000688552856,0.013629999943077564,0.1816300004720688,0.1816300004720688,0.1816300004720688,0.1816300004720688,0.17414000630378723,0.1578100025653839,0.1669899970293045,0.1764499992132187,0.1739100068807602,0.16192999482154846,0.1816300004720688,0.1816300004720688,0.0589199997484684,0.18036000430583954,0.17137999832630157,0.1816300004720688,0.08010999858379364,0.07530000060796738,0.13460999727249146,0.16060000658035278,0.1273300051689148,0.06474000215530396,0.11960999667644501,-0.0065299998968839645,0.11078000068664551,-0.004040000028908253,-0.0026400000788271427,0.13951000571250916,0.10055000334978104,-0.07041999697685242,0.05982999876141548,0.0917000025510788,0.16336999833583832,0.01448999997228384,-0.02491999976336956,-0.047690000385046005,-0.09894999861717224,-0.1416500061750412,-0.12223000079393387,0.029829999431967735,-0.09027999639511108,-0.06063999980688095,-0.20068000257015228,0.1816300004720688,0.1816300004720688,0.1816300004720688,0.1816300004720688,0.1816300004720688,0.18036000430583954,0.15198999643325806,0.15198999643325806,0.1816300004720688,0.1816300004720688,0.15198999643325806,0.15198999643325806,0.15198999643325806,0.18036000430583954,0.1816300004720688,0.1816300004720688,0.1816300004720688,0.07797999680042267,0.1816300004720688,-0.07996000349521637,0.20068000257015228,0.20068000257015228,0.20068000257015228,0.20068000257015228,0.20068000257015228,0.20068000257015228,0.20068000257015228,0.20068000257015228,0.20068000257015228,0.20068000257015228,0.20068000257015228,0.20068000257015228,0.20068000257015228,0.20068000257015228,0.20068000257015228,0.20068000257015228,0.20068000257015228,0.20068000257015228,0.20068000257015228,0.20068000257015228,0.20068000257015228,0.20068000257015228,0.20068000257015228,0.20068000257015228,0.20068000257015228,0.20068000257015228,0.20068000257015228,0.20068000257015228,0.20068000257015228,0.20068000257015228,0.20068000257015228,0.20068000257015228,0.20068000257015228,0.20068000257015228,0.20068000257015228,0.20068000257015228,0.20068000257015228,0.20068000257015228,0.20068000257015228,0.20068000257015228,0.20068000257015228,0.20068000257015228,0.20068000257015228,0.20068000257015228,0.20068000257015228,0.20068000257015228,0.20068000257015228,0.20068000257015228,0.20068000257015228,0.20068000257015228,0.20068000257015228,0.20068000257015228,0.20068000257015228,0.20068000257015228,0.20068000257015228,0.20068000257015228,0.20068000257015228,0.20068000257015228,0.20068000257015228,0.20068000257015228,0.20068000257015228,0.20068000257015228,0.20068000257015228,0.20068000257015228,0.20068000257015228,0.20068000257015228,0.20068000257015228,0.20068000257015228,0.20068000257015228,0.20068000257015228,0.20068000257015228,0.20068000257015228,0.20068000257015228,0.20068000257015228,0.20068000257015228,0.20068000257015228,0.20068000257015228,0.20068000257015228,0.20068000257015228,0.20068000257015228,0.20068000257015228,0.20068000257015228,0.20068000257015228,0.20068000257015228,0.20068000257015228,0.20068000257015228,0.20068000257015228,0.20068000257015228,0.20068000257015228,0.20068000257015228,0.20068000257015228,0.20068000257015228,0.20068000257015228,0.20068000257015228,0.20068000257015228,0.20068000257015228,0.20068000257015228,0.20068000257015228,0.20068000257015228,0.20068000257015228,0.20068000257015228,0.20068000257015228,0.20068000257015228,0.20068000257015228,0.20068000257015228,0.20068000257015228,0.20068000257015228,0.20068000257015228,0.20068000257015228,0.20068000257015228,0.20068000257015228,0.20068000257015228,0.20068000257015228,0.20068000257015228,0.20068000257015228,0.20068000257015228,0.20068000257015228,0.20068000257015228,0.20068000257015228,0.20068000257015228,0.20068000257015228,0.20068000257015228,0.20068000257015228,0.20068000257015228,0.20068000257015228,0.20068000257015228,0.20068000257015228,0.20068000257015228,0.20068000257015228,0.20068000257015228,0.20068000257015228,0.20068000257015228,0.20068000257015228,0.20068000257015228,0.20068000257015228,0.20068000257015228,0.20068000257015228,0.20068000257015228,0.20068000257015228,0.20068000257015228,0.20068000257015228,0.20068000257015228,0.20068000257015228,0.20068000257015228,0.20068000257015228,0.20068000257015228,0.20068000257015228,0.20068000257015228,0.20068000257015228,0.20068000257015228,0.20068000257015228,0.20068000257015228,0.20068000257015228,0.20068000257015228,0.20068000257015228,0.20068000257015228,0.20068000257015228,0.20068000257015228,0.20068000257015228,0.20068000257015228,0.20068000257015228,0.20068000257015228,0.20068000257015228,0.20068000257015228,0.20068000257015228,0.20068000257015228,0.20068000257015228,0.20068000257015228,0.20068000257015228,0.20068000257015228,0.20068000257015228,0.20068000257015228,0.20068000257015228,0.20068000257015228,0.20068000257015228,0.20068000257015228,0.20068000257015228,0.20068000257015228,0.20068000257015228,0.20068000257015228,0.20068000257015228,0.20068000257015228,0.20068000257015228,0.20068000257015228,0.20068000257015228,0.20068000257015228,0.20068000257015228,0.20068000257015228,0.20068000257015228,0.20068000257015228,0.20068000257015228,0.20068000257015228,0.20068000257015228,0.20068000257015228,0.20068000257015228,0.20068000257015228,0.20068000257015228,0.20068000257015228,0.20068000257015228,0.20068000257015228,0.20068000257015228,0.20068000257015228,0.20068000257015228,0.20068000257015228,0.20068000257015228,0.20068000257015228,0.20068000257015228,0.20068000257015228,0.20068000257015228,0.20068000257015228,0.20068000257015228,0.20068000257015228,0.20068000257015228,0.20068000257015228,0.20068000257015228,0.20068000257015228,0.17340999841690063,0.18152999877929688,0.16016000509262085,0.18052999675273895,0.17784999310970306,0.1696300059556961,0.16891999542713165,0.17621999979019165,0.1816300004720688,-0.20068000257015228,0.1816300004720688,-0.10287000238895416,-0.0019099999917671084,-0.1965000033378601,-0.0573900006711483,-0.020169999450445175,-0.13143999874591827,-0.16147999465465546,-0.1896599978208542,0.1816300004720688,0.1816300004720688,0.03753000125288963,-0.08641000092029572,-0.03976000100374222,-0.10768000036478043,-0.12499000132083893,0.12775999307632446,-0.1704699993133545,-0.18045000731945038,0.18036000430583954,0.1816300004720688,0.1816300004720688,-0.1938299983739853,-0.0703900009393692,-0.10317999869585037,-0.11625999957323074,0.011869999580085278,-0.1299699991941452,-0.10305000096559525,0.05835999920964241,0.1742199957370758,0.15198999643325806,0.15198999643325806,0.1816300004720688,0.18036000430583954,0.18036000430583954,0.1977500021457672,0.19513000547885895,0.20020000636577606,0.19981999695301056,0.1978600025177002,0.1968500018119812,0.1816300004720688,0.1816300004720688,0.05319000035524368,-0.15338000655174255,-0.07743000239133835,0.08412999659776688,-0.028540000319480896,-0.1901099979877472,-0.049559999257326126,-0.045079998672008514,0.04222999885678291,0.18177999556064606,0.19666999578475952,0.19434000551700592,0.18953999876976013,0.1905599981546402,0.19392000138759613,0.19413000345230103,0.18671000003814697,0.19684000313282013,0.1816300004720688,0.1816300004720688,0.17942999303340912,0.1816300004720688,0.1816300004720688,0.13765999674797058,-0.020190000534057617,0.009309999644756317,-0.057750001549720764,0.1359899938106537,0.08888000249862671,-0.11744999885559082,0.09939000010490417,0.15366999804973602,-0.20068000257015228,0.20068000257015228,0.20068000257015228,0.20068000257015228,0.20068000257015228,0.20068000257015228,0.20068000257015228,0.20068000257015228,0.20068000257015228,0.20068000257015228,0.20068000257015228,0.20068000257015228,0.20068000257015228,0.20068000257015228,0.20068000257015228,0.20068000257015228,0.20068000257015228,0.20068000257015228,0.20068000257015228,0.20068000257015228,0.20068000257015228,0.20068000257015228,0.20068000257015228,0.20068000257015228,0.20068000257015228,0.20068000257015228,0.20068000257015228,0.20068000257015228,0.20068000257015228,0.20068000257015228,0.20068000257015228,0.20068000257015228,0.20068000257015228,0.20068000257015228,0.20068000257015228,0.20068000257015228,0.20068000257015228,0.20068000257015228,0.20068000257015228,0.20068000257015228,0.20068000257015228,0.20068000257015228,0.20068000257015228,0.20068000257015228,0.20068000257015228,0.20068000257015228,0.20068000257015228,0.20068000257015228,0.20068000257015228,0.20068000257015228,0.20068000257015228,0.20068000257015228,0.20068000257015228,0.20068000257015228,0.20068000257015228,0.20068000257015228,0.20068000257015228,0.20068000257015228,0.20068000257015228,0.20068000257015228,0.20068000257015228,0.20068000257015228,0.20068000257015228,0.20068000257015228,0.20068000257015228,0.20068000257015228,0.20068000257015228,0.20068000257015228,0.20068000257015228,0.20068000257015228,0.20068000257015228,0.20068000257015228,0.20068000257015228,0.20068000257015228,0.20068000257015228,0.20068000257015228,0.20068000257015228,0.20068000257015228,0.20068000257015228,0.20068000257015228,0.20068000257015228,0.20068000257015228,0.20068000257015228,0.20068000257015228,0.20068000257015228,0.20068000257015228,0.20068000257015228,0.20068000257015228,0.20068000257015228,0.20068000257015228,0.20068000257015228,0.20068000257015228,0.20068000257015228,0.20068000257015228,0.20068000257015228,0.20068000257015228,0.20068000257015228,0.20068000257015228,0.20068000257015228,0.20068000257015228,0.20068000257015228,0.20068000257015228,0.20068000257015228,0.20068000257015228,0.20068000257015228,0.20068000257015228,0.20068000257015228,0.20068000257015228,0.20068000257015228,0.20068000257015228,0.20068000257015228,0.20068000257015228,0.20068000257015228,0.20068000257015228,0.20068000257015228,0.20068000257015228,0.20068000257015228,0.20068000257015228,0.20068000257015228,0.20068000257015228,0.20068000257015228,0.20068000257015228,0.20068000257015228,0.20068000257015228,0.20068000257015228,0.20068000257015228,0.20068000257015228,0.20068000257015228,0.20068000257015228,0.20068000257015228,0.20068000257015228,0.20068000257015228,0.20068000257015228,0.20068000257015228,0.20068000257015228,0.20068000257015228,0.20068000257015228,0.20068000257015228,0.20068000257015228,0.20068000257015228,0.20068000257015228,0.20068000257015228,0.20068000257015228,0.20068000257015228,0.20068000257015228,0.20068000257015228,0.20068000257015228,0.20068000257015228,0.20068000257015228,0.20068000257015228,0.20068000257015228,0.20068000257015228,0.20068000257015228,0.20068000257015228,0.20068000257015228,0.20068000257015228,0.20068000257015228,0.20068000257015228,0.20068000257015228,0.20068000257015228,0.20068000257015228,0.20068000257015228,0.20068000257015228,0.20068000257015228,0.20068000257015228,0.20068000257015228,0.20068000257015228,0.20068000257015228,0.20068000257015228,0.20068000257015228,0.20068000257015228,0.20068000257015228,0.20068000257015228,0.20068000257015228,0.20068000257015228,0.20068000257015228,0.20068000257015228,0.20068000257015228,0.20068000257015228,0.20068000257015228,0.20068000257015228,0.20068000257015228,0.20068000257015228,0.20068000257015228,0.20068000257015228,0.20068000257015228,0.20068000257015228,0.20068000257015228,0.20068000257015228,0.20068000257015228,0.20068000257015228,0.20068000257015228,0.20068000257015228,0.20068000257015228,0.20068000257015228,0.20068000257015228,0.20068000257015228,0.20068000257015228,0.20068000257015228,0.20068000257015228,0.20068000257015228,0.20068000257015228,0.20068000257015228,0.20068000257015228,0.20068000257015228,0.20068000257015228,0.20068000257015228,0.20068000257015228,0.20068000257015228,0.20068000257015228,0.20068000257015228,0.20068000257015228,0.20068000257015228,0.20068000257015228,0.20068000257015228,0.20068000257015228,0.20068000257015228,0.20068000257015228,0.20068000257015228,0.20068000257015228,0.20068000257015228,0.1816300004720688,0.1816300004720688,-0.16896000504493713,-0.030710000544786453,-0.18940000236034393,-0.054019998759031296,-0.13921000063419342,-0.1904599964618683,-0.1625099927186966,-0.1725199967622757,0.017960000783205032,0.020570000633597374,0.06812000274658203,0.029929999262094498,-0.18633000552654266,-0.1486400067806244,-0.08648999780416489,-0.16103999316692352,-0.16991999745368958,-0.04019999876618385,0.1120700016617775,-0.03547000139951706,0.061569999903440475,-0.030230000615119934,-0.037039998918771744,0.009170000441372395,0.1157199963927269,0.10117000341415405,0.1816300004720688,0.1816300004720688,0.1816300004720688,0.18036000430583954,0.17674000561237335,0.17459000647068024,0.17111000418663025,0.16619999706745148,0.1814199984073639,0.16193999350070953,0.17333999276161194,0.18015000224113464,0.1779399961233139,0.17175999283790588,0.16759000718593597,0.15198999643325806,0.15198999643325806,-0.06797000020742416,0.10436999797821045,0.06911999732255936,0.10202000290155411,0.006850000005215406,0.15463000535964966,0.17069000005722046,-0.08096999675035477,0.1816300004720688,-0.20068000257015228,0.15853999555110931,0.1794700026512146,0.1785999983549118,0.1709900051355362,0.17937999963760376,0.18010999262332916,0.16899000108242035,0.16347000002861023,0.1656699925661087,0.1623300015926361,0.1620199978351593,0.1591300070285797,0.06894999742507935,0.16425000131130219,-0.035610001534223557,-0.09577000141143799,-0.1172500029206276,-0.09661000221967697,0.024560000747442245,0.09121000021696091,0.10141000151634216,-0.0236200001090765,-0.19148999452590942,-0.03728000074625015,-0.10299000144004822,-0.1550299972295761,-0.17586000263690948,0.1816300004720688,-0.17235000431537628,0.11522000283002853,-0.0771699994802475,0.08563999831676483,-0.08335000276565552,0.17506000399589539,0.15625,-0.07237999886274338,0.14648999273777008,-0.09560000151395798,0.1766899973154068,0.17431999742984772,0.17217999696731567,0.1766500025987625,0.1765100061893463,0.1808999925851822,0.17048999667167664,0.1715099960565567,0.17794999480247498,0.17815999686717987,0.16941000521183014,0.17818999290466309,0.17693999409675598,0.15928000211715698,0.16218000650405884,0.15313999354839325,0.1699099987745285,0.1650799959897995,0.15323999524116516,0.15220999717712402,-0.20068000257015228,0.1816300004720688,-0.20068000257015228,-0.20068000257015228,0.08285000175237656,-0.20068000257015228,0.1816300004720688,0.1816300004720688,0.1816300004720688,0.1816300004720688,0.1816300004720688,0.1816300004720688,0.1816300004720688,0.1816300004720688,0.1816300004720688,0.1816300004720688,0.1816300004720688,0.1816300004720688,0.1816300004720688,0.1816300004720688,0.1816300004720688,0.1816300004720688,0.1816300004720688,0.1816300004720688,0.1816300004720688,0.1816300004720688,0.1816300004720688,0.1816300004720688,0.1816300004720688,0.1816300004720688,0.1816300004720688,0.1816300004720688,0.1816300004720688,0.1816300004720688,0.1816300004720688,0.1816300004720688,0.1816300004720688,0.1816300004720688,0.1816300004720688,0.1816300004720688,0.1816300004720688,0.1816300004720688,0.1816300004720688,0.1816300004720688,0.1816300004720688,0.1816300004720688,0.1816300004720688,0.1816300004720688,0.1816300004720688,0.1816300004720688,0.1816300004720688,0.1816300004720688,0.1816300004720688,0.1816300004720688,0.1816300004720688,0.1816300004720688,0.1816300004720688,0.1816300004720688,0.1816300004720688,0.1816300004720688,0.1816300004720688,0.1816300004720688,0.1816300004720688,0.1816300004720688,0.1816300004720688,0.1816300004720688,0.1816300004720688,0.1816300004720688,0.1816300004720688,0.1816300004720688,0.1816300004720688,0.1816300004720688,0.1816300004720688,0.1816300004720688,0.1816300004720688,0.1816300004720688,0.1816300004720688,0.1816300004720688,0.1816300004720688,0.1816300004720688,0.1816300004720688,0.1816300004720688,0.1816300004720688,0.1816300004720688,0.1816300004720688,0.1816300004720688,0.1816300004720688,0.1816300004720688,0.1816300004720688,0.1816300004720688,0.1816300004720688,0.1816300004720688,0.1816300004720688,0.1816300004720688,0.1816300004720688,0.1816300004720688,0.1816300004720688,0.1816300004720688,0.1816300004720688,0.1816300004720688,0.1816300004720688,0.1816300004720688,0.1816300004720688,0.1816300004720688,0.1816300004720688,0.1816300004720688,0.1816300004720688,0.1816300004720688,0.1816300004720688,0.1816300004720688,0.1816300004720688,0.1816300004720688,0.1816300004720688,0.1816300004720688,0.1816300004720688,0.1816300004720688,0.1816300004720688,0.1816300004720688,0.1816300004720688,0.1816300004720688,0.1816300004720688,0.1816300004720688,0.1816300004720688,0.1816300004720688,0.1816300004720688,0.1816300004720688,0.1816300004720688,0.1816300004720688,0.1816300004720688,0.1816300004720688,0.1816300004720688,0.1816300004720688,0.1816300004720688,0.1816300004720688,0.1816300004720688,0.1816300004720688,0.1816300004720688,0.1816300004720688,0.1816300004720688,0.1816300004720688,0.1816300004720688,0.1816300004720688,0.1816300004720688,0.1816300004720688,0.1816300004720688,0.1816300004720688,0.1816300004720688,0.1816300004720688,0.1816300004720688,0.1816300004720688,0.1816300004720688,0.1816300004720688,0.1816300004720688,0.1816300004720688,0.1816300004720688,0.1816300004720688,0.1816300004720688,0.1816300004720688,0.1816300004720688,0.1816300004720688,0.1816300004720688,0.1816300004720688,0.1816300004720688,0.1816300004720688,0.1816300004720688,0.1816300004720688,0.1816300004720688,0.1816300004720688,0.1816300004720688,0.1816300004720688,0.1816300004720688,0.1816300004720688,0.1816300004720688,0.1816300004720688,0.1816300004720688,0.1816300004720688,0.1816300004720688,0.1816300004720688,0.1816300004720688,0.1816300004720688,0.1816300004720688,0.1816300004720688,0.1816300004720688,0.1816300004720688,0.1816300004720688,0.1816300004720688,0.1816300004720688,0.1816300004720688,0.1816300004720688,0.1816300004720688,0.1816300004720688,0.1816300004720688,0.1816300004720688,0.1816300004720688,0.15198999643325806,0.15198999643325806,0.1816300004720688,0.16779999434947968,0.16015000641345978,0.051649998873472214,0.061879999935626984,0.0773100033402443,0.06055000051856041,-0.07461000233888626,-0.12826000154018402,0.14119000732898712,0.18268999457359314,0.19137999415397644,0.1861400008201599,0.18783000111579895,0.1868000030517578,0.19235000014305115,0.16019999980926514,0.15230999886989594,0.16606999933719635,0.15283000469207764,0.1648699939250946,0.16512000560760498,0.15227000415325165,0.17508000135421753,0.17737999558448792,0.17205999791622162,0.1645900011062622,0.15713000297546387,0.162540003657341,0.16143999993801117,0.1614599972963333,0.0428600013256073,0.07081999629735947,0.16524000465869904,0.1582999974489212,0.1553100049495697,0.15328000485897064,0.16666999459266663,0.15255999565124512,0.17053000628948212,0.16126999258995056,0.16761000454425812,0.1675799936056137,0.15563000738620758,0.16355000436306,0.18036000430583954,0.1967500001192093,0.18282000720500946,0.18828999996185303,0.18334999680519104,0.19008000195026398,0.189860001206398,0.0676800012588501,0.10179000347852707,0.039799999445676804,-0.03003999963402748,-0.06040000170469284,0.08851999789476395,0.07878000289201736,0.17361000180244446,0.15198999643325806,0.15198999643325806,0.15198999643325806,0.1765500009059906,0.1560399979352951,0.17818999290466309,0.18156999349594116,0.16322000324726105,0.18102000653743744,0.1691499948501587,0.15721000730991364,0.17573000490665436,0.16429999470710754,0.1785700023174286,0.16359999775886536,0.1816300004720688,-0.18509000539779663,0.1761299967765808,0.16132999956607819,0.16816000640392303,0.1757500022649765,0.1764799952507019,0.15440000593662262,0.10733000189065933,0.1816300004720688,0.1816300004720688,0.16937999427318573,0.15399999916553497,0.15267999470233917,0.1569100022315979,0.17056000232696533,0.1523600071668625,0.1747799962759018,0.16503000259399414,-0.08122999966144562,-0.05183999985456467,-0.03621000051498413,-0.08804000169038773,0.17708000540733337,0.1658799946308136,-0.09728000313043594,0.18036000430583954,0.1816300004720688,0.1816300004720688,0.1816300004720688,0.1816300004720688,0.1816300004720688,0.1816300004720688,0.1816300004720688,0.1816300004720688,0.1816300004720688,0.1816300004720688,0.1816300004720688,0.1816300004720688,0.1816300004720688,0.1816300004720688,0.1816300004720688,0.1816300004720688,0.1816300004720688,0.1816300004720688,0.1816300004720688,0.1816300004720688,0.1816300004720688,0.1816300004720688,0.1816300004720688,0.1816300004720688,0.1816300004720688,0.1816300004720688,0.1816300004720688,0.1816300004720688,0.1816300004720688,0.1816300004720688,0.1816300004720688,0.1816300004720688,0.1816300004720688,0.1816300004720688,0.1816300004720688,0.1816300004720688,0.1816300004720688,0.1816300004720688,0.1816300004720688,0.1816300004720688,0.1816300004720688,0.1816300004720688,0.1816300004720688,0.1816300004720688,0.1816300004720688,0.1816300004720688,0.1816300004720688,0.1816300004720688,0.1816300004720688,0.1816300004720688,0.1816300004720688,0.1816300004720688,0.1816300004720688,0.1816300004720688,0.1816300004720688,0.1816300004720688,0.1816300004720688,0.1816300004720688,0.1816300004720688,0.1816300004720688,0.1816300004720688,0.1816300004720688,0.1816300004720688,0.1816300004720688,0.1816300004720688,0.1816300004720688,0.1816300004720688,0.1816300004720688,0.1816300004720688,0.1816300004720688,0.1816300004720688,0.1816300004720688,0.1816300004720688,0.1816300004720688,0.1816300004720688,0.1816300004720688,0.1816300004720688,0.1816300004720688,0.1816300004720688,0.1816300004720688,0.1816300004720688,0.1816300004720688,0.1816300004720688,0.1816300004720688,0.1816300004720688,0.1816300004720688,0.1816300004720688,0.1816300004720688,0.1816300004720688,0.1816300004720688,0.1816300004720688,0.1816300004720688,0.1816300004720688,0.1816300004720688,0.1816300004720688,0.1816300004720688,0.1816300004720688,0.1816300004720688,0.1816300004720688,0.1816300004720688,0.1816300004720688,0.1816300004720688,0.1816300004720688,0.1816300004720688,0.1816300004720688,0.1816300004720688,0.1816300004720688,0.1816300004720688,0.1816300004720688,0.1816300004720688,0.1816300004720688,0.1816300004720688,0.1816300004720688,0.1816300004720688,0.1816300004720688,0.1816300004720688,0.1816300004720688,0.1816300004720688,0.1816300004720688,0.1816300004720688,0.1816300004720688,0.1816300004720688,0.1816300004720688,0.1816300004720688,0.1816300004720688,0.1816300004720688,0.1816300004720688,0.1816300004720688,0.1816300004720688,0.1816300004720688,0.1816300004720688,0.1816300004720688,0.1816300004720688,0.1816300004720688,0.1816300004720688,0.1816300004720688,0.1816300004720688,0.1816300004720688,0.1816300004720688,0.1816300004720688,0.1816300004720688,0.1816300004720688,0.1816300004720688,0.1816300004720688,0.1816300004720688,0.1816300004720688,0.1816300004720688,0.1816300004720688,0.1816300004720688,0.1816300004720688,0.1816300004720688,0.1816300004720688,0.1816300004720688,0.1816300004720688,0.1816300004720688,0.1816300004720688,0.1816300004720688,0.1816300004720688,0.1816300004720688,0.1816300004720688,0.1816300004720688,0.1816300004720688,0.1816300004720688,-0.03260999917984009,0.08474999666213989,0.1816300004720688,0.1816300004720688,0.1816300004720688,-0.02175999991595745,-0.015610000118613243,0.023679999634623528,-0.13714000582695007,-0.16572999954223633,-0.006060000043362379,0.07750000059604645,-0.16696999967098236,0.1816300004720688,0.1816300004720688,0.1816300004720688,-0.19811999797821045,0.11219000071287155,-0.19177000224590302,-0.1604599952697754,-0.1867000013589859,-0.11204999685287476,-0.01759999990463257,0.0010999999940395355,0.17833000421524048,0.17842000722885132,0.17510999739170074,0.1813800036907196,0.1640399992465973,0.15649999678134918,0.1816300004720688,0.05906999856233597,0.1816300004720688,0.1816300004720688,0.1816300004720688,0.13560999929904938,0.049949999898672104,-0.1651500016450882,-0.19777999818325043,-0.10989999771118164,0.03540999814867973,-0.12679000198841095,-0.1959799975156784,-0.17677000164985657,0.1816300004720688,0.13312000036239624,0.18036000430583954,0.16827000677585602,-0.00949000008404255,-0.04820000007748604,-0.12488000094890594,-0.026599999517202377,-0.12201999872922897,-0.15512999892234802,-0.19117000699043274,-0.10790999978780746,0.014360000379383564,0.1816300004720688,-0.10322999954223633,0.17792999744415283,0.17058999836444855,0.16850000619888306,0.16075000166893005,0.16864000260829926,0.17539000511169434,0.1816300004720688,0.18036000430583954,0.16946999728679657,-0.10728000104427338,0.059859998524188995,0.16335000097751617,0.08060000091791153,0.10412000119686127,-0.0736600011587143,-0.15681999921798706,-0.17670999467372894,0.04809999838471413,-0.14534999430179596,-0.022849999368190765,-0.061319999396800995,-0.19790999591350555,0.1816300004720688,0.1816300004720688,-0.01018999982625246,-0.03327000141143799,-0.020080000162124634,0.10656999796628952,0.06802000105381012,-0.16847999393939972,0.11466000229120255,-0.10506000369787216,0.1973399966955185,0.19177000224590302,0.19404999911785126,0.19392000138759613,0.19809000194072723,0.19293999671936035,0.19253000617027283,0.19705000519752502,0.05485000088810921,0.19080999493598938,0.18219000101089478,0.03994999825954437,-0.06742999702692032,-0.1675499975681305,-0.15327000617980957,-0.1564200073480606,-0.16933000087738037,-0.06047999858856201,0.016119999811053276,0.08117000013589859,0.1816300004720688,0.18036000430583954,0.1816300004720688,0.1816300004720688,-0.20068000257015228,0.1816300004720688,0.1816300004720688,-0.18779000639915466,-0.10892000049352646,-0.05110999941825867,0.057909999042749405,-0.042410001158714294,-0.11445000022649765,-0.011629999615252018,-0.09369000047445297,0.04986000061035156,0.1816300004720688,0.1816300004720688,0.1816300004720688,0.1816300004720688,0.1816300004720688,0.1816300004720688,0.17475999891757965,0.1758500039577484,0.16393999755382538,0.1737699955701828,0.15232999622821808,0.16425000131130219,0.1816300004720688,0.18998000025749207,0.18250000476837158,0.1936500072479248,0.18945999443531036,0.1873999983072281,0.18749000132083893,0.18730999529361725,0.18780000507831573,0.19564999639987946,0.1816300004720688,0.15481999516487122,0.15557000041007996,0.16101999580860138,0.1599300056695938,0.16032999753952026,0.1619500070810318,0.15424999594688416,0.1599300056695938,0.15688000619411469,0.17520999908447266,0.1559399962425232,0.18061000108718872,-0.15387000143527985,-0.14872999489307404,-0.003700000001117587,-0.05341999977827072,-0.007040000054985285,-0.14044000208377838,-0.18081000447273254,-0.09546999633312225,0.031700000166893005,0.16453999280929565,0.17392000555992126,0.1721400022506714,0.16492000222206116,0.1725900024175644,0.17848999798297882,0.1702599972486496,0.1816300004720688,0.1816300004720688,0.1816300004720688,0.1816300004720688,0.1816300004720688,0.1816300004720688,0.1816300004720688,0.1816300004720688,0.1816300004720688,0.1816300004720688,0.1816300004720688,0.1816300004720688,0.1816300004720688,0.1816300004720688,0.1816300004720688,0.1816300004720688,0.1816300004720688,0.1816300004720688,0.1816300004720688,0.1816300004720688,0.1816300004720688,0.1816300004720688,0.1816300004720688,0.1816300004720688,0.1816300004720688,0.1816300004720688,0.1816300004720688,0.1816300004720688,0.1816300004720688,0.1816300004720688,0.1816300004720688,0.1816300004720688,0.1816300004720688,0.1816300004720688,0.1816300004720688,0.1816300004720688,0.1816300004720688,0.1816300004720688,0.1816300004720688,0.1816300004720688,0.1816300004720688,0.1816300004720688,0.1816300004720688,0.1816300004720688,0.1816300004720688,0.1816300004720688,0.1816300004720688,0.1816300004720688,0.1816300004720688,0.1816300004720688,0.1816300004720688,0.1816300004720688,0.1816300004720688,0.1816300004720688,0.1816300004720688,0.1816300004720688,0.1816300004720688,0.1816300004720688,0.1816300004720688,0.1816300004720688,0.1816300004720688,0.1816300004720688,0.1816300004720688,0.1816300004720688,0.1816300004720688,0.1816300004720688,0.1816300004720688,0.1816300004720688,0.1816300004720688,0.1816300004720688,0.1816300004720688,0.1816300004720688,0.1816300004720688,0.1816300004720688,0.1816300004720688,0.1816300004720688,0.1816300004720688,0.1816300004720688,0.1816300004720688,0.1816300004720688,0.1816300004720688,0.1816300004720688,0.1816300004720688,0.1816300004720688,0.1816300004720688,0.1816300004720688,0.1816300004720688,0.1816300004720688,0.1816300004720688,0.1816300004720688,0.1816300004720688,0.1816300004720688,0.1816300004720688,0.1816300004720688,0.1816300004720688,0.1816300004720688,0.1816300004720688,0.1816300004720688,0.1816300004720688,0.1816300004720688,0.1816300004720688,0.1816300004720688,0.1816300004720688,0.1816300004720688,0.1816300004720688,0.1816300004720688,0.1816300004720688,0.1816300004720688,0.1816300004720688,0.1816300004720688,0.1816300004720688,0.1816300004720688,0.1816300004720688,0.1816300004720688,0.1816300004720688,0.1816300004720688,0.1816300004720688,0.1816300004720688,0.1816300004720688,0.1816300004720688,0.1816300004720688,0.1816300004720688,0.1816300004720688,0.1816300004720688,0.1816300004720688,0.1816300004720688,0.1816300004720688,0.1816300004720688,0.1816300004720688,0.1816300004720688,0.1816300004720688,0.1816300004720688,0.1816300004720688,0.1816300004720688,0.1816300004720688,0.1816300004720688,0.1816300004720688,0.1816300004720688,0.1816300004720688,0.1816300004720688,0.1816300004720688,0.1816300004720688,0.1816300004720688,0.1816300004720688,0.1816300004720688,0.1816300004720688,0.1816300004720688,0.1816300004720688,0.1816300004720688,0.1816300004720688,0.1816300004720688,0.1816300004720688,0.1816300004720688,0.1816300004720688,0.1816300004720688,0.1816300004720688,0.1816300004720688,0.1816300004720688,0.1816300004720688,0.1816300004720688,0.1816300004720688,0.1816300004720688,0.1816300004720688,0.1816300004720688,0.1816300004720688,0.1816300004720688,0.1816300004720688,0.1816300004720688,0.1816300004720688,0.1816300004720688,0.1816300004720688,0.1816300004720688,0.1816300004720688,0.1816300004720688,0.1816300004720688,0.0362900011241436,0.0806099995970726,-0.10305999964475632,-0.06391999870538712,-0.1796800047159195,0.03075999952852726,-0.025629999116063118,-0.14173999428749084,0.022430000826716423,0.15324999392032623,0.15735000371932983,0.15312999486923218,0.1541299968957901,0.16098999977111816,0.1727599948644638,0.1816300004720688,-0.13590000569820404,0.1816300004720688,-0.03573000058531761,0.1791599988937378,0.16780999302864075,0.09358000010251999,0.03781000152230263,-0.013679999858140945,-0.041120000183582306,-0.14494000375270844,0.027499999850988388,0.08850999921560287,-0.07739000022411346,-0.05150999873876572,-0.08104000240564346,-0.052799999713897705,-0.09505999833345413,-0.1726900041103363,0.04002000018954277,0.1528400033712387,0.1139099970459938,-0.03894000127911568,0.16865000128746033,0.1563500016927719,0.17104999721050262,0.1640699952840805,0.16556000709533691,0.17986999452114105,0.1633100062608719,0.17486000061035156,0.16110000014305115,0.18133999407291412,0.16613000631332397,0.13559000194072723,0.1598300039768219,0.10954000055789948,0.04317000135779381,0.0459199994802475,0.03977999836206436,0.15251000225543976,0.10785999894142151,-0.08822999894618988,0.10451000183820724,0.056540001183748245,0.17913000285625458,0.15711000561714172,0.16007000207901,0.15244999527931213,0.14213000237941742,0.041189998388290405,-0.15285000205039978,-0.20068000257015228,-0.1809999942779541,0.15415999293327332,-0.05923999845981598,0.0010999999940395355,0.032600000500679016,0.07738000154495239,-0.029529999941587448,0.05694999918341637,0.04799000173807144,0.06342999637126923,0.009700000286102295,0.027219999581575394,-0.0004400000034365803,0.1653600037097931,-0.06543999910354614,0.04709000140428543,0.18036000430583954,0.15198999643325806,0.15198999643325806,0.20068000257015228,0.20068000257015228,0.20068000257015228,0.20068000257015228,0.20068000257015228,0.20068000257015228,0.20068000257015228,0.20068000257015228,0.20068000257015228,0.20068000257015228,0.20068000257015228,0.20068000257015228,0.20068000257015228,0.20068000257015228,0.20068000257015228,0.20068000257015228,0.20068000257015228,0.20068000257015228,0.20068000257015228,0.20068000257015228,0.20068000257015228,0.20068000257015228,0.20068000257015228,0.20068000257015228,0.20068000257015228,0.20068000257015228,0.20068000257015228,0.20068000257015228,0.20068000257015228,0.20068000257015228,0.20068000257015228,0.20068000257015228,0.20068000257015228,0.20068000257015228,0.20068000257015228,0.20068000257015228,0.20068000257015228,0.20068000257015228,0.20068000257015228,0.20068000257015228,0.20068000257015228,0.20068000257015228,0.20068000257015228,0.20068000257015228,0.20068000257015228,0.20068000257015228,0.20068000257015228,0.20068000257015228,0.20068000257015228,0.20068000257015228,0.20068000257015228,0.20068000257015228,0.20068000257015228,0.20068000257015228,0.20068000257015228,0.20068000257015228,0.20068000257015228,0.20068000257015228,0.20068000257015228,0.20068000257015228,0.20068000257015228,0.20068000257015228,0.20068000257015228,0.20068000257015228,0.20068000257015228,0.20068000257015228,0.20068000257015228,0.20068000257015228,0.20068000257015228,0.20068000257015228,0.20068000257015228,0.20068000257015228,0.20068000257015228,0.20068000257015228,0.20068000257015228,0.20068000257015228,0.20068000257015228,0.20068000257015228,0.20068000257015228,0.20068000257015228,0.20068000257015228,0.20068000257015228,0.20068000257015228,0.20068000257015228,0.20068000257015228,0.20068000257015228,0.20068000257015228,0.20068000257015228,0.20068000257015228,0.20068000257015228,0.20068000257015228,0.20068000257015228,0.20068000257015228,0.20068000257015228,0.20068000257015228,0.20068000257015228,0.20068000257015228,0.20068000257015228,0.20068000257015228,0.20068000257015228,0.20068000257015228,0.20068000257015228,0.20068000257015228,0.20068000257015228,0.20068000257015228,0.20068000257015228,0.20068000257015228,0.20068000257015228,0.20068000257015228,0.20068000257015228,0.20068000257015228,0.20068000257015228,0.20068000257015228,0.20068000257015228,0.20068000257015228,0.20068000257015228,0.20068000257015228,0.20068000257015228,0.20068000257015228,0.20068000257015228,0.20068000257015228,0.20068000257015228,0.20068000257015228,0.20068000257015228,0.20068000257015228,0.20068000257015228,0.20068000257015228,0.20068000257015228,0.20068000257015228,0.20068000257015228,0.20068000257015228,0.20068000257015228,0.20068000257015228,0.20068000257015228,0.20068000257015228,0.20068000257015228,0.20068000257015228,0.20068000257015228,0.20068000257015228,0.20068000257015228,0.20068000257015228,0.20068000257015228,0.20068000257015228,0.20068000257015228,0.20068000257015228,0.20068000257015228,0.20068000257015228,0.20068000257015228,0.20068000257015228,0.20068000257015228,0.20068000257015228,0.20068000257015228,0.20068000257015228,0.20068000257015228,0.20068000257015228,0.20068000257015228,0.20068000257015228,0.20068000257015228,0.20068000257015228,0.20068000257015228,0.20068000257015228,0.20068000257015228,0.20068000257015228,0.20068000257015228,0.20068000257015228,0.20068000257015228,0.20068000257015228,0.20068000257015228,0.20068000257015228,0.20068000257015228,0.20068000257015228,0.20068000257015228,0.20068000257015228,0.20068000257015228,0.20068000257015228,0.20068000257015228,0.20068000257015228,0.20068000257015228,0.20068000257015228,0.20068000257015228,0.20068000257015228,0.20068000257015228,0.20068000257015228,0.20068000257015228,0.20068000257015228,0.20068000257015228,0.20068000257015228,0.20068000257015228,0.20068000257015228,0.1816300004720688,0.1816300004720688,0.1816300004720688,0.1816300004720688,0.1816300004720688,0.18036000430583954,0.15198999643325806,0.15198999643325806,0.18036000430583954,0.1816300004720688,0.1816300004720688,0.1816300004720688,0.1816300004720688,0.1816300004720688,0.1816300004720688,0.1816300004720688,0.19070999324321747,0.1911499947309494,0.19386999309062958,0.1853799968957901,0.19797000288963318,0.19146999716758728,0.19039000570774078,0.1626099944114685,-0.008969999849796295,0.1816300004720688,0.1816300004720688,0.1816300004720688,0.1816300004720688,0.1816300004720688,-0.20068000257015228,0.1816300004720688,0.1816300004720688,0.15793000161647797,0.156700000166893,0.16683000326156616,0.16348999738693237,0.16210000216960907,0.15373000502586365,0.17505000531673431,0.1816300004720688,0.03263000026345253,-0.061489999294281006,-0.188510000705719,0.05297999829053879,-0.14163999259471893,-0.16869999468326569,-0.051660001277923584,0.04910000041127205,0.11987999826669693,0.03660000115633011,0.11197999864816666,-0.03637000173330307,0.14836999773979187,0.12105999886989594,0.1050499975681305,-0.14486999809741974,0.17614999413490295,0.07270000129938126,0.10264000296592712,0.1712699979543686,-0.0560000017285347,0.0975399985909462,-0.0715700015425682,0.16614000499248505,0.09258999675512314,0.15198999643325806,0.15198999643325806,0.15198999643325806,0.18509000539779663,0.19140000641345978,0.1858000010251999,0.18862999975681305,0.18955999612808228,0.1892399936914444,0.18581999838352203,0.1816300004720688,0.1816300004720688,0.16387000679969788,0.17961999773979187,0.15871000289916992,0.15723000466823578,0.16426999866962433,0.16410000622272491,0.15830999612808228,0.15478000044822693,0.1701200008392334,0.1601399928331375,0.15286999940872192,0.15222999453544617,-0.07593999803066254,0.11185000091791153,0.15830999612808228,0.16348999738693237,0.15926000475883484,0.15244999527931213,0.17869000136852264,0.1598999947309494,0.16038000583648682,0.15755000710487366,0.16313999891281128,0.1816300004720688,0.1816300004720688,0.1816300004720688,0.1816300004720688,0.18036000430583954,0.19729000329971313,0.18355000019073486,0.1912200003862381,0.1943800002336502,0.18982000648975372,0.19117000699043274,-0.11721000075340271,0.1816300004720688,0.18036000430583954,0.15620000660419464,0.17278000712394714,0.17784999310970306,0.15365000069141388,0.16398000717163086,0.1539900004863739,0.16410000622272491,-0.015300000086426735,-0.022919999435544014,0.0014900000533089042,0.12251999974250793,0.08404000103473663,0.12640999257564545,0.07011999934911728,-0.06638000160455704,0.1816300004720688,-0.07562000304460526,0.017880000174045563,-0.1502400040626526,-0.15557000041007996,0.011470000259578228,0.1816300004720688,0.17293000221252441,0.1637900024652481,0.17012999951839447,0.1777999997138977,0.16784000396728516,0.17476999759674072,0.17768999934196472,0.1816300004720688,0.1816300004720688,0.1816300004720688,0.1816300004720688,0.15198999643325806,0.15198999643325806,0.1816300004720688,0.1816300004720688,0.1816300004720688,0.1816300004720688,0.19828000664710999,0.1990099996328354,0.19280000030994415,0.18456999957561493,0.19027000665664673,0.18467000126838684,0.18474000692367554,0.18192000687122345,-0.1212799996137619,-0.11043000221252441,0.07423999905586243,0.044690001755952835,-0.18900999426841736,-0.11929000169038773,-0.1010499969124794,-0.20036999881267548,0.1816300004720688,-0.12223999947309494,-0.1409900039434433,0.009270000271499157,-0.0776199996471405,-0.05398000031709671,-0.06605000048875809,-0.04187000170350075,-0.13665999472141266,-0.11308000236749649,0.1816300004720688,0.19905999302864075,0.19863000512123108,0.1991499960422516,0.19499999284744263,0.19081999361515045,0.19742000102996826,0.1816300004720688,0.1816300004720688,0.1816300004720688,0.1816300004720688,-0.018969999626278877,0.1431799978017807,0.11150000244379044,0.06713999807834625,-0.02879999950528145,0.05063999816775322,-0.09047000110149384,0.1816300004720688,0.1816300004720688,0.1816300004720688,0.1816300004720688,0.20068000257015228,0.20068000257015228,0.20068000257015228,0.20068000257015228,0.20068000257015228,0.20068000257015228,0.20068000257015228,0.20068000257015228,0.20068000257015228,0.20068000257015228,0.20068000257015228,0.20068000257015228,0.20068000257015228,0.20068000257015228,0.20068000257015228,0.20068000257015228,0.20068000257015228,0.20068000257015228,0.20068000257015228,0.20068000257015228,0.20068000257015228,0.20068000257015228,0.20068000257015228,0.20068000257015228,0.20068000257015228,0.20068000257015228,0.20068000257015228,0.20068000257015228,0.20068000257015228,0.20068000257015228,0.20068000257015228,0.20068000257015228,0.20068000257015228,0.20068000257015228,0.20068000257015228,0.20068000257015228,0.20068000257015228,0.20068000257015228,0.20068000257015228,0.20068000257015228,0.20068000257015228,0.20068000257015228,0.20068000257015228,0.20068000257015228,0.20068000257015228,0.20068000257015228,0.20068000257015228,0.20068000257015228,0.20068000257015228,0.20068000257015228,0.20068000257015228,0.20068000257015228,0.20068000257015228,0.20068000257015228,0.20068000257015228,0.20068000257015228,0.20068000257015228,0.20068000257015228,0.20068000257015228,0.20068000257015228,0.20068000257015228,0.20068000257015228,0.20068000257015228,0.20068000257015228,0.20068000257015228,0.20068000257015228,0.20068000257015228,0.20068000257015228,0.20068000257015228,0.20068000257015228,0.20068000257015228,0.20068000257015228,0.20068000257015228,0.20068000257015228,0.20068000257015228,0.20068000257015228,0.20068000257015228,0.20068000257015228,0.20068000257015228,0.20068000257015228,0.20068000257015228,0.20068000257015228,0.20068000257015228,0.20068000257015228,0.20068000257015228,0.20068000257015228,0.20068000257015228,0.20068000257015228,0.20068000257015228,0.20068000257015228,0.20068000257015228,0.20068000257015228,0.20068000257015228,0.20068000257015228,0.20068000257015228,0.20068000257015228,0.20068000257015228,0.20068000257015228,0.20068000257015228,0.20068000257015228,0.20068000257015228,0.20068000257015228,0.20068000257015228,0.20068000257015228,0.20068000257015228,0.20068000257015228,0.20068000257015228,0.20068000257015228,0.20068000257015228,0.20068000257015228,0.20068000257015228,0.20068000257015228,0.20068000257015228,0.20068000257015228,0.20068000257015228,0.20068000257015228,0.20068000257015228,0.20068000257015228,0.20068000257015228,0.20068000257015228,0.20068000257015228,0.20068000257015228,0.20068000257015228,0.20068000257015228,0.20068000257015228,0.20068000257015228,0.20068000257015228,0.20068000257015228,0.20068000257015228,0.20068000257015228,0.20068000257015228,0.20068000257015228,0.20068000257015228,0.20068000257015228,0.20068000257015228,0.20068000257015228,0.20068000257015228,0.20068000257015228,0.20068000257015228,0.20068000257015228,0.20068000257015228,0.20068000257015228,0.20068000257015228,0.20068000257015228,0.20068000257015228,0.20068000257015228,0.20068000257015228,0.20068000257015228,0.20068000257015228,0.20068000257015228,0.20068000257015228,0.20068000257015228,0.20068000257015228,0.20068000257015228,0.20068000257015228,0.20068000257015228,0.20068000257015228,0.20068000257015228,0.20068000257015228,0.20068000257015228,0.20068000257015228,0.20068000257015228,0.20068000257015228,0.20068000257015228,0.20068000257015228,0.20068000257015228,0.20068000257015228,0.20068000257015228,0.20068000257015228,0.20068000257015228,0.20068000257015228,0.20068000257015228,0.20068000257015228,0.20068000257015228,0.20068000257015228,0.20068000257015228,0.20068000257015228,0.20068000257015228,0.20068000257015228,0.20068000257015228,0.20068000257015228,0.20068000257015228,0.20068000257015228,0.20068000257015228,0.20068000257015228,0.20068000257015228,0.20068000257015228,0.20068000257015228,0.20068000257015228,0.20068000257015228,0.20068000257015228,0.20068000257015228,0.20068000257015228,0.20068000257015228,0.20068000257015228,0.20068000257015228,0.20068000257015228,0.20068000257015228,0.20068000257015228,0.1816300004720688,0.1816300004720688,-0.17417000234127045,-0.015200000256299973,0.08505000174045563,0.061969999223947525,-0.18207000195980072,-0.02855999954044819,-0.16263000667095184,0.09934999793767929,0.1816300004720688,0.1816300004720688,0.1816300004720688,0.1816300004720688,0.15198999643325806,0.15198999643325806,0.15198999643325806,0.15198999643325806,-0.12953999638557434,-0.06650999933481216,-0.12870000302791595,-0.011739999987185001,-0.12383999675512314,0.012120000086724758,-0.14509999752044678,-0.11808999627828598,0.1816300004720688,0.1816300004720688,0.1816300004720688,0.1816300004720688,0.1816300004720688,0.1816300004720688,0.1816300004720688,0.1816300004720688,0.1816300004720688,0.1816300004720688,0.1816300004720688,0.1816300004720688,0.1816300004720688,0.1816300004720688,0.1816300004720688,0.1816300004720688,0.1816300004720688,0.1816300004720688,0.1816300004720688,0.1816300004720688,0.1816300004720688,0.1816300004720688,0.1816300004720688,0.1816300004720688,0.1816300004720688,0.1816300004720688,0.1816300004720688,0.1816300004720688,0.1816300004720688,0.1816300004720688,0.1816300004720688,0.1816300004720688,0.1816300004720688,0.1816300004720688,0.1816300004720688,0.1816300004720688,0.1816300004720688,0.1816300004720688,0.1816300004720688,0.1816300004720688,0.1816300004720688,0.1816300004720688,0.1816300004720688,0.1816300004720688,0.1816300004720688,0.1816300004720688,0.1816300004720688,0.1816300004720688,0.1816300004720688,0.1816300004720688,0.1816300004720688,0.1816300004720688,0.1816300004720688,0.1816300004720688,0.1816300004720688,0.1816300004720688,0.1816300004720688,0.1816300004720688,0.1816300004720688,0.1816300004720688,0.1816300004720688,0.1816300004720688,0.1816300004720688,0.1816300004720688,0.1816300004720688,0.1816300004720688,0.1816300004720688,0.1816300004720688,0.1816300004720688,0.1816300004720688,0.1816300004720688,0.1816300004720688,0.1816300004720688,0.1816300004720688,0.1816300004720688,0.1816300004720688,0.1816300004720688,0.1816300004720688,0.1816300004720688,0.1816300004720688,0.1816300004720688,0.1816300004720688,0.1816300004720688,0.1816300004720688,0.1816300004720688,0.1816300004720688,0.1816300004720688,0.1816300004720688,0.1816300004720688,0.1816300004720688,0.1816300004720688,0.1816300004720688,0.1816300004720688,0.1816300004720688,0.1816300004720688,0.1816300004720688,0.1816300004720688,0.1816300004720688,0.1816300004720688,0.1816300004720688,0.1816300004720688,0.1816300004720688,0.1816300004720688,0.1816300004720688,0.1816300004720688,0.1816300004720688,0.1816300004720688,0.1816300004720688,0.1816300004720688,0.1816300004720688,0.1816300004720688,0.1816300004720688,0.1816300004720688,0.1816300004720688,0.1816300004720688,0.1816300004720688,0.1816300004720688,0.1816300004720688,0.1816300004720688,0.1816300004720688,0.1816300004720688,0.1816300004720688,0.1816300004720688,0.1816300004720688,0.1816300004720688,0.1816300004720688,0.1816300004720688,0.1816300004720688,0.1816300004720688,0.1816300004720688,0.1816300004720688,0.1816300004720688,0.1816300004720688,0.1816300004720688,0.1816300004720688,0.1816300004720688,0.1816300004720688,0.1816300004720688,0.1816300004720688,0.1816300004720688,0.1816300004720688,0.1816300004720688,0.1816300004720688,0.1816300004720688,0.1816300004720688,0.1816300004720688,0.1816300004720688,0.1816300004720688,0.1816300004720688,0.1816300004720688,0.1816300004720688,0.1816300004720688,0.1816300004720688,0.1816300004720688,0.1816300004720688,0.1816300004720688,0.1816300004720688,0.1816300004720688,0.1816300004720688,0.1816300004720688,0.1816300004720688,0.1816300004720688,0.1816300004720688,0.1816300004720688,0.1816300004720688,0.1816300004720688,0.1816300004720688,0.1816300004720688,0.07678999751806259,-0.13898000121116638,0.17184999585151672,0.11591999977827072,-0.18174999952316284,-0.06218000128865242,-0.02515999972820282,0.1296200007200241,-0.013810000382363796,0.11954999715089798,0.12873999774456024,0.09025999903678894,0.03189000114798546,-0.02116999961435795,0.1147800013422966,0.1546500027179718,0.16015000641345978,0.16043999791145325,0.15512000024318695,0.17558999359607697,0.1638299971818924,0.16808000206947327,0.16508999466896057,0.16742999851703644,0.1665399968624115,0.16317999362945557,-0.03660000115633011,0.017669999971985817,-0.05812999978661537,0.09104999899864197,0.13163000345230103,0.04596000164747238,0.12630000710487366,0.03866000100970268,0.1564600020647049,-0.14936000108718872,0.05683000013232231,-0.14252999424934387,0.10307999700307846,-0.02962999977171421,-0.008080000057816505,0.0695900022983551,0.13745999336242676,0.1816300004720688,-0.20068000257015228,0.14055000245571136,0.1083500012755394,-0.1422100067138672,0.042410001158714294,0.004189999774098396,0.0852700024843216,0.09561999887228012,0.17463000118732452,0.048889998346567154,-0.011219999752938747,0.03245000168681145,0.17127999663352966,0.12083999812602997,-0.03911000117659569,-0.12555000185966492,0.1816300004720688,-0.1657399982213974,-0.15484000742435455,-0.08205000311136246,-9.999999747378752e-06,-0.10379000008106232,-0.11416000127792358,-0.05178000032901764,-0.09206999838352203,0.1624400019645691,0.16132999956607819,0.17829999327659607,0.15445999801158905,0.15321999788284302,0.15955999493598938,0.15573999285697937,0.15996000170707703,0.15456999838352203,0.1666399985551834,0.16966000199317932,0.1627800017595291,0.17670999467372894,0.16711999475955963,0.1680299937725067,0.17815999686717987,0.16505999863147736,0.17684000730514526,0.1816300004720688,0.1816300004720688,0.1816300004720688,0.1816300004720688,0.1816300004720688,0.1816300004720688,-0.20068000257015228,-0.20068000257015228,0.1816300004720688,0.1816300004720688,0.18987999856472015,0.193790003657341,0.1899300068616867,0.18967999517917633,0.20042000710964203,0.18482999503612518,0.19754000008106232,0.19452999532222748,-0.1420000046491623,-0.15583999454975128,-0.10552000254392624,0.06401000171899796,-0.0021299999207258224,-0.13133999705314636,-0.09630999714136124,0.15198999643325806,0.15198999643325806,0.1816300004720688,-0.12939999997615814,0.03581000119447708,0.026019999757409096,0.09993000328540802,0.1602800041437149,0.08279000222682953,0.1437399983406067,-0.010230000130832195,0.1465499997138977,0.12570999562740326,0.15835000574588776,0.034609999507665634,-0.06298000365495682,0.17806999385356903,0.09299000352621078,0.15198999643325806,0.15198999643325806,0.1816300004720688,0.1816300004720688,-0.09375,-0.12670999765396118,-0.06835000216960907,-0.08489999920129776,-0.1793999969959259,-0.11111000180244446,-0.1604599952697754,-0.04464999958872795,0.03472999855875969,0.1867000013589859,0.19857999682426453,0.19659000635147095,0.18889999389648438,0.1915300041437149,0.1785999983549118,0.1541299968957901,0.17309999465942383,0.15725000202655792,0.1585800051689148,0.15394000709056854,0.16132000088691711,0.15922999382019043,0.1599700003862381,0.16222000122070312,0.15565000474452972,0.1816300004720688,0.1816300004720688,0.1816300004720688,0.15953999757766724,0.15749000012874603,0.1591300070285797,0.15758000314235687,0.17175999283790588,0.15518000721931458,0.17574000358581543,-0.023399999365210533,-0.10090000182390213,-0.131290003657341,-0.08823999762535095,-0.014879999682307243,-0.12793000042438507,0.002580000087618828],\"z\":[0.38089999556541443,-0.3810499906539917,-0.3810499906539917,-0.3810499906539917,-0.3810499906539917,-0.3810499906539917,-0.3810499906539917,0.35256001353263855,0.35179001092910767,-0.35141998529434204,-0.3518800139427185,0.11533000320196152,0.3387100100517273,0.3387100100517273,0.3387100100517273,0.3387100100517273,0.3387100100517273,0.3387100100517273,0.3387100100517273,0.3387100100517273,0.338919997215271,-0.3404099941253662,-0.040539998561143875,-0.3358300030231476,-0.1073400005698204,0.3392600119113922,0.07906000316143036,-0.08991000056266785,-0.2405499964952469,0.14552000164985657,-0.06778000295162201,-0.005779999773949385,-0.03945999965071678,-0.16537000238895416,-0.30820998549461365,-0.20659999549388885,-0.33664000034332275,0.3393799960613251,0.3387100100517273,0.3387100100517273,0.3387100100517273,0.3387100100517273,0.3387100100517273,0.3387100100517273,0.3387100100517273,0.3387100100517273,-0.3499299883842468,-0.3559400141239166,-0.37198999524116516,-0.34547001123428345,-0.3465299904346466,-0.34602999687194824,-0.3465900123119354,-0.34940001368522644,-0.34310001134872437,-0.3765699863433838,-0.3576900064945221,-0.359279990196228,0.3411400020122528,0.3535600006580353,0.34213000535964966,0.3586699962615967,0.3636699914932251,0.3556399941444397,0.34988999366760254,0.3690899908542633,0.34422001242637634,-0.31053000688552856,0.2833699882030487,-0.35697999596595764,-0.35648998618125916,-0.17786000669002533,0.2633799910545349,0.19031000137329102,0.1243399977684021,0.33243000507354736,-0.2137800008058548,-0.11687000095844269,0.12285000085830688,0.3190000057220459,-0.1538199931383133,0.3119100034236908,-0.04772000014781952,-0.18206000328063965,-0.307559996843338,-0.23033000528812408,-0.09848999977111816,0.055730000138282776,-0.300709992647171,0.11440999805927277,0.17279000580310822,-0.33149001002311707,-0.22293999791145325,0.005520000122487545,0.012199999764561653,-0.00011000000085914508,-0.2126999944448471,-0.2546899914741516,-0.32043999433517456,-0.08865000307559967,0.3754499852657318,0.3393700122833252,-0.34804999828338623,0.38102999329566956,0.3810499906539917,0.3810499906539917,0.3810499906539917,0.3810499906539917,0.3810499906539917,0.3810499906539917,0.3810499906539917,0.3810499906539917,0.3810499906539917,0.3689500093460083,0.26767000555992126,0.3344799876213074,0.11541000008583069,0.3578700125217438,-0.34887999296188354,-0.38082000613212585,0.18272000551223755,0.09322000294923782,0.1297300010919571,0.3666599988937378,0.2159699946641922,0.009639999829232693,0.09098999947309494,-0.07980000227689743,-0.10724999755620956,-0.019109999760985374,0.29475000500679016,0.17652000486850739,-0.36559998989105225,-0.14927999675273895,-0.24818000197410583,0.09013000130653381,-0.22032999992370605,0.3724699914455414,0.35071998834609985,0.3761900067329407,0.3707500100135803,0.3474999964237213,0.3446100056171417,0.3441399931907654,0.3512899875640869,0.021880000829696655,-0.2573600113391876,0.24467000365257263,0.10884000360965729,-0.3598800003528595,-0.3598800003528595,-0.3598800003528595,-0.3598800003528595,-0.3598800003528595,-0.3598800003528595,0.3657200038433075,0.2941499948501587,-0.38016998767852783,0.3746199905872345,0.3542400002479553,-0.23569999635219574,0.3639500141143799,0.35653001070022583,0.3651700019836426,0.3541699945926666,0.36991000175476074,0.3688400089740753,0.3636400103569031,0.3713200092315674,0.36149999499320984,-0.3810499906539917,-0.3810499906539917,-0.3810499906539917,-0.3810499906539917,-0.3810499906539917,-0.3810499906539917,-0.3810499906539917,-0.3810499906539917,-0.3810499906539917,-0.3387100100517273,-0.3387100100517273,-0.3387100100517273,-0.3387100100517273,-0.3387100100517273,-0.3387100100517273,-0.3387100100517273,-0.3387100100517273,0.3564999997615814,0.2140599936246872,-0.19205999374389648,0.24300000071525574,0.3260299861431122,0.13865000009536743,-0.3519499897956848,0.35637998580932617,0.35697999596595764,-0.35912999510765076,-0.3542200028896332,-0.04602999985218048,0.11449000239372253,-0.06265000253915787,-0.3635300099849701,-0.3615899980068207,-0.3619300127029419,0.17883999645709991,0.38029998540878296,0.2742699980735779,-0.34060001373291016,0.2262900024652481,0.37744998931884766,-0.0154600003734231,0.14810000360012054,0.1646600067615509,0.29666000604629517,0.35409998893737793,0.16955000162124634,0.20566999912261963,0.2189600020647049,0.3626999855041504,0.2636699974536896,-0.1732099950313568,-0.060819998383522034,-0.1714800000190735,0.36983999609947205,0.3029699921607971,0.3089100122451782,-0.11990000307559967,0.1023700013756752,0.1043500006198883,0.2502099871635437,0.24942000210285187,0.35047000646591187,-0.23417000472545624,0.3231399953365326,-0.1422100067138672,0.10397999733686447,-0.05268999934196472,0.229420006275177,0.2911500036716461,0.1936199963092804,0.37648001313209534,0.3037700057029724,0.016950000077486038,0.22245000302791595,-0.14730000495910645,-0.012029999867081642,0.2866399884223938,0.04862000048160553,0.07583999633789062,0.1494400054216385,0.32767000794410706,0.24668000638484955,0.32387998700141907,0.25565001368522644,0.25393998622894287,-0.06967999786138535,0.1677200049161911,-0.11766999959945679,0.2368600070476532,-0.022949999198317528,0.36746999621391296,-0.20663000643253326,-0.22565999627113342,0.30285000801086426,0.2793999910354614,0.21219000220298767,0.2236199975013733,0.35929998755455017,0.036809999495744705,0.14080999791622162,0.3064799904823303,0.07898999750614166,0.026019999757409096,0.17106999456882477,0.1358799934387207,0.0769599974155426,-0.16342000663280487,0.12002000212669373,-0.08506999909877777,-0.37026000022888184,-0.05950000137090683,0.34053000807762146,0.2515699863433838,0.29273998737335205,0.31182000041007996,0.26139000058174133,-0.20430000126361847,0.365339994430542,0.3624599874019623,0.017869999632239342,-0.19132000207901,0.2058199942111969,0.25435999035835266,0.20340999960899353,0.11738000065088272,0.3011600077152252,0.13220000267028809,0.34422001242637634,0.11309000104665756,0.27772000432014465,-0.07354000210762024,0.1802700012922287,0.26723000407218933,0.003860000055283308,0.34681999683380127,0.3230299949645996,0.3704800009727478,0.2615799903869629,-0.02969999983906746,-0.04684999957680702,0.32012999057769775,0.3225800096988678,0.36153000593185425,0.3604399859905243,0.2752000093460083,0.1160999983549118,0.06735999882221222,0.3519800007343292,0.29563000798225403,0.05894000083208084,0.15565000474452972,0.15063999593257904,0.04864000156521797,0.344870001077652,0.2681500017642975,0.18046000599861145,0.14188000559806824,0.16888999938964844,-0.05697000026702881,0.23127999901771545,0.19717000424861908,0.29631999135017395,0.3300899863243103,0.1404300034046173,-0.06378000229597092,0.37751999497413635,0.2663100063800812,-0.04836000129580498,-0.1607999950647354,-0.01867000013589859,0.23588000237941742,0.28933000564575195,0.16033999621868134,-0.0457100011408329,-0.1039000004529953,-0.08748000115156174,0.32916998863220215,0.13048000633716583,0.242249995470047,-0.2303999960422516,-0.14756999909877777,-0.22883999347686768,-0.17608000338077545,0.26916998624801636,-0.025450000539422035,-0.2314700037240982,0.05716000124812126,-0.03985999897122383,0.22790999710559845,-0.014720000326633453,0.07327000051736832,-0.092569999396801,0.14566999673843384,0.36114999651908875,0.1660500019788742,0.1551000028848648,0.33458998799324036,-0.03897000104188919,-0.1130400002002716,-0.056049998849630356,0.3377699851989746,-0.03274000063538551,-0.014349999837577343,0.2722199857234955,0.10289999842643738,0.1408199965953827,-0.016179999336600304,-0.07637999951839447,0.09493999928236008,0.26429998874664307,0.1812400072813034,-0.2148600071668625,0.18512000143527985,0.3625999987125397,0.08528999984264374,0.29951000213623047,-0.2994999885559082,0.046480000019073486,0.09257999807596207,0.15859000384807587,0.21116000413894653,0.18986999988555908,-0.09854000061750412,0.2598699927330017,0.2772800028324127,0.00977999996393919,0.06571000069379807,0.30254998803138733,0.34553998708724976,0.3013400137424469,0.17135000228881836,0.33037999272346497,-0.0746999979019165,0.3759300112724304,0.3419100046157837,0.03711999952793121,0.012959999963641167,-0.04058000072836876,-0.007519999984651804,0.08111000061035156,0.31509000062942505,0.30017000436782837,-0.11208000034093857,0.06366000324487686,0.34645000100135803,0.05437000095844269,-0.06582000106573105,0.36111000180244446,0.2680499851703644,0.2069700062274933,0.131400004029274,0.26045000553131104,0.3184100091457367,-0.14337000250816345,0.35141000151634216,0.35141000151634216,0.35141000151634216,0.35141000151634216,0.35141000151634216,0.35141000151634216,0.35141000151634216,0.35141000151634216,-0.36032000184059143,0.3420200049877167,0.2754899859428406,-0.3411400020122528,-0.34112998843193054,-0.3543800115585327,-0.34758999943733215,-0.35488998889923096,-0.3522999882698059,-0.351639986038208,-0.37602001428604126,0.17901000380516052,0.2878200113773346,-0.34345000982284546,-0.3412199914455414,-0.36149999499320984,-0.3556100130081177,-0.36469998955726624,-0.3458699882030487,-0.36226001381874084,-0.3696399927139282,-0.37049001455307007,-0.3539600074291229,-0.3531300127506256,0.3387100100517273,0.3387100100517273,0.3387100100517273,0.3387100100517273,0.3387100100517273,0.3387100100517273,0.3387100100517273,0.3387100100517273,-0.34014999866485596,-0.2630600035190582,-0.055560000240802765,0.3616900146007538,0.3442800045013428,0.35517001152038574,0.3810499906539917,0.3810499906539917,0.3810499906539917,0.3810499906539917,0.3810499906539917,0.3810499906539917,0.2771799862384796,-0.21900999546051025,0.3522000014781952,0.37257999181747437,0.34894999861717224,0.34373998641967773,0.3450300097465515,0.34182998538017273,0.35060998797416687,0.34606000781059265,0.34104999899864197,0.37529999017715454,-0.08780000358819962,0.270689994096756,0.07283999770879745,0.3050200045108795,0.2500300109386444,0.37786999344825745,0.3451099991798401,0.1372700035572052,-0.21195000410079956,0.09148000180721283,-0.33882999420166016,-0.24289000034332275,0.22318999469280243,-0.3460499942302704,-0.3556700050830841,-0.34303000569343567,-0.3494899868965149,-0.3599799871444702,-0.3451800048351288,-0.3479500114917755,-0.355320006608963,-0.3499099910259247,0.35047000646591187,-0.37279999256134033,0.011869999580085278,-0.3180699944496155,-0.17102999985218048,-0.3382300138473511,-0.23725999891757965,-0.1101899966597557,-0.31637001037597656,-0.16086000204086304,-0.22592000663280487,-0.35451000928878784,-0.126460000872612,-0.046300001442432404,0.3070400059223175,-0.09618999809026718,-0.22363999485969543,-0.3320100009441376,-0.3268199861049652,-0.02135000005364418,-0.17979000508785248,-0.05640999972820282,-0.21969999372959137,0.21046000719070435,-0.06976000219583511,-0.320250004529953,-0.3809199929237366,0.22953000664710999,-0.06939999759197235,-0.3622699975967407,-0.12862999737262726,0.012769999913871288,-0.24854999780654907,-0.2543700039386749,0.030500000342726707,-0.3219900131225586,-0.3056100010871887,0.07618000358343124,0.0803299993276596,-0.2454099953174591,-0.00506999995559454,-0.20205000042915344,0.006819999776780605,-0.12598000466823578,-0.062470000237226486,-0.15904000401496887,-0.049059998244047165,-0.3386400043964386,-0.2656700015068054,0.02012999914586544,-0.20983000099658966,-0.1526300013065338,-0.14608000218868256,-0.303629994392395,-0.040130000561475754,0.08143000304698944,-0.3024899959564209,-0.2976300120353699,-0.24504999816417694,-0.3422600030899048,-0.16662000119686127,-0.07229000329971313,-0.13229000568389893,0.29563000798225403,-0.21443000435829163,-0.182109996676445,0.06233000010251999,-0.07124000042676926,-0.31905001401901245,0.27230000495910645,-0.2214999943971634,0.24616000056266785,-0.21740999817848206,-0.00786999985575676,-0.32973000407218933,-0.32662999629974365,0.034630000591278076,0.0689300000667572,0.028680000454187393,-0.38034000992774963,-0.27191999554634094,-0.10995999723672867,-0.35199999809265137,-0.017309999093413353,0.0420599989593029,-0.29319998621940613,-0.1801699995994568,-0.013369999825954437,-0.08501999825239182,-0.005830000154674053,0.2850100100040436,-0.21026000380516052,-0.3425399959087372,0.08753000199794769,-0.34880000352859497,0.21118000149726868,-0.31463000178337097,-0.28453001379966736,-0.29297998547554016,-0.2745400071144104,-0.1497199982404709,-0.11033999919891357,0.296999990940094,-0.08217000216245651,0.12907999753952026,-0.1445399969816208,-0.05019000172615051,-0.023970000445842743,-0.36476999521255493,0.06476999819278717,-0.12031999975442886,-0.15396000444889069,-0.13999000191688538,0.17371000349521637,-0.25185999274253845,-0.2669300138950348,-0.3378300070762634,-0.2384600043296814,-0.20677000284194946,-0.2736999988555908,0.24763000011444092,-0.2917400002479553,-0.190420001745224,-0.23159000277519226,-0.28294000029563904,-0.32047998905181885,0.08880999684333801,-0.37860000133514404,0.019260000437498093,-0.3031199872493744,-0.09322000294923782,0.04650000110268593,-0.3495100140571594,-0.22086000442504883,-0.12168999761343002,-0.22982999682426453,0.08271999657154083,-0.13067999482154846,-0.15467999875545502,0.21831999719142914,-0.007689999882131815,-0.07778000086545944,-0.09279999881982803,-0.16021999716758728,-0.12093999981880188,-0.06526999920606613,-0.1326099932193756,-0.2752000093460083,-0.12178999930620193,-0.10915999859571457,-0.29927998781204224,0.0691400021314621,-0.18979999423027039,-0.1373399943113327,0.14505000412464142,-0.21086999773979187,-0.22036999464035034,0.15026000142097473,-0.24798999726772308,-0.3143399953842163,-0.10982000082731247,0.0015200000489130616,-0.020230000838637352,-0.3224000036716461,0.29686999320983887,-0.38027000427246094,-0.2589400112628937,-0.02881000004708767,-0.3172999918460846,-0.25944000482559204,-0.31314000487327576,-0.16722999513149261,0.026270000264048576,0.1532599925994873,-0.18796999752521515,-0.039069999009370804,-0.030339999124407768,-0.23273999989032745,-0.15320000052452087,0.19165000319480896,-0.11813999712467194,0.20216000080108643,0.2220900058746338,-0.16186000406742096,-0.18546000123023987,-0.17217999696731567,0.025800000876188278,-0.3539400100708008,-0.15265999734401703,0.22010000050067902,0.3598400056362152,-0.020679999142885208,-0.05324999988079071,-0.2275799959897995,-0.35912999510765076,-0.02962999977171421,-0.16621999442577362,-0.08558999747037888,0.2026900053024292,-0.2797900140285492,-0.28380998969078064,-0.18810999393463135,-0.13816000521183014,-0.13837000727653503,-0.018650000914931297,-0.23954999446868896,-0.29829999804496765,-0.3376699984073639,-0.23837999999523163,-0.12281999737024307,-0.19192999601364136,-0.1355299949645996,-0.340039998292923,-0.13360999524593353,-0.2266799956560135,-0.2726300060749054,-0.24390999972820282,-0.3356899917125702,-0.34198999404907227,-0.1340399980545044,-0.2726599872112274,-0.324290007352829,-0.33118999004364014,0.3777799904346466,0.37325000762939453,0.34992000460624695,0.3731299936771393,0.3479500114917755,0.3422999978065491,0.35113000869750977,0.3722200095653534,0.3688800036907196,0.3387100100517273,0.3387100100517273,0.3387100100517273,0.3387100100517273,0.3387100100517273,0.3387100100517273,0.3387100100517273,0.3387100100517273,-0.3388800024986267,0.3810499906539917,0.3810499906539917,0.3810499906539917,0.3810499906539917,0.3810499906539917,0.3810499906539917,0.3810499906539917,0.3810499906539917,0.21876999735832214,0.08991000056266785,0.12262000143527985,-0.34323999285697937,0.09898000210523605,-0.031029999256134033,-0.1560399979352951,-0.09057000279426575,-0.13962000608444214,-0.2605400085449219,-0.11636000126600266,0.29986000061035156,-0.2881399989128113,-0.17381000518798828,-0.10811000317335129,0.3590500056743622,0.3563399910926819,0.33908000588417053,0.3428199887275696,0.35440999269485474,0.3610000014305115,0.36059001088142395,0.3666999936103821,0.3691900074481964,0.3447200059890747,-0.37070000171661377,0.36513999104499817,0.22755999863147736,0.10284999758005142,0.160630002617836,0.0006200000061653554,-0.014870000071823597,-0.26552000641822815,-0.042010001838207245,0.2875699996948242,0.12857000529766083,0.2341800034046173,0.19402000308036804,0.2714900076389313,-0.3409700095653534,-0.34165000915527344,-0.35144999623298645,-0.34477999806404114,-0.3449000120162964,-0.3666299879550934,0.3810499906539917,0.3810499906539917,0.3810499906539917,0.3810499906539917,0.3810499906539917,0.3810499906539917,0.3810499906539917,0.3810499906539917,0.3810499906539917,-0.04814000055193901,-0.38100001215934753,0.3665199875831604,0.37351998686790466,0.37856000661849976,0.36772000789642334,0.3698500096797943,0.36030998826026917,0.3700000047683716,0.35857000946998596,-0.3403800129890442,0.3193899989128113,0.31373000144958496,0.1139800027012825,0.2983799874782562,-0.11153999716043472,0.2755100131034851,0.19008000195026398,0.015119999647140503,-0.22448000311851501,-0.1372399926185608,0.26194000244140625,0.2612000107765198,-0.3598800003528595,-0.3598800003528595,-0.3598800003528595,-0.3598800003528595,-0.3598800003528595,-0.3598800003528595,-0.3598800003528595,-0.3598800003528595,-0.36103999614715576,0.017969999462366104,-0.36134999990463257,0.3680399954319,-0.38058000802993774,-0.34804001450538635,0.305510014295578,0.3444800078868866,0.2971700131893158,0.015239999629557133,0.3400000035762787,-0.043480001389980316,0.3315100073814392,-0.06948000192642212,0.21581000089645386,-0.19836999475955963,0.1646600067615509,0.0931600034236908,-0.07957000285387039,-0.07317999750375748,0.049539998173713684,-0.18018999695777893,0.21870000660419464,0.1716800034046173,-0.05940999835729599,-0.21731999516487122,-0.18960000574588776,0.13895000517368317,0.32242000102996826,0.274399995803833,0.21532000601291656,0.19440999627113342,-0.02921999990940094,0.1325100064277649,0.23609000444412231,0.24404999613761902,0.23160000145435333,0.0028699999675154686,0.2104099988937378,0.22282999753952026,-0.3239400088787079,-0.004230000078678131,-0.0012400000123307109,0.06526000052690506,0.011309999972581863,0.04548000171780586,0.24804000556468964,0.14326000213623047,0.10547000169754028,0.2047400027513504,-0.18084000051021576,0.20633000135421753,0.26326999068260193,0.17741000652313232,-0.19248999655246735,-0.07951000332832336,0.11926999688148499,-0.11441999673843384,0.1265600025653839,0.20498999953269958,0.24345000088214874,0.18614999949932098,0.15253999829292297,0.21698999404907227,0.26438000798225403,0.3413200080394745,0.27880001068115234,0.14614999294281006,0.291949987411499,0.15761999785900116,0.2059900015592575,0.2964400053024292,-0.025210000574588776,0.14229999482631683,0.35409000515937805,0.275409996509552,-0.091839998960495,-0.12654000520706177,0.30785998702049255,0.2642799913883209,-0.2574099898338318,-0.04035999998450279,0.21774999797344208,0.2933799922466278,0.34825998544692993,0.3557099997997284,0.014639999717473984,-0.2204899936914444,0.2526699900627136,0.19798000156879425,-0.2405100017786026,-0.24619999527931213,-0.1305299997329712,0.3324800133705139,0.09905999898910522,-0.2837499976158142,-0.07231999933719635,0.013000000268220901,0.2645300030708313,0.27432000637054443,0.3499299883842468,0.21623000502586365,0.30195000767707825,-0.10790000110864639,-0.08991999924182892,0.24741999804973602,-0.15117999911308289,0.354669988155365,0.3058899939060211,-0.04267000034451485,-0.20352999866008759,0.27175000309944153,0.1688999980688095,0.12977999448776245,0.10876999795436859,-0.1393599957227707,0.062130000442266464,0.10599000006914139,0.08622000366449356,0.323419988155365,0.306549996137619,0.10796000063419342,0.1924699991941452,0.34323999285697937,0.06982000172138214,0.13804000616073608,0.13569000363349915,0.16875000298023224,0.04075000062584877,0.1527400016784668,0.3075299859046936,0.26260000467300415,0.35916998982429504,-0.025800000876188278,0.15286999940872192,-0.14082999527454376,0.041519999504089355,0.3525199890136719,0.11048000305891037,0.33493998646736145,-0.06418000161647797,0.09933999925851822,0.0478999987244606,0.3565100133419037,0.3357900083065033,0.07676000148057938,0.2124900072813034,0.23695999383926392,-0.16220000386238098,0.03612000122666359,0.2795400023460388,0.3237999975681305,0.34544000029563904,0.27733999490737915,-0.2145400047302246,0.23826000094413757,0.1261499971151352,-0.16463999450206757,-0.22006000578403473,0.266510009765625,0.13931000232696533,-0.09257999807596207,0.09821999818086624,0.3486199975013733,0.06956999748945236,0.13200999796390533,0.3190999925136566,-0.05640999972820282,0.2942500114440918,0.09330999851226807,0.2506299912929535,0.07692000269889832,0.20726999640464783,0.11428000032901764,0.24115000665187836,0.12396000325679779,0.1861799955368042,-0.08974000066518784,0.2848699986934662,0.2950200140476227,0.2961699962615967,0.3075000047683716,0.11856000125408173,-0.28022000193595886,-0.1993200033903122,0.03602999821305275,0.26438000798225403,-0.22620999813079834,0.27132999897003174,0.04826999828219414,0.151869997382164,0.3771199882030487,0.36517998576164246,0.365200012922287,0.3589099943637848,0.3566499948501587,0.3698199987411499,0.34389999508857727,0.3556399941444397,0.359499990940094,0.3772999942302704,0.3610999882221222,0.36542001366615295,0.3783299922943115,0.3737199902534485,0.3580299913883209,0.3810499906539917,0.3810499906539917,0.3810499906539917,0.3810499906539917,0.3810499906539917,0.3810499906539917,-0.3598800003528595,-0.3598800003528595,-0.3598800003528595,-0.3598800003528595,-0.3598800003528595,-0.3598800003528595,-0.3598800003528595,0.10683999955654144,-0.17506000399589539,-0.14485999941825867,-0.1886799931526184,-0.28797000646591187,-0.21185000240802765,-0.30788999795913696,-0.3187499940395355,0.3794499933719635,0.34014999866485596,-0.2017499953508377,0.07643000036478043,0.24143999814987183,-0.310699999332428,-0.13774000108242035,-0.1615999937057495,-0.30063000321388245,-0.16165000200271606,-0.3386699855327606,-0.0754299983382225,-0.08280999958515167,0.05779999867081642,-0.3695000112056732,0.3810499906539917,0.3810499906539917,0.3810499906539917,0.3810499906539917,0.3810499906539917,0.3810499906539917,-0.35238000750541687,-0.3645099997520447,-0.3712100088596344,-0.37244999408721924,-0.3772999942302704,-0.37327998876571655,-0.36869001388549805,-0.34318000078201294,-0.20032000541687012,0.1249300017952919,-0.09442999958992004,0.3264000117778778,0.29256999492645264,-0.1285099983215332,-0.29082998633384705,0.2953299880027771,-0.21961000561714172,0.21355000138282776,0.2762799859046936,-0.11932999640703201,0.27268001437187195,-0.017109999433159828,0.1905899941921234,-0.2598100006580353,0.33897000551223755,-0.3598800003528595,-0.3598800003528595,-0.3598800003528595,-0.3598800003528595,-0.3598800003528595,-0.3598800003528595,0.3407300114631653,-0.36869001388549805,-0.36531001329421997,0.3598800003528595,0.3598800003528595,0.3598800003528595,0.3598800003528595,0.3598800003528595,0.3598800003528595,0.3598800003528595,0.3437800109386444,0.3720099925994873,0.3747900128364563,0.3667899966239929,0.3785899877548218,0.3631399869918823,0.3750999867916107,0.37143000960350037,0.3453499972820282,-0.3684599995613098,0.32940998673439026,0.3153499960899353,-0.011479999870061874,-0.027089999988675117,-0.07249999791383743,-0.0066200001165270805,0.21012000739574432,-0.07244999706745148,-0.2281399965286255,-0.093469999730587,0.29374998807907104,-0.2147900015115738,-0.29618000984191895,0.23083999752998352,0.2980700135231018,0.14267000555992126,0.34108999371528625,0.32405999302864075,0.25867998600006104,-0.04355999827384949,0.029370000585913658,0.316540002822876,0.19518999755382538,0.17872999608516693,0.18002000451087952,0.07162000238895416,-0.010990000329911709,0.1389400064945221,0.20521000027656555,0.024399999529123306,-0.05959999933838844,0.11729999631643295,0.19397999346256256,0.3202100098133087,0.21703000366687775,0.3324100077152252,0.3046700060367584,-0.09200000017881393,0.24330000579357147,0.0434500016272068,0.33823999762535095,-0.130280002951622,0.2081799954175949,0.19922000169754028,0.1708499938249588,0.005369999911636114,0.23580999672412872,0.038600001484155655,0.035349998623132706,0.07794000208377838,0.22240999341011047,-0.12131000310182571,0.17639000713825226,0.33024999499320984,0.2551800012588501,0.335860013961792,-0.020190000534057617,-0.06968999654054642,0.34560999274253845,-0.0342399999499321,0.18271000683307648,0.13423000276088715,0.20037999749183655,-0.1433500051498413,0.2894900143146515,0.31266000866889954,-0.2691600024700165,-0.0993800014257431,0.11894000321626663,0.20778000354766846,-0.2011999934911728,0.22742000222206116,0.15240000188350677,0.3095000088214874,0.1885800063610077,-0.04197999835014343,0.05494000017642975,0.04238000139594078,-0.015599999576807022,-0.09367000311613083,-0.17112000286579132,0.25540000200271606,0.33153998851776123,0.1301400065422058,0.1676499992609024,0.08314000070095062,0.14229999482631683,0.29225000739097595,0.1514900028705597,0.0739699974656105,0.027990000322461128,0.32592999935150146,0.3266499936580658,0.28595998883247375,0.3109999895095825,0.2488500028848648,0.3381800055503845,0.3559400141239166,0.06903000175952911,-0.15310999751091003,-0.15746000409126282,0.2999100089073181,0.046790000051259995,0.1845099925994873,0.006909999996423721,0.06377000361680984,0.2508600056171417,0.0746999979019165,-0.061489999294281006,0.029260000213980675,0.17587000131607056,0.32043999433517456,0.32592999935150146,0.18907000124454498,-0.01271000038832426,-0.14151999354362488,-0.18499000370502472,0.17790000140666962,-0.03821999952197075,0.33796998858451843,-0.09047999978065491,0.32997000217437744,0.3312000036239624,0.003869999898597598,0.06855999678373337,0.20664000511169434,0.32343998551368713,0.14093999564647675,0.10540000349283218,0.028349999338388443,0.3168700039386749,-0.026820000261068344,0.34564998745918274,0.25433000922203064,0.16248999536037445,0.21999000012874603,-0.3161599934101105,0.20264999568462372,0.1297300010919571,0.3391300141811371,0.11270000040531158,0.2419700026512146,0.22925999760627747,0.12150999903678894,0.27573999762535095,0.003060000017285347,0.33910998702049255,0.15661999583244324,0.3020099997520447,-0.09736000001430511,0.26350000500679016,0.068060003221035,-0.1154400035738945,-0.1613599956035614,0.2722100019454956,0.3243800103664398,0.3011699914932251,0.13882000744342804,0.32260000705718994,0.2528800070285797,0.06620000302791595,0.20292000472545624,-0.3809399902820587,0.37994998693466187,0.3780600130558014,0.3652699887752533,0.3715499937534332,-0.3387100100517273,-0.3387100100517273,-0.3387100100517273,-0.3387100100517273,-0.3387100100517273,-0.3387100100517273,-0.3387100100517273,-0.3387100100517273,-0.37915998697280884,-0.3804199993610382,-0.3782599866390228,-0.3478800058364868,-0.3744800090789795,-0.3723500072956085,-0.3675599992275238,-0.3739500045776367,-0.36871999502182007,-0.3694800138473511,-0.36149001121520996,0.35141000151634216,0.35141000151634216,0.35141000151634216,0.35141000151634216,0.35141000151634216,0.35141000151634216,0.04828000068664551,-0.3402799963951111,-0.37744998931884766,-0.37443000078201294,-0.12185999751091003,0.3390200138092041,0.3430899977684021,0.3415200114250183,0.3543199896812439,0.36348000168800354,0.34929001331329346,0.3684299886226654,0.36640000343322754,0.35519999265670776,0.3377000093460083,0.38086000084877014,-0.3456000089645386,-0.3387100100517273,0.3387100100517273,0.3387100100517273,0.3387100100517273,0.3387100100517273,0.3387100100517273,0.3387100100517273,0.3387100100517273,0.3387100100517273,0.3808799982070923,-0.3267599940299988,-0.34071001410484314,-0.35141000151634216,-0.35141000151634216,-0.35141000151634216,-0.35141000151634216,-0.35141000151634216,-0.35141000151634216,0.37297001481056213,-0.34718000888824463,-0.37560001015663147,-0.34498998522758484,-0.35041001439094543,-0.3668699860572815,-0.3435100018978119,-0.3493100106716156,-0.34977999329566956,0.3387100100517273,0.3387100100517273,0.3387100100517273,0.3387100100517273,0.3387100100517273,0.3387100100517273,0.3387100100517273,0.35745999217033386,0.3553900122642517,0.35117998719215393,0.34817999601364136,0.3448599874973297,0.35587000846862793,0.36096999049186707,0.34209999442100525,0.37042000889778137,0.34303998947143555,-0.08247999846935272,-0.023730000481009483,0.08219999819993973,-0.33489999175071716,0.13312000036239624,-0.37626001238822937,-0.1062299981713295,0.0007300000288523734,0.3791700005531311,-0.3810499906539917,-0.3810499906539917,-0.3810499906539917,-0.3810499906539917,-0.3810499906539917,-0.3810499906539917,-0.3810499906539917,-0.3810499906539917,-0.3810499906539917,-0.3810499906539917,-0.3810499906539917,0.274619996547699,0.34303998947143555,0.09459000080823898,0.15479999780654907,-0.36948999762535095,0.2560499906539917,0.011490000411868095,0.34961000084877014,0.36155998706817627,0.35701000690460205,0.3761399984359741,0.3647899925708771,0.35534998774528503,0.36807000637054443,0.3788599967956543,0.36937999725341797,-0.37494999170303345,-0.370059996843338,-0.3641200065612793,-0.3753899931907654,0.2110700011253357,-0.36588001251220703,0.35141000151634216,0.35141000151634216,0.35141000151634216,0.35141000151634216,0.35141000151634216,0.35141000151634216,-0.31442001461982727,0.018950000405311584,0.049070000648498535,-0.19156000018119812,-0.16128000617027283,0.10538999736309052,-0.19904999434947968,-0.03348999843001366,-0.357479989528656,-0.31578999757766724,0.04944000020623207,0.1527400016784668,-0.2654399871826172,-0.27402999997138977,0.01496999990195036,0.12714000046253204,-0.28025999665260315,0.2032500058412552,-0.07229000329971313,-0.019689999520778656,-0.29006001353263855,-0.20972000062465668,-0.35179001092910767,-0.3575499951839447,-0.35343998670578003,-0.3480300009250641,-0.35262998938560486,-0.35242998600006104,-0.34929999709129333,-0.343639999628067,-0.342629998922348,0.3390200138092041,-0.35141000151634216,-0.35141000151634216,-0.35141000151634216,-0.35141000151634216,-0.35141000151634216,-0.35141000151634216,-0.35141000151634216,0.28014999628067017,-0.05964000150561333,-0.05265999957919121,0.14635999500751495,-0.16503000259399414,-0.17117999494075775,0.030220000073313713,-0.25439000129699707,-0.358489990234375,-0.2950200140476227,0.287339985370636,0.13368000090122223,0.30500999093055725,-0.18208999931812286,-0.26649001240730286,-0.10070999711751938,-0.2777099907398224,-0.17011000216007233,-0.3215999901294708,-0.3365100026130676,-0.31452998518943787,-0.03053000010550022,-0.3221200108528137,-0.031190000474452972,-0.30581000447273254,-0.17688000202178955,-0.2878600060939789,0.07407999783754349,0.11542999744415283,0.0036700000055134296,-0.08143000304698944,0.07574000209569931,-0.15211999416351318,-0.014499999582767487,0.13766999542713165,-0.3008800148963928,-0.1430100053548813,-0.3501099944114685,-0.010099999606609344,-0.3235799968242645,-0.2396399974822998,-0.35705000162124634,-0.3573099970817566,-0.21496999263763428,-0.21536999940872192,-0.07552000135183334,-0.19565999507904053,-0.22235000133514404,0.13007999956607819,0.12554000318050385,-0.0021299999207258224,-0.35819000005722046,0.13395999372005463,-0.20985999703407288,-0.017400000244379044,-0.20582999289035797,-0.13450999557971954,0.01998000033199787,-0.2662999927997589,0.26763999462127686,0.20740999281406403,-0.21431000530719757,-0.2973800003528595,-0.34871000051498413,-0.034129999577999115,0.22337999939918518,-0.2437400072813034,-0.32363998889923096,-0.07789000123739243,-0.23520000278949738,-0.1976899951696396,-0.2484399974346161,-0.3287599980831146,-0.19314000010490417,-0.3002299964427948,0.00041000000783242285,0.06897000223398209,-0.047520000487565994,-0.1671600043773651,0.20266999304294586,-0.06503000110387802,-0.09910000115633011,-0.22404000163078308,0.04030999913811684,0.03943999856710434,-0.34575000405311584,-0.020659999921917915,-0.27250999212265015,-0.034170001745224,0.09431000053882599,-0.13644999265670776,0.20889000594615936,-0.08962000161409378,-0.31828999519348145,-0.23366999626159668,0.06194999814033508,0.22788000106811523,-0.30967000126838684,-0.16203999519348145,-0.16696999967098236,-0.3272300064563751,-0.06515999883413315,0.3066900074481964,-0.25635001063346863,-0.3341600000858307,-0.09880000352859497,-0.03869999945163727,-0.08748999983072281,0.2519899904727936,-0.05265999957919121,-0.26563000679016113,-0.1291700005531311,-0.3189300000667572,-0.3359200060367584,-0.3093099892139435,-0.15756000578403473,0.1832199990749359,-0.07354000210762024,-0.1006999984383583,-0.35604000091552734,-0.3212699890136719,-0.33296000957489014,0.08299999684095383,-0.1036200001835823,-0.3585500121116638,0.11546999961137772,-0.19697999954223633,-0.16461999714374542,-0.19022999703884125,-0.2372400015592575,0.023900000378489494,-0.1003199964761734,-0.047529999166727066,-0.07485999912023544,-0.11311999708414078,0.0017900000093504786,-0.08203999698162079,-0.17398999631404877,-0.35304000973701477,-0.10066000372171402,-0.2917400002479553,-0.1170400008559227,-0.1320199966430664,0.21547000110149384,0.23781999945640564,0.08857999742031097,-0.19844000041484833,0.08154000341892242,-0.2077299952507019,0.21367000043392181,-0.3503899872303009,-0.25042998790740967,0.023819999769330025,-0.1425199955701828,-0.23058000206947327,-0.31290000677108765,-0.30070000886917114,-0.221220001578331,-0.0478300005197525,-0.10578999668359756,0.04188999906182289,-0.2739199995994568,-0.29767000675201416,0.15076999366283417,0.0545400008559227,-0.01686999946832657,-0.3461399972438812,0.14071999490261078,-0.04665999859571457,-0.3535799980163574,-0.35927000641822815,0.20397000014781952,-0.1386999934911728,0.23397000133991241,-0.26093000173568726,0.3465299904346466,0.3454900085926056,0.3501099944114685,0.3583199977874756,0.3611699938774109,0.354669988155365,0.35673999786376953,0.34391000866889954,0.35534998774528503,-0.35141000151634216,-0.35141000151634216,-0.35141000151634216,-0.35141000151634216,-0.35141000151634216,-0.35141000151634216,-0.355569988489151,-0.3810099959373474,0.11665999889373779,0.3387100100517273,0.3387100100517273,0.3387100100517273,0.3387100100517273,0.3387100100517273,0.3387100100517273,-0.3810499906539917,-0.3810499906539917,-0.3810499906539917,-0.3810499906539917,-0.3810499906539917,0.3810499906539917,0.3810499906539917,0.3810499906539917,0.3810499906539917,0.3810499906539917,0.3810499906539917,0.3810499906539917,0.3810499906539917,0.3810499906539917,0.3288800120353699,0.2819199860095978,-0.02092999964952469,0.31797000765800476,0.1113400012254715,0.14922000467777252,0.32537999749183655,-0.1436000019311905,0.14036999642848969,-0.10786999762058258,0.25593000650405884,-0.37685999274253845,-0.3676300048828125,-0.35225000977516174,-0.37713998556137085,-0.3701399862766266,-0.35916000604629517,-0.36118999123573303,-0.36987999081611633,-0.37727999687194824,0.3810499906539917,0.3810499906539917,0.3810499906539917,0.3810499906539917,0.3810499906539917,0.3810499906539917,0.3810499906539917,0.3810499906539917,0.38023999333381653,-0.37373000383377075,-0.3387799859046936,-0.35561999678611755,-0.34341999888420105,-0.3544299900531769,-0.35175999999046326,-0.3660700023174286,-0.34606999158859253,-0.35464000701904297,-0.3387100100517273,-0.3387100100517273,-0.3387100100517273,-0.3387100100517273,-0.3387100100517273,-0.3387100100517273,-0.3387100100517273,-0.3387100100517273,0.36823999881744385,0.3561899960041046,0.35857999324798584,0.029200000688433647,-0.3474699854850769,-0.3023500144481659,-0.05841999873518944,-0.29322001338005066,-0.2151300013065338,-0.20081999897956848,0.16256000101566315,0.02711999975144863,-0.1003900021314621,-0.044849999248981476,-0.35161998867988586,0.10147000104188919,0.03313000127673149,-0.09668000042438507,-0.23765000700950623,-0.3734300136566162,-0.0487699992954731,0.15761999785900116,-0.32936999201774597,-0.1544799953699112,0.2683500051498413,-0.33507001399993896,-0.3163599967956543,-0.2630400061607361,-0.28843000531196594,0.046709999442100525,-0.30842000246047974,-0.10997000336647034,-0.26673999428749084,0.13075999915599823,-0.19526000320911407,0.19774000346660614,-0.3292900025844574,-0.3074899911880493,-0.3278299868106842,-0.25325000286102295,-0.3298799991607666,-0.24533000588417053,-0.3514400124549866,-0.2529999911785126,0.09431000053882599,0.006409999914467335,-0.07276000082492828,-0.3017300069332123,-0.16268999874591827,-0.17329999804496765,-0.16588999330997467,-0.07614000141620636,-0.04811999946832657,-0.16952000558376312,-0.058789998292922974,-0.15990999341011047,-0.09128999710083008,0.12483000010251999,-0.06996999680995941,-0.27379000186920166,0.0744900032877922,-0.054420001804828644,-0.11868000030517578,-0.19972999393939972,-0.3194499909877777,0.035739999264478683,-0.14330999553203583,-0.11722999811172485,-0.033319998532533646,-0.35745999217033386,-0.37494999170303345,0.054979998618364334,0.03911000117659569,-0.3230400085449219,-0.22202999889850616,-0.36427000164985657,-0.0514799989759922,-0.3174799978733063,-0.22542999684810638,0.124549999833107,0.14833000302314758,-0.24205000698566437,-0.18925000727176666,-0.3654400110244751,-0.05770000070333481,0.20321999490261078,0.1327899992465973,-0.12987999618053436,-0.19970999658107758,0.0364300012588501,-0.33090001344680786,-0.17268000543117523,-0.05751999840140343,0.10919000208377838,-0.2747899889945984,-0.29232001304626465,-0.015200000256299973,0.0013200000394135714,-0.37665998935699463,0.10918000340461731,-0.27305999398231506,-0.054249998182058334,-0.07182999700307846,-0.32300999760627747,-0.018069999292492867,-0.2175700068473816,-0.2391200065612793,-0.05770000070333481,0.12740999460220337,-0.1128000020980835,-0.12428999692201614,-0.1855199933052063,-0.25995001196861267,-0.30173999071121216,0.0594400018453598,-0.16572999954223633,-0.09775999933481216,0.21040000021457672,-0.331279993057251,-0.36344999074935913,-0.2890700101852417,0.09241999685764313,-0.25885000824928284,-0.23465999960899353,-0.1766500025987625,-0.2841399908065796,-0.3608500063419342,-0.19964000582695007,-0.20397000014781952,-0.26642999053001404,-0.32548999786376953,-0.11168999969959259,-0.18682999908924103,0.03677000105381012,-0.2616400122642517,-0.2626500129699707,-0.03779999911785126,-0.31894001364707947,0.08913999795913696,0.1425500065088272,-0.18007999658584595,0.1824900060892105,-0.07079999893903732,0.06724999845027924,-0.13565999269485474,0.03677000105381012,-0.3787199854850769,-0.2880699932575226,-0.3666900098323822,0.13110999763011932,-0.15605999529361725,-0.10550999641418457,-0.31345000863075256,0.10385999828577042,-0.15634000301361084,-0.13968999683856964,-0.3108299970626831,0.04899999871850014,-0.298770010471344,-0.30768999457359314,-0.08019000291824341,-0.34683001041412354,-0.1475600004196167,-0.3562900125980377,0.1331299990415573,0.037370000034570694,0.20972000062465668,-0.06684999912977219,-0.2543500065803528,0.3265399932861328,-0.08128999918699265,-0.18207000195980072,-0.2503899931907654,0.053700000047683716,-0.14555999636650085,0.08656000345945358,-0.10565999895334244,-0.09279000014066696,-0.17779000103473663,-0.2551099956035614,-0.3241199851036072,0.2598699927330017,-0.06949000060558319,0.15101000666618347,-0.0935399979352951,0.07970000058412552,0.05942000076174736,-0.07525999844074249,-0.36217001080513,-0.20993000268936157,-0.1576700061559677,-0.3550199866294861,-0.1717900037765503,-0.3582899868488312,0.24607999622821808,-0.22032999992370605,-0.14236000180244446,0.3652999997138977,-0.35234999656677246,-0.3583599925041199,0.3713800013065338,0.3685300052165985,0.2957899868488312,-0.02677999995648861,-0.3277899920940399,0.3108299970626831,0.3771600127220154,-0.2585799992084503,-0.06757000088691711,-0.24973000586032867,-0.11253000050783157,-0.37518998980522156,-0.36862999200820923,-0.31922999024391174,-0.10006000101566315,-0.3387100100517273,0.38051000237464905,-0.24305999279022217,-0.14541000127792358,-0.3240300118923187,0.04893999919295311,-0.3569599986076355,0.35436999797821045,0.1902099996805191,0.19950999319553375,-0.35141000151634216,-0.35141000151634216,-0.35141000151634216,-0.35141000151634216,-0.35141000151634216,-0.35141000151634216,-0.35141000151634216,0.2558099925518036,-0.36807000637054443,-0.37669000029563904,-0.3606700003147125,-0.367900013923645,-0.35839998722076416,-0.3571299910545349,-0.3637999892234802,-0.3387100100517273,-0.3387100100517273,-0.3387100100517273,-0.3387100100517273,-0.3387100100517273,-0.3387100100517273,-0.3387100100517273,-0.3387100100517273,-0.3387100100517273,0.3387100100517273,0.3387100100517273,0.3387100100517273,0.3387100100517273,0.3387100100517273,0.3387100100517273,0.3387100100517273,0.3387100100517273,0.3387100100517273,0.23508000373840332,-0.270579993724823,0.14940999448299408,0.15146000683307648,-0.3314000070095062,-0.04521999880671501,-0.0689300000667572,0.052400000393390656,-0.34244000911712646,-0.16672000288963318,0.03285999968647957,-0.13287000358104706,-0.17636999487876892,-0.2988399863243103,-0.17705999314785004,0.10312999784946442,-0.05000999942421913,-0.33191999793052673,-0.3185099959373474,0.2055100053548813,-0.3179300129413605,0.06233999878168106,-0.3061099946498871,-0.008080000057816505,0.37900999188423157,0.38095998764038086,-0.23079000413417816,-0.20632000267505646,-0.10384000092744827,-0.030549999326467514,-0.2718699872493744,-0.23941999673843384,0.11946000158786774,-0.01688000001013279,-0.28101998567581177,0.35284000635147095,-0.12826000154018402,-0.23444999754428864,0.16699999570846558,-0.36719000339508057,-0.3810499906539917,-0.3810499906539917,-0.3810499906539917,-0.3810499906539917,-0.3810499906539917,-0.3810499906539917,-0.37902000546455383,-0.09836000204086304,0.35363999009132385,0.35141000151634216,0.35141000151634216,0.35141000151634216,0.35141000151634216,0.35141000151634216,0.35141000151634216,0.35141000151634216,0.3806400001049042,-0.3747600018978119,-0.3641799986362457,-0.3750399947166443,-0.3569999933242798,-0.3633599877357483,-0.36594000458717346,0.33959999680519104,0.1465499997138977,-0.3387100100517273,-0.3387100100517273,-0.3387100100517273,-0.3387100100517273,-0.3387100100517273,0.22281000018119812,0.3598800003528595,0.3598800003528595,0.3598800003528595,0.3598800003528595,0.3598800003528595,0.3598800003528595,0.3598800003528595,0.3759300112724304,0.37240999937057495,0.3777199983596802,0.3746199905872345,-0.35749000310897827,-0.3577899932861328,0.05505000054836273,0.1798900067806244,0.30834999680519104,0.13056999444961548,0.3575800061225891,0.3161799907684326,0.37630999088287354,0.017669999971985817,0.1429000049829483,0.2910099923610687,0.13145999610424042,0.25178998708724976,0.3691299855709076,0.3677000105381012,0.36838001012802124,0.3711099922657013,0.3584200143814087,0.3758699893951416,0.3743000030517578,0.3594599962234497,-0.15353000164031982,-0.3387100100517273,-0.3387100100517273,-0.3387100100517273,-0.3387100100517273,-0.3387100100517273,-0.3387100100517273,-0.3387100100517273,-0.3387100100517273,-0.3387100100517273,-0.3773399889469147,-0.3810499906539917,-0.3810499906539917,-0.3810499906539917,-0.3810499906539917,-0.3810499906539917,-0.3810499906539917,-0.23904000222682953,0.10264000296592712,-0.30136001110076904,0.011979999952018261,0.3810499906539917,0.3810499906539917,0.3810499906539917,0.3810499906539917,0.3810499906539917,0.3810499906539917,0.3810499906539917,0.2868500053882599,0.3597399890422821,0.35694000124931335,0.3576900064945221,-0.054919999092817307,0.11461000144481659,0.09386000037193298,0.015690000727772713,0.2842499911785126,0.1865299940109253,0.16067999601364136,0.23815999925136566,0.09870000183582306,0.15818999707698822,-0.07553000003099442,0.35168999433517456,0.03782999888062477,0.3637999892234802,-0.15181000530719757,0.1579899936914444,0.26662999391555786,0.03666999936103821,0.2514500021934509,-0.02135000005364418,0.14665000140666962,0.11166000366210938,0.36708998680114746,0.3335700035095215,0.046300001442432404,0.3131999969482422,0.30956000089645386,0.278439998626709,0.18653999269008636,0.2857300043106079,0.20333999395370483,0.0933300033211708,0.06202000007033348,0.0772399976849556,0.3461500108242035,0.11602000147104263,0.29423001408576965,0.28543001413345337,0.12338999658823013,0.26405999064445496,0.1298000067472458,0.27204999327659607,-0.02435999922454357,0.27206000685691833,0.3684999942779541,0.34294000267982483,0.19752000272274017,0.016289999708533287,0.04197999835014343,0.32666999101638794,0.16707000136375427,-0.10764999687671661,0.2545500099658966,0.0926399976015091,0.3090299963951111,0.2825399935245514,0.1809300035238266,0.1774899959564209,-0.03658000007271767,0.3674600124359131,0.051830001175403595,0.34435001015663147,0.1373099982738495,0.32374998927116394,-0.15345999598503113,0.21112999320030212,-0.13395999372005463,-0.1992499977350235,0.020360000431537628,0.25321999192237854,-0.00953999999910593,0.1720999926328659,0.02841000072658062,0.21981999278068542,0.06165999919176102,-0.07337000221014023,0.053289998322725296,-0.3328700065612793,-0.09476999938488007,-0.007300000172108412,0.17547999322414398,-0.01460999995470047,-0.1169700026512146,0.3618899881839752,0.0732399970293045,0.1595499962568283,0.22084000706672668,0.27147001028060913,-0.15444999933242798,0.23691999912261963,0.05609000101685524,0.3048099875450134,0.21010999381542206,-0.28828001022338867,-0.018559999763965607,0.1028200015425682,0.022019999101758003,0.3040800094604492,0.10063999891281128,0.13409000635147095,0.24535000324249268,0.22111999988555908,-0.005470000207424164,0.098580002784729,-0.12400999665260315,-0.17246000468730927,0.20795999467372894,0.32767000794410706,0.12926000356674194,-0.06589999794960022,-0.007439999841153622,0.07947000116109848,-0.11648000031709671,0.14077000319957733,0.3660300076007843,-0.12104000151157379,0.2987000048160553,0.10808999836444855,0.2453099936246872,0.11507000029087067,-0.002630000002682209,0.23191000521183014,0.15918999910354614,0.045010000467300415,-0.19255000352859497,0.23520000278949738,0.28435999155044556,-0.2169400006532669,-0.07855000346899033,0.0643099993467331,0.18006999790668488,0.270579993724823,0.3537200093269348,0.10148999840021133,0.0644799992442131,0.19483999907970428,0.21509000658988953,-0.28167998790740967,0.3637099862098694,-0.2372799962759018,0.1266999989748001,0.16272999346256256,0.2542699873447418,0.20202000439167023,-0.32850000262260437,0.22764000296592712,-0.0021299999207258224,0.18150000274181366,0.23013000190258026,0.01372000016272068,0.24558000266551971,0.05816999822854996,0.2517699897289276,-0.3116300106048584,0.014270000159740448,0.02841999940574169,-0.023679999634623528,0.1650400012731552,0.157260000705719,-0.31356000900268555,-0.004600000102072954,0.26677998900413513,0.01384000014513731,0.2588199973106384,0.02768000029027462,0.26440000534057617,-0.2096100002527237,-0.012129999697208405,0.09386999905109406,0.16040000319480896,0.3497999906539917,0.010300000198185444,-0.26736000180244446,0.37533000111579895,-0.13925999402999878,0.2633199989795685,-0.1046300008893013,-0.022609999403357506,0.03646000102162361,0.11833000183105469,0.2547599971294403,-0.3352400064468384,-0.023730000481009483,0.3678399920463562,-0.22630000114440918,0.2829500138759613,0.15185999870300293,0.2283399999141693,-0.056710001081228256,0.1659799963235855,0.34977999329566956,0.3451499938964844,0.24448999762535095,0.15000000596046448,-0.2531299889087677,0.19327999651432037,0.23327000439167023,-0.18717999756336212,0.164900004863739,0.38016000390052795,0.37553998827934265,-0.3810499906539917,-0.3810499906539917,-0.3810499906539917,-0.3810499906539917,-0.3810499906539917,-0.3810499906539917,-0.3810499906539917,-0.3810499906539917,-0.12660999596118927,0.16795000433921814,0.058240000158548355,0.26923999190330505,0.02889999933540821,-0.024310000240802765,0.1884700059890747,0.3001500070095062,0.35444000363349915,0.3719800114631653,0.3716999888420105,0.3731200098991394,0.3746800124645233,0.37696000933647156,0.34727001190185547,-0.3790299892425537,-0.14805999398231506,-0.08068999648094177,-0.29954999685287476,-0.26212000846862793,-0.10471999645233154,-0.15018999576568604,0.1244800016283989,-0.22662000358104706,-0.1891299933195114,-0.07817000150680542,0.058010000735521317,-0.15680000185966492,-0.3231799900531769,-0.2679400146007538,-0.12496999651193619,-0.12020000070333481,-0.2083899974822998,0.19446000456809998,-0.03214000165462494,-0.21229000389575958,0.006279999855905771,0.1991499960422516,-0.28953999280929565,0.045159999281167984,-0.2534399926662445,-0.018219999969005585,0.02419999986886978,-0.313400000333786,-0.29440999031066895,-0.089819997549057,0.18639999628067017,0.17691999673843384,-0.28044000267982483,-0.045729998499155045,0.06145000085234642,-0.33781999349594116,-0.2797900140285492,-0.03181000053882599,-0.2154500037431717,0.061000000685453415,-0.09352999925613403,-0.31442999839782715,-0.3395499885082245,-0.030409999191761017,-0.20890000462532043,-0.26438000798225403,0.16221000254154205,-0.2839899957180023,-0.2308100014925003,-0.28692999482154846,0.16843000054359436,0.0013699999544769526,-0.02873999997973442,0.14030000567436218,-0.1830199956893921,-0.3487299978733063,-0.1850699931383133,-0.25525999069213867,-0.0014700000174343586,0.04554999992251396,0.17728999257087708,0.15147000551223755,0.09968999773263931,0.0053400001488626,-0.2790899872779846,-0.3570300042629242,0.17462000250816345,-0.2756800055503845,-0.29499000310897827,0.23163999617099762,-0.05375000089406967,-0.12477999925613403,-0.3093299865722656,-0.11084999889135361,-0.16504999995231628,-0.2260199934244156,-0.09769999980926514,0.036090001463890076,-0.2839600145816803,-0.1358100026845932,-0.013170000165700912,-0.1424199938774109,0.12841999530792236,-0.29563000798225403,-0.013939999975264072,-0.3590199947357178,-0.3287700116634369,-0.271369993686676,0.06241999939084053,-0.20577000081539154,-0.2554500102996826,-0.03359000012278557,0.30469998717308044,-0.18569999933242798,-0.27417001128196716,-0.13425999879837036,-0.31088998913764954,-0.2700499892234802,0.12309999763965607,-0.18898999691009521,-0.023579999804496765,-0.1804800033569336,-0.2699199914932251,-0.326200008392334,-0.05502999946475029,-0.2872200012207031,-0.2796199917793274,-0.23767000436782837,-0.24963000416755676,-0.035009998828172684,-0.3464899957180023,-0.13370999693870544,-0.001290000043809414,-0.15148000419139862,0.09122999757528305,0.07774999737739563,0.08709999918937683,-0.2559399902820587,-0.1892399936914444,-0.07588999718427658,-0.010929999873042107,0.07998000085353851,-0.07215999811887741,-0.33956998586654663,0.2610599994659424,0.07208000123500824,-0.1329900026321411,0.09065999835729599,0.16696999967098236,0.28071001172065735,0.07773999869823456,-0.22428999841213226,-0.05561000108718872,0.08218000084161758,-0.34768998622894287,0.1318099945783615,-0.21807999908924103,-0.2237599939107895,-0.35220998525619507,-0.3364599943161011,-0.2476000040769577,-0.3317500054836273,0.031369999051094055,-0.11930999904870987,0.04098999872803688,-0.2963399887084961,0.056540001183748245,-0.1420699954032898,-0.11686000227928162,-0.23161999881267548,-0.14059999585151672,-0.06954000145196915,0.03587000072002411,0.05826999992132187,0.005330000072717667,-0.2602800130844116,-0.1271200031042099,-0.036720000207424164,0.15725000202655792,-0.1865600049495697,0.09576000273227692,-0.2687999904155731,-0.05618000030517578,0.0628499984741211,-0.31894999742507935,0.3605400025844574,-0.1072700023651123,0.14114999771118164,-0.3810499906539917,-0.3810499906539917,-0.3810499906539917,-0.3810499906539917,-0.3810499906539917,-0.3810499906539917,-0.3810499906539917,-0.33882999420166016,0.3810499906539917,0.3810499906539917,0.3810499906539917,0.3810499906539917,0.3810499906539917,0.3810499906539917,0.3810499906539917,-0.013629999943077564,0.10784000158309937,-0.05550999939441681,0.15734000504016876,0.32600998878479004,0.09393999725580215,0.29135000705718994,0.2560099959373474,0.016090000048279762,0.21233999729156494,0.043779999017715454,-0.3810499906539917,-0.3810499906539917,-0.3810499906539917,-0.3810499906539917,-0.3810499906539917,-0.3810499906539917,-0.3810499906539917,-0.3810499906539917,-0.3810499906539917,0.37915000319480896,-0.3810499906539917,-0.3810499906539917,-0.3810499906539917,-0.3810499906539917,-0.3810499906539917,-0.3810499906539917,-0.3810499906539917,-0.2773599922657013,0.35069000720977783,-0.38016000390052795,-0.3387100100517273,-0.3387100100517273,-0.3387100100517273,-0.3387100100517273,-0.3387100100517273,-0.3387100100517273,-0.3387100100517273,-0.3810499906539917,-0.3810499906539917,-0.3810499906539917,-0.3810499906539917,-0.3810499906539917,-0.3810499906539917,-0.3810499906539917,0.19693000614643097,0.3672400116920471,0.3415600061416626,0.3540399968624115,0.35447001457214355,0.3597800135612488,0.3504300117492676,0.3597699999809265,0.3622500002384186,0.15573999285697937,0.14168000221252441,0.31518998742103577,-0.11299999803304672,0.1604900062084198,0.024739999324083328,0.24381999671459198,-0.03596000000834465,0.18407000601291656,0.33138999342918396,0.20779000222682953,0.3598800003528595,0.3598800003528595,0.3598800003528595,0.3598800003528595,0.3598800003528595,0.3598800003528595,0.3598800003528595,0.0430000014603138,-0.026639999821782112,-0.14921000599861145,0.06818000227212906,0.2266799956560135,-0.04975999891757965,-0.37233999371528625,0.37011998891830444,-0.09196999669075012,-0.3663400113582611,0.23161999881267548,0.2639800012111664,0.14284999668598175,0.35537999868392944,-0.24199999868869781,0.33382999897003174,-0.14076000452041626,0.32580000162124634,-0.34828001260757446,-0.35389000177383423,-0.37259000539779663,-0.3702299892902374,-0.376120001077652,-0.37356001138687134,-0.3569999933242798,-0.35385000705718994,-0.3592599928379059,-0.03979000076651573,-0.3387100100517273,-0.3387100100517273,-0.3387100100517273,-0.3387100100517273,-0.3387100100517273,-0.3387100100517273,-0.3387100100517273,-0.37544000148773193,-0.3540399968624115,-0.34975001215934753,-0.34804999828338623,-0.3700900077819824,-0.37735000252723694,-0.37575000524520874,-0.3574399948120117,0.133760005235672,0.24779999256134033,0.06317999958992004,-0.05933000147342682,0.3795599937438965,0.3810499906539917,0.3810499906539917,0.3810499906539917,0.3810499906539917,0.3810499906539917,0.3810499906539917,0.3810499906539917,0.33917999267578125,0.3810499906539917,0.3810499906539917,0.3810499906539917,0.3810499906539917,0.3810499906539917,0.29638999700546265,0.006200000178068876,0.15992000699043274,0.15331000089645386,-0.13887999951839447,-0.1204100027680397,0.1785700023174286,0.2626500129699707,0.19915999472141266,-0.09549999982118607,0.12389999628067017,-0.02761000022292137,0.2503100037574768,0.16088999807834625,0.3598800003528595,0.3598800003528595,0.3598800003528595,0.3598800003528595,0.3598800003528595,0.3598800003528595,0.3598800003528595,-0.3645099997520447,-0.36239999532699585,-0.35433000326156616,-0.3580099940299988,-0.37595999240875244,-0.3778499960899353,-0.3781999945640564],\"type\":\"scatter3d\"}],                        {\"template\":{\"data\":{\"bar\":[{\"error_x\":{\"color\":\"#2a3f5f\"},\"error_y\":{\"color\":\"#2a3f5f\"},\"marker\":{\"line\":{\"color\":\"#E5ECF6\",\"width\":0.5},\"pattern\":{\"fillmode\":\"overlay\",\"size\":10,\"solidity\":0.2}},\"type\":\"bar\"}],\"barpolar\":[{\"marker\":{\"line\":{\"color\":\"#E5ECF6\",\"width\":0.5},\"pattern\":{\"fillmode\":\"overlay\",\"size\":10,\"solidity\":0.2}},\"type\":\"barpolar\"}],\"carpet\":[{\"aaxis\":{\"endlinecolor\":\"#2a3f5f\",\"gridcolor\":\"white\",\"linecolor\":\"white\",\"minorgridcolor\":\"white\",\"startlinecolor\":\"#2a3f5f\"},\"baxis\":{\"endlinecolor\":\"#2a3f5f\",\"gridcolor\":\"white\",\"linecolor\":\"white\",\"minorgridcolor\":\"white\",\"startlinecolor\":\"#2a3f5f\"},\"type\":\"carpet\"}],\"choropleth\":[{\"colorbar\":{\"outlinewidth\":0,\"ticks\":\"\"},\"type\":\"choropleth\"}],\"contour\":[{\"colorbar\":{\"outlinewidth\":0,\"ticks\":\"\"},\"colorscale\":[[0.0,\"#0d0887\"],[0.1111111111111111,\"#46039f\"],[0.2222222222222222,\"#7201a8\"],[0.3333333333333333,\"#9c179e\"],[0.4444444444444444,\"#bd3786\"],[0.5555555555555556,\"#d8576b\"],[0.6666666666666666,\"#ed7953\"],[0.7777777777777778,\"#fb9f3a\"],[0.8888888888888888,\"#fdca26\"],[1.0,\"#f0f921\"]],\"type\":\"contour\"}],\"contourcarpet\":[{\"colorbar\":{\"outlinewidth\":0,\"ticks\":\"\"},\"type\":\"contourcarpet\"}],\"heatmap\":[{\"colorbar\":{\"outlinewidth\":0,\"ticks\":\"\"},\"colorscale\":[[0.0,\"#0d0887\"],[0.1111111111111111,\"#46039f\"],[0.2222222222222222,\"#7201a8\"],[0.3333333333333333,\"#9c179e\"],[0.4444444444444444,\"#bd3786\"],[0.5555555555555556,\"#d8576b\"],[0.6666666666666666,\"#ed7953\"],[0.7777777777777778,\"#fb9f3a\"],[0.8888888888888888,\"#fdca26\"],[1.0,\"#f0f921\"]],\"type\":\"heatmap\"}],\"heatmapgl\":[{\"colorbar\":{\"outlinewidth\":0,\"ticks\":\"\"},\"colorscale\":[[0.0,\"#0d0887\"],[0.1111111111111111,\"#46039f\"],[0.2222222222222222,\"#7201a8\"],[0.3333333333333333,\"#9c179e\"],[0.4444444444444444,\"#bd3786\"],[0.5555555555555556,\"#d8576b\"],[0.6666666666666666,\"#ed7953\"],[0.7777777777777778,\"#fb9f3a\"],[0.8888888888888888,\"#fdca26\"],[1.0,\"#f0f921\"]],\"type\":\"heatmapgl\"}],\"histogram\":[{\"marker\":{\"pattern\":{\"fillmode\":\"overlay\",\"size\":10,\"solidity\":0.2}},\"type\":\"histogram\"}],\"histogram2d\":[{\"colorbar\":{\"outlinewidth\":0,\"ticks\":\"\"},\"colorscale\":[[0.0,\"#0d0887\"],[0.1111111111111111,\"#46039f\"],[0.2222222222222222,\"#7201a8\"],[0.3333333333333333,\"#9c179e\"],[0.4444444444444444,\"#bd3786\"],[0.5555555555555556,\"#d8576b\"],[0.6666666666666666,\"#ed7953\"],[0.7777777777777778,\"#fb9f3a\"],[0.8888888888888888,\"#fdca26\"],[1.0,\"#f0f921\"]],\"type\":\"histogram2d\"}],\"histogram2dcontour\":[{\"colorbar\":{\"outlinewidth\":0,\"ticks\":\"\"},\"colorscale\":[[0.0,\"#0d0887\"],[0.1111111111111111,\"#46039f\"],[0.2222222222222222,\"#7201a8\"],[0.3333333333333333,\"#9c179e\"],[0.4444444444444444,\"#bd3786\"],[0.5555555555555556,\"#d8576b\"],[0.6666666666666666,\"#ed7953\"],[0.7777777777777778,\"#fb9f3a\"],[0.8888888888888888,\"#fdca26\"],[1.0,\"#f0f921\"]],\"type\":\"histogram2dcontour\"}],\"mesh3d\":[{\"colorbar\":{\"outlinewidth\":0,\"ticks\":\"\"},\"type\":\"mesh3d\"}],\"parcoords\":[{\"line\":{\"colorbar\":{\"outlinewidth\":0,\"ticks\":\"\"}},\"type\":\"parcoords\"}],\"pie\":[{\"automargin\":true,\"type\":\"pie\"}],\"scatter\":[{\"marker\":{\"colorbar\":{\"outlinewidth\":0,\"ticks\":\"\"}},\"type\":\"scatter\"}],\"scatter3d\":[{\"line\":{\"colorbar\":{\"outlinewidth\":0,\"ticks\":\"\"}},\"marker\":{\"colorbar\":{\"outlinewidth\":0,\"ticks\":\"\"}},\"type\":\"scatter3d\"}],\"scattercarpet\":[{\"marker\":{\"colorbar\":{\"outlinewidth\":0,\"ticks\":\"\"}},\"type\":\"scattercarpet\"}],\"scattergeo\":[{\"marker\":{\"colorbar\":{\"outlinewidth\":0,\"ticks\":\"\"}},\"type\":\"scattergeo\"}],\"scattergl\":[{\"marker\":{\"colorbar\":{\"outlinewidth\":0,\"ticks\":\"\"}},\"type\":\"scattergl\"}],\"scattermapbox\":[{\"marker\":{\"colorbar\":{\"outlinewidth\":0,\"ticks\":\"\"}},\"type\":\"scattermapbox\"}],\"scatterpolar\":[{\"marker\":{\"colorbar\":{\"outlinewidth\":0,\"ticks\":\"\"}},\"type\":\"scatterpolar\"}],\"scatterpolargl\":[{\"marker\":{\"colorbar\":{\"outlinewidth\":0,\"ticks\":\"\"}},\"type\":\"scatterpolargl\"}],\"scatterternary\":[{\"marker\":{\"colorbar\":{\"outlinewidth\":0,\"ticks\":\"\"}},\"type\":\"scatterternary\"}],\"surface\":[{\"colorbar\":{\"outlinewidth\":0,\"ticks\":\"\"},\"colorscale\":[[0.0,\"#0d0887\"],[0.1111111111111111,\"#46039f\"],[0.2222222222222222,\"#7201a8\"],[0.3333333333333333,\"#9c179e\"],[0.4444444444444444,\"#bd3786\"],[0.5555555555555556,\"#d8576b\"],[0.6666666666666666,\"#ed7953\"],[0.7777777777777778,\"#fb9f3a\"],[0.8888888888888888,\"#fdca26\"],[1.0,\"#f0f921\"]],\"type\":\"surface\"}],\"table\":[{\"cells\":{\"fill\":{\"color\":\"#EBF0F8\"},\"line\":{\"color\":\"white\"}},\"header\":{\"fill\":{\"color\":\"#C8D4E3\"},\"line\":{\"color\":\"white\"}},\"type\":\"table\"}]},\"layout\":{\"annotationdefaults\":{\"arrowcolor\":\"#2a3f5f\",\"arrowhead\":0,\"arrowwidth\":1},\"autotypenumbers\":\"strict\",\"coloraxis\":{\"colorbar\":{\"outlinewidth\":0,\"ticks\":\"\"}},\"colorscale\":{\"diverging\":[[0,\"#8e0152\"],[0.1,\"#c51b7d\"],[0.2,\"#de77ae\"],[0.3,\"#f1b6da\"],[0.4,\"#fde0ef\"],[0.5,\"#f7f7f7\"],[0.6,\"#e6f5d0\"],[0.7,\"#b8e186\"],[0.8,\"#7fbc41\"],[0.9,\"#4d9221\"],[1,\"#276419\"]],\"sequential\":[[0.0,\"#0d0887\"],[0.1111111111111111,\"#46039f\"],[0.2222222222222222,\"#7201a8\"],[0.3333333333333333,\"#9c179e\"],[0.4444444444444444,\"#bd3786\"],[0.5555555555555556,\"#d8576b\"],[0.6666666666666666,\"#ed7953\"],[0.7777777777777778,\"#fb9f3a\"],[0.8888888888888888,\"#fdca26\"],[1.0,\"#f0f921\"]],\"sequentialminus\":[[0.0,\"#0d0887\"],[0.1111111111111111,\"#46039f\"],[0.2222222222222222,\"#7201a8\"],[0.3333333333333333,\"#9c179e\"],[0.4444444444444444,\"#bd3786\"],[0.5555555555555556,\"#d8576b\"],[0.6666666666666666,\"#ed7953\"],[0.7777777777777778,\"#fb9f3a\"],[0.8888888888888888,\"#fdca26\"],[1.0,\"#f0f921\"]]},\"colorway\":[\"#636efa\",\"#EF553B\",\"#00cc96\",\"#ab63fa\",\"#FFA15A\",\"#19d3f3\",\"#FF6692\",\"#B6E880\",\"#FF97FF\",\"#FECB52\"],\"font\":{\"color\":\"#2a3f5f\"},\"geo\":{\"bgcolor\":\"white\",\"lakecolor\":\"white\",\"landcolor\":\"#E5ECF6\",\"showlakes\":true,\"showland\":true,\"subunitcolor\":\"white\"},\"hoverlabel\":{\"align\":\"left\"},\"hovermode\":\"closest\",\"mapbox\":{\"style\":\"light\"},\"paper_bgcolor\":\"white\",\"plot_bgcolor\":\"#E5ECF6\",\"polar\":{\"angularaxis\":{\"gridcolor\":\"white\",\"linecolor\":\"white\",\"ticks\":\"\"},\"bgcolor\":\"#E5ECF6\",\"radialaxis\":{\"gridcolor\":\"white\",\"linecolor\":\"white\",\"ticks\":\"\"}},\"scene\":{\"xaxis\":{\"backgroundcolor\":\"#E5ECF6\",\"gridcolor\":\"white\",\"gridwidth\":2,\"linecolor\":\"white\",\"showbackground\":true,\"ticks\":\"\",\"zerolinecolor\":\"white\"},\"yaxis\":{\"backgroundcolor\":\"#E5ECF6\",\"gridcolor\":\"white\",\"gridwidth\":2,\"linecolor\":\"white\",\"showbackground\":true,\"ticks\":\"\",\"zerolinecolor\":\"white\"},\"zaxis\":{\"backgroundcolor\":\"#E5ECF6\",\"gridcolor\":\"white\",\"gridwidth\":2,\"linecolor\":\"white\",\"showbackground\":true,\"ticks\":\"\",\"zerolinecolor\":\"white\"}},\"shapedefaults\":{\"line\":{\"color\":\"#2a3f5f\"}},\"ternary\":{\"aaxis\":{\"gridcolor\":\"white\",\"linecolor\":\"white\",\"ticks\":\"\"},\"baxis\":{\"gridcolor\":\"white\",\"linecolor\":\"white\",\"ticks\":\"\"},\"bgcolor\":\"#E5ECF6\",\"caxis\":{\"gridcolor\":\"white\",\"linecolor\":\"white\",\"ticks\":\"\"}},\"title\":{\"x\":0.05},\"xaxis\":{\"automargin\":true,\"gridcolor\":\"white\",\"linecolor\":\"white\",\"ticks\":\"\",\"title\":{\"standoff\":15},\"zerolinecolor\":\"white\",\"zerolinewidth\":2},\"yaxis\":{\"automargin\":true,\"gridcolor\":\"white\",\"linecolor\":\"white\",\"ticks\":\"\",\"title\":{\"standoff\":15},\"zerolinecolor\":\"white\",\"zerolinewidth\":2}}},\"scene\":{\"domain\":{\"x\":[0.0,1.0],\"y\":[0.0,1.0]},\"xaxis\":{\"title\":{\"text\":\"x\"}},\"yaxis\":{\"title\":{\"text\":\"y\"}},\"zaxis\":{\"title\":{\"text\":\"z\"}}},\"legend\":{\"tracegroupgap\":0},\"margin\":{\"t\":60}},                        {\"responsive\": true}                    ).then(function(){\n",
              "                            \n",
              "var gd = document.getElementById('a4ba884a-03b0-4af2-9970-d4b760f26a4a');\n",
              "var x = new MutationObserver(function (mutations, observer) {{\n",
              "        var display = window.getComputedStyle(gd).display;\n",
              "        if (!display || display === 'none') {{\n",
              "            console.log([gd, 'removed!']);\n",
              "            Plotly.purge(gd);\n",
              "            observer.disconnect();\n",
              "        }}\n",
              "}});\n",
              "\n",
              "// Listen for the removal of the full notebook cells\n",
              "var notebookContainer = gd.closest('#notebook-container');\n",
              "if (notebookContainer) {{\n",
              "    x.observe(notebookContainer, {childList: true});\n",
              "}}\n",
              "\n",
              "// Listen for the clearing of the current output cell\n",
              "var outputEl = gd.closest('.output');\n",
              "if (outputEl) {{\n",
              "    x.observe(outputEl, {childList: true});\n",
              "}}\n",
              "\n",
              "                        })                };                            </script>        </div>\n",
              "</body>\n",
              "</html>"
            ]
          },
          "metadata": {},
          "output_type": "display_data"
        }
      ],
      "source": [
        "plot_3d_shape(sample[similar_idx].cpu())"
      ]
    },
    {
      "cell_type": "markdown",
      "metadata": {
        "id": "kppFmNVKa2K6"
      },
      "source": [
        "This confirms that our embedding space has a proper arrangement and that our contrastive loss separated different entities successfully."
      ]
    }
  ],
  "metadata": {
    "accelerator": "GPU",
    "colab": {
      "collapsed_sections": [
        "2-pAk_rLhhiV",
        "DQDYyNK_-j--",
        "rEyNxSuPGrHX",
        "Lle1XiGfEsn7",
        "U0QjhMfhJ8W7",
        "J49zjaa5cxRe"
      ],
      "provenance": []
    },
    "kernelspec": {
      "display_name": "contrastive_test",
      "language": "python",
      "name": "python3"
    },
    "language_info": {
      "codemirror_mode": {
        "name": "ipython",
        "version": 3
      },
      "file_extension": ".py",
      "mimetype": "text/x-python",
      "name": "python",
      "nbconvert_exporter": "python",
      "pygments_lexer": "ipython3",
      "version": "3.9.23"
    }
  },
  "nbformat": 4,
  "nbformat_minor": 0
}
