{
  "cells": [
    {
      "cell_type": "markdown",
      "metadata": {
        "id": "JTqAbOIjjSXm"
      },
      "source": [
        "## Contrastive Learning in PyTorch with Point Clouds\n",
        "\n"
      ]
    },
    {
      "cell_type": "markdown",
      "metadata": {
        "id": "2-pAk_rLhhiV"
      },
      "source": [
        "## Installation / Setup"
      ]
    },
    {
      "cell_type": "code",
      "execution_count": 14,
      "metadata": {
        "colab": {
          "base_uri": "https://localhost:8080/"
        },
        "id": "iy3-tXq3i8dO",
        "outputId": "59429cb5-8cb3-4aa3-a78f-c1cb27ba2630"
      },
      "outputs": [
        {
          "name": "stdout",
          "output_type": "stream",
          "text": [
            "Torch version: 2.1.0+cu118\n",
            "CUDA available: False\n",
            "GPU: No GPU\n",
            "PyG installed and working. Sample layer: <class 'torch_geometric.nn.conv.gcn_conv.GCNConv'>\n"
          ]
        }
      ],
      "source": [
        "import torch\n",
        "import torch_geometric\n",
        "\n",
        "print(\"Torch version:\", torch.__version__)\n",
        "print(\"CUDA available:\", torch.cuda.is_available())\n",
        "print(\"GPU:\", torch.cuda.get_device_name(0) if torch.cuda.is_available() else \"No GPU\")\n",
        "\n",
        "from torch_geometric.nn import GCNConv\n",
        "print(\"PyG installed and working. Sample layer:\", GCNConv)"
      ]
    },
    {
      "cell_type": "markdown",
      "metadata": {
        "id": "sH4vLmajhONv"
      },
      "source": [
        "✋ **Note: You'll need to restart your runtime and execute the two cells again.** ✋"
      ]
    },
    {
      "cell_type": "markdown",
      "metadata": {
        "id": "DQDYyNK_-j--"
      },
      "source": [
        "## Dataset\n",
        "\n",
        "Goal:\n",
        "- Self-Supervised Representation Learning of Shapes\n",
        "- Can be used for downstream tasks like clustering, fine-tuning, outlier-detection, ...\n",
        "- Pointcloud = Set of unconnected nodes --> PyG\n",
        "- [ShapeNet Dataset](https://paperswithcode.com/dataset/shapenet) - we just use a subset of classes and act like we didn't have labels\n",
        "- I select 5k data points as otherwise I run out of memory on Colab\n",
        "\n"
      ]
    },
    {
      "cell_type": "code",
      "execution_count": 19,
      "metadata": {
        "colab": {
          "base_uri": "https://localhost:8080/"
        },
        "id": "MtcN0Et2h21F",
        "outputId": "283bfc8d-da6c-4e32-969b-c97ca3188a6c"
      },
      "outputs": [
        {
          "name": "stderr",
          "output_type": "stream",
          "text": [
            "Processing...\n",
            "Done!\n"
          ]
        },
        {
          "name": "stdout",
          "output_type": "stream",
          "text": [
            "Number of Samples:  8000\n",
            "Sample:  Data(x=[2752, 3], y=[2752], pos=[2752, 3], category=[1])\n"
          ]
        }
      ],
      "source": [
        "from torch_geometric.datasets import ShapeNet\n",
        "\n",
        "\n",
        "dataset = ShapeNet(root=\"./ShapeNet\", categories=[\"Airplane\", \"Car\", \"Chair\", \"Table\"]).shuffle()[:8000]\n",
        "\n",
        "print(\"Number of Samples: \", len(dataset))\n",
        "print(\"Sample: \", dataset[0])\n",
        "\n",
        "# dataset = ShapeNet(\n",
        "#     root=\"/home/DAVIDSON/gobaheti/ContrastiveModel_test/ShapeNet\",\n",
        "#     categories=['Airplane'],\n",
        "#     split='train',\n",
        "#     include_normals=True\n",
        "# )\n",
        "\n",
        "\n",
        "# print(f\"Loaded {len(dataset)} samples\")\n"
      ]
    },
    {
      "cell_type": "markdown",
      "metadata": {
        "id": "X05pyLpSiHlB"
      },
      "source": [
        "Attribute Name  | Description\n",
        "-------------------|------------------\n",
        "Pos       | Normalized positions as 3D coordinates\n",
        "X       |  Normal vectors\n",
        "Y       | Class label"
      ]
    },
    {
      "cell_type": "code",
      "execution_count": 20,
      "metadata": {
        "colab": {
          "base_uri": "https://localhost:8080/"
        },
        "id": "tXjyMJP6B3bx",
        "outputId": "568d6384-d83c-4ca8-8001-9f5514be413f"
      },
      "outputs": [
        {
          "data": {
            "text/plain": [
              "tensor([[ 0.1697, -0.1111, -0.1729],\n",
              "        [ 0.1696, -0.1114, -0.2019],\n",
              "        [-0.2431,  0.1683,  0.1178],\n",
              "        ...,\n",
              "        [ 0.1480, -0.1157, -0.1466],\n",
              "        [-0.1245, -0.1185, -0.2848],\n",
              "        [-0.1586, -0.0905,  0.0165]])"
            ]
          },
          "execution_count": 20,
          "metadata": {},
          "output_type": "execute_result"
        }
      ],
      "source": [
        "dataset[0].pos"
      ]
    },
    {
      "cell_type": "markdown",
      "metadata": {
        "id": "SoaKy33ckunB"
      },
      "source": [
        "Let's use plotly to inspect the data ..."
      ]
    },
    {
      "cell_type": "code",
      "execution_count": 21,
      "metadata": {
        "colab": {
          "base_uri": "https://localhost:8080/"
        },
        "id": "XLuBtphVvlMZ",
        "outputId": "9da63d0d-0abb-4042-ce52-479ebea825cc"
      },
      "outputs": [
        {
          "name": "stdout",
          "output_type": "stream",
          "text": [
            "Number of data points:  2635\n"
          ]
        },
        {
          "data": {
            "application/vnd.plotly.v1+json": {
              "config": {
                "plotlyServerURL": "https://plot.ly"
              },
              "data": [
                {
                  "hovertemplate": "x=%{x}<br>y=%{y}<br>z=%{z}<extra></extra>",
                  "legendgroup": "",
                  "marker": {
                    "color": "#636efa",
                    "opacity": 0.3,
                    "symbol": "circle"
                  },
                  "mode": "markers",
                  "name": "",
                  "scene": "scene",
                  "showlegend": false,
                  "type": "scatter3d",
                  "x": {
                    "bdata": "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",
                    "dtype": "f4"
                  },
                  "y": {
                    "bdata": "XHdzvcuhRb0yyci9LlbUvWKhlr0nFCK9M21/vdaoB718D5e8dZMYvbO1Pr0YldQ8u37BvRHfib0xlJO9FjUYve8DEL1xjyW9AG+BvJ0ui71f7369nUZavfT9VL2W7Fi9knlkvcQIYb2qKx+9nwJgvc3MzL1Yc4C9j+SyvUUvI720AoO9VIyzvZPGqL1q3nG9EXDIvYfczL286Cu91T4dvVhWmr0uczo8RKM7vbjMqb3ajxS9D+5OvTz3Hr2fsEQ9Pj8MvLUakr0C1FS9hnKivRr6J70uxVW9JJd/PMISz72Wssy9HxGTvRB1n72rBIu9pb3BvW/1HL057hS8c52GvcpPKr3ikuO8MBKavTnRLr0dlDC9bcV+vHReo73nqQ69IzKsve53qL2jBtM9l611vYasbr0nFCK9FTqvvQFNBL2Kk/u8JXqZvb72zDzYuz+9529CvRg+4r2Pxwy9Bg19vQh3Z71PHha9isiwvK1pXr1lpUm9qpogvdAKDL0B9tG9I/hfvQ/R6Lwi4BC99MMIvYCfsb0ZOQu9IR90vPMCrL3sNJK9WBzOvb0d4bwJG569qFfKvYRkAb2ADvO85ujxvJNSkL3gZ1y9Rzgtve5agr1KRk68ysOCvfpEHr1RoI+9097gvNbFrb0GDX2986s5vUmdgL11yE29EyyOvbSOqr3dXpK9jpJXvV5oLr18REy9w7ucvd3qOb1GtrO98YAyve7rwL0iiV69cHdWvVFrmr38jMu9y0rTvckfDL0AUpu9gGAOvB9Ln731EA28cooOvPm9jb1ATS29B7Gzvbivg71o0JC9XW2FvVrwor0fgJS9rUz4vFovBr2H+XK9n+V5vTxOkb1UqVm9PtAKvUsCVL04+EK9RrZzvRsqhr3Huji9M/nmvYvDGb2Vgm69HhuBvfBQlL0LY4u9I9v5vCodLL1UOti9mpmZvDrpfb35Mea8lLy6vVYr070wRw89EFi5vRYwwb1V3g684q9JvbmNhr1Dyk+9YOVQvbaEvL0Dspe9wmmBvWh5nr34pX69J72vvenUlb0GR4m9NgLxvNyAT72+MBm96LyGvT/jgr1Hd9C9u5snvXUCmr12iWq9lgk/vX2zzT0sK42911GVvaVmj71/vFe9REyJvVc+y7wx68W8Sl6dveQxg71UUie9whemvXFacL2RYRW9lN63vSdrVL3BqKS9YOrnvNPZib1XYEi876zdvPwYc71jnD+98zy4vRRcrLwBh5C9/RNcvfxvJb3ZsRG91v+5vZHyk7yC/627M4plvXL+pr20PA+9u/JZvZbsWL0E5wy90QX1vIQSZr0Tm889saedvXJtKLyKyDC82gMtvBeaa70YCa29rvCuvaOSur1F9Za9Px0Pve+P97wvaQy9IO/VvQdCsr39vKm9m6xRvTV7IL3eVCS9+KV+vWOcv7zwp0a9iJ2pvaIoUL2zB5q9mUf+vHe+n72kcD291hwgvbG/bL07/DW9AcEcvZC93rxqalm9SwKUvcb5G71fKYu9ptWQvaX3zb2iC2q9pFNXvekOYr0ktGW9ZhTLvfcG370C1NS8utqKvWOcv7xdiqs89fOmvVFmw70pPym89iNFvYnSnr06zBe9Ksa5vdIdhL0AUhu95wDBvag1zbysVia9yauzvfnas73CwLO91uJTve1kcL2rsm+9priqvNwRTr10B7G9p3nHPQIOob0CSK297PqFvWnjiL2eB3e9LH1ovbk2lL0+Iqa8s7W+vUD2er0lr069s9IkvTJVML2kNrG9JXUCvWSSEb3ir8m83xpYvRqLpr1VpMK8MUJ4vfCFyb10RpS9YvOxvULsjL2EEma9+u2rvf8EF71bziW9EsKjvATK5r28dBO9uaqsvQUXq736CpK9QDBHvZeoXr02H5e9n8iTvDPcgLxaL4a87GkHvT2blb30Mgq9VaRCvIczP72kcL29M8QxPSlcj73Umua8YoTwvPkUwD0G9S290gDevKciFb0X2c68+puQvYSejb1rt129Iy3Vvaw5gL3ZCIS9KGGmvewvO736RB69mZ4wvQwCq718D5e9CvQJvFdgSL0SvQw9+8uuvVXZd72H+bK9EoNAvGwmX70E5wy8L2kMvIBgDrx381S9jQsHvayt2Lz3ksa8URRova1p3rx+jDm9Q3Odve0qJL0mGTm9ATU1vbPvCrzEXxO9T5IuvfWhi71JLn+9IlQpvS9uo72dunK9xty1vDcagL1SLDe96rKYvcyXl72ze/I7I2dhvUKVmr3EzhS9wLJSvBCShb1RoI+9ylRBvAE1NbxQ5Em9NPSPvVwDW73FPda9RKO7Peaupb2M8ze9qwSLvaX3jb0Hzpm9AG+BvQexM72p3hq9S+qEvYbJVL08MWu9BDkovbjkuLxl/Hs9eJcLvJYmpbufyJM7tFl1vaT8JLyvmXy9OxkcvZp3nL0c8Pm8mZ4wvXl1jr25x1K948KBvJ/Ik7x/E4q9LLzLvOlllL1yis69qFeKvVuxv7xrSFy9NgKxvV6FlLxBZXy9TfglvY51cb1os2q9nS6LvWu3Xb3yQc+8HAiJvfWctL1Q37K9xf6yvXE4s71B8eO9TfOOvZJ0Tb0UeRK9OzYCvbX9q71sIci8c52GvUNzHb2PcNo9znADPe5fWb2zB5q9o3XUvVdbsbzqspi9HM58vbr3cL3SAF69+n5qveqVsr3Y9Qu9ZjGxveSgBL28Ivi8gA7zvHdnbbxDHGu85QpvvK98Fr2qglG9JLRlvaQZC7wMsA+8Y7QOvPqbUL0lehm9cEIhvUmil7zKiba942uPvV+1sr3pZZS9w/Uove/+eL2V1Am9dsO2vJ6YdTx9kVC9vK5fvSvBYryy9KG8x0YgvWUZor2Z06W9RnynvSaqN7z0Mgq94Ep2vas+l72mRBK9DRq6vYCCC72NnAW9P6l2PXzVyryEnk29wCFUvT5csr26ZrK9y9sRvQfw1r0E/1u9FeP8vEgbh70XDoS9nnuPvVrYU72HinG9f6QIvNfdvL2kiMy9IqubvUmdgLycxOA9BrvhvdWytb3HgKy9SNyjvVRvjb1L5e28pMJYvKpDbr3+ZXe9hXzQvC3sab0RcIi9SkZOvduFZrx47j29mwOEvfbuDz06zJc804cuPb1Slr1N84493/3xvOXyH736uDa9KdAnvYqrir15WKi9Di2yvTpdlr0Htoq998ySu3kjs73LZ3m9R1WTvd48Vb3PSW+9x51Svf8+Y739gl29IqtbvSBjbr3K/Y6926JMvQ8oGzyxv2y9vFctvakTkL03/Zm9sW1RvTo7Gb2pMDa9PKWDvTyDBrywyZq9gXhdvcXJfb3ikqO9Iy2VvE/pYL1hw5O9rK1YvTHO37yjBpO95EmSvVfPib0RU+K9MxZNvb/UT70C1FS98+WFvR1ys702PL29J2vUvOdvQr2UE629lPaGvRhbiL27uI29ox7ivS14kb1zEZ+9JvySvSe9r70cJa+9SfQyvYqw4bwEVg69sANnvWQ7X71DxTi9v0iovecAwTvNdRq94h7LvdBEWL0Xmmu8ctwpvecdp7vZQhC90ERYvB+AVLw9D6698gyavaHzmr27uI29RfVWvWYxMb1TkYq9yCSjvaeWrb0iVCm93o6wvQYqY7367Ws6xoWDvYCCi7yc+VU8a5+OPNGRXL29Ooe9Q8pPvUDBhb2pE1C9iEsOvaAar731Z7+9CKwcvTojir1YOTS9yXGnvSqRhL2Uah+9qfZpu+uQG71q+1e9MlpHvZaVpr0ijnW9MQgsvazizb1TrrC9/AAkvEjEFLzQfiS88YCyvaLRHb1z9Hi95paWvQOyV70Fbp29jiNWvQn+N73arPq8dcjNu2oTJ73M7om9CD2bvXh/PL1r1EO9lIfFvd9PjbwFaYa9dY7BvZZDi71cIEG9SaKXvbMHWr3sNFK9/dnPvX2zzb1XQ2K9TYSNvcVySz2uKnu9MuauvH8wcL1xWnC9LsqsveXQIr0MPHe89Zy0vRNJdL0bRyw9RIusvSsTfr3Nddq91GWxvcmODbxKXp28WDm0ve/hEr2dnYy9IxAvverPfr2fjse7ZB75vPiImLwSTou9by+pve1HCjsmqrc8fnSqPR1ys706HrO9o3VUvTHTtr2yYyO9s0EmvdrmxrxkXdy88S4XvayQ8rxA+xG9X9IYvTfDDT1xOLM91sWtvbvyWb33WPq8SFD8vC6txr2S6GW9iLoPvc6luL0mjdG8zXWavTAS2rzPLIm9L4sJvdqs+rzyJOm8L26jvVioNb3nHSe9c4Cgvc7CHrxyFna9tDyPvYuJTb18YbK9picsvX+Hor3i6ZW9lufBvXBfh71eukm9/AAkvTj4wrz8xpe9TYSNve3Tcb1jYrO9Psuzvd1BrL3D2IK9JLm8vbAgTb03pqe9NGiovSe9r70UXCy8knlkvf9bib214IW986u5vWg/kr320am9ipN7vRMnt71UqZm98KIvvevF0L3KFZ69EEBqvaNAHzz6ClK8vD/evNobfL1n1We8iqtKvIqOZLw6Oxm9wi/1vAA6TL12Tx69CaeFvRaHs72YTBW9dAzIPc07Tr2dS3G9e2ugvY1dor0MWZ297lqCvVw9p72Q96q85iK+vFA2Zb188rA9CFqBvXrHqb3TE5a9E7h1vfiqFb2r7Lu84BCqvD1Eo73Oqs+8vR2hvVhWGr15Hly9HVWNvcWPsb3iHou9tTKhvdTUMr2MSuq8i0+BvYy+grwMPLe9+GsyvOc6jbzs+gW9OgZkveKS47zECOG8q7JvvccRa71GtrO99DchvVuxP72rBMu92VqfvVGgz70ebRy9gCtZvU0VDL12Tx69n+V5vZ/NKr3tZHC9wkybvZ+Tnr1xPcq9YOpnvX1cm72cxCA9DtuWvVUThL0bTIO9BtiHvahSs71GQlu9EDuTvZ+wxL3mBZi9XOZ0vfwdirz/5zC9avZAvSv2l72Vn5S97IZtvYzzN72Lw5m8bFuUvPIMGr1xICQ9yTxyvQLxOryEuzO8+puQPd8a2LwiGl29Xb9gvbVPR72TUpC95bhTvS/APr0gDDy9uFhRvWN/mb2H4SO96StIvRKlPb1jtA69hbGFvPOTar0wTCa99b6xve8DkL3JcSe9oRCBvf2kWr0JM229atlaveWzPL2EZIE9Y0UNvUoHq71xPYq9AyZwvdbFbb2tUY+9cM6IvVdD4r2bWja9fZGQvRoXDr2rJog8E2aavVa8kb18YbK9WMqyvQJlk71CPqi9eCjKvYrIML0AUpu9U1zVvUDZFL15Bg29ZOlDvT1hib1i+Ii9mpkZvRHkoL2Eno09kzVqvULsjL1A2ZS89mIove1kcL3434q9pBkLvBlzl72FJR691crEvVQdcr0UImC9eekmvd0khr2Hvya9Pj8MvGL4CLxA2RS99BWkvYBlpT0hzVi9iQwrvXh6JbwyVTC9DoRkvRmQPb06XRa9f2q8vQtGpb1Uxj+9MEePvXh/vDzIXm88XVCfvRDpt7xHA3i9a/GpvVK4Hr1KJFG99YQlvfn3mb05C3u9I/ifvWlSCr3ovMa8L4ayvVpHlb2NnIW8JH8wvU2Ezb2Uah+8oguqPa4qe72cv4m9FK5Hvb06h73IJCO9eNFXPWx4er2uZIe96Nksvc3MTL3/PuO9UvJqvZ26cr1GCA+9d4STvQLxur1h/Z+8N6YnvZcct72TUtA8hlrTPDy9Ur1yFva864sEvcdjhr3/BNe91QmovZYJP7zg80O8KsZ5vaUsg73VeGm9mWRkvd4fb72Iuo+9cLGivV2nEb19rja9j9/bvACMZ72GG3C9AmVTvWpNs720jqq9exSuPBfZjr2CVqC91qiHvchByb2s4s297wOQvWwmX707U2i8yLWhvJUO1r0OT6+9Y39ZvT5ccr3+Zfe8mYFKvccRa70dOGe9p+jIvSmW2z1rn469uVM6vRYTm71yxFq9QGoTvdEim72PpQ+9OsyXPTxm4L28dBO8PGagvfZAq72rCSI8mxtTvVyPgr1Bn0i9bXNjvQAAgL3Ie1W9J6UgvT1JOjzY0w69ksu/vYCfsb28P569bheavOcYkLw0v5q8Gt2BvdI6qrwNN2C9lDCTvcAhVL0aUdq8SYWxvT90gb0RjW68dJgvvWH9H72OBrC9ER5tvQvvsr3430q9LLzLvCDSb731nHS9l3OpvWQ7n72brJG9AHQYvXBfB71Tswe9+u1rvLX9q720PI+9EQGHvYuJjb3YDZu9aNBQvXqqQ71cd7O9HhsBvGUBE70AxrO9/vFevZeoXr39MEK9Tzv8vHWrp72mm4S9AkhtvQCMZ72rz1W8NgJxvOhqK70gtQm924p9vVA25bya6zS9X0axveiH0b1lUy69FjDBvSpvx72wcqi9wCarveLMr70L0gy9uOmPveKS4705fxO9ilmvvZZbWr3JyJm948IBvQtGpb2RCmO9IO9Vva4N1T25Ga69nbqyvayowb15O8K8rhKsvXCxor2cUAi98S6XvdZWbL2dY4C9dTxmvdIdhL1JhbG8Vn2uvDGZKr0K9Im9vt59vTQu3L39vCm8HEKVvdjYJT0RAYe8ZXCUvPCFSb1QjRe9J6AJvAexM704oZC9WTQdvSQLGL1ZUQO9g4b+vE60q70qjK29yauzveS9qr3FPZa9DhCMvXmvWr1V9l292uZGvdr+Fb0cfGG9T8x6vXwPF7wrGBW8O3DOvSBGiL2wA2e9dhppvVysKL2TUtC8z2tsvLyzdr0MPHe86KR3vWVwFLzizK+9ofixvWRdnL2V1Im9INJvvbyRub0CSG29BhKUvZDaRL39gp29PE6RvfbRKb1+AFK91CtlveeMqL3+Zfe86pUyvUpeHb06O9m97BesvR3Jpb3XwJa9dEaUveZ5cL2rPle9/N4mvbK6Vb0xzp+9ndfYvSjypL0bTMO9dCkuvYPAyr1lGeK83bXEvbIRCL0vhrK97s6avUGasbsRja690H6kvS5WVLvttou9N1SMvLU3eL1l/Hu9mxuTvb6HS73f4Mu981SHvew0kr2Lw5m9duCcvQuYgL1qhz+8GH2FvWjLub0gtYm9uY2Gvc07jr0w8Jy9ti2KvUDBRbzCFya9T135vPz7DD0czvy8kxgEvX15Ab30N6G9Y3pCvYwthL0k1mK9pRR0vQ1sFb1/MLC99P2UvQvvsr3sUbi8XkuIvUvqxL1ClZq9XymLvWYUSz0T8kE9FsH/vLgeBb2BISu9D5yzvQ+cs72+2Wa9/wTXvddR1byVn5S9sHJovV97Zr2TGAS9uXCgvUa287zfFcG8CtejOzGUE71GX4G96KT3vMhe77x8Dxe9dAzIvEaxnL1Hj5+9tTJhvTygbL1qEye9g/qWvSzUmr36RJ68GjR0vTUkbr3VyoS9aOgfvCbHHbzlYSG8atmaPVPQrb0rh5a9clBCve58P71YVhq9FQCjvRniWL245Li8mUd+vbdif728eSq9ob6lveM2Gr0mAWq9NbVsvRMnd73e5SK9lMGRvcpPqr0GTKC9r3yWvOiCer1GQpu9jL4CvPCFSb0ipkS9eO49vdyAT72OdbG9XMkOvVIP0bz8GLO9XHKcPcx/iL2+EzO92lWIvVluqb3FPZa8I4SHvUvl7bw/NZ6976xdvXam0LxSSZ29lBPtvPD5Yb2obxk9vHSTvOPHmLzACYW8V+yvvfcGn70Ijza9OswXPY8ZqL0pXA+86SYxvbH5OLwNN6C9AFeyvcb5m73sEpW9W9O8vBzOvL2QvV49j6XPvW/Tn70QO5O9vmplvfvL7rwjFca8VDpYvV1QX73Zd4W9L92kvfbuj72qSMW9Zohjvf/PYb0YfYW9iBGCvbR2W70fEZO9iEZ3vUs8oLzaIJO9jGdQvCeloLx24By9yXGnveNwZr09RKO9I/ifvS4Eub3VW4O9R1WTvbosJr1XsmO9FmpNvWwJeby46U+8JLRlvMdjhr2afLO9Cr/Uvc9J77zS43e85+PavGpqWb1PBoe9LPGAvLsPwL23eo69dEaUvW+BxL2nlq28lIeFPLosJr2vzrG96MHdvFX7dL0oSVe8P8bcvFNc1b2s4g28ZTaIPc6Nqb2k/KS9UYgAPfpEHr1eLqK9Su8bvWOXKLwX1De8UYgAPcQIob0/UkS99rRDvc8syb0bKsa8Jo3RvDBMpr2b5p29O400vdTUMr2X/xC8XdxGvfXzpr2WW5q9oODivdaLIb0joS09LLxLvUq1T71a2FO8E0l0vPZ/Dr2U2aC9ox4ivdB+JL0cQpW98FCUvRYYsr1ui7K9YoTwvPVKWb3Q1Va9gv8tvLX9K72sc4y9V3jXvbYtSr1lAZO97PqFvYfcDL15zMC9BwhmvWwmX7wcfOE9QUgWvZRqnz2wPTO91A5/vdtQsb3kDwa91jkGvekOor1r8Sm9f6QIvNCbCrx/pAi8ZJKRvB6Kwr2ze3K97ZklvUErsL2LiY29MJ5BPUDeK7zePNW8K/aXvdFX0L1u+rO87diIvY8ZKLy2LYq9UMKMvQA6jL1e1y+9/reSPJoIm73RVxC9cTizvT0PbrxpHZW95X6HveLpFbw7qhq8/dkPvOz6hb2z7wq8fERMvSUGgb1ybai9j8L1vNTUsrxenaO9IO9VvQGHkL2w/o+9hUIEvWlSCr1NZye9DRp6vdwpHb24zKm9hzM/vR8Rk72sqEG8clBCvOOItbwVxha9ysOCvSnQJ71FR3K9TOBWvaBsSr2ph2i97fWuvYbmOr2dY0C9RkKbvZnYfL04EJK8NnaJvG0csb2Qg5K9f/ajvbr3cL12plC9zVi0van26bzrqGq926djvYBgDr1RZgO9Ja9OPSnLkL39ao69nu8nvV97Zr0z+Wa9eqqDvQAdZr0FwHi9sMkavWt9Eb2ze/K87rH0vC9pDL3VygS9RnwnvdV4ab1bCLK9RFGgvEF9yz3jNpq9hlpTvJs9ULwC1FS8t39lvV2/oL3pZRS9MgOVvZsgarxA+xG8hnIivSmzgb0nva+9o0CfvHQpLrxdiiu9FW9kvRCShb14CyS9whIPvSLgEL2P5PK89kVCvdxogL2ZnjA8o+lsvOc6jb2h20s90gBevJJ0TbwCDqG8M1AZvcVyyz0yOMq9TkWqvcmwCr3SAJ49Ol0WvaSNI718fpi9HVpkvSNKe73APjq9cv4mvVQ1gb1Oel+8z6ChvVX2nb0k1qK9ayv2vFgcTr3CwHO9qaSOvTgteL1XCZa95nlwvWUBk70SMSW9hxbZPBXGFr1trS+90/YvvZ+whL11drK9EsIjvbSTgb3Th669exSuvfonuD3xY8y9iPRbvZ+T3rz1EM29z2bVvKhXyjwOT688aR2VvayoQb2Xi3i9d0oHvUn0sr2/Zc69PgVAvTqSi73KbNC9WrvtvNAn8rwe/hq8wcUKvIf+Cb0bEve8+BmXvV8Hjr0p6Pa8NSTuvHFasL1/3lS92ZnCvQywD7yhLWe9AACAvQclTLzRlrO9nKKjvdrmxrxz9Pi8ww14vT/jgr1h/Z+8shEIvXgoir3S+8a81c+bvRwISby4kp29yeU/vRdlNr0ep2i9tygzvVXB6L1XeJe9zt/EvXSYr724rwO9oP1IvVJJHb1bJVi9MbF5vKkwtr1FZFi9dEaUvSV1wr057hS8TtERvNvESb2BPtG9SIrIu9Xsgb3ByiE9UAEwvVXBqDzxgLI8hbEFu/Q3ob3Ynlm9pDaxPR7cHb3Sqau9GH2FvXJtKL1RTjS9P4yQva98Fr1XPsu8LlaUvQ2reL1ihHC8ODIPvXYaab0LQc69V2DIvQqirr2k5JW9jumJvf0wgr3U1LK9Atmrvfs/B738Hcq9lQ6WvRSuR70uOa698uocvRQiYLwsvIu9MbF5vfVKWb2TOoG98wKsvV6FFL0jhMc961bPPGZJgLyAYI69taa5vSyfZT3c9Ke9AOMZvXBCIb3kZji9XrpJvVlpUr3+miy9Wg3JvRakmb3l8p+9xvmbuop2Fb24Bra81m67O3lYqL0Q6Te9rW51vIKoe7ihZ7O9kX57vbWmeb3tZHC9wYs+vWkAb73y6hy9v2XOvVdDor0JGx685WEhvH+HIryuR2G9teBFvUbrqLyr7Lu8CFWqvWpqmb2SkTO9tJOBveSghL1D/8S9UaCPPeqVMr3pDqK9INJvvXaJar3RV5C9kZthvb6f2r3Ml9e9zsLevSeIOr0eFmq9rrt5vdaQuL0SiJe9cEKhvRdIUL0cQhW9lialvXug1b21T8e9gJ+xvauyr729HWG9nPnVvakT0Lta2NM8zhlRvdaoB71dFtO97Z48vSbfbL2693C9/yH9vIF4Xb1eY5e9zR6ovX5vk71nDzS9qfapvbu4DbxGQlu9lzldvZJ5ZL2OBrC9aAXGvRqojLwhPJq9ludBvXHJsb1yig685zoNvGsrdr39vCm9/8qKvb0d4bxCW868P8acvWGJB71Fu8q9WP9nvIAOs714tLG9LhyIvUzDsL1A2ZS9+5GivTi+dr1BmjG9jgFZvX5vU73wFki90sbRvf5Dur14uYi9ObSIvRzror3fGli9HvmDvU/pYL1pxqK9acYivSGTDLwxlBO90m+fvU3bP7w6kku9pdqnPFCNF72ER9u9D9Fovb72zLzrrYG8WOeYvddppLzqlbK8d76fvNu/sr3AlWy8T8y6PfrV3L2YhmG9pMKYvbHcUr2R8hO9u5snvR04Z70eigK9WP/nundnbb1uhpu9xAhhvVu2Vr13+Gu9tkowvPgZF72DUUm9MsmIvYYgB73ItSG9kSfJveLML71BSJa97fBXvamkjr3bFmW9M4plvZxtrr0BwRy9Z5sbvVwDW73htGC9vvaMvRnKCb2aCJu9/bypvffMEr29AHu9ih+jvXHml72rPle9n6stvTpYf71nDzS8qROQvcXmY7wTSXS8Wp6HvZJ5ZL1YqDW9w4EQvHUCGryh+LG9a/EpvZ5Bg70dyaW9dqaQvU60q7yinGi9Hm2cvUq1j71pjFa9aFy4vck8sr2vWpm9dCmuvMoadb0LXnS9tkqwvMNkqr1TrvC8ayv2vAk4hLzA7J69O8eAvG3i5Lxt4uS8GcWyvSSclr1Bn4i9WK3MvSTusb0dVY29Jcy0vP63Er3iI2K9uHU3Pabydr0g75W9xOv6vGTMXb2xMwW9dxA7vWmpPL38qXG9twvNvAw897wpPym9ZwodvVg5NL32tMO87WRwvU60K73YgXO9uaXVO9E/gb1BZXy9tRV7vTfgs70+0Aq9QxxrvVQ6WL1Zox69Z2HPvetuHryvWhk8GqN1vc11Gr3zPDi9uVM6vZ0RJT0OSpi9wCarvUd3kL0tz4O96sqnvbPviry5/Ie8Dr6wvWfV57zMerG9dAexvUMEHL1nm5u9IomevXPXEr2FfJC9guKHvQu15r31Slm9Emuxvfc7FL0GR4m94/yNvfd1oL0CZZO9FOiTvb06x72yY6O9YXG4vYZyIr0jFUa80h1EvJI/GL0MdoO9/yF9vf1qDr1mMbG9yNKHvQAAAL1CIQK97ZnlvUFl/LxgPAO93e9QvV5jF7zSxpG9DhDMvd1eUrwCmoi9Q5CDPHh6pbxaL8a9aoc/vJBmLL1dFhO9g4a+PfQyirzBVgm9YqFWvTWYhr2kU1e9OBUpvHRGlL2IY509WfqQvf8h/bzJPLK93xVBvZ2AJr0dAzI95fIfvRiyOr26g1i9ZXCUvWE3rL23tBq91GAavdOkFL02H9e9X0axvahvmT2SdE28H6KRPfoK0rzIBz29xEKtvPKwkL3t9e68Keh2vUkRmb0ao3W9BhKUvULPZr25jYa9fgCSvbthW721/Su9Ga2jvamkTr0djxm9t9EAvSv7Lr3DR4S9xlCOvbMHWr04oRC9cVpwPQNDVr08vdK96/+cvZUrPL0fnbq9xQNKvFN5O720sKe9ctzpvfJ7m72BQ6i9BFaOvdc0b7zRXKe9hjhWvaLuw70421y8AYeQvfiImLxsW5S8fO2ZvPcGX72BCVy9OKHQvQ+X3L2JDKu9jxmovFuZ8LwhPNq8p5EWvGt9kbxRMY69seFpvV5orr1NFYy9/vFevY9TdL35oGe9pBmLvashcb2GAyG9rkdhvdBEWL3SHYS9WOKBvUT6bb23C429KjrSvd4f77w9m9W9J72vvSY2H73D8NG9QX2LvTOKpb2SeeS8q+ckvUG8Lr27uA280ejOvQskKL1+qR+9NIC3vOZ5cL07U6i9FvtLvf6aLL0Hzhm9G0yDvWA8gz1q+5e96lvmO2YUy7wyIHu95biTvX4dOL1/TVa9RG6GvexROL0Z/z69VU3QvULPpr1NSoG9JuSDvH+HIr3VsjW8JjafvewvO71b64u9CqJuvYCCi71xWrC9ITzavP5g4Lzc9Ke9HqfovF3cRr0r3ki9gv+tPIZa07x6jV29/vHevbnfIbyNtJS9xxFrvejZrL14KIq9E9VbvWTMXb12N0+93zc+vEdyeb3rqGq9C++yvcO2hb1ioZa9pTGavXldP7yJmBK9AtRUPOohGr0oSde8+zpwPSApor0Zc5e9z2vsvB1VTb3Wbju9orQ3vSdrVL0LYwu9m/5svYWxBT1633i9ms5OvUX1Vr22Z5a8HLGWvafoyL3KbJC8EOm3vUVkWL237qa9pb1BvXnpJr1W8Ua9je6gvYrIsLz8ACS9ApqIvYRHG708ZqC9wjSMvf/nsL02yCS9xvkbvOV+B70J4VG9RkJbvaZ+Xr3RP8G8Zk7XvaTCWL0BGM+8jQvHvUymCr2RLGC9/RPcvRfZzryqSIW926fjPcIXpr2taZ69dXYyvTMWjb0h6j69J4MjvLe0mr3Qs1k9bRwxvdUhN733zBK93rCtPSV6Gb3LocW9vK7fvcdLt711Apq9TFRvvYj0m70m5IO80AqMvcmwir3/eC+9bM+svSS0pb2OI9a8zzGgvZZDC7xwzgi8gqh7uyJxj70zbX+9lkOLvSjVPr1IxJS9YcPTvePCAb0hByW9MEePvNjwtL1Ah3m8WP9nvQfTML06rzG99u7PvTPhF7ydY0C9EMxRvULPpr1ssoa9Sx+6vS/APr0ps4G9owZTvSYZOb1o6B+83lQkvF5jF7zvOMW9SREZvQfrf70NN+C8c4DgPf8+Y723f2W934mZveHRhr1kWMW9tU9HvUYIj73rbp68nkFDveRJkr2kiAy9aCJsvfrta71Tswe9OjsZvTI9Yb0hH/S7RUeyvSS05bx2T5695q6lvdRgGj30iTy9cLEivZkNMr2/Dty9vtnmvAA6zLxnRKm9RRI9vBH8r73NAYK9eCgKvchBCb1uhpu9zO6JvQwCK72COXq99aGLvTeJQb3YKkG9N+CzvTkoYb0DCQq9l5APvfgZ170HCKa9IhqdvfJ7m72TjJy9lj50vQ+cs73bM4u9Ag7hvXzVir3OxzW9tKvQvTnu1L01DJ+9IZOMvSsYFbzeVCS8T3VIvSo6kj2/Q1G9RggPvWEaBr3v4dK9H506vKX3jb0NiXu9NNdpve9VK7091SG9XRaTvYV8kL0yd629AOMZvajGy70Eyia9PtAKvRHfCT1bsT+8QltOvYe/Jr3ymIG9G0csvRaHs71NobO92ubGvIqryryDF329n3FhvR4z0L0ZraO9JekavSP4n73htOC8fA+XvW8SgzooSVe8rOKNvcx/iL2Kk3u924p9vcy0fb3LLa28Dk+vvJwzorxCJpm91908PX3LnL1vKtK9gGWlvR0gmL2Cyni9G0esvc+goTwgJIu9irDhvN/DJT0dlLC9vJF5vZYJP7zEzpS9HLHWvUxsPr2fsIS9dLWVvQ+cM70TCpG9CANPvV2nkb3VJo69BkygvQywD73FA0q9AwmKPU4Lnr1BfYu91qiHvWWlyT2LiY298tJNvVDfsr3xRma9a5p3vRQ/Rr38AKS9k1LQvEHxY73fFcG8CW05vUBqk733zNK99DKKvLPNjbzdtYS8+N9KvU0VDDzJjg28I/hfvc7HNb0N4C29GoaPvcsQh70nTq69TTKyvQ==",
                    "dtype": "f4"
                  },
                  "z": {
                    "bdata": "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",
                    "dtype": "f4"
                  }
                }
              ],
              "layout": {
                "legend": {
                  "tracegroupgap": 0
                },
                "margin": {
                  "t": 60
                },
                "scene": {
                  "domain": {
                    "x": [
                      0,
                      1
                    ],
                    "y": [
                      0,
                      1
                    ]
                  },
                  "xaxis": {
                    "title": {
                      "text": "x"
                    }
                  },
                  "yaxis": {
                    "title": {
                      "text": "y"
                    }
                  },
                  "zaxis": {
                    "title": {
                      "text": "z"
                    }
                  }
                },
                "template": {
                  "data": {
                    "bar": [
                      {
                        "error_x": {
                          "color": "#2a3f5f"
                        },
                        "error_y": {
                          "color": "#2a3f5f"
                        },
                        "marker": {
                          "line": {
                            "color": "#E5ECF6",
                            "width": 0.5
                          },
                          "pattern": {
                            "fillmode": "overlay",
                            "size": 10,
                            "solidity": 0.2
                          }
                        },
                        "type": "bar"
                      }
                    ],
                    "barpolar": [
                      {
                        "marker": {
                          "line": {
                            "color": "#E5ECF6",
                            "width": 0.5
                          },
                          "pattern": {
                            "fillmode": "overlay",
                            "size": 10,
                            "solidity": 0.2
                          }
                        },
                        "type": "barpolar"
                      }
                    ],
                    "carpet": [
                      {
                        "aaxis": {
                          "endlinecolor": "#2a3f5f",
                          "gridcolor": "white",
                          "linecolor": "white",
                          "minorgridcolor": "white",
                          "startlinecolor": "#2a3f5f"
                        },
                        "baxis": {
                          "endlinecolor": "#2a3f5f",
                          "gridcolor": "white",
                          "linecolor": "white",
                          "minorgridcolor": "white",
                          "startlinecolor": "#2a3f5f"
                        },
                        "type": "carpet"
                      }
                    ],
                    "choropleth": [
                      {
                        "colorbar": {
                          "outlinewidth": 0,
                          "ticks": ""
                        },
                        "type": "choropleth"
                      }
                    ],
                    "contour": [
                      {
                        "colorbar": {
                          "outlinewidth": 0,
                          "ticks": ""
                        },
                        "colorscale": [
                          [
                            0,
                            "#0d0887"
                          ],
                          [
                            0.1111111111111111,
                            "#46039f"
                          ],
                          [
                            0.2222222222222222,
                            "#7201a8"
                          ],
                          [
                            0.3333333333333333,
                            "#9c179e"
                          ],
                          [
                            0.4444444444444444,
                            "#bd3786"
                          ],
                          [
                            0.5555555555555556,
                            "#d8576b"
                          ],
                          [
                            0.6666666666666666,
                            "#ed7953"
                          ],
                          [
                            0.7777777777777778,
                            "#fb9f3a"
                          ],
                          [
                            0.8888888888888888,
                            "#fdca26"
                          ],
                          [
                            1,
                            "#f0f921"
                          ]
                        ],
                        "type": "contour"
                      }
                    ],
                    "contourcarpet": [
                      {
                        "colorbar": {
                          "outlinewidth": 0,
                          "ticks": ""
                        },
                        "type": "contourcarpet"
                      }
                    ],
                    "heatmap": [
                      {
                        "colorbar": {
                          "outlinewidth": 0,
                          "ticks": ""
                        },
                        "colorscale": [
                          [
                            0,
                            "#0d0887"
                          ],
                          [
                            0.1111111111111111,
                            "#46039f"
                          ],
                          [
                            0.2222222222222222,
                            "#7201a8"
                          ],
                          [
                            0.3333333333333333,
                            "#9c179e"
                          ],
                          [
                            0.4444444444444444,
                            "#bd3786"
                          ],
                          [
                            0.5555555555555556,
                            "#d8576b"
                          ],
                          [
                            0.6666666666666666,
                            "#ed7953"
                          ],
                          [
                            0.7777777777777778,
                            "#fb9f3a"
                          ],
                          [
                            0.8888888888888888,
                            "#fdca26"
                          ],
                          [
                            1,
                            "#f0f921"
                          ]
                        ],
                        "type": "heatmap"
                      }
                    ],
                    "histogram": [
                      {
                        "marker": {
                          "pattern": {
                            "fillmode": "overlay",
                            "size": 10,
                            "solidity": 0.2
                          }
                        },
                        "type": "histogram"
                      }
                    ],
                    "histogram2d": [
                      {
                        "colorbar": {
                          "outlinewidth": 0,
                          "ticks": ""
                        },
                        "colorscale": [
                          [
                            0,
                            "#0d0887"
                          ],
                          [
                            0.1111111111111111,
                            "#46039f"
                          ],
                          [
                            0.2222222222222222,
                            "#7201a8"
                          ],
                          [
                            0.3333333333333333,
                            "#9c179e"
                          ],
                          [
                            0.4444444444444444,
                            "#bd3786"
                          ],
                          [
                            0.5555555555555556,
                            "#d8576b"
                          ],
                          [
                            0.6666666666666666,
                            "#ed7953"
                          ],
                          [
                            0.7777777777777778,
                            "#fb9f3a"
                          ],
                          [
                            0.8888888888888888,
                            "#fdca26"
                          ],
                          [
                            1,
                            "#f0f921"
                          ]
                        ],
                        "type": "histogram2d"
                      }
                    ],
                    "histogram2dcontour": [
                      {
                        "colorbar": {
                          "outlinewidth": 0,
                          "ticks": ""
                        },
                        "colorscale": [
                          [
                            0,
                            "#0d0887"
                          ],
                          [
                            0.1111111111111111,
                            "#46039f"
                          ],
                          [
                            0.2222222222222222,
                            "#7201a8"
                          ],
                          [
                            0.3333333333333333,
                            "#9c179e"
                          ],
                          [
                            0.4444444444444444,
                            "#bd3786"
                          ],
                          [
                            0.5555555555555556,
                            "#d8576b"
                          ],
                          [
                            0.6666666666666666,
                            "#ed7953"
                          ],
                          [
                            0.7777777777777778,
                            "#fb9f3a"
                          ],
                          [
                            0.8888888888888888,
                            "#fdca26"
                          ],
                          [
                            1,
                            "#f0f921"
                          ]
                        ],
                        "type": "histogram2dcontour"
                      }
                    ],
                    "mesh3d": [
                      {
                        "colorbar": {
                          "outlinewidth": 0,
                          "ticks": ""
                        },
                        "type": "mesh3d"
                      }
                    ],
                    "parcoords": [
                      {
                        "line": {
                          "colorbar": {
                            "outlinewidth": 0,
                            "ticks": ""
                          }
                        },
                        "type": "parcoords"
                      }
                    ],
                    "pie": [
                      {
                        "automargin": true,
                        "type": "pie"
                      }
                    ],
                    "scatter": [
                      {
                        "fillpattern": {
                          "fillmode": "overlay",
                          "size": 10,
                          "solidity": 0.2
                        },
                        "type": "scatter"
                      }
                    ],
                    "scatter3d": [
                      {
                        "line": {
                          "colorbar": {
                            "outlinewidth": 0,
                            "ticks": ""
                          }
                        },
                        "marker": {
                          "colorbar": {
                            "outlinewidth": 0,
                            "ticks": ""
                          }
                        },
                        "type": "scatter3d"
                      }
                    ],
                    "scattercarpet": [
                      {
                        "marker": {
                          "colorbar": {
                            "outlinewidth": 0,
                            "ticks": ""
                          }
                        },
                        "type": "scattercarpet"
                      }
                    ],
                    "scattergeo": [
                      {
                        "marker": {
                          "colorbar": {
                            "outlinewidth": 0,
                            "ticks": ""
                          }
                        },
                        "type": "scattergeo"
                      }
                    ],
                    "scattergl": [
                      {
                        "marker": {
                          "colorbar": {
                            "outlinewidth": 0,
                            "ticks": ""
                          }
                        },
                        "type": "scattergl"
                      }
                    ],
                    "scattermap": [
                      {
                        "marker": {
                          "colorbar": {
                            "outlinewidth": 0,
                            "ticks": ""
                          }
                        },
                        "type": "scattermap"
                      }
                    ],
                    "scattermapbox": [
                      {
                        "marker": {
                          "colorbar": {
                            "outlinewidth": 0,
                            "ticks": ""
                          }
                        },
                        "type": "scattermapbox"
                      }
                    ],
                    "scatterpolar": [
                      {
                        "marker": {
                          "colorbar": {
                            "outlinewidth": 0,
                            "ticks": ""
                          }
                        },
                        "type": "scatterpolar"
                      }
                    ],
                    "scatterpolargl": [
                      {
                        "marker": {
                          "colorbar": {
                            "outlinewidth": 0,
                            "ticks": ""
                          }
                        },
                        "type": "scatterpolargl"
                      }
                    ],
                    "scatterternary": [
                      {
                        "marker": {
                          "colorbar": {
                            "outlinewidth": 0,
                            "ticks": ""
                          }
                        },
                        "type": "scatterternary"
                      }
                    ],
                    "surface": [
                      {
                        "colorbar": {
                          "outlinewidth": 0,
                          "ticks": ""
                        },
                        "colorscale": [
                          [
                            0,
                            "#0d0887"
                          ],
                          [
                            0.1111111111111111,
                            "#46039f"
                          ],
                          [
                            0.2222222222222222,
                            "#7201a8"
                          ],
                          [
                            0.3333333333333333,
                            "#9c179e"
                          ],
                          [
                            0.4444444444444444,
                            "#bd3786"
                          ],
                          [
                            0.5555555555555556,
                            "#d8576b"
                          ],
                          [
                            0.6666666666666666,
                            "#ed7953"
                          ],
                          [
                            0.7777777777777778,
                            "#fb9f3a"
                          ],
                          [
                            0.8888888888888888,
                            "#fdca26"
                          ],
                          [
                            1,
                            "#f0f921"
                          ]
                        ],
                        "type": "surface"
                      }
                    ],
                    "table": [
                      {
                        "cells": {
                          "fill": {
                            "color": "#EBF0F8"
                          },
                          "line": {
                            "color": "white"
                          }
                        },
                        "header": {
                          "fill": {
                            "color": "#C8D4E3"
                          },
                          "line": {
                            "color": "white"
                          }
                        },
                        "type": "table"
                      }
                    ]
                  },
                  "layout": {
                    "annotationdefaults": {
                      "arrowcolor": "#2a3f5f",
                      "arrowhead": 0,
                      "arrowwidth": 1
                    },
                    "autotypenumbers": "strict",
                    "coloraxis": {
                      "colorbar": {
                        "outlinewidth": 0,
                        "ticks": ""
                      }
                    },
                    "colorscale": {
                      "diverging": [
                        [
                          0,
                          "#8e0152"
                        ],
                        [
                          0.1,
                          "#c51b7d"
                        ],
                        [
                          0.2,
                          "#de77ae"
                        ],
                        [
                          0.3,
                          "#f1b6da"
                        ],
                        [
                          0.4,
                          "#fde0ef"
                        ],
                        [
                          0.5,
                          "#f7f7f7"
                        ],
                        [
                          0.6,
                          "#e6f5d0"
                        ],
                        [
                          0.7,
                          "#b8e186"
                        ],
                        [
                          0.8,
                          "#7fbc41"
                        ],
                        [
                          0.9,
                          "#4d9221"
                        ],
                        [
                          1,
                          "#276419"
                        ]
                      ],
                      "sequential": [
                        [
                          0,
                          "#0d0887"
                        ],
                        [
                          0.1111111111111111,
                          "#46039f"
                        ],
                        [
                          0.2222222222222222,
                          "#7201a8"
                        ],
                        [
                          0.3333333333333333,
                          "#9c179e"
                        ],
                        [
                          0.4444444444444444,
                          "#bd3786"
                        ],
                        [
                          0.5555555555555556,
                          "#d8576b"
                        ],
                        [
                          0.6666666666666666,
                          "#ed7953"
                        ],
                        [
                          0.7777777777777778,
                          "#fb9f3a"
                        ],
                        [
                          0.8888888888888888,
                          "#fdca26"
                        ],
                        [
                          1,
                          "#f0f921"
                        ]
                      ],
                      "sequentialminus": [
                        [
                          0,
                          "#0d0887"
                        ],
                        [
                          0.1111111111111111,
                          "#46039f"
                        ],
                        [
                          0.2222222222222222,
                          "#7201a8"
                        ],
                        [
                          0.3333333333333333,
                          "#9c179e"
                        ],
                        [
                          0.4444444444444444,
                          "#bd3786"
                        ],
                        [
                          0.5555555555555556,
                          "#d8576b"
                        ],
                        [
                          0.6666666666666666,
                          "#ed7953"
                        ],
                        [
                          0.7777777777777778,
                          "#fb9f3a"
                        ],
                        [
                          0.8888888888888888,
                          "#fdca26"
                        ],
                        [
                          1,
                          "#f0f921"
                        ]
                      ]
                    },
                    "colorway": [
                      "#636efa",
                      "#EF553B",
                      "#00cc96",
                      "#ab63fa",
                      "#FFA15A",
                      "#19d3f3",
                      "#FF6692",
                      "#B6E880",
                      "#FF97FF",
                      "#FECB52"
                    ],
                    "font": {
                      "color": "#2a3f5f"
                    },
                    "geo": {
                      "bgcolor": "white",
                      "lakecolor": "white",
                      "landcolor": "#E5ECF6",
                      "showlakes": true,
                      "showland": true,
                      "subunitcolor": "white"
                    },
                    "hoverlabel": {
                      "align": "left"
                    },
                    "hovermode": "closest",
                    "mapbox": {
                      "style": "light"
                    },
                    "paper_bgcolor": "white",
                    "plot_bgcolor": "#E5ECF6",
                    "polar": {
                      "angularaxis": {
                        "gridcolor": "white",
                        "linecolor": "white",
                        "ticks": ""
                      },
                      "bgcolor": "#E5ECF6",
                      "radialaxis": {
                        "gridcolor": "white",
                        "linecolor": "white",
                        "ticks": ""
                      }
                    },
                    "scene": {
                      "xaxis": {
                        "backgroundcolor": "#E5ECF6",
                        "gridcolor": "white",
                        "gridwidth": 2,
                        "linecolor": "white",
                        "showbackground": true,
                        "ticks": "",
                        "zerolinecolor": "white"
                      },
                      "yaxis": {
                        "backgroundcolor": "#E5ECF6",
                        "gridcolor": "white",
                        "gridwidth": 2,
                        "linecolor": "white",
                        "showbackground": true,
                        "ticks": "",
                        "zerolinecolor": "white"
                      },
                      "zaxis": {
                        "backgroundcolor": "#E5ECF6",
                        "gridcolor": "white",
                        "gridwidth": 2,
                        "linecolor": "white",
                        "showbackground": true,
                        "ticks": "",
                        "zerolinecolor": "white"
                      }
                    },
                    "shapedefaults": {
                      "line": {
                        "color": "#2a3f5f"
                      }
                    },
                    "ternary": {
                      "aaxis": {
                        "gridcolor": "white",
                        "linecolor": "white",
                        "ticks": ""
                      },
                      "baxis": {
                        "gridcolor": "white",
                        "linecolor": "white",
                        "ticks": ""
                      },
                      "bgcolor": "#E5ECF6",
                      "caxis": {
                        "gridcolor": "white",
                        "linecolor": "white",
                        "ticks": ""
                      }
                    },
                    "title": {
                      "x": 0.05
                    },
                    "xaxis": {
                      "automargin": true,
                      "gridcolor": "white",
                      "linecolor": "white",
                      "ticks": "",
                      "title": {
                        "standoff": 15
                      },
                      "zerolinecolor": "white",
                      "zerolinewidth": 2
                    },
                    "yaxis": {
                      "automargin": true,
                      "gridcolor": "white",
                      "linecolor": "white",
                      "ticks": "",
                      "title": {
                        "standoff": 15
                      },
                      "zerolinecolor": "white",
                      "zerolinewidth": 2
                    }
                  }
                }
              }
            }
          },
          "metadata": {},
          "output_type": "display_data"
        }
      ],
      "source": [
        "#!pip install plotly --quiet\n",
        "import plotly.express as px\n",
        "\n",
        "def plot_3d_shape(shape):\n",
        "    print(\"Number of data points: \", shape.x.shape[0])\n",
        "    x = shape.pos[:, 0]\n",
        "    y = shape.pos[:, 1]\n",
        "    z = shape.pos[:, 2]\n",
        "    fig = px.scatter_3d(x=x, y=y, z=z, opacity=0.3)\n",
        "    fig.show()\n",
        "\n",
        "# Pick a sample\n",
        "sample_idx = 3\n",
        "plot_3d_shape(dataset[sample_idx])"
      ]
    },
    {
      "cell_type": "code",
      "execution_count": 22,
      "metadata": {
        "colab": {
          "base_uri": "https://localhost:8080/"
        },
        "id": "_R4TFMbclLij",
        "outputId": "5baaa657-f224-43ca-d5bb-8b9be0584ee4"
      },
      "outputs": [
        {
          "data": {
            "text/plain": [
              "{'Airplane': 1769, 'Car': 577, 'Chair': 2314, 'Table': 3340}"
            ]
          },
          "execution_count": 22,
          "metadata": {},
          "output_type": "execute_result"
        }
      ],
      "source": [
        "# Let's check the distribution of classes\n",
        "cat_dict = {key: 0 for key in dataset.categories}\n",
        "for datapoint in dataset: cat_dict[dataset.categories[datapoint.category.int()]]+=1\n",
        "cat_dict"
      ]
    },
    {
      "cell_type": "markdown",
      "metadata": {
        "id": "rEyNxSuPGrHX"
      },
      "source": [
        "## Data Preparation\n",
        "\n",
        "- In some scenarios it makes sense to pre-compute the augmentations (for example if heavy computations are involved)\n",
        "- This would require to store multiple Data Points in one Data Object, which is possible in PyTorch\n",
        "- Here we will compute the augmentations on the fly and use the below transformations for this\n",
        "- Later, for each data point we will need 2 augmentations (positive pair)\n",
        "- What are good augmentations for Point Clouds?\n",
        "    - Rotation (if the used layer is not rotation invariant)\n",
        "    - Jittering (can be seen as adding noise to the coordinates)\n",
        "    - Shifting / Shearing\n",
        "    - ... many more\n",
        "\n",
        "\n"
      ]
    },
    {
      "cell_type": "code",
      "execution_count": 23,
      "metadata": {
        "id": "tlOnmFOUd9OP"
      },
      "outputs": [],
      "source": [
        "from torch_geometric.loader import DataLoader\n",
        "import torch_geometric.transforms as T\n",
        "\n",
        "data_loader = DataLoader(dataset, batch_size=32, shuffle=True)\n",
        "\n",
        "# We're lucky and pytorch geometric helps us with pre-implemented transforms\n",
        "# which can also be applied on the whole batch directly\n",
        "augmentation = T.Compose([T.RandomJitter(0.03), T.RandomFlip(1), T.RandomShear(0.2)])"
      ]
    },
    {
      "cell_type": "markdown",
      "metadata": {
        "id": "ce7gMHZQH54Q"
      },
      "source": [
        "Let's have a look at some samples ..."
      ]
    },
    {
      "cell_type": "code",
      "execution_count": 26,
      "metadata": {
        "colab": {
          "base_uri": "https://localhost:8080/"
        },
        "id": "9rVbZMjDkjRm",
        "outputId": "163a5814-cdfa-4f10-c6ed-41ae708a2c4a"
      },
      "outputs": [
        {
          "name": "stdout",
          "output_type": "stream",
          "text": [
            "Number of data points:  2552\n"
          ]
        },
        {
          "data": {
            "application/vnd.plotly.v1+json": {
              "config": {
                "plotlyServerURL": "https://plot.ly"
              },
              "data": [
                {
                  "hovertemplate": "x=%{x}<br>y=%{y}<br>z=%{z}<extra></extra>",
                  "legendgroup": "",
                  "marker": {
                    "color": "#636efa",
                    "opacity": 0.3,
                    "symbol": "circle"
                  },
                  "mode": "markers",
                  "name": "",
                  "scene": "scene",
                  "showlegend": false,
                  "type": "scatter3d",
                  "x": {
                    "bdata": "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",
                    "dtype": "f4"
                  },
                  "y": {
                    "bdata": "WKi1vc3kG73ZCES9s7U+vcUDSr19XBs9L1E9vbOYWL0VjEq9Cr9UvaDgYr05KGG9rvAuvX9NVrzGv0+8e2ZJvW5Mj71hjh69saIGvRea67wfaAW9Z9VnvKytWL0QBh69V7JjvRjsBr147j09tcOfvQEYTzpL5W27CyQovbSOKr2YUSy9RQ0mvT4FQL0L0gy97ginvIhLDr1lARO94ukVvZkqGL2qKx+9R1UTvVhWGr3gLZA9jV2ivJxQiDpXIeW82SUqvWR1K720sCe9I74TvSLgEL294xS9O8cAvUvl7bxAh3m8TdaovMpskLwk0Uu826djvSI3w7xhpq29smg6vYdQJbymft48eViovVPL1ryp9mm9TrQrvW0cMb1NZye9Gm6AvWQ7X70HCOa8Eye3vTuNNL13hNO81eyBvUX11rtMpoq9cT2KvVrYU7wfnTq8p3QwvQDjGb2fyBO948cYvYNpGL1z1xK9m+YdvSqMLb2H4SO9zt8Eve31br3Taki9Vft0vZrOTr0f14a8YDyDvJJ0jb1NZye9QZ/IvNPBer0DlbE9fXmBvQhagb2x3FI9ufwHvXMRX721VF69QNmUvNbiU70rwaK9XW1FvUxsPr2W7Ji9mYGKPffMEjn7roi9umuJvW1Wfb3RP4E9VpqUvTjb3LtTy1a9JNFLvdklqrxaLwa96gQ0vem3L70o8iS9raMqvQNbJb29Osc6a4IovZhp+7xa8CK9IqZEvfT9VDt4Yla9gqh7uHbgHL17gy+9dCkuvLecS72z7wq8pfeNvHicIr3G4cy8ByXMu482jrt88jC8+mEEu+PHGL0XSFC96X3jvGiu07wd5su8WJCmvfaXXb3OcAO9/B2KvMpsEL0JFge9JlMFvRGN7rzm6PG89Ik8vZZ4QL0Mk6m9q1s9vX50ar1LPCC8PIOGvYZaUzywj069ONvcu7+aA73cgE+9dLUVvQcljL1/hyK7gLdAvdmZQr245Di9X5hMvVg5NLwsvIu9Fk2nvUPKT725/Ie8j/zBvJoIG73jx5i8M4plvYW2HL1tqBi9fgCSvZ8fhr2I13W9uaVVu2xDRbs1KYW914YKvY/C9bsuBDm9BW5dvSnodryk3z68xr9PvBSuh7228328j1O0PYjXdb1xAz696lvmu6DgYr3YDdu8/g6Fvdb/Ob1324W98tKNvXGsi7wSa/G8S8gHvUku/7zCL/W8hbEFvc+DO71yM1y6l+IqvHy4ZLuiXYW9e9rhvLUakr3y7zO9+u1ruhk5C73qBDS9tLAnvQ1sFTr7eVO9jKGcu7pOI70Kuj29/mV3vac/e70JGx68AG8BvA8LtbzwxCy9WRc3vWr2QL23ek696WD9vLADZ7zFA4q90xMWvBPyQb1rmne9IxVGvVJJnb0Dz728z06GvVBTi73sElW911GVvT9XW73JkyS9Nh9XvLlTOr2hLWe85E7pvHOAYL1J9DK94h5LvRQ/Rr3x16S9N8MNvb8OHL3zAuy8s3vyOmjonzqjBtM6idLeOup4zDqpagI7Vg6tve/mqbxwCFW9kj8YvWLWC72jryC9m1UfvQB0GL3Jjg29Ke0Nvcv497xClRq9wqMNvYaPCL2unhO97bYLvZdzKb2+3v28ti1KvLO1vrsm/FK98MSsvUG3l7u4HoW8n3FhvCO+E73LEEe97Z48vRsSd7vr4ja9q7JvvfkUgL0eG4G9JnCrvaGEGbyze3K7lYJuva62Yr2YNEa9RfVWvddRVb0MB0K91T6dPaJdhbxSflK9ZcIvvX2RULxRFGi9cjNcvO0NvrqJJHq9oDJ+vXe+n7wr3ki9rwh+vT4/jLy8eaq8GvqnvfcBSL0PYme9o68gvW6LMr0j88i83+CLvVPLVrzso1O9t5yLvTQRNr1OuUK9e2ZJvZijR71+xgW95suLvco3W70s1Bq9SgdrveDzQ72FmTa9sOYAvV5jF7x7a2C9xeZjvR04Z71mZma9095gvQCuZL1ubky9b0c4vQIOIb1H5hG9UkkdvXWTGL1SLDe8mFEsvSkFXTzWbju8QMFFvOfjWrx88jC8NLqDu+iCer1nCh298fSKvfCirzpoyzm8JAsYvMcuUb23eo69a30RvXXlM7we/hq9Yr68vOLpFb2YwC29V2BIveZ0Wb3o9hK9Tx6WvXi0cb1b0zy9Z/JNvY5Yi70UXCy7za9mOdMwfL3T3qC9vw4cvXdn7bxbfAq9jErquww8d70TSXS9DYl7vaZheL1zhXe9lj50vU3WKL00vxq99kArvRRcrLxmiGO9CFVqvWK+PLuZu5Y6Olh/PTAqKb2k/CS9O8eAvQKaiL3XF4m909mJvT4FQLw7U+i7/WqOvcDPuLq9++O83NcBvSMVRr05RUe9s5hYvRgmU72MEJ69n6stvKciFb03Nya9t0UZvUd3EL2obxm9mggbvQn5IL27Jw+9uMxpvQ6EZL3ytWe9RdhwveDWXb1yM9y8ak3zvJ268rz2RUK9iZgSvZeonr3Wbru8m+YdvcHKIb1kXVy9w0dEvQStwLwaho+7IJgjvf8+o717FC69rvWFvZlH/jrfbHO9cjPcu2HDU70ArmS9X9KYvbR227xkO9+8saIGvc9r7LyiC+q8jkC8vEEOir1cWo299Bo7vSgs8TkiGp09davnu1PQbb0/AKm8M/59vVX7dL3kTmm8NUFUvTxmoL1o6J+6+GsyvXv3R70MAiu9Ne84vfT91LwSiFe9MA2Dva9fML09RCO93zInvUs8IL2FlB+9e2tgvYmYEr14KAq9cooOvSV6Gb2lFHS91oshvILFYTwX2U69iIBDvWACN7w8gwa9iEsOvRqoDL3pDmK9D5wzvT4iprvZCES96j4Avb68gL3D2EK9e4MvvRrdQb0IPRu9U9DtvNJSeb06XRa9lbcjvf4mFL3dmB67aOgfvMxAZb27D0C9WDk0vKTHb73EJUe9gqj7NzHrxbzNAQK9Dvi8PTaTr71YyjK9uXAgvdP2L73F/jK9Kh0svfceLr0U6BO904cuvZHyE71hbCG9P5EnvWHgOb2ad5y9Uiy3O0OQg72sxSe9xsRmvbQ8D73T2cm8X5hMvZzc77xJLv+8xjNovd/98TyamZm9dJgvvfrt67pVana6UkkdOr06R7nNr2a5qFKzvCgPC73Jq3O9vfvjvGt9kb0u51K98WNMvYBgDrzEmV+9tJOBvYKoezlDkAO8s++KOrHc0rw0aOi8/YLdvF1tRbyX/xC9rMUnua6eE7wmxx29IQclveyGbb3NzMy7YKsEvVGIAL3FOH+97493verPfr3Zd4W9SiTRvEF9y7whyIG9SgyCvRPygb0EHIK9i0+BvWk6O72byTe9jPM3veWzPL2xp529bjSAvGO0Dr1KJNG8o8wGvVUYW72yEYi9gc8PvanBNL3aci69x2gdvcwLML11Ahq9iJ0pvbX9K73N5Bu9RzgtveI7Mb0Hzhm9/wkuvb/xNb2ns5O9yxBHvIKo+7p63/i8cTjzvOik97yoHf68IGPuvOVhIbycoiO9Crq9u+WzPL2lTkC9t11ovQisHL1JgBq9uqC+vCHqPr0YlVS978lDvTLJSL37BTu9YeA5vUbrqL3KVEG8M9yAvQSQWrwSTou9hj3tu3ZUtb2E9X+95uhxvRtHrDzXEvK8C7WmvXB8bb3kMQO9lIcFvZXUCb0PRQG9jXoIvWFxuD2BIau8ea9avUesRb2FsYU6AtRUvDHT9rz3zBI6smi6vUurIb3iI2K9KpFEvbHh6bwg71W9ud8hvXfWbr2VSKK8A0NWvTEIrLvIQQm9QkP/u3SYL710KS691pA4vZwWvLt5WKi8fZFQvanBNL0+lj69PIOGvZc5nb0kCxi6otEdvdXsgbxcGyq9aCJsvSMtlbzdQWw9BHN0u5wzor1ApF+8wHiGvSYZOb0IrJy9/YLdOoKoe72CHJS7CoDxuwoRcL0b9ZC9wypevNxLmr3O/Gq9X0YxvOAtELwmxx28B0IyvJp8Mz24AZ+84X+rveF/K724rwO9zemyvO/+eL0S2nK9FVcVvTPhl7wJxGu8B+t/vY+NgL2r5yS9mggbvURMCb1yig69ZJIRvU2EDb1WvBG9d0oHvezAub3KTyq9xty1uwdCMrtQwky9AyZwvQN4i722+BS9bEPFvEGC4ryIEcK8rmTHvBNJdL01QVS9X5hMvVPoPL0Htkq9cr+Dvb8rgr06kou9aVKKvUYID71aLwa9pu1fve7rQL1E3Qe9picsvbnCO7z/eC+8PDHrvBQ/Rr1OtKs649+nvcqJdr0YeO487zhFvT7Qir3A7B483ZievY82Dr2JDKu8NEuCvYxKqr2utmK9M/59vTGxeb3UDn+9vk1/vdGWc71XJny9zekyvQaee73wiuA8eqWsvTSdHb1WmpS9L2mMvez6hb0ukCC9ZB55vfCiL71AMIe9wOwePAxZnb0kl/+6vHSTu8CVbLuYUSy90NA/vY3ROr2d9D69RRI9vSaNUbzsF2y9thDkOmYUi71uFxq9aVIKvcdjBr2z0qS7aAWGuwEYz7torlO7wOyeu7osJr0/kae9ArduveRmuLxd+Sy9r1qZusnIWb0aboC9QYJivWVTrjqNCwe9LNSavM2v5jgFhqy9zcxMvYkHlL3uWoK9LPGAvRYwgb0H6/+795LGvIWxhTq7mye8WBxOvEKVGr06Oxm9f4ciu/tcrb00S4K9U5ahve0qJLxrn448hjhWvXtmSb2w/k+9PWGJvbHcUjxgHx29yR8MvUvNHr2h85q9ZAaqvd/4mr3nAEG99+RhvRe30bo4+EK82gMtvMh7VbwLDJm9JlOFvd5xirxTXFW9YqFWvfpEHryuu3m9nil0vWoTp72jQB+8hc5rvQeZZL0rweK8s++Ku8AEbr2UE229f8FuvQoRcL0OhGS9hbGFOiQLmDrdmJ46WHOAOjHrxTqcUIg6NUbru0X1VrwiVKm8dQIaPVGlZj37OnC948KBOg4ySb1SflK96rIYvQtji700hU69FFwsvLoxPb0j+F+9zqrPvG8vab1fKYu9O400vQk4BLwu/yG9F7dROTtwzjzBbti84Zf6vALU1LzOiNK8O99PvfwYc72pagK93EYDvTIge73T2Um9j/xBu8NkKrx/ary78KdGves5ab2H+XK9bqMBvZJ0jb1/ajy895LGu4aPCL2Fd7m8f2o8vYo8ib3uztq8picsvflJNb3lYSG9VcEoveDW3bz6RJ68B0KyOuG04Lww8Ny8Pj+MOmXfFb2ZDbK9uYhvvZPGaL3bxEm96LxGvSyaTr0YlVS9LudSvVcmfLyx3NK805/9vD24O73/z2G9dOrKvCS05bxkkpG8J6CJvMHFirwdrP+8dcjNu7K6Vb0MWV28nBY8vOqVMrycM6K84syvPPD5ob2Ens28UFOLvTNQGb0SvQy9r0JKvdI6Kr3pQxe9oBUYvQfTML1ETIm9nS6LvREerb1zSys9b/UcvWmM1rzFcou9bCZfvX3oArzja0+9ceZXvZ3XWL1orlO9WthTvapgVL2bPdC8YtaLvWKhVj35gwG9is2HvckCpj3EfLm9yZMkvfJBT70ng6O78FAUvWwJeTpYc4A648KBOoWxhTrkTmk6yY6NOu31br1i+Ii85nSZvRb2NL0+rg29BOcMu70Yir1tkIm9RRK9vMmwir3whYm9B/AWPQYq47xxWnA9KA+LvdvEib0wKqm90A8jvTQRNr1yUMK7WHOAvQmKH707qhq6E0l0vNy6m737roi9DcOHvd1BbLxnCp28fPIwPEUvo70s8YC9nil0vQywj7xGQlu9O/w1vRHHurscQhW85dAivV0zub1JERm9QWX8vM5wA72skPK8U9DtvKnZA70gQfG8MdP2vLHc0rwMPHe9ejarvGDNAb35FAC98IXJu56Y9Tykx2+9by9pvYuJzbxV3o67x2gdvW6GG71JgBq9O6oavRjsBr082ji9vw4cvcstLbzvAxA94nX9vB0gGL2c4Qa9ONtcu/FLfb30Gju8ODIPvO5aQr1vu1C9z/dTvYPASr2Vn1S9FCLgOv2HdL0NGrq97yB2vehNRb15Xb+7uaXVu3y4ZLsOT6+7VmXfvArXozq2LUo8WP/nOp/leT3O3wS92SUqve8DEL0R3wm91q0evUMEHL0RAYe92CpBvHUCmrsfheu8bm5MvXjRV70OFWO8ZhRLvaM7iDyMZ9C6aAUGPBObj7zFjzG96N6DvfsiIb1d/kO9XW2FvSKmRL11djK9j/yBvdXKBL22SrC7dOrKvCWS6LyrWz29iQeUvAT/W70X1Le8fZbnvDRLgr2IEYK9LPGAvedvgr0wnoG90T+BvVNclb20dpu9AWpqvZusUb3EzhS9QbcXvULPpr1ljXq948cYvSTuMbybVZ+8roEtvALZ67w1tWy9k1dnO6gdfr0IclC98zw4vWq8dL3Azzi8jXoIPY6SV71jnL+8Sx+6uqeWLb0kCxi6ZVMuu4yhnLsNbJW73Zieu3zyMLt88jC74ISCvSVdM73Ut8y8+1ytvQE1NTzCFya9fZanvVrY07xoyzm8z4M7vYLK+LysxSe4NsgkveROab2ZR/67lZo9vVaalLzMf4i9H9cGvfg2/bznOg29ICQLvWCTNb2PGai7jiNWvVndar14uQi9VwR/vXQMSL13vh+9EOk3vR5QNr05Yi29DhBMvR+iUb0OEIy9H9eGvSTW4rxT0G297lpCvXi5CL2pagK90599u4ZVPL2k5FW9/cFAvfcBSL1/h6K91m67u6sEC73t03G7KgCGvcbhzLxioVa9fPKwOm+e6jqGPe06QmDlOksfujrpDmK9dQKavPrygr3pty+9Oh4zvb8OHL0sfWi9LH1oveuQmz115TO9WvAivWQGKr0AHWa97BesvRZqjb00S4K9qyYIvHOdhr2O6Ym9gy9Mve8bX73kFB29dVmMvc1YNL1Smzi9ol0FvKrUbL3FA0q9xvmbOpJ0zbz121e91NQyvVdbsbxF9Va9bxIDvbmIb717a2C9kfITvcb5G71uNIC8gqj7vLRxRL0QO1O9DFldvVDkSb29Oke9ITxavTuNtLsGDb29uaVVvPypcbyZR368V8+Jvc5wA70UP8a7b9g2u/28KbsX8R27qTA2u1fsL71fKUu9Cro9vIY97TxYyjK9PpY+veHuLL18YTK9KVyPvfkUAL33zBK5IJgjvZKuGb0PRYG9+b1NvSI3w7w9STq8SwKUvUHUfb2hZ7O8gA5zvVMFI7xWZV+9LnO6u9GRnL3WkLg9Ctejuqpla73xY4y9H783vciYu7xioda8W86lvHv3h70cJS+8Xf5DvYyhnLsX8R298Ut9vOxph717g6+9OdGuvegwn734cMm8RRK9vLhAAr28XES9WfpQvcx/SL2Kq0q968VQvTZ2Cbx2/YK98WOMvSjVPr17FC69wLLSu6NAH7sd5ku96glLvRZqTb0ipkS9dxA7vSrG+bz1vvG8SinovGk6O71JhTG9TP08va7wLr1g5VC9Y+5avVGlZr3bp2O9Ic1YvQVpxrxa2NO8+grSvKsEi73FPRa9j8J1vVcm/LxY4gG91XjpvN/98bzRBfW8KSJDvfuuiL2PGai8v/E1vetuHr3nAIG9fh04vXcQu70r+y69smi6vXTSe71ZFze9DLAPvHJtKL2bWja9Bwhmu3Muxbysc4y9ZVOuOq9amTron2C8kzoBvVTGvzzcuhu92Xxcva2jqr09RCO99tEpvXWTGL15Bg29Zd8Vvc+9h7yNRVO90PI8ve/JQ70q41+9eV2/vJ9x4bqDhn69HVpkvY+NQL2fjkc9mnccvZQTbb0r+y699P3UvFGDab0xzt+8IlSpvJqUAr2GG3C9s7U+u4V3ObzfNz68nPlVvHh/PL2Negi8VB1yvVslWL2fceE5vvZMvWmpPL3H9AS9CFoBvcNHRLypagK8vhMzvbJGPb1MiSS9lSs8vSlcD7zXUVW84C2Qu10Wk71rnw69NLoDvG8SgzmgVPu8Qj7ovDWYBr12/QK9yNIHvVnABL0kl/+6nph1vZ8fhr35MWY8/vFevRuBeL0jMiy8NWNRvLSrELyV8W+9KLhYvXgoCr1JhTG93nYhvfW+cb3jx5i9gLeAvReCHL2rCSK9zEClvRcrqr051oW9TkUqvWOXKL35STW93nYhvfcGX73ECGG9CcRrvVbUYL29jGK9io5kvdPZyTpNFQy9Iy0VvX3oAr1/MPC8GxL3vLmNBr2rlQm91PEYvQTnDL2tUQ+9ozsIvWl0B70P7k69eHqlu+QPBr2Nfx+9ngyOvITYGb1nmxu96/8cveOlG70aiya9FcYWvZT2Br3v5qm8irDhvLaEfL2l94282qz6u8xdi70nZj29bEOFPTJ3Lb3ovEa8PNo4vbPvir3qeEw6kZthvXJtqLvSxpG9qKllvW9HOL2LMhu9D39NvYv9Zb1AwcW8bypSvTgVqbtblFk6gqj7uYnSXjpLHzo6G0zDuvQVJL3CUXK9C9KMvQEYz7p4nKK8a5p3vWyyRr1GfKe9uhRXvTVG67uDo2S9Nh9XvTHOX71Oel+9w7ZFvSnQJ71WgsW8VAAMvejeg700ugO8e9phvTqSS70eG4G9BK2AvdzXgb3u64C941OAvSdrVL2tbnW9gQTFvDZZI7xDHOu8Io61vTj4wrzNr+a5s++Ku23/SrwUP8a81xLyvGjonzrkTuk6q1s9vT81Xr0vUT29QDBHvfwdCr2TqQK9fxMKvf5D+rzPMaC90QX1vPdY+jqP/EG96pWyu7a5Mb10e4m9ho+IvYNRib36fmq9zvxqvbd/Zb3QDyO9XYqrvWoTJ71f0hi9vOgrvc1YNL00nR29Zw80veFdLr0ngyO9PPcevQKfH73Nr+a70vtGvac/e72NnAW929wYvXwKgL0uVtS64juxvbmlVb2rlYm9TDeJvU91iL2GciI9FAX6vIKoe7g0gLc6xcl9vTOnS7zkTum8h/nyvJ+T3rz0N6G6qYeovU5/dr0TuHW9rW51vfG6fr2m8na9E0l0vQTnDLxQjRe8lUiivITYGb2fcWE6YDwDvP9bSb0ErcA6ZjExvR+A1LyaJYG9CYofvfPIH72kx6+9w7ZFveXtiL0Kur27UWuavCntDb0FoxK9cTjzvO8DEL3ekwe94L4OvUvIB72eDA69RN0HvVCNlzxAh3k9xCVHvTgyj71NoXO8VrwRPQEYz7vMRXy9hjjWvDSAN73Jcae86zlpvSFZgL2g/Ui9ms5OvcR3Yr3Zd0W93jxVvY1F07ysi9u7P8ZcvVFmA71cVXa9vFetvTylg71UjPO81A5/veGXer2Xi3i98bp+vctneb2r7Lu8rvAuvasmiLw4FSm7yY4Nu9RIi71Xz0k91SE3vWLWiz1J10y9yjfbu2KhVr35LE+9r0JKvdUEUb0QO1O9DFldvU+SLr3g1t28wW7YvCFZgL0RqlS9BMqmvddRVbxcA1u98fRKveDb9LyWW1q9KCxxOS1gAr3s3R+9EeQgvTT0T70r3oi9e717vZHtfL0p6Ha9DDx3vW3Ffr0xsXm9zLR9vQ+XHL38+wy9WTQdvXgoCr1pxiK9KERAvfonOL1X7C+9OWItvTfgc71F9da8GxL3vLR2m73rqGq9vFetu5M6Ab32RYK9XCCBvSUGgb2e0oG98piBvUSjO71uF5q8j/yBvSkFXby3nEu9iQyru5YmpbsVOq+9FHkSvQTidb0X1Le7Hm2cvf63kjw2H1e84ISCvazijbyVSCK9mG4SvbyWEL1Zox69/isrvZEnSb3ZQpC8qd4avbVPx7ymYXi7FW9kvd1BbL0xzt+7VYfcu4nSXrsrweK7m1o2vMKjDb2WJqW8s3vyuz9SRL1I4Xq90GE+va9fsLyBBMW8kX77vBVXlb0KnVe7MevFux+6ILymm4S9QkP/u3+kiLvuCCe9GD4ivZFhFb1xyXG9WoEhvVwbKr3DZKq6XaeRvKJ/grwoCnS9Keh2vQTidb2z6nO9XhF8vY1/n7zbxIm9DqGKvXU8Zr1kzF29wJVsvfrta7rI6pa9o0Afu6Wg27wyrOK8PQrXvDwUhb1iLT69aLNqvcrgKL3gEKq7Zk4Xvd8Vgb1GX4G9NIVOvemaSb2ugS294V0uvXmSdL1M4Ja9/1vJPFVq9ryGPe26idLeuhRcrLzCEo+9/5WVvO0NvjyOWAu9+RQAveFAiL0+syS9ZVMuvc3pMr0fnTq9Vp8rvZ9xYbqv6xe9K2owvQ39k71blNk609nJOhQi4DrJjo06thDkOrYQ5DpR9wG9MgMVvfuuCL1olgS9ldQJvT+MEL2pMLa7KSKDvU2+2bzj/E2998wSu2+e6jpCYOU6RfXWOn2RUL1BvK68zqpPvXldP7yDL4y9SphpvQrXozpZTKy9nx+GvWtgK7yWCb87LbIdvQU0kb1pHVW9iNf1vFLt0zw4Fam9L/qKvTPEMbzA7B68FNCEvflmG73T9q+7X9IYvfFLfb0h6j69wvo/vZn1Yr0z3IC9/pqsvMb5m7vZzne9sP7PPB3J5bxJhbG8VDVBvQmKH72cUAi52gMtOsNkKjpivrw4G/UQvV6dY709fm+9yM1wvSvBYr3kvWq9uDtrvcZtNL0jEC+9WTQdvcNHRL0AkX69FQDjvCJxj7y7foG9EoOAvQBvgb2EZIG9LPGAvTpdlr3XTL68yY6NuZKzML1o6J+7f2o8vCYZOb1bzqW8Z7gBvSfChr2c4Ya9WBxOvfpEHrxgzYG9TRB1vU7ud72H+XK9E0l0vU5/dr0rNXu9KCzxvEq1j71PI629W5TZu8BbIL1hpm29j/zBvH6MOb1ENLq9LgQ5vX2RUL0s1Bq8owbTOqn2ab1SSR29RFEgvaezk7w75Ga9PSyUvZAxd70Plxy9gosVvZYmpTp1yM06sI9OveaWVr2i0R299Dehu8aiab0gJIu9vQB7vcQI4bztKqS8nu+nvN/4mj1pb3C90CdyveROab31vnG9+zpwvbU3eL0WNRi988gfvX46Hr1uFxq946UbvX0iT72cUAi6eemmvW8NbL3ABG69+zpwvc11Gr2YbhK9EY1uOpm7ljr67Ws6OBWpOnCxIr03Nya9HuE0vfRPcD1E3Qe9Y7QOvTuqmrvMejG9n45HvFvOJbyrsm+91qiHvXfbhb0AUpu8OBWpOnIz3DqMZ9A6B0KyOt7IPL3nHSe82EcnvEbrKLz4iBi8D9HovKgdfr0GDX2991h6vXTSe73LnK49RGlvPRNEXb3WiyG8V0NivKMG07o7qhq67Q2+unIz3LqHUCW8gqj7N7MkQL1WfS69aK5TvVAZ/7x8m/67VDWBvZbP8rtDxTi9TWcnvcu+K71Wnyu9WBzOvF4u4ryKjuS89ODuu5bsWL230YC9mrZ/vWt9kToxthA909lJvBakGb2DaRi9Df0TvdrhL7034HO9DWwVvVuU2Tr5D2m9DaZhvVD8mL28P169hj1tu+wS1by6SYy9B0IyOVhzADrDZCq6EQGHunIz3Llivjw5h/lyvWDIarxyM9y8TGw+vc3MzLw7cM68c7osvQq6PbzHEWu9W5RZvSAkC731oQu9URTovIuJTb26vSS9AtTUvDjb3LuwIM273Qcgvd3NU72ynW+9LlbUOvJ7m70kC5g5VWp2Oh+iUb0QzNG84Ll3u6JdBbxDrWm9pPwkvBEBB7uCqHu4n3Fhuigscbp+qR+9LspsvZT2hr2wPTO8lniAvSUGgb1GX4G9swxxvc7fBL3y0k29vR3hvNpyLr2+EzO9vqQxvW5pNb1m2n69Bwjmu1Ozh71FKoy9JlOFvTTXqb0r3oi9lniAvQStgL1gzYG9ecyAvWZJgL0eG4G9/n1GvdRIi70qAEY9PsvzuuzAOb2sc4y9tWytvCF2pjqKzce8cxFfvUj+YL2EEma9R49fvfFoY73G3LW7HNMTvRe3UTo4EBK9NLqDu9R9gL1xIKS9ngyOvaNAH7y2SjC7Uiy3u3kjc7u5/Ie7O6qau0UvI7tjl6i8AWqqPfdY+jr67es66fF7vW0cMbz5SbW8k282vYV3ObsXt9E4Q1a3vAOyl71oBQa8thBkvX2zzbxsQ0W84e6svCEHJb2zmNi7ODIPvI4ev7xi+Ii7owbTu5+Ox7um8na9WHMAuvW52ryz74o6DWyVuuwSVb3UDn+9CmiivZZ4QL2e76e9VIzzvALUVL0y5i69zjY3vZwWPL0fuiC909lJOntrYL0aho+7aOifu0USvbtgyOq8ur2kvWdhj73+Kyu9VROEveo+gL3g88O7dY4BvVr1ubxUNUE9eXUOvRWMSr3cY+m8QmDlup30vrzo3sO8CtejOksfOrsyyUi9EY3uOpnTpb1JS+W83uUivfiIGL1lcBS9vFctvS6QIL1OYhC9VisTvXr8XrzDKt67B0Kyu6Usg71M/Ty9MxukvSY2H707cE69sMmavZtyhb2Zgcq7qfbpu3lA2bxrfRG93gIJvfNZnr3121e963O1vOrKZ70Gu2G9wa07vft0PL048yu9Oh4zveSDnrwa+ie9W+uLvTuqmrqOQDy9FvuLvYwQHr1rYCu9FvtLvLh1N73+miy9TrQrvbOY2Ls0nR292o8UvTHrxTuxMwW9eHqluwt7mr0dAzK9b0c4vZzEIL37XK29/G8lvRb7S73QuHC9rItbPWzsEr1WSPm8PNo4vTTXab2lg/W83h/vvBYYsrx4KAq9FXS7vQdfmLteaC691EhLvYCaWr2kU1e9wt1ZvetztbwTuHW9dQIaO636XL3ePNW8s16MvYy+gr1gPAO9ak1zvTS6A73v5im8RfVWu9MTlr3gLZC6F7zovNOklL2GAyG91hwgvVa8Eb07qhq9+BkXvR7cHb1F2HC8n45HvSeIOr0+P4y9JJf/u+tuHr2HxD29VWp2u+ZcCr2p2QO94XoUvUuTUr0qdF6929wYvBQ/Rr3SNZO93ZieuoKo+7guVtS6rMUnOI/8wbqLiU29djI4vWDqZ72XHLe9cJlTvTVjUb0csRa9ti1KvYKoeznaAy061zRvvBtkkrwr+668Fva0vGDIar28P5697fCXvWRYxbxSSZ06LT6FvX+HojmBPpG8QmBluwgDT71txf48t5xLvVTGP70+lj69jpJXPTRLAr181cq7+KV+vcDPOL0r3ki9+u3rOVBTS73+mqy8Htwdve5agr2Hp1e95+Nauxb7i72Z9aI9Ft7lvKmkTr2si9u8a32Ru7N78ry1N/i8SFD8vMh71by1VN68Kej2vHQkF73Nr2Y6+mGEuhe3UTi7m6c80egOvZHQFr1bziW8tJOBvVTjpbw4Fam6NC4cvdtQMb3g80M7J8KGPEZfQb1SSR05cxHfvDrMF73zVIe7V7KjvVIPUb1wsSK9WTQdvb3jFL0LRiW94V0uvcNkKr1WfS69FhgyvQfTML2Bsim9rFYmvScxCL0drP+8S8iHvSgs8bwSwqO9vtmmvZSka71l/Hu87GkHvZolAb1wtjm9aoe/vC2Vt7yJ0t68Y3/ZvJCIKb1lNsi75x0nvcDsHrzzVAe8ol0FvfCir7oexM68chZ2vY/8Qbw=",
                    "dtype": "f4"
                  },
                  "z": {
                    "bdata": "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",
                    "dtype": "f4"
                  }
                }
              ],
              "layout": {
                "legend": {
                  "tracegroupgap": 0
                },
                "margin": {
                  "t": 60
                },
                "scene": {
                  "domain": {
                    "x": [
                      0,
                      1
                    ],
                    "y": [
                      0,
                      1
                    ]
                  },
                  "xaxis": {
                    "title": {
                      "text": "x"
                    }
                  },
                  "yaxis": {
                    "title": {
                      "text": "y"
                    }
                  },
                  "zaxis": {
                    "title": {
                      "text": "z"
                    }
                  }
                },
                "template": {
                  "data": {
                    "bar": [
                      {
                        "error_x": {
                          "color": "#2a3f5f"
                        },
                        "error_y": {
                          "color": "#2a3f5f"
                        },
                        "marker": {
                          "line": {
                            "color": "#E5ECF6",
                            "width": 0.5
                          },
                          "pattern": {
                            "fillmode": "overlay",
                            "size": 10,
                            "solidity": 0.2
                          }
                        },
                        "type": "bar"
                      }
                    ],
                    "barpolar": [
                      {
                        "marker": {
                          "line": {
                            "color": "#E5ECF6",
                            "width": 0.5
                          },
                          "pattern": {
                            "fillmode": "overlay",
                            "size": 10,
                            "solidity": 0.2
                          }
                        },
                        "type": "barpolar"
                      }
                    ],
                    "carpet": [
                      {
                        "aaxis": {
                          "endlinecolor": "#2a3f5f",
                          "gridcolor": "white",
                          "linecolor": "white",
                          "minorgridcolor": "white",
                          "startlinecolor": "#2a3f5f"
                        },
                        "baxis": {
                          "endlinecolor": "#2a3f5f",
                          "gridcolor": "white",
                          "linecolor": "white",
                          "minorgridcolor": "white",
                          "startlinecolor": "#2a3f5f"
                        },
                        "type": "carpet"
                      }
                    ],
                    "choropleth": [
                      {
                        "colorbar": {
                          "outlinewidth": 0,
                          "ticks": ""
                        },
                        "type": "choropleth"
                      }
                    ],
                    "contour": [
                      {
                        "colorbar": {
                          "outlinewidth": 0,
                          "ticks": ""
                        },
                        "colorscale": [
                          [
                            0,
                            "#0d0887"
                          ],
                          [
                            0.1111111111111111,
                            "#46039f"
                          ],
                          [
                            0.2222222222222222,
                            "#7201a8"
                          ],
                          [
                            0.3333333333333333,
                            "#9c179e"
                          ],
                          [
                            0.4444444444444444,
                            "#bd3786"
                          ],
                          [
                            0.5555555555555556,
                            "#d8576b"
                          ],
                          [
                            0.6666666666666666,
                            "#ed7953"
                          ],
                          [
                            0.7777777777777778,
                            "#fb9f3a"
                          ],
                          [
                            0.8888888888888888,
                            "#fdca26"
                          ],
                          [
                            1,
                            "#f0f921"
                          ]
                        ],
                        "type": "contour"
                      }
                    ],
                    "contourcarpet": [
                      {
                        "colorbar": {
                          "outlinewidth": 0,
                          "ticks": ""
                        },
                        "type": "contourcarpet"
                      }
                    ],
                    "heatmap": [
                      {
                        "colorbar": {
                          "outlinewidth": 0,
                          "ticks": ""
                        },
                        "colorscale": [
                          [
                            0,
                            "#0d0887"
                          ],
                          [
                            0.1111111111111111,
                            "#46039f"
                          ],
                          [
                            0.2222222222222222,
                            "#7201a8"
                          ],
                          [
                            0.3333333333333333,
                            "#9c179e"
                          ],
                          [
                            0.4444444444444444,
                            "#bd3786"
                          ],
                          [
                            0.5555555555555556,
                            "#d8576b"
                          ],
                          [
                            0.6666666666666666,
                            "#ed7953"
                          ],
                          [
                            0.7777777777777778,
                            "#fb9f3a"
                          ],
                          [
                            0.8888888888888888,
                            "#fdca26"
                          ],
                          [
                            1,
                            "#f0f921"
                          ]
                        ],
                        "type": "heatmap"
                      }
                    ],
                    "histogram": [
                      {
                        "marker": {
                          "pattern": {
                            "fillmode": "overlay",
                            "size": 10,
                            "solidity": 0.2
                          }
                        },
                        "type": "histogram"
                      }
                    ],
                    "histogram2d": [
                      {
                        "colorbar": {
                          "outlinewidth": 0,
                          "ticks": ""
                        },
                        "colorscale": [
                          [
                            0,
                            "#0d0887"
                          ],
                          [
                            0.1111111111111111,
                            "#46039f"
                          ],
                          [
                            0.2222222222222222,
                            "#7201a8"
                          ],
                          [
                            0.3333333333333333,
                            "#9c179e"
                          ],
                          [
                            0.4444444444444444,
                            "#bd3786"
                          ],
                          [
                            0.5555555555555556,
                            "#d8576b"
                          ],
                          [
                            0.6666666666666666,
                            "#ed7953"
                          ],
                          [
                            0.7777777777777778,
                            "#fb9f3a"
                          ],
                          [
                            0.8888888888888888,
                            "#fdca26"
                          ],
                          [
                            1,
                            "#f0f921"
                          ]
                        ],
                        "type": "histogram2d"
                      }
                    ],
                    "histogram2dcontour": [
                      {
                        "colorbar": {
                          "outlinewidth": 0,
                          "ticks": ""
                        },
                        "colorscale": [
                          [
                            0,
                            "#0d0887"
                          ],
                          [
                            0.1111111111111111,
                            "#46039f"
                          ],
                          [
                            0.2222222222222222,
                            "#7201a8"
                          ],
                          [
                            0.3333333333333333,
                            "#9c179e"
                          ],
                          [
                            0.4444444444444444,
                            "#bd3786"
                          ],
                          [
                            0.5555555555555556,
                            "#d8576b"
                          ],
                          [
                            0.6666666666666666,
                            "#ed7953"
                          ],
                          [
                            0.7777777777777778,
                            "#fb9f3a"
                          ],
                          [
                            0.8888888888888888,
                            "#fdca26"
                          ],
                          [
                            1,
                            "#f0f921"
                          ]
                        ],
                        "type": "histogram2dcontour"
                      }
                    ],
                    "mesh3d": [
                      {
                        "colorbar": {
                          "outlinewidth": 0,
                          "ticks": ""
                        },
                        "type": "mesh3d"
                      }
                    ],
                    "parcoords": [
                      {
                        "line": {
                          "colorbar": {
                            "outlinewidth": 0,
                            "ticks": ""
                          }
                        },
                        "type": "parcoords"
                      }
                    ],
                    "pie": [
                      {
                        "automargin": true,
                        "type": "pie"
                      }
                    ],
                    "scatter": [
                      {
                        "fillpattern": {
                          "fillmode": "overlay",
                          "size": 10,
                          "solidity": 0.2
                        },
                        "type": "scatter"
                      }
                    ],
                    "scatter3d": [
                      {
                        "line": {
                          "colorbar": {
                            "outlinewidth": 0,
                            "ticks": ""
                          }
                        },
                        "marker": {
                          "colorbar": {
                            "outlinewidth": 0,
                            "ticks": ""
                          }
                        },
                        "type": "scatter3d"
                      }
                    ],
                    "scattercarpet": [
                      {
                        "marker": {
                          "colorbar": {
                            "outlinewidth": 0,
                            "ticks": ""
                          }
                        },
                        "type": "scattercarpet"
                      }
                    ],
                    "scattergeo": [
                      {
                        "marker": {
                          "colorbar": {
                            "outlinewidth": 0,
                            "ticks": ""
                          }
                        },
                        "type": "scattergeo"
                      }
                    ],
                    "scattergl": [
                      {
                        "marker": {
                          "colorbar": {
                            "outlinewidth": 0,
                            "ticks": ""
                          }
                        },
                        "type": "scattergl"
                      }
                    ],
                    "scattermap": [
                      {
                        "marker": {
                          "colorbar": {
                            "outlinewidth": 0,
                            "ticks": ""
                          }
                        },
                        "type": "scattermap"
                      }
                    ],
                    "scattermapbox": [
                      {
                        "marker": {
                          "colorbar": {
                            "outlinewidth": 0,
                            "ticks": ""
                          }
                        },
                        "type": "scattermapbox"
                      }
                    ],
                    "scatterpolar": [
                      {
                        "marker": {
                          "colorbar": {
                            "outlinewidth": 0,
                            "ticks": ""
                          }
                        },
                        "type": "scatterpolar"
                      }
                    ],
                    "scatterpolargl": [
                      {
                        "marker": {
                          "colorbar": {
                            "outlinewidth": 0,
                            "ticks": ""
                          }
                        },
                        "type": "scatterpolargl"
                      }
                    ],
                    "scatterternary": [
                      {
                        "marker": {
                          "colorbar": {
                            "outlinewidth": 0,
                            "ticks": ""
                          }
                        },
                        "type": "scatterternary"
                      }
                    ],
                    "surface": [
                      {
                        "colorbar": {
                          "outlinewidth": 0,
                          "ticks": ""
                        },
                        "colorscale": [
                          [
                            0,
                            "#0d0887"
                          ],
                          [
                            0.1111111111111111,
                            "#46039f"
                          ],
                          [
                            0.2222222222222222,
                            "#7201a8"
                          ],
                          [
                            0.3333333333333333,
                            "#9c179e"
                          ],
                          [
                            0.4444444444444444,
                            "#bd3786"
                          ],
                          [
                            0.5555555555555556,
                            "#d8576b"
                          ],
                          [
                            0.6666666666666666,
                            "#ed7953"
                          ],
                          [
                            0.7777777777777778,
                            "#fb9f3a"
                          ],
                          [
                            0.8888888888888888,
                            "#fdca26"
                          ],
                          [
                            1,
                            "#f0f921"
                          ]
                        ],
                        "type": "surface"
                      }
                    ],
                    "table": [
                      {
                        "cells": {
                          "fill": {
                            "color": "#EBF0F8"
                          },
                          "line": {
                            "color": "white"
                          }
                        },
                        "header": {
                          "fill": {
                            "color": "#C8D4E3"
                          },
                          "line": {
                            "color": "white"
                          }
                        },
                        "type": "table"
                      }
                    ]
                  },
                  "layout": {
                    "annotationdefaults": {
                      "arrowcolor": "#2a3f5f",
                      "arrowhead": 0,
                      "arrowwidth": 1
                    },
                    "autotypenumbers": "strict",
                    "coloraxis": {
                      "colorbar": {
                        "outlinewidth": 0,
                        "ticks": ""
                      }
                    },
                    "colorscale": {
                      "diverging": [
                        [
                          0,
                          "#8e0152"
                        ],
                        [
                          0.1,
                          "#c51b7d"
                        ],
                        [
                          0.2,
                          "#de77ae"
                        ],
                        [
                          0.3,
                          "#f1b6da"
                        ],
                        [
                          0.4,
                          "#fde0ef"
                        ],
                        [
                          0.5,
                          "#f7f7f7"
                        ],
                        [
                          0.6,
                          "#e6f5d0"
                        ],
                        [
                          0.7,
                          "#b8e186"
                        ],
                        [
                          0.8,
                          "#7fbc41"
                        ],
                        [
                          0.9,
                          "#4d9221"
                        ],
                        [
                          1,
                          "#276419"
                        ]
                      ],
                      "sequential": [
                        [
                          0,
                          "#0d0887"
                        ],
                        [
                          0.1111111111111111,
                          "#46039f"
                        ],
                        [
                          0.2222222222222222,
                          "#7201a8"
                        ],
                        [
                          0.3333333333333333,
                          "#9c179e"
                        ],
                        [
                          0.4444444444444444,
                          "#bd3786"
                        ],
                        [
                          0.5555555555555556,
                          "#d8576b"
                        ],
                        [
                          0.6666666666666666,
                          "#ed7953"
                        ],
                        [
                          0.7777777777777778,
                          "#fb9f3a"
                        ],
                        [
                          0.8888888888888888,
                          "#fdca26"
                        ],
                        [
                          1,
                          "#f0f921"
                        ]
                      ],
                      "sequentialminus": [
                        [
                          0,
                          "#0d0887"
                        ],
                        [
                          0.1111111111111111,
                          "#46039f"
                        ],
                        [
                          0.2222222222222222,
                          "#7201a8"
                        ],
                        [
                          0.3333333333333333,
                          "#9c179e"
                        ],
                        [
                          0.4444444444444444,
                          "#bd3786"
                        ],
                        [
                          0.5555555555555556,
                          "#d8576b"
                        ],
                        [
                          0.6666666666666666,
                          "#ed7953"
                        ],
                        [
                          0.7777777777777778,
                          "#fb9f3a"
                        ],
                        [
                          0.8888888888888888,
                          "#fdca26"
                        ],
                        [
                          1,
                          "#f0f921"
                        ]
                      ]
                    },
                    "colorway": [
                      "#636efa",
                      "#EF553B",
                      "#00cc96",
                      "#ab63fa",
                      "#FFA15A",
                      "#19d3f3",
                      "#FF6692",
                      "#B6E880",
                      "#FF97FF",
                      "#FECB52"
                    ],
                    "font": {
                      "color": "#2a3f5f"
                    },
                    "geo": {
                      "bgcolor": "white",
                      "lakecolor": "white",
                      "landcolor": "#E5ECF6",
                      "showlakes": true,
                      "showland": true,
                      "subunitcolor": "white"
                    },
                    "hoverlabel": {
                      "align": "left"
                    },
                    "hovermode": "closest",
                    "mapbox": {
                      "style": "light"
                    },
                    "paper_bgcolor": "white",
                    "plot_bgcolor": "#E5ECF6",
                    "polar": {
                      "angularaxis": {
                        "gridcolor": "white",
                        "linecolor": "white",
                        "ticks": ""
                      },
                      "bgcolor": "#E5ECF6",
                      "radialaxis": {
                        "gridcolor": "white",
                        "linecolor": "white",
                        "ticks": ""
                      }
                    },
                    "scene": {
                      "xaxis": {
                        "backgroundcolor": "#E5ECF6",
                        "gridcolor": "white",
                        "gridwidth": 2,
                        "linecolor": "white",
                        "showbackground": true,
                        "ticks": "",
                        "zerolinecolor": "white"
                      },
                      "yaxis": {
                        "backgroundcolor": "#E5ECF6",
                        "gridcolor": "white",
                        "gridwidth": 2,
                        "linecolor": "white",
                        "showbackground": true,
                        "ticks": "",
                        "zerolinecolor": "white"
                      },
                      "zaxis": {
                        "backgroundcolor": "#E5ECF6",
                        "gridcolor": "white",
                        "gridwidth": 2,
                        "linecolor": "white",
                        "showbackground": true,
                        "ticks": "",
                        "zerolinecolor": "white"
                      }
                    },
                    "shapedefaults": {
                      "line": {
                        "color": "#2a3f5f"
                      }
                    },
                    "ternary": {
                      "aaxis": {
                        "gridcolor": "white",
                        "linecolor": "white",
                        "ticks": ""
                      },
                      "baxis": {
                        "gridcolor": "white",
                        "linecolor": "white",
                        "ticks": ""
                      },
                      "bgcolor": "#E5ECF6",
                      "caxis": {
                        "gridcolor": "white",
                        "linecolor": "white",
                        "ticks": ""
                      }
                    },
                    "title": {
                      "x": 0.05
                    },
                    "xaxis": {
                      "automargin": true,
                      "gridcolor": "white",
                      "linecolor": "white",
                      "ticks": "",
                      "title": {
                        "standoff": 15
                      },
                      "zerolinecolor": "white",
                      "zerolinewidth": 2
                    },
                    "yaxis": {
                      "automargin": true,
                      "gridcolor": "white",
                      "linecolor": "white",
                      "ticks": "",
                      "title": {
                        "standoff": 15
                      },
                      "zerolinecolor": "white",
                      "zerolinewidth": 2
                    }
                  }
                }
              }
            }
          },
          "metadata": {},
          "output_type": "display_data"
        }
      ],
      "source": [
        "# Original data point\n",
        "sample = next(iter(data_loader))\n",
        "plot_3d_shape(sample[0])"
      ]
    },
    {
      "cell_type": "code",
      "execution_count": 27,
      "metadata": {
        "colab": {
          "base_uri": "https://localhost:8080/"
        },
        "id": "JU_NCJ1Zjw4F",
        "outputId": "52e36550-9ecb-46fb-dede-aceec4a6a0dd"
      },
      "outputs": [
        {
          "name": "stdout",
          "output_type": "stream",
          "text": [
            "Number of data points:  2552\n"
          ]
        },
        {
          "data": {
            "application/vnd.plotly.v1+json": {
              "config": {
                "plotlyServerURL": "https://plot.ly"
              },
              "data": [
                {
                  "hovertemplate": "x=%{x}<br>y=%{y}<br>z=%{z}<extra></extra>",
                  "legendgroup": "",
                  "marker": {
                    "color": "#636efa",
                    "opacity": 0.3,
                    "symbol": "circle"
                  },
                  "mode": "markers",
                  "name": "",
                  "scene": "scene",
                  "showlegend": false,
                  "type": "scatter3d",
                  "x": {
                    "bdata": "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",
                    "dtype": "f4"
                  },
                  "y": {
                    "bdata": "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",
                    "dtype": "f4"
                  },
                  "z": {
                    "bdata": "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",
                    "dtype": "f4"
                  }
                }
              ],
              "layout": {
                "legend": {
                  "tracegroupgap": 0
                },
                "margin": {
                  "t": 60
                },
                "scene": {
                  "domain": {
                    "x": [
                      0,
                      1
                    ],
                    "y": [
                      0,
                      1
                    ]
                  },
                  "xaxis": {
                    "title": {
                      "text": "x"
                    }
                  },
                  "yaxis": {
                    "title": {
                      "text": "y"
                    }
                  },
                  "zaxis": {
                    "title": {
                      "text": "z"
                    }
                  }
                },
                "template": {
                  "data": {
                    "bar": [
                      {
                        "error_x": {
                          "color": "#2a3f5f"
                        },
                        "error_y": {
                          "color": "#2a3f5f"
                        },
                        "marker": {
                          "line": {
                            "color": "#E5ECF6",
                            "width": 0.5
                          },
                          "pattern": {
                            "fillmode": "overlay",
                            "size": 10,
                            "solidity": 0.2
                          }
                        },
                        "type": "bar"
                      }
                    ],
                    "barpolar": [
                      {
                        "marker": {
                          "line": {
                            "color": "#E5ECF6",
                            "width": 0.5
                          },
                          "pattern": {
                            "fillmode": "overlay",
                            "size": 10,
                            "solidity": 0.2
                          }
                        },
                        "type": "barpolar"
                      }
                    ],
                    "carpet": [
                      {
                        "aaxis": {
                          "endlinecolor": "#2a3f5f",
                          "gridcolor": "white",
                          "linecolor": "white",
                          "minorgridcolor": "white",
                          "startlinecolor": "#2a3f5f"
                        },
                        "baxis": {
                          "endlinecolor": "#2a3f5f",
                          "gridcolor": "white",
                          "linecolor": "white",
                          "minorgridcolor": "white",
                          "startlinecolor": "#2a3f5f"
                        },
                        "type": "carpet"
                      }
                    ],
                    "choropleth": [
                      {
                        "colorbar": {
                          "outlinewidth": 0,
                          "ticks": ""
                        },
                        "type": "choropleth"
                      }
                    ],
                    "contour": [
                      {
                        "colorbar": {
                          "outlinewidth": 0,
                          "ticks": ""
                        },
                        "colorscale": [
                          [
                            0,
                            "#0d0887"
                          ],
                          [
                            0.1111111111111111,
                            "#46039f"
                          ],
                          [
                            0.2222222222222222,
                            "#7201a8"
                          ],
                          [
                            0.3333333333333333,
                            "#9c179e"
                          ],
                          [
                            0.4444444444444444,
                            "#bd3786"
                          ],
                          [
                            0.5555555555555556,
                            "#d8576b"
                          ],
                          [
                            0.6666666666666666,
                            "#ed7953"
                          ],
                          [
                            0.7777777777777778,
                            "#fb9f3a"
                          ],
                          [
                            0.8888888888888888,
                            "#fdca26"
                          ],
                          [
                            1,
                            "#f0f921"
                          ]
                        ],
                        "type": "contour"
                      }
                    ],
                    "contourcarpet": [
                      {
                        "colorbar": {
                          "outlinewidth": 0,
                          "ticks": ""
                        },
                        "type": "contourcarpet"
                      }
                    ],
                    "heatmap": [
                      {
                        "colorbar": {
                          "outlinewidth": 0,
                          "ticks": ""
                        },
                        "colorscale": [
                          [
                            0,
                            "#0d0887"
                          ],
                          [
                            0.1111111111111111,
                            "#46039f"
                          ],
                          [
                            0.2222222222222222,
                            "#7201a8"
                          ],
                          [
                            0.3333333333333333,
                            "#9c179e"
                          ],
                          [
                            0.4444444444444444,
                            "#bd3786"
                          ],
                          [
                            0.5555555555555556,
                            "#d8576b"
                          ],
                          [
                            0.6666666666666666,
                            "#ed7953"
                          ],
                          [
                            0.7777777777777778,
                            "#fb9f3a"
                          ],
                          [
                            0.8888888888888888,
                            "#fdca26"
                          ],
                          [
                            1,
                            "#f0f921"
                          ]
                        ],
                        "type": "heatmap"
                      }
                    ],
                    "histogram": [
                      {
                        "marker": {
                          "pattern": {
                            "fillmode": "overlay",
                            "size": 10,
                            "solidity": 0.2
                          }
                        },
                        "type": "histogram"
                      }
                    ],
                    "histogram2d": [
                      {
                        "colorbar": {
                          "outlinewidth": 0,
                          "ticks": ""
                        },
                        "colorscale": [
                          [
                            0,
                            "#0d0887"
                          ],
                          [
                            0.1111111111111111,
                            "#46039f"
                          ],
                          [
                            0.2222222222222222,
                            "#7201a8"
                          ],
                          [
                            0.3333333333333333,
                            "#9c179e"
                          ],
                          [
                            0.4444444444444444,
                            "#bd3786"
                          ],
                          [
                            0.5555555555555556,
                            "#d8576b"
                          ],
                          [
                            0.6666666666666666,
                            "#ed7953"
                          ],
                          [
                            0.7777777777777778,
                            "#fb9f3a"
                          ],
                          [
                            0.8888888888888888,
                            "#fdca26"
                          ],
                          [
                            1,
                            "#f0f921"
                          ]
                        ],
                        "type": "histogram2d"
                      }
                    ],
                    "histogram2dcontour": [
                      {
                        "colorbar": {
                          "outlinewidth": 0,
                          "ticks": ""
                        },
                        "colorscale": [
                          [
                            0,
                            "#0d0887"
                          ],
                          [
                            0.1111111111111111,
                            "#46039f"
                          ],
                          [
                            0.2222222222222222,
                            "#7201a8"
                          ],
                          [
                            0.3333333333333333,
                            "#9c179e"
                          ],
                          [
                            0.4444444444444444,
                            "#bd3786"
                          ],
                          [
                            0.5555555555555556,
                            "#d8576b"
                          ],
                          [
                            0.6666666666666666,
                            "#ed7953"
                          ],
                          [
                            0.7777777777777778,
                            "#fb9f3a"
                          ],
                          [
                            0.8888888888888888,
                            "#fdca26"
                          ],
                          [
                            1,
                            "#f0f921"
                          ]
                        ],
                        "type": "histogram2dcontour"
                      }
                    ],
                    "mesh3d": [
                      {
                        "colorbar": {
                          "outlinewidth": 0,
                          "ticks": ""
                        },
                        "type": "mesh3d"
                      }
                    ],
                    "parcoords": [
                      {
                        "line": {
                          "colorbar": {
                            "outlinewidth": 0,
                            "ticks": ""
                          }
                        },
                        "type": "parcoords"
                      }
                    ],
                    "pie": [
                      {
                        "automargin": true,
                        "type": "pie"
                      }
                    ],
                    "scatter": [
                      {
                        "fillpattern": {
                          "fillmode": "overlay",
                          "size": 10,
                          "solidity": 0.2
                        },
                        "type": "scatter"
                      }
                    ],
                    "scatter3d": [
                      {
                        "line": {
                          "colorbar": {
                            "outlinewidth": 0,
                            "ticks": ""
                          }
                        },
                        "marker": {
                          "colorbar": {
                            "outlinewidth": 0,
                            "ticks": ""
                          }
                        },
                        "type": "scatter3d"
                      }
                    ],
                    "scattercarpet": [
                      {
                        "marker": {
                          "colorbar": {
                            "outlinewidth": 0,
                            "ticks": ""
                          }
                        },
                        "type": "scattercarpet"
                      }
                    ],
                    "scattergeo": [
                      {
                        "marker": {
                          "colorbar": {
                            "outlinewidth": 0,
                            "ticks": ""
                          }
                        },
                        "type": "scattergeo"
                      }
                    ],
                    "scattergl": [
                      {
                        "marker": {
                          "colorbar": {
                            "outlinewidth": 0,
                            "ticks": ""
                          }
                        },
                        "type": "scattergl"
                      }
                    ],
                    "scattermap": [
                      {
                        "marker": {
                          "colorbar": {
                            "outlinewidth": 0,
                            "ticks": ""
                          }
                        },
                        "type": "scattermap"
                      }
                    ],
                    "scattermapbox": [
                      {
                        "marker": {
                          "colorbar": {
                            "outlinewidth": 0,
                            "ticks": ""
                          }
                        },
                        "type": "scattermapbox"
                      }
                    ],
                    "scatterpolar": [
                      {
                        "marker": {
                          "colorbar": {
                            "outlinewidth": 0,
                            "ticks": ""
                          }
                        },
                        "type": "scatterpolar"
                      }
                    ],
                    "scatterpolargl": [
                      {
                        "marker": {
                          "colorbar": {
                            "outlinewidth": 0,
                            "ticks": ""
                          }
                        },
                        "type": "scatterpolargl"
                      }
                    ],
                    "scatterternary": [
                      {
                        "marker": {
                          "colorbar": {
                            "outlinewidth": 0,
                            "ticks": ""
                          }
                        },
                        "type": "scatterternary"
                      }
                    ],
                    "surface": [
                      {
                        "colorbar": {
                          "outlinewidth": 0,
                          "ticks": ""
                        },
                        "colorscale": [
                          [
                            0,
                            "#0d0887"
                          ],
                          [
                            0.1111111111111111,
                            "#46039f"
                          ],
                          [
                            0.2222222222222222,
                            "#7201a8"
                          ],
                          [
                            0.3333333333333333,
                            "#9c179e"
                          ],
                          [
                            0.4444444444444444,
                            "#bd3786"
                          ],
                          [
                            0.5555555555555556,
                            "#d8576b"
                          ],
                          [
                            0.6666666666666666,
                            "#ed7953"
                          ],
                          [
                            0.7777777777777778,
                            "#fb9f3a"
                          ],
                          [
                            0.8888888888888888,
                            "#fdca26"
                          ],
                          [
                            1,
                            "#f0f921"
                          ]
                        ],
                        "type": "surface"
                      }
                    ],
                    "table": [
                      {
                        "cells": {
                          "fill": {
                            "color": "#EBF0F8"
                          },
                          "line": {
                            "color": "white"
                          }
                        },
                        "header": {
                          "fill": {
                            "color": "#C8D4E3"
                          },
                          "line": {
                            "color": "white"
                          }
                        },
                        "type": "table"
                      }
                    ]
                  },
                  "layout": {
                    "annotationdefaults": {
                      "arrowcolor": "#2a3f5f",
                      "arrowhead": 0,
                      "arrowwidth": 1
                    },
                    "autotypenumbers": "strict",
                    "coloraxis": {
                      "colorbar": {
                        "outlinewidth": 0,
                        "ticks": ""
                      }
                    },
                    "colorscale": {
                      "diverging": [
                        [
                          0,
                          "#8e0152"
                        ],
                        [
                          0.1,
                          "#c51b7d"
                        ],
                        [
                          0.2,
                          "#de77ae"
                        ],
                        [
                          0.3,
                          "#f1b6da"
                        ],
                        [
                          0.4,
                          "#fde0ef"
                        ],
                        [
                          0.5,
                          "#f7f7f7"
                        ],
                        [
                          0.6,
                          "#e6f5d0"
                        ],
                        [
                          0.7,
                          "#b8e186"
                        ],
                        [
                          0.8,
                          "#7fbc41"
                        ],
                        [
                          0.9,
                          "#4d9221"
                        ],
                        [
                          1,
                          "#276419"
                        ]
                      ],
                      "sequential": [
                        [
                          0,
                          "#0d0887"
                        ],
                        [
                          0.1111111111111111,
                          "#46039f"
                        ],
                        [
                          0.2222222222222222,
                          "#7201a8"
                        ],
                        [
                          0.3333333333333333,
                          "#9c179e"
                        ],
                        [
                          0.4444444444444444,
                          "#bd3786"
                        ],
                        [
                          0.5555555555555556,
                          "#d8576b"
                        ],
                        [
                          0.6666666666666666,
                          "#ed7953"
                        ],
                        [
                          0.7777777777777778,
                          "#fb9f3a"
                        ],
                        [
                          0.8888888888888888,
                          "#fdca26"
                        ],
                        [
                          1,
                          "#f0f921"
                        ]
                      ],
                      "sequentialminus": [
                        [
                          0,
                          "#0d0887"
                        ],
                        [
                          0.1111111111111111,
                          "#46039f"
                        ],
                        [
                          0.2222222222222222,
                          "#7201a8"
                        ],
                        [
                          0.3333333333333333,
                          "#9c179e"
                        ],
                        [
                          0.4444444444444444,
                          "#bd3786"
                        ],
                        [
                          0.5555555555555556,
                          "#d8576b"
                        ],
                        [
                          0.6666666666666666,
                          "#ed7953"
                        ],
                        [
                          0.7777777777777778,
                          "#fb9f3a"
                        ],
                        [
                          0.8888888888888888,
                          "#fdca26"
                        ],
                        [
                          1,
                          "#f0f921"
                        ]
                      ]
                    },
                    "colorway": [
                      "#636efa",
                      "#EF553B",
                      "#00cc96",
                      "#ab63fa",
                      "#FFA15A",
                      "#19d3f3",
                      "#FF6692",
                      "#B6E880",
                      "#FF97FF",
                      "#FECB52"
                    ],
                    "font": {
                      "color": "#2a3f5f"
                    },
                    "geo": {
                      "bgcolor": "white",
                      "lakecolor": "white",
                      "landcolor": "#E5ECF6",
                      "showlakes": true,
                      "showland": true,
                      "subunitcolor": "white"
                    },
                    "hoverlabel": {
                      "align": "left"
                    },
                    "hovermode": "closest",
                    "mapbox": {
                      "style": "light"
                    },
                    "paper_bgcolor": "white",
                    "plot_bgcolor": "#E5ECF6",
                    "polar": {
                      "angularaxis": {
                        "gridcolor": "white",
                        "linecolor": "white",
                        "ticks": ""
                      },
                      "bgcolor": "#E5ECF6",
                      "radialaxis": {
                        "gridcolor": "white",
                        "linecolor": "white",
                        "ticks": ""
                      }
                    },
                    "scene": {
                      "xaxis": {
                        "backgroundcolor": "#E5ECF6",
                        "gridcolor": "white",
                        "gridwidth": 2,
                        "linecolor": "white",
                        "showbackground": true,
                        "ticks": "",
                        "zerolinecolor": "white"
                      },
                      "yaxis": {
                        "backgroundcolor": "#E5ECF6",
                        "gridcolor": "white",
                        "gridwidth": 2,
                        "linecolor": "white",
                        "showbackground": true,
                        "ticks": "",
                        "zerolinecolor": "white"
                      },
                      "zaxis": {
                        "backgroundcolor": "#E5ECF6",
                        "gridcolor": "white",
                        "gridwidth": 2,
                        "linecolor": "white",
                        "showbackground": true,
                        "ticks": "",
                        "zerolinecolor": "white"
                      }
                    },
                    "shapedefaults": {
                      "line": {
                        "color": "#2a3f5f"
                      }
                    },
                    "ternary": {
                      "aaxis": {
                        "gridcolor": "white",
                        "linecolor": "white",
                        "ticks": ""
                      },
                      "baxis": {
                        "gridcolor": "white",
                        "linecolor": "white",
                        "ticks": ""
                      },
                      "bgcolor": "#E5ECF6",
                      "caxis": {
                        "gridcolor": "white",
                        "linecolor": "white",
                        "ticks": ""
                      }
                    },
                    "title": {
                      "x": 0.05
                    },
                    "xaxis": {
                      "automargin": true,
                      "gridcolor": "white",
                      "linecolor": "white",
                      "ticks": "",
                      "title": {
                        "standoff": 15
                      },
                      "zerolinecolor": "white",
                      "zerolinewidth": 2
                    },
                    "yaxis": {
                      "automargin": true,
                      "gridcolor": "white",
                      "linecolor": "white",
                      "ticks": "",
                      "title": {
                        "standoff": 15
                      },
                      "zerolinecolor": "white",
                      "zerolinewidth": 2
                    }
                  }
                }
              }
            }
          },
          "metadata": {},
          "output_type": "display_data"
        }
      ],
      "source": [
        "# Augmented data point\n",
        "transformered = augmentation(sample)\n",
        "plot_3d_shape(transformered[0])"
      ]
    },
    {
      "cell_type": "markdown",
      "metadata": {
        "id": "Lle1XiGfEsn7"
      },
      "source": [
        "## Model\n",
        "\n",
        "- Different choices for Point Cloud Feature-Learning layers (PointNet, PointNet++, EdgeConv, PointTransformer, ...)\n",
        "- In PyTorch geometric we find an implementation of DynamicEdgeConv\n",
        "- It uses the parameter k to detect the nearest neighbors which form a subgraph\n",
        "- If you have many points, you can also sample a subset\n",
        "- In the paper they use 4 layers, here we just have 2\n",
        "- Implementation is inspired by [this PyG example](https://github.com/pyg-team/pytorch_geometric/blob/a6e349621d4caf8b381fe58f8e57109b2d0947ed/examples/dgcnn_segmentation.py)\n",
        "- We only apply augmentations during training\n",
        "\n",
        "\n",
        "\n",
        "\n"
      ]
    },
    {
      "cell_type": "code",
      "execution_count": 28,
      "metadata": {
        "id": "i3G7KOpFIhjZ"
      },
      "outputs": [],
      "source": [
        "import torch\n",
        "from torch.nn import Linear\n",
        "import torch.nn.functional as F\n",
        "from torch_geometric.nn import MLP, DynamicEdgeConv, global_max_pool\n",
        "\n",
        "\n",
        "class Model(torch.nn.Module):\n",
        "    def __init__(self, k=20, aggr='max'):\n",
        "        super().__init__()\n",
        "        # Feature extraction\n",
        "        self.conv1 = DynamicEdgeConv(MLP([2 * 3, 64, 64]), k, aggr)\n",
        "        self.conv2 = DynamicEdgeConv(MLP([2 * 64, 128]), k, aggr)\n",
        "        # Encoder head\n",
        "        self.lin1 = Linear(128 + 64, 128)\n",
        "        # Projection head (See explanation in SimCLRv2)\n",
        "        self.mlp = MLP([128, 256, 32], norm=None)\n",
        "\n",
        "    def forward(self, data, train=True):\n",
        "        if train:\n",
        "            # Get 2 augmentations of the batch\n",
        "            augm_1 = augmentation(data)\n",
        "            augm_2 = augmentation(data)\n",
        "\n",
        "            # Extract properties\n",
        "            pos_1, batch_1 = augm_1.pos, augm_1.batch\n",
        "            pos_2, batch_2 = augm_2.pos, augm_2.batch\n",
        "\n",
        "            # Get representations for first augmented view\n",
        "            x1 = self.conv1(pos_1, batch_1)\n",
        "            x2 = self.conv2(x1, batch_1)\n",
        "            h_points_1 = self.lin1(torch.cat([x1, x2], dim=1))\n",
        "\n",
        "            # Get representations for second augmented view\n",
        "            x1 = self.conv1(pos_2, batch_2)\n",
        "            x2 = self.conv2(x1, batch_2)\n",
        "            h_points_2 = self.lin1(torch.cat([x1, x2], dim=1))\n",
        "\n",
        "            # Global representation\n",
        "            h_1 = global_max_pool(h_points_1, batch_1)\n",
        "            h_2 = global_max_pool(h_points_2, batch_2)\n",
        "        else:\n",
        "            x1 = self.conv1(data.pos, data.batch)\n",
        "            x2 = self.conv2(x1, data.batch)\n",
        "            h_points = self.lin1(torch.cat([x1, x2], dim=1))\n",
        "            return global_max_pool(h_points, data.batch)\n",
        "\n",
        "        # Transformation for loss function\n",
        "        compact_h_1 = self.mlp(h_1)\n",
        "        compact_h_2 = self.mlp(h_2)\n",
        "        return h_1, h_2, compact_h_1, compact_h_2"
      ]
    },
    {
      "cell_type": "markdown",
      "metadata": {
        "id": "aAh2QgX9Nof1"
      },
      "source": [
        "Possible improvement: Only pass once through model by stacking augmentations"
      ]
    },
    {
      "cell_type": "markdown",
      "metadata": {
        "id": "U0QjhMfhJ8W7"
      },
      "source": [
        "## Training"
      ]
    },
    {
      "cell_type": "markdown",
      "metadata": {
        "id": "fI18VkeQxadF"
      },
      "source": [
        "- We use InfoNCE / NT-Xent Loss implemented in pytorch metric learning library\n",
        "- Temperature allows to balance the similarity measure (make it more peaked)\n",
        "- Typical values are around 0.1 / 0.2"
      ]
    },
    {
      "cell_type": "code",
      "execution_count": 29,
      "metadata": {
        "colab": {
          "base_uri": "https://localhost:8080/"
        },
        "id": "FGxTDy0sLDTp",
        "outputId": "680c5ef2-f970-47c2-d542-e457a5a984fb"
      },
      "outputs": [],
      "source": [
        "# See https://kevinmusgrave.github.io/pytorch-metric-learning/losses/#ntxentloss\n",
        "# !pip install pytorch-metric-learning -q\n",
        "\n",
        "from pytorch_metric_learning.losses import NTXentLoss\n",
        "loss_func = NTXentLoss(temperature=0.10)"
      ]
    },
    {
      "cell_type": "code",
      "execution_count": 30,
      "metadata": {
        "id": "DDplPASCKNRD"
      },
      "outputs": [],
      "source": [
        "device = torch.device('cuda' if torch.cuda.is_available() else 'cpu')\n",
        "model = Model().to(device)\n",
        "optimizer = torch.optim.Adam(model.parameters(), lr=0.001)\n",
        "scheduler = torch.optim.lr_scheduler.StepLR(optimizer, step_size=20, gamma=0.5)\n",
        "\n",
        "# Use a large batch size (might lead to RAM issues)\n",
        "# Free Colab Version has ~ 12 GB of RAM\n",
        "data_loader = DataLoader(dataset, batch_size=32, shuffle=True)\n"
      ]
    },
    {
      "cell_type": "markdown",
      "metadata": {
        "id": "LASK3n1qz8Fx"
      },
      "source": [
        "- No test dataset, as the evaluation can be done \"downstream\"\n",
        "- The compact representations go into the loss function\n",
        "- During test time no augmentations are applied and we can use the output representations"
      ]
    },
    {
      "cell_type": "code",
      "execution_count": 31,
      "metadata": {
        "colab": {
          "base_uri": "https://localhost:8080/"
        },
        "id": "PXLT7Up7Kd9g",
        "outputId": "2be7307a-b67e-490b-e497-9f395e3e887c"
      },
      "outputs": [
        {
          "name": "stderr",
          "output_type": "stream",
          "text": [
            "100%|██████████| 250/250 [1:13:14<00:00, 17.58s/it]\n"
          ]
        },
        {
          "name": "stdout",
          "output_type": "stream",
          "text": [
            "Epoch 001, Loss: 1.2887\n"
          ]
        },
        {
          "name": "stderr",
          "output_type": "stream",
          "text": [
            "100%|██████████| 250/250 [1:14:09<00:00, 17.80s/it]\n"
          ]
        },
        {
          "name": "stdout",
          "output_type": "stream",
          "text": [
            "Epoch 002, Loss: 0.6498\n"
          ]
        },
        {
          "name": "stderr",
          "output_type": "stream",
          "text": [
            "100%|██████████| 250/250 [1:15:22<00:00, 18.09s/it]"
          ]
        },
        {
          "name": "stdout",
          "output_type": "stream",
          "text": [
            "Epoch 003, Loss: 0.4815\n"
          ]
        },
        {
          "name": "stderr",
          "output_type": "stream",
          "text": [
            "\n"
          ]
        }
      ],
      "source": [
        "import tqdm\n",
        "\n",
        "def train():\n",
        "    model.train()\n",
        "    total_loss = 0\n",
        "    for _, data in enumerate(tqdm.tqdm(data_loader)):\n",
        "        data = data.to(device)\n",
        "        optimizer.zero_grad()\n",
        "        # Get data representations\n",
        "        h_1, h_2, compact_h_1, compact_h_2 = model(data)\n",
        "        # Prepare for loss\n",
        "        embeddings = torch.cat((compact_h_1, compact_h_2))\n",
        "        # The same index corresponds to a positive pair\n",
        "        indices = torch.arange(0, compact_h_1.size(0), device=compact_h_2.device)\n",
        "        labels = torch.cat((indices, indices))\n",
        "        loss = loss_func(embeddings, labels)\n",
        "        loss.backward()\n",
        "        total_loss += loss.item() * data.num_graphs\n",
        "        optimizer.step()\n",
        "    return total_loss / len(dataset)\n",
        "\n",
        "for epoch in range(1, 4):\n",
        "    loss = train()\n",
        "    print(f'Epoch {epoch:03d}, Loss: {loss:.4f}')\n",
        "    scheduler.step()"
      ]
    },
    {
      "cell_type": "markdown",
      "metadata": {
        "id": "J49zjaa5cxRe"
      },
      "source": [
        "## Evaluation of the Embeddings"
      ]
    },
    {
      "cell_type": "code",
      "execution_count": 32,
      "metadata": {
        "colab": {
          "base_uri": "https://localhost:8080/",
          "height": 265
        },
        "id": "z97R1Vhou0uQ",
        "outputId": "24a95dd8-5e6b-4b46-c143-4b2f5849293e"
      },
      "outputs": [
        {
          "data": {
            "image/png": "[encoded data removed]",
            "text/plain": [
              "<Figure size 640x480 with 1 Axes>"
            ]
          },
          "metadata": {},
          "output_type": "display_data"
        }
      ],
      "source": [
        "from sklearn.manifold import TSNE\n",
        "import seaborn as sns\n",
        "import pandas as pd\n",
        "import matplotlib.pyplot as plt\n",
        "\n",
        "# Get sample batch\n",
        "sample = next(iter(data_loader))\n",
        "\n",
        "# Get representations\n",
        "h = model(sample.to(device), train=False)\n",
        "h = h.cpu().detach()\n",
        "labels = sample.category.cpu().detach().numpy()\n",
        "\n",
        "# Get low-dimensional t-SNE Embeddings\n",
        "h_embedded = TSNE(n_components=2, learning_rate='auto',\n",
        "                   init='random').fit_transform(h.numpy())\n",
        "\n",
        "# Plot\n",
        "ax = sns.scatterplot(x=h_embedded[:,0], y=h_embedded[:,1], hue=labels,\n",
        "                    alpha=0.5, palette=\"tab10\")\n",
        "\n",
        "# Add labels to be able to identify the data points\n",
        "annotations = list(range(len(h_embedded[:,0])))\n",
        "\n",
        "def label_points(x, y, val, ax):\n",
        "    a = pd.concat({'x': x, 'y': y, 'val': val}, axis=1)\n",
        "    for i, point in a.iterrows():\n",
        "        ax.text(point['x']+.02, point['y'], str(int(point['val'])))\n",
        "\n",
        "label_points(pd.Series(h_embedded[:,0]),\n",
        "            pd.Series(h_embedded[:,1]),\n",
        "            pd.Series(annotations),\n",
        "            plt.gca())"
      ]
    },
    {
      "cell_type": "markdown",
      "metadata": {
        "id": "gdEaaGAGY7X_"
      },
      "source": [
        "Let's find the most similar and most different data points ...\n",
        "\n",
        "[Source](https://stackoverflow.com/questions/50411191/how-to-compute-the-cosine-similarity-in-pytorch-for-all-rows-in-a-matrix-with-re)"
      ]
    },
    {
      "cell_type": "code",
      "execution_count": 2,
      "metadata": {
        "colab": {
          "base_uri": "https://localhost:8080/"
        },
        "id": "NwEq0v63Y4F4",
        "outputId": "0aa953f3-113e-4753-aab2-9945bbe08719"
      },
      "outputs": [
        {
          "ename": "NameError",
          "evalue": "name 'h' is not defined",
          "output_type": "error",
          "traceback": [
            "\u001b[0;31m---------------------------------------------------------------------------\u001b[0m",
            "\u001b[0;31mNameError\u001b[0m                                 Traceback (most recent call last)",
            "Cell \u001b[0;32mIn[2], line 13\u001b[0m\n\u001b[1;32m     10\u001b[0m     sim_mt \u001b[38;5;241m=\u001b[39m torch\u001b[38;5;241m.\u001b[39mmm(a_norm, b_norm\u001b[38;5;241m.\u001b[39mtranspose(\u001b[38;5;241m0\u001b[39m, \u001b[38;5;241m1\u001b[39m))\n\u001b[1;32m     11\u001b[0m     \u001b[38;5;28;01mreturn\u001b[39;00m sim_mt\n\u001b[0;32m---> 13\u001b[0m similarity \u001b[38;5;241m=\u001b[39m sim_matrix(\u001b[43mh\u001b[49m, h)\n\u001b[1;32m     14\u001b[0m max_indices \u001b[38;5;241m=\u001b[39m torch\u001b[38;5;241m.\u001b[39mtopk(similarity, k\u001b[38;5;241m=\u001b[39m\u001b[38;5;241m2\u001b[39m)[\u001b[38;5;241m1\u001b[39m][:, \u001b[38;5;241m1\u001b[39m]\n\u001b[1;32m     15\u001b[0m max_vals  \u001b[38;5;241m=\u001b[39m torch\u001b[38;5;241m.\u001b[39mtopk(similarity, k\u001b[38;5;241m=\u001b[39m\u001b[38;5;241m2\u001b[39m)[\u001b[38;5;241m0\u001b[39m][:, \u001b[38;5;241m1\u001b[39m]\n",
            "\u001b[0;31mNameError\u001b[0m: name 'h' is not defined"
          ]
        }
      ],
      "source": [
        "import numpy as np\n",
        "\n",
        "def sim_matrix(a, b, eps=1e-8):\n",
        "    \"\"\"\n",
        "    Eps for numerical stability\n",
        "    \"\"\"\n",
        "    a_n, b_n = a.norm(dim=1)[:, None], b.norm(dim=1)[:, None]\n",
        "    a_norm = a / torch.max(a_n, eps * torch.ones_like(a_n))\n",
        "    b_norm = b / torch.max(b_n, eps * torch.ones_like(b_n))\n",
        "    sim_mt = torch.mm(a_norm, b_norm.transpose(0, 1))\n",
        "    return sim_mt\n",
        "\n",
        "similarity = sim_matrix(h, h)\n",
        "max_indices = torch.topk(similarity, k=2)[1][:, 1]\n",
        "max_vals  = torch.topk(similarity, k=2)[0][:, 1]\n",
        "\n",
        "# Select index\n",
        "idx = 17\n",
        "similar_idx = max_indices[idx]\n",
        "print(f\"Most similar data point in the embedding space for {idx} is {similar_idx}\")"
      ]
    },
    {
      "cell_type": "markdown",
      "metadata": {
        "id": "mZJvNho8nQoW"
      },
      "source": [
        "Categories are: \"Table\", \"Lamp\", \"Guitar\", \"Motorbike\", \"Skateboard\"\n",
        "\n",
        "**Note**: This is only based on the data in the current batch!"
      ]
    },
    {
      "cell_type": "code",
      "execution_count": 1,
      "metadata": {
        "colab": {
          "base_uri": "https://localhost:8080/",
          "height": 559
        },
        "id": "qMv3cc_bb6ag",
        "outputId": "0445673e-e9e3-43e4-8741-ef89c28663f5"
      },
      "outputs": [
        {
          "ename": "NameError",
          "evalue": "name 'plot_3d_shape' is not defined",
          "output_type": "error",
          "traceback": [
            "\u001b[0;31m---------------------------------------------------------------------------\u001b[0m",
            "\u001b[0;31mNameError\u001b[0m                                 Traceback (most recent call last)",
            "Cell \u001b[0;32mIn[1], line 1\u001b[0m\n\u001b[0;32m----> 1\u001b[0m \u001b[43mplot_3d_shape\u001b[49m(sample[idx]\u001b[38;5;241m.\u001b[39mcpu())\n",
            "\u001b[0;31mNameError\u001b[0m: name 'plot_3d_shape' is not defined"
          ]
        }
      ],
      "source": [
        "plot_3d_shape(sample[idx].cpu())"
      ]
    },
    {
      "cell_type": "code",
      "execution_count": null,
      "metadata": {
        "colab": {
          "base_uri": "https://localhost:8080/",
          "height": 559
        },
        "id": "i7Q86ALucDEx",
        "outputId": "466bb100-1262-48d9-839a-c8fe7aea096b"
      },
      "outputs": [
        {
          "name": "stdout",
          "output_type": "stream",
          "text": [
            "Number of data points:  2705\n"
          ]
        },
        {
          "data": {
            "text/html": [
              "<html>\n",
              "<head><meta charset=\"utf-8\" /></head>\n",
              "<body>\n",
              "    <div>            <script src=\"https://cdnjs.cloudflare.com/ajax/libs/mathjax/2.7.5/MathJax.js?config=TeX-AMS-MML_SVG\"></script><script type=\"text/javascript\">if (window.MathJax) {MathJax.Hub.Config({SVG: {font: \"STIX-Web\"}});}</script>                <script type=\"text/javascript\">window.PlotlyConfig = {MathJaxConfig: 'local'};</script>\n",
              "        <script src=\"https://cdn.plot.ly/plotly-2.8.3.min.js\"></script>                <div id=\"a4ba884a-03b0-4af2-9970-d4b760f26a4a\" class=\"plotly-graph-div\" style=\"height:525px; width:100%;\"></div>            <script type=\"text/javascript\">                                    window.PLOTLYENV=window.PLOTLYENV || {};                                    if (document.getElementById(\"a4ba884a-03b0-4af2-9970-d4b760f26a4a\")) {                    Plotly.newPlot(                        \"a4ba884a-03b0-4af2-9970-d4b760f26a4a\",                        [{\"hovertemplate\":\"x=%{x}<br>y=%{y}<br>z=%{z}<extra></extra>\",\"legendgroup\":\"\",\"marker\":{\"color\":\"#636efa\",\"opacity\":0.3,\"symbol\":\"circle\"},\"mode\":\"markers\",\"name\":\"\",\"scene\":\"scene\",\"showlegend\":false,\"x\":[-0.25268998742103577,0.15883000195026398,-0.19771000742912292,-0.2526800036430359,-0.2464500069618225,-0.09184999763965607,-0.21535000205039978,-0.08545000106096268,0.18006999790668488,-0.030330000445246696,0.15300999581813812,-0.22739000618457794,0.24630999565124512,0.2403700053691864,0.23062999546527863,0.24749000370502472,0.24613000452518463,0.24352000653743744,0.24567000567913055,0.23214000463485718,-0.25286999344825745,0.2539899945259094,-0.23086999356746674,-0.22666999697685242,-0.2296999990940094,-0.25334998965263367,0.2328599989414215,0.2328599989414215,0.2328599989414215,0.2328599989414215,0.2328599989414215,0.2328599989414215,0.2328599989414215,0.2328599989414215,0.2328599989414215,0.2328599989414215,0.2328599989414215,-0.2534799873828888,-0.22401000559329987,-0.21877999603748322,-0.21929000318050385,-0.24764999747276306,-0.2246599942445755,-0.2145400047302246,-0.22405000030994415,-0.21859000623226166,-0.2540299892425537,-0.2540299892425537,-0.2540299892425537,-0.2540299892425537,-0.2540299892425537,-0.2540299892425537,-0.2540299892425537,-0.2540299892425537,-0.2540299892425537,0.2519499957561493,-0.02566000074148178,0.1125900000333786,0.2540299892425537,0.2540299892425537,0.2540299892425537,0.2540299892425537,0.2540299892425537,0.2540299892425537,0.2540299892425537,0.2540299892425537,0.2540299892425537,-0.2382899969816208,0.24220000207424164,0.1144300028681755,0.10621999949216843,0.2328599989414215,0.2328599989414215,0.2328599989414215,0.2328599989414215,0.2328599989414215,0.2328599989414215,0.2328599989414215,0.2328599989414215,0.2328599989414215,0.2328599989414215,0.2328599989414215,0.2378299981355667,-0.23068000376224518,-0.22741000354290009,-0.22944000363349915,-0.22509999573230743,-0.23623999953269958,-0.22439000010490417,-0.22439000010490417,-0.22439000010490417,-0.22439000010490417,-0.22439000010490417,-0.22439000010490417,-0.22439000010490417,-0.22439000010490417,-0.22439000010490417,-0.22439000010490417,-0.22439000010490417,-0.22439000010490417,0.22432999312877655,0.2534700036048889,0.2365799993276596,-0.21358999609947205,-0.2244199961423874,-0.22145000100135803,-0.22041000425815582,-0.23138000071048737,-0.22890999913215637,-0.22992999851703644,-0.22352999448776245,-0.23118999600410461,-0.21442000567913055,0.24977000057697296,0.24455000460147858,0.24469000101089478,0.24426999688148499,-0.2366500049829483,0.22806000709533691,0.24818000197410583,0.2540299892425537,0.2540299892425537,0.2540299892425537,0.2540299892425537,0.2540299892425537,0.2540299892425537,0.2540299892425537,0.2540299892425537,0.2540299892425537,-0.22655999660491943,-0.23029999434947968,-0.24007999897003174,-0.2469799965620041,0.2283799946308136,0.22578999400138855,0.22633999586105347,0.22610999643802643,-0.2116899937391281,-0.2116899937391281,-0.2116899937391281,-0.2116899937391281,-0.2116899937391281,-0.2116899937391281,-0.2116899937391281,-0.2116899937391281,0.22961999475955963,0.2267799973487854,0.2324800044298172,0.23180000483989716,0.03799000009894371,0.1571200042963028,0.0379600003361702,0.16019999980926514,-0.09444999694824219,0.19199000298976898,0.06532999873161316,0.2261199951171875,-0.25363999605178833,0.23619000613689423,-0.2116899937391281,-0.22869999706745148,-0.2540299892425537,-0.2540299892425537,-0.2540299892425537,-0.2540299892425537,-0.2540299892425537,-0.2540299892425537,-0.2540299892425537,-0.2540299892425537,-0.2540299892425537,-0.23159000277519226,-0.2183299958705902,-0.23107999563217163,-0.228520005941391,-0.2220900058746338,-0.21408000588417053,-0.22413000464439392,-0.2390100061893463,-0.2264000028371811,-0.23262999951839447,-0.22023999691009521,-0.21565000712871552,-0.2314700037240982,-0.21758000552654266,-0.22742000222206116,-0.21995000541210175,-0.23104999959468842,0.22596000134944916,-0.25394999980926514,-0.2526499927043915,-0.2516300082206726,-0.2534799873828888,-0.2509300112724304,0.22698000073432922,-0.19550000131130219,-0.11732999980449677,0.09522999823093414,0.11674000322818756,-0.22616000473499298,-0.22890999913215637,-0.2260199934244156,0.2261900007724762,0.08643999695777893,-0.06397999823093414,-0.22412000596523285,0.2535400092601776,0.2370000034570694,-0.21170000731945038,-0.08631999790668488,0.002460000105202198,-0.13861000537872314,0.037370000034570694,-0.03694000095129013,-0.04055999964475632,-0.01947000063955784,-0.04058000072836876,-0.011479999870061874,0.07682999968528748,-0.1929900050163269,-0.14860999584197998,-0.13993999361991882,-0.17151999473571777,-0.16221000254154205,-0.08934000134468079,-0.07348000258207321,-0.04806999862194061,-0.19607000052928925,-0.09599000215530396,-0.23409999907016754,-0.09529999643564224,0.05473000183701515,0.11328999698162079,-0.24911999702453613,-0.04845999926328659,-0.17590999603271484,-0.01841999962925911,-0.21105000376701355,-0.0807500034570694,-0.17735999822616577,0.08535999804735184,0.17858000099658966,0.07840999960899353,0.008410000242292881,-0.24278999865055084,-0.13353000581264496,-0.1590300053358078,0.018880000337958336,-0.18019999563694,-0.1544400006532669,-0.1900700032711029,-0.15921999514102936,0.15859000384807587,-0.22851000726222992,-0.13559000194072723,-0.11881999671459198,-0.13586999475955963,-0.24166999757289886,-0.2301499992609024,-0.0243500005453825,-0.017869999632239342,-0.22762000560760498,-0.2409300059080124,-0.1755799949169159,-0.0530799999833107,-0.061769999563694,-0.09492000192403793,-0.21645000576972961,-0.14928999543190002,-0.0738300010561943,0.021239999681711197,0.13142000138759613,-0.11520999670028687,-0.19251999258995056,-0.07511000335216522,-0.24153999984264374,-0.213359996676445,-0.2517800033092499,0.05967000126838684,-0.18897999823093414,-0.24905000627040863,-0.11693000048398972,0.01779000088572502,0.10298000276088715,0.0423399992287159,-0.09218999743461609,-0.22134999930858612,-0.23305000364780426,-0.23565000295639038,-0.1266700029373169,-0.22845999896526337,-0.17358000576496124,-0.11316999793052673,-0.17281000316143036,-0.18425999581813812,-0.1699499934911728,-0.05841999873518944,-0.09369999915361404,0.13931000232696533,-0.21030999720096588,-0.088639996945858,-0.20573000609874725,-0.026200000196695328,-0.24948999285697937,-0.12865999341011047,4.999999873689376e-05,-0.11811000108718872,-0.02824000082910061,0.018379999324679375,-0.16348999738693237,-0.0857900008559227,-0.1608700007200241,-0.07478000223636627,-0.2539199888706207,-0.2451999932527542,-0.02669999934732914,-0.08589000254869461,-0.1424800008535385,0.1790899932384491,-0.16557000577449799,-0.11879000067710876,-0.06560999900102615,-0.04560000076889992,-0.08275000005960464,-0.032030001282691956,0.03255999833345413,-0.055410001426935196,0.07257000356912613,-0.2291100025177002,-0.22990000247955322,-0.06532000005245209,-0.21539999544620514,-0.047240000218153,-0.005940000060945749,-0.04926000162959099,-0.15661999583244324,0.05795999988913536,-0.0008200000156648457,-0.06499999761581421,-0.23747000098228455,-0.1115799993276596,0.1030300036072731,0.060499999672174454,-0.07818999886512756,-0.17874999344348907,-0.19099999964237213,-0.1410599946975708,0.12109000235795975,-0.16301000118255615,0.001610000035725534,-0.2212499976158142,-0.10570000112056732,-0.17103999853134155,-0.1821800023317337,0.09452000260353088,-0.0963200032711029,-0.23266999423503876,-0.19221000373363495,-0.08833000063896179,0.05680999904870987,-0.17813000082969666,-0.08587999641895294,-0.11094000190496445,0.09147000312805176,-0.168830007314682,-0.07373999804258347,-0.07319000363349915,0.14162999391555786,-0.03263000026345253,-0.19634999334812164,-0.11023999750614166,0.14696000516414642,-0.18949000537395477,-0.04188999906182289,-0.09925000369548798,0.03156999871134758,-0.1297300010919571,-0.06994999945163727,-0.08992999792098999,-0.03578000143170357,-0.10888999700546265,0.10030999779701233,-0.20563000440597534,0.02490999922156334,0.06588999927043915,-0.12063000351190567,0.184129998087883,-0.21946999430656433,-0.0634400025010109,-0.16224999725818634,-0.0954200029373169,-7.999999797903001e-05,0.06479000300168991,-0.1921599954366684,0.047929998487234116,0.06866999715566635,-0.11658000200986862,-0.2137800008058548,-0.1127299964427948,0.056449998170137405,0.01590000092983246,-0.09166000038385391,0.08304999768733978,-0.07992000132799149,0.12241999804973602,-0.036400001496076584,-0.20864999294281006,-0.056529998779296875,-0.199630007147789,-0.053599998354911804,0.016759999096393585,0.02800000086426735,-0.03167000040411949,-0.22617000341415405,-0.09989000111818314,-0.24560999870300293,-0.08490999788045883,-0.23850999772548676,0.22281000018119812,-0.00930000003427267,0.009720000438392162,-0.07450000196695328,0.1716500073671341,-0.23409999907016754,-0.24618999660015106,0.03220000118017197,0.059209998697042465,0.10006000101566315,0.07322999835014343,0.1988299936056137,0.06633999943733215,0.01343000028282404,0.13276000320911407,0.04259999841451645,-0.21675999462604523,-0.24344000220298767,-0.2116899937391281,-0.2116899937391281,-0.2116899937391281,-0.2116899937391281,-0.2116899937391281,-0.2116899937391281,-0.2116899937391281,-0.2116899937391281,0.23276999592781067,0.2311599999666214,0.2540299892425537,0.2540299892425537,0.2540299892425537,0.2540299892425537,0.2540299892425537,0.2540299892425537,0.2540299892425537,0.2540299892425537,0.2135400027036667,-0.06932000070810318,-0.01988000050187111,-0.24038000404834747,-0.242249995470047,-0.2385600060224533,-0.24023999273777008,-0.24108000099658966,-0.2376900017261505,-0.24793000519275665,-0.24677999317646027,-0.2539199888706207,-0.22662000358104706,-0.23096999526023865,-0.19584999978542328,0.24241000413894653,-0.22176000475883484,-0.12927000224590302,-0.024010000750422478,0.18161000311374664,-0.18776999413967133,0.08297999948263168,-0.04874999821186066,-0.23826000094413757,0.24229000508785248,0.2116899937391281,0.2116899937391281,0.2116899937391281,0.2116899937391281,0.2116899937391281,0.2116899937391281,0.2116899937391281,0.2116899937391281,0.2116899937391281,-0.2540299892425537,-0.2540299892425537,-0.2540299892425537,-0.2540299892425537,-0.2540299892425537,-0.2540299892425537,-0.2540299892425537,-0.2540299892425537,-0.2540299892425537,0.23916000127792358,0.2234400063753128,0.25266000628471375,0.22875000536441803,-0.2410999983549118,0.2116899937391281,0.2116899937391281,0.2116899937391281,0.2116899937391281,0.2116899937391281,0.2116899937391281,0.2116899937391281,0.2116899937391281,0.2116899937391281,-0.2312300056219101,0.17524999380111694,0.18327000737190247,0.12601999938488007,0.15454000234603882,0.22675999999046326,0.14182999730110168,0.11722999811172485,0.04966000095009804,0.053780000656843185,0.18877999484539032,0.004290000069886446,0.22912999987602234,0.05861999839544296,0.24321000277996063,0.0764399990439415,0.0049600000493228436,0.21425999701023102,-0.050599999725818634,0.008129999972879887,-0.05112000182271004,0.14985999464988708,0.06340999901294708,0.2407499998807907,0.21232999861240387,-0.14259999990463257,-0.12651999294757843,0.18348999321460724,0.04766000062227249,-0.17361000180244446,0.05226000025868416,0.16689999401569366,0.04360000044107437,0.178289994597435,0.1308099925518036,0.011429999954998493,-0.05851000174880028,0.10123000293970108,0.0813400000333786,-0.10337000340223312,0.038339998573064804,-0.0957999974489212,0.2446500062942505,0.03771999850869179,-0.004670000169426203,-0.06131000071763992,0.22466999292373657,-0.00419999985024333,0.05900999903678894,0.04292000085115433,-0.019449999555945396,-0.02484999969601631,0.19391000270843506,0.19061000645160675,0.09399999678134918,0.2534700036048889,-0.00535999983549118,0.20315000414848328,0.02150999940931797,-0.16419999301433563,0.22345000505447388,0.014600000344216824,0.15610000491142273,0.23987999558448792,0.03685000166296959,0.20845000445842743,0.04382000118494034,0.15987999737262726,-0.08350999653339386,0.22258999943733215,-0.12540000677108765,0.1723099946975708,0.07304999977350235,0.08900000154972076,-0.1628500074148178,-0.08883000165224075,0.2300799936056137,0.14242999255657196,0.14404000341892242,-0.1667499989271164,-0.07361999899148941,-0.0024800000246614218,-0.08065000176429749,0.17238999903202057,0.042249999940395355,4.999999873689376e-05,-0.033250000327825546,0.16556000709533691,0.15343999862670898,0.1828799992799759,0.21270999312400818,-0.054760001599788666,-0.12178999930620193,0.10397999733686447,0.049320001155138016,0.2502700090408325,-0.06137999892234802,-0.0700099989771843,-0.0765800029039383,-0.09374000132083893,0.08654999732971191,0.23941999673843384,0.2461100071668625,0.20095999538898468,0.17949000000953674,0.06808000057935715,0.23130999505519867,0.10805000364780426,-0.1449200063943863,0.11535000056028366,-0.08006999641656876,-0.008200000040233135,0.20476000010967255,0.23914000391960144,0.10565999895334244,-0.06554999947547913,-0.1690399944782257,0.23411999642848969,0.0836699977517128,0.06785999983549118,0.25400999188423157,-0.05105999857187271,0.14667999744415283,-0.11379999667406082,-0.0833899974822998,0.19106000661849976,0.23656000196933746,-0.11660999804735184,0.02094000019133091,0.08541999757289886,0.19255000352859497,0.11364000290632248,-0.09724999964237213,0.10266000032424927,0.16238999366760254,-0.1035899966955185,0.05651000142097473,-0.055330000817775726,0.1408900022506714,0.24673999845981598,0.19517000019550323,0.022840000689029694,0.16259999573230743,0.219200000166893,0.22811000049114227,0.08973000198602676,0.08711999654769897,0.2308499962091446,-0.04757000133395195,-0.023830000311136246,0.1675100028514862,0.22381000220775604,0.10518000274896622,0.21184000372886658,0.22665999829769135,0.09537000209093094,0.0538799986243248,0.10538999736309052,0.2081799954175949,-0.1482599973678589,0.15478000044822693,0.13792000710964203,0.06262999773025513,0.02240999974310398,0.22683000564575195,0.15643000602722168,-0.08028999716043472,0.048259999603033066,0.2533400058746338,0.16607999801635742,-0.16695000231266022,0.040049999952316284,0.04983999952673912,0.20500999689102173,0.063230000436306,-0.01906999945640564,0.039329998195171356,0.0979899987578392,0.15710000693798065,0.18241000175476074,0.02225000038743019,0.21074999868869781,0.1917800009250641,0.10249999910593033,-0.11731000244617462,0.05414000153541565,0.24751999974250793,0.1375100016593933,0.00443999981507659,0.18648000061511993,0.24820999801158905,0.21739999949932098,0.1893399953842163,0.11029999703168869,0.22099000215530396,0.08930999785661697,0.18271000683307648,0.03945000097155571,0.24038000404834747,0.07483000308275223,0.13951000571250916,-0.10357999801635742,0.18532000482082367,0.028119999915361404,0.12387000024318695,-0.04873000085353851,0.0531499981880188,0.0755700021982193,0.10852000117301941,0.2499600052833557,0.12764999270439148,0.10492999851703644,-0.01915000006556511,0.16741999983787537,-0.06261000037193298,0.12816999852657318,0.21782000362873077,-0.10944999754428864,0.060120001435279846,0.1318099945783615,-0.0011699999449774623,0.2264299988746643,0.2297399938106537,-0.2116899937391281,-0.2116899937391281,-0.2116899937391281,-0.2116899937391281,-0.2116899937391281,-0.2116899937391281,-0.2116899937391281,-0.2116899937391281,-0.2116899937391281,0.22732000052928925,0.21695999801158905,0.21480000019073486,0.22526000440120697,0.2430099993944168,0.22675999999046326,0.2341800034046173,0.2267400026321411,0.21295000612735748,0.21544000506401062,0.21581999957561493,0.23024000227451324,0.2270900011062622,0.22826999425888062,0.22935999929904938,0.23048999905586243,0.23050999641418457,0.2347699999809265,0.23463000357151031,0.07548999786376953,-0.21750999987125397,0.2328599989414215,0.2328599989414215,0.2328599989414215,0.2328599989414215,0.2328599989414215,0.2328599989414215,0.2328599989414215,0.2328599989414215,0.2328599989414215,0.2328599989414215,0.2328599989414215,0.005690000019967556,0.14539000391960144,0.21258999407291412,0.2540299892425537,0.2540299892425537,0.2540299892425537,0.2540299892425537,0.2540299892425537,0.2540299892425537,0.2540299892425537,-0.1921900063753128,0.238319993019104,0.22439000010490417,0.22439000010490417,0.22439000010490417,0.22439000010490417,0.22439000010490417,0.22439000010490417,0.22439000010490417,0.22439000010490417,0.22439000010490417,0.22439000010490417,0.22439000010490417,0.22439000010490417,-0.2116899937391281,-0.2116899937391281,-0.2116899937391281,-0.2116899937391281,-0.2116899937391281,-0.2116899937391281,-0.21971000730991364,-0.21424999833106995,-0.2202499955892563,-0.22134000062942505,-0.21615000069141388,-0.23086999356746674,-0.2207300066947937,-0.24445000290870667,-0.23508000373840332,0.2290399968624115,-0.2523399889469147,0.2116899937391281,0.2116899937391281,0.2116899937391281,0.2116899937391281,0.2116899937391281,0.2116899937391281,0.2116899937391281,0.2116899937391281,0.21174000203609467,-0.2328599989414215,-0.2328599989414215,-0.2328599989414215,-0.2328599989414215,-0.2328599989414215,-0.2328599989414215,-0.2328599989414215,-0.2328599989414215,-0.2328599989414215,-0.2328599989414215,-0.2328599989414215,-0.2328599989414215,-0.19226999580860138,-0.08177000284194946,-0.0020099999383091927,0.10102000087499619,-0.1875700056552887,-0.1416500061750412,0.1324699968099594,-0.07067999988794327,0.24028000235557556,-0.22404000163078308,-0.21945999562740326,0.22638000547885895,-0.212459996342659,-0.23598000407218933,-0.001449999981559813,-0.21164999902248383,-0.1862100064754486,-0.07129999995231628,-0.11846999824047089,-0.21848000586032867,-0.05324999988079071,-0.07242999970912933,-0.11962000280618668,-0.22127999365329742,-0.08397000283002853,-0.1018500030040741,-0.20981000363826752,-0.18648000061511993,-0.18542000651359558,-0.16595999896526337,-0.0741100013256073,-0.012280000373721123,-0.10767000168561935,-0.15839999914169312,-0.16659000515937805,-0.15599000453948975,0.14733000099658966,-0.11125999689102173,-0.16118000447750092,-0.09196999669075012,-0.058329999446868896,-0.09362000226974487,-0.19008000195026398,0.10227999836206436,-0.12578999996185303,-0.10321000218391418,-0.1960200071334839,-0.14297999441623688,-0.20805999636650085,-0.14880000054836273,-0.19397999346256256,-0.18519000709056854,-0.19997000694274902,-0.09557999670505524,-0.10706999897956848,0.05212000012397766,-0.022099999710917473,0.11057999730110168,-0.2138500064611435,-0.12174999713897705,0.07789000123739243,-0.14444999396800995,-0.12476000189781189,-0.10007999837398529,-0.044130001217126846,-0.08778999745845795,-0.1287499964237213,-0.15116000175476074,-0.0466499999165535,-0.11686000227928162,-0.10289999842643738,-0.1855199933052063,-0.12928999960422516,-0.08569999784231186,-0.18097999691963196,0.007660000119358301,-0.18966999650001526,0.058729998767375946,-0.22116999328136444,-0.058240000158548355,-0.20976999402046204,0.0017600000137463212,0.03491000086069107,0.02159000001847744,-0.08840999752283096,-0.20090000331401825,-0.02428000047802925,-0.10671000182628632,-0.17461000382900238,-0.1300099939107895,-0.09763000160455704,0.11708000302314758,0.15347999334335327,0.10795000195503235,-0.1358799934387207,-0.16277000308036804,0.08709000051021576,-0.20024000108242035,-0.21750999987125397,-0.17130999267101288,-0.16944000124931335,-0.12734000384807587,0.03840000182390213,-0.1773100048303604,-0.06111999973654747,-0.04284999892115593,-0.09133999794721603,-0.030789999291300774,0.09650000184774399,-0.0025100000202655792,-0.19047999382019043,-0.19954000413417816,-0.0994499996304512,-0.1657799929380417,-0.1710200011730194,0.022180000320076942,0.04341999813914299,-0.03743999823927879,-0.1863200068473816,0.014759999699890614,-0.18449999392032623,-0.17945000529289246,-0.20134000480175018,-0.21363000571727753,-0.020349999889731407,-0.15818999707698822,-0.16120000183582306,0.1857299953699112,-0.17940999567508698,-0.1837799996137619,0.1104699969291687,0.16110999882221222,-0.1949699968099594,-0.17172999680042267,-0.05218999832868576,0.07201000303030014,-0.1859399974346161,-0.02085000090301037,-0.09915000200271606,-0.15929000079631805,0.1793700009584427,-0.020020000636577606,-0.19066999852657318,-0.14300000667572021,0.004670000169426203,0.1344500035047531,0.06556999683380127,0.08096999675035477,-0.12559999525547028,-0.22075000405311584,-0.20906999707221985,0.15816999971866608,-0.18118000030517578,-0.11777999997138977,0.063510000705719,0.052969999611377716,-0.13264000415802002,-0.1766500025987625,-0.19773000478744507,0.05863000079989433,-0.035999998450279236,-0.0865899994969368,-0.21720999479293823,0.08809000253677368,-0.20499999821186066,-0.11765000224113464,-0.18427999317646027,-0.19306999444961548,-0.09148000180721283,-0.10700000077486038,-0.09317000210285187,-0.008539999835193157,0.04191000014543533,-0.19450999796390533,-0.1772499978542328,-0.1397400051355362,-0.006010000128298998,-0.13549000024795532,-0.17301000654697418,-0.05646999925374985,-0.09199000149965286,-0.12443999946117401,0.059470001608133316,-0.21050000190734863,-0.046950001269578934,-0.1390399932861328,-0.09374000132083893,-0.15518000721931458,-0.10234999656677246,-0.05555000156164169,0.0029100000392645597,-0.20590999722480774,-0.18002000451087952,-0.21660000085830688,-0.12250000238418579,-0.16144999861717224,0.09246999770402908,0.028049999848008156,-0.01078999973833561,0.24476000666618347,-0.031120000407099724,0.017090000212192535,-0.17468999326229095,-0.14601999521255493,-0.13189999759197235,0.2116899937391281,0.2116899937391281,0.2116899937391281,0.2116899937391281,0.2116899937391281,0.2116899937391281,0.2116899937391281,0.2116899937391281,0.2116899937391281,-0.15670999884605408,-0.20024000108242035,-0.2522999942302704,-0.24514000117778778,-0.08750999718904495,-0.21355000138282776,-0.1529799997806549,-0.1657799929380417,-0.20991000533103943,-0.0573900006711483,-0.019209999591112137,-0.05834000185132027,-0.02896999940276146,-0.22439000010490417,-0.22439000010490417,-0.22439000010490417,-0.22439000010490417,-0.22439000010490417,-0.22439000010490417,-0.22439000010490417,-0.22439000010490417,0.21175000071525574,-0.2117999941110611,-0.2328599989414215,-0.2328599989414215,-0.2328599989414215,-0.2328599989414215,-0.2328599989414215,-0.2328599989414215,-0.2328599989414215,-0.2328599989414215,-0.2328599989414215,-0.2328599989414215,-0.2328599989414215,-0.2328599989414215,-0.23895999789237976,-0.24477000534534454,0.019740000367164612,-0.1341399997472763,0.011800000444054604,-0.16680000722408295,-0.23406000435352325,0.2540299892425537,0.2540299892425537,0.2540299892425537,0.2540299892425537,0.2540299892425537,0.2540299892425537,0.2540299892425537,0.2540299892425537,0.22610999643802643,0.22597000002861023,0.22582000494003296,-0.2328599989414215,-0.2328599989414215,-0.2328599989414215,-0.2328599989414215,-0.2328599989414215,-0.2328599989414215,-0.2328599989414215,-0.2328599989414215,-0.2328599989414215,-0.2328599989414215,-0.2328599989414215,-0.2328599989414215,0.23970000445842743,-0.2529500126838684,0.14315000176429749,0.16412000358104706,0.045099999755620956,0.10524000227451324,-0.031120000407099724,0.19972999393939972,-0.2540299892425537,0.18998999893665314,0.0051299999468028545,0.07946000248193741,-0.035110000520944595,-0.09354999661445618,0.17416000366210938,0.1011200025677681,-0.07368999719619751,0.1487399935722351,-0.2540299892425537,-0.2540299892425537,-0.2540299892425537,-0.2540299892425537,-0.2540299892425537,-0.2540299892425537,-0.2540299892425537,-0.2540299892425537,0.2137099951505661,-0.09912999719381332,0.07784000039100647,0.0848499983549118,-0.17169000208377838,-0.21563999354839325,-0.11902999877929688,-0.13169999420642853,0.008390000090003014,-0.17528000473976135,-0.21171000599861145,-0.19222000241279602,0.022089999169111252,-0.1728699952363968,-0.21062999963760376,-0.22134000062942505,0.08805999904870987,-0.21063999831676483,0.10270000249147415,0.09057000279426575,-0.18480999767780304,-0.04548000171780586,-0.13840000331401825,0.0029800001066178083,0.06080000102519989,-0.02961999922990799,-0.19426000118255615,0.025200000032782555,-0.022600000724196434,-0.1978899985551834,-0.18964999914169312,-0.16866999864578247,-0.07704000174999237,-0.1369599997997284,-0.16458000242710114,-0.15068000555038452,-0.15259000658988953,-0.13388000428676605,-0.12897999584674835,-0.13168999552726746,-0.06225999817252159,-0.003449999960139394,-0.20021000504493713,-0.22126999497413635,-0.2135400027036667,-0.11695999652147293,-0.11196999996900558,-0.08708000183105469,-0.2048500031232834,-0.09899000078439713,-0.0783500000834465,-0.006380000151693821,-0.12319999933242798,-0.2023800015449524,0.07897000014781952,0.020989999175071716,-0.08612000197172165,-0.18957999348640442,-0.05178999900817871,-0.0660099983215332,0.061500001698732376,-0.06599999964237213,-0.08483000099658966,0.06052999943494797,-0.10344000160694122,-0.13030000030994415,-0.211899995803833,-0.19701999425888062,-0.17948000133037567,-0.20736999809741974,-0.19931000471115112,0.05990999937057495,-0.20103999972343445,0.08850999921560287,-0.07667999714612961,0.06823000311851501,-0.0906900018453598,-0.07903999835252762,-0.09509000182151794,-0.16249999403953552,-0.014299999922513962,-0.1640699952840805,-0.17881999909877777,-0.07998000085353851,0.04154999926686287,-0.050360001623630524,-0.0928099974989891,-0.06317999958992004,-0.06347999721765518,0.05186999961733818,0.08524999767541885,-0.06358999758958817,-0.12891000509262085,-0.16690999269485474,-0.07903999835252762,-0.06360000371932983,-0.1756100058555603,0.12047000229358673,0.0737600028514862,-0.20399999618530273,0.017890000715851784,-0.09757000207901001,-0.10045000165700912,-0.21494999527931213,-0.05964000150561333,-0.20229999721050262,-0.017510000616312027,0.018799999728798866,-0.01080000028014183,-0.21126000583171844,-0.14219999313354492,-0.11004000157117844,0.006169999949634075,-0.018810000270605087,0.15139999985694885,-0.19693000614643097,-0.10830999910831451,-0.2199999988079071,-0.12591999769210815,-0.0177800003439188,-0.17483000457286835,-0.020519999787211418,-0.21744999289512634,0.11101999878883362,-0.061420001089572906,-0.12154000252485275,-0.1490200012922287,-0.05392000079154968,-0.07246000319719315,-0.10373999923467636,-0.17552000284194946,-0.20986999571323395,-0.0794999971985817,-0.15768000483512878,0.05397000163793564,0.07309000194072723,-0.01964000053703785,-0.1381099969148636,-0.20227999985218048,0.10117000341415405,-0.14746999740600586,0.18445000052452087,-0.05544000118970871,-0.1688999980688095,0.08094000071287155,0.06565000116825104,0.1338600069284439,-0.17104999721050262,0.022210000082850456,0.08307000249624252,-0.01078999973833561,-0.07744000107049942,0.04969999939203262,-0.1252100020647049,-0.20543000102043152,-0.1977899968624115,0.05094999819993973,0.06778000295162201,0.14883999526500702,-0.08130999654531479,-0.08472000062465668,-0.2006700038909912,-0.004120000172406435,0.01916000060737133,-0.25259000062942505,-0.2119400054216385,0.2034599930047989,-0.08207999914884567,0.10234999656677246,0.23579999804496765,0.23837000131607056,0.23771999776363373,0.2342900037765503,0.22518999874591827,0.24790999293327332,0.24782000482082367,0.2190600037574768,0.017559999600052834,-0.07746999710798264,-0.004470000043511391,-0.2540299892425537,-0.2540299892425537,-0.2540299892425537,-0.2540299892425537,-0.2540299892425537,-0.2540299892425537,-0.2540299892425537,-0.2540299892425537,-0.0616299994289875,-0.14879000186920166,0.07947999984025955,-0.014510000124573708,0.06218000128865242,0.17833000421524048,-0.22867000102996826,-0.21175000071525574,0.0779699981212616,-0.1804800033569336,-0.23813000321388245,0.25303998589515686,0.2116899937391281,0.2116899937391281,0.2116899937391281,0.2116899937391281,0.2116899937391281,0.2116899937391281,0.2116899937391281,0.2116899937391281,0.20893000066280365,0.21292999386787415,-0.22801999747753143,0.22746999561786652,-0.23308999836444855,-0.24504999816417694,-0.25154998898506165,-0.2439199984073639,-0.24010999500751495,-0.23694999516010284,-0.249099999666214,-0.2321700006723404,0.25275999307632446,-0.23413999378681183,0.21170000731945038,-0.14906999468803406,-0.07543999701738358,-0.08324000239372253,-0.20117999613285065,-0.1929599940776825,0.10837999731302261,0.03189000114798546,0.24403999745845795,0.2116899937391281,0.2116899937391281,0.2116899937391281,0.2116899937391281,0.2116899937391281,0.2116899937391281,0.2116899937391281,0.22561000287532806,0.21507999300956726,0.22175000607967377,0.23030999302864075,0.22567999362945557,0.23666000366210938,0.23839999735355377,-0.1170400008559227,-0.16902999579906464,-0.2116899937391281,-0.2116899937391281,-0.2116899937391281,-0.2116899937391281,-0.2116899937391281,-0.2116899937391281,-0.2116899937391281,-0.2116899937391281,0.2540299892425537,0.2540299892425537,0.2540299892425537,0.2540299892425537,0.2540299892425537,0.2540299892425537,0.2540299892425537,0.2540299892425537,0.21170000731945038,0.0006799999973736703,0.004559999797493219,0.21538999676704407,0.23091000318527222,0.22988000512123108,0.22867000102996826,0.22452999651432037,0.22046999633312225,0.22070999443531036,0.22925999760627747,0.21768000721931458,-0.22345000505447388,0.22168000042438507,-0.23128999769687653,-0.22759999334812164,-0.24131999909877777,0.23541000485420227,-0.23518000543117523,0.2540299892425537,0.2540299892425537,0.2540299892425537,0.2540299892425537,0.2540299892425537,0.2540299892425537,0.2540299892425537,0.2540299892425537,0.2540299892425537,0.2379699945449829,0.03571999818086624,-0.11726000159978867,0.05998999997973442,0.2405499964952469,0.12764999270439148,-0.12970000505447388,-0.1833299994468689,-0.10482999682426453,-0.12071000039577484,-0.14614999294281006,-0.06592000275850296,0.2428700029850006,-0.2540299892425537,-0.2540299892425537,-0.2540299892425537,-0.2540299892425537,-0.2540299892425537,-0.2540299892425537,-0.2540299892425537,-0.2540299892425537,-0.2540299892425537,0.23646999895572662,-0.2328599989414215,-0.2328599989414215,-0.2328599989414215,-0.2328599989414215,-0.2328599989414215,-0.2328599989414215,-0.2328599989414215,-0.2328599989414215,-0.2328599989414215,-0.2328599989414215,-0.2328599989414215,-0.22616000473499298,0.2540299892425537,0.2540299892425537,0.2540299892425537,0.2540299892425537,0.2540299892425537,0.2540299892425537,0.2540299892425537,0.2540299892425537,-0.2126699984073639,-0.19738000631332397,-0.19529999792575836,0.07122000306844711,-0.041930001229047775,-0.12932999432086945,0.016769999638199806,0.03215000033378601,0.22418999671936035,0.003869999898597598,0.16601000726222992,0.19494999945163727,0.10963000357151031,-0.009449999779462814,0.17952999472618103,0.17987999320030212,0.14278000593185425,0.19863000512123108,0.20539000630378723,0.1486400067806244,0.2101999968290329,0.11422000080347061,0.08631999790668488,0.20163999497890472,0.0070500001311302185,0.22107000648975372,0.1839199960231781,0.10179000347852707,0.04701999947428703,0.1691499948501587,-0.0056500001810491085,0.1743900030851364,-0.08397000283002853,0.14719000458717346,-0.165010005235672,0.15737999975681305,0.11956000328063965,0.1028200015425682,0.12180999666452408,0.21910999715328217,-0.04493999853730202,0.10113999992609024,0.13229000568389893,-0.08083000034093857,-0.044179998338222504,-0.11266999691724777,0.08280999958515167,-0.1739100068807602,0.027249999344348907,-0.13544000685214996,0.0521400012075901,0.15745000541210175,0.18544000387191772,0.10963000357151031,-0.015080000273883343,0.048239998519420624,0.19243000447750092,0.1839900016784668,0.0030400000978261232,0.13202999532222748,0.10434000194072723,0.12870000302791595,-0.00800000037997961,-0.060989998281002045,-0.044429998844861984,0.07406000047922134,0.01573999971151352,0.20220999419689178,0.17343999445438385,-0.12929999828338623,-0.1410199999809265,0.2102299928665161,0.1514900028705597,0.16832000017166138,-0.03370000049471855,-0.05812999978661537,0.15929000079631805,-0.003719999920576811,0.11527000367641449,0.022760000079870224,-0.050930000841617584,0.17256000638008118,0.12592999637126923,0.0502300001680851,0.06532000005245209,0.18565000593662262,0.12326999753713608,0.1267700046300888,-0.016519999131560326,0.021630000323057175,-0.04270999878644943,0.03909999877214432,0.21462999284267426,0.0645499974489212,0.12750999629497528,-0.12625999748706818,0.1318099945783615,0.0803999975323677,-0.050599999725818634,0.1437399983406067,0.154229998588562,-0.11347000300884247,0.16439999639987946,0.1852799952030182,0.15446999669075012,-0.021139999851584435,0.06641999632120132,0.18187999725341797,0.10795000195503235,0.2096100002527237,0.19598999619483948,0.16810999810695648,-0.00949000008404255,0.21850000321865082,0.19777999818325043,0.14730000495910645,0.1708800047636032,0.12634000182151794,0.04761999845504761,0.0995199978351593,0.054249998182058334,0.00559999980032444,0.054090000689029694,0.059220001101493835,0.1281300038099289,0.1300099939107895,0.03200000151991844,0.21578000485897064,0.08154000341892242,-0.12758000195026398,0.08744999766349792,0.1798200011253357,-0.09842000156641006,0.11219999939203262,0.1078300029039383,-0.010599999688565731,0.20833000540733337,0.11799000203609467,0.17696000635623932,0.09625999629497528,0.03060000017285347,-0.031950000673532486,0.08777999877929688,0.029750000685453415,0.03418000042438507,0.16816000640392303,0.0567299984395504,0.12244000285863876,0.19062000513076782,0.12369000166654587,-0.016370000317692757,0.16996000707149506,0.21543000638484955,0.20635999739170074,0.2128800004720688,0.18804000318050385,0.06916999816894531,0.19074000418186188,-0.08816999942064285,-0.11224000155925751,0.11845999956130981,0.11257000267505646,0.1137000024318695,0.11144000291824341,0.07502000033855438,-0.13461999595165253,0.046160001307725906,0.06080000102519989,0.18866999447345734,-0.008510000072419643,-0.04751000180840492,0.10045000165700912,0.11457999795675278,0.0038499999791383743,-0.09511999785900116,0.21979999542236328,0.05891000106930733,0.12623000144958496,-0.08523000031709671,0.1543699949979782,0.02906000055372715,0.20476000010967255,-0.2262199968099594,-0.2540299892425537,-0.2540299892425537,-0.2540299892425537,-0.2540299892425537,-0.2540299892425537,-0.2540299892425537,-0.2540299892425537,-0.2540299892425537,-0.2540299892425537,-0.03246000036597252,-0.06847000122070312,0.0500200018286705,0.08611000329256058,0.19742000102996826,0.17336000502109528,0.2224300056695938,0.2134300023317337,-0.23323999345302582,-0.22955000400543213,-0.2348099946975708,-0.23607000708580017,-0.22618000209331512,-0.22824999690055847,-0.21607999503612518,0.2263599932193756,0.24194000661373138,0.22637000679969788,0.21477000415325165,0.23913000524044037,0.24597999453544617,0.24964000284671783,0.23513999581336975,0.23161999881267548,0.251910001039505,0.2460000067949295,0.2502399981021881,0.24794000387191772,0.24233999848365784,0.22439000010490417,0.22439000010490417,0.22439000010490417,0.22439000010490417,0.22439000010490417,0.22439000010490417,0.22439000010490417,0.22439000010490417,0.22439000010490417,0.22439000010490417,0.22439000010490417,-0.2116899937391281,-0.2116899937391281,-0.2116899937391281,-0.2116899937391281,-0.2116899937391281,-0.2116899937391281,-0.2116899937391281,-0.2116899937391281,-0.2116899937391281,-0.22871999442577362,-0.23212000727653503,-0.2502500116825104,-0.22223000228405,-0.24956999719142914,-0.23625999689102173,-0.2206300050020218,-0.2309899926185608,-0.21212999522686005,0.2378000020980835,0.25248000025749207,-0.2540299892425537,-0.2540299892425537,-0.2540299892425537,-0.2540299892425537,-0.2540299892425537,-0.2540299892425537,-0.2540299892425537,0.22503000497817993,0.22294999659061432,0.23329000174999237,0.21991999447345734,0.2302599996328354,0.2397100031375885,0.2247299998998642,0.21408000588417053,-0.23813000321388245,0.2020300030708313,-0.057440001517534256,0.15676000714302063,0.091559998691082,0.10014999657869339,0.07827000319957733,-0.06618999689817429,0.1812400072813034,0.19742999970912933,0.12011999636888504,0.08060000091791153,-0.030649999156594276,0.10678000003099442,0.24997000396251678,0.07472000271081924,0.1370999962091446,0.12971000373363495,-0.04129000008106232,-0.10216999799013138,0.07498999685049057,0.1899300068616867,0.24397000670433044,-0.08737000077962875,0.20541000366210938,-0.013930000364780426,-0.015270000323653221,-0.007969999685883522,0.03748999908566475,0.18278999626636505,0.0802299976348877,-0.06713999807834625,0.15241999924182892,0.2373100072145462,0.011099999770522118,0.17803999781608582,0.012769999913871288,0.24955999851226807,-0.17924000322818756,-0.131290003657341,0.19152000546455383,-0.007360000163316727,-0.22604000568389893,-0.09584999829530716,0.2419700026512146,0.20416000485420227,0.2517699897289276,-0.1775600016117096,0.11902999877929688,0.10700000077486038,0.04772000014781952,-0.019869999960064888,0.016909999772906303,0.1414799988269806,0.009239999577403069,-0.10121999680995941,-0.013000000268220901,0.17533999681472778,0.14507000148296356,0.24077999591827393,0.1103300005197525,0.05640000104904175,0.09832999855279922,0.038679998368024826,-0.1291400045156479,0.09895999729633331,-0.03725999966263771,-0.037060000002384186,0.22123000025749207,0.12166000157594681,-0.0321200005710125,0.2438499927520752,0.032260000705718994,-0.15102000534534454,0.23589999973773956,0.20350000262260437,0.001990000018849969,-0.15254999697208405,0.16452999413013458,0.21638000011444092,0.1941400021314621,0.19871999323368073,0.17570999264717102,0.050769999623298645,-0.024900000542402267,0.18601000308990479,0.14425000548362732,0.06919000297784805,0.055720001459121704,0.12671999633312225,-0.15230000019073486,0.24011999368667603,0.2150699943304062,0.1896599978208542,-0.14835000038146973,0.2348800003528595,0.20266999304294586,0.049570001661777496,-0.14962999522686005,0.133310005068779,-0.10454999655485153,0.026419999077916145,0.0735900029540062,0.11992000043392181,0.18219000101089478,-0.034370001405477524,0.14970000088214874,0.18402999639511108,0.22924000024795532,0.09578000009059906,-0.02751999907195568,0.11473000049591064,-0.09168999642133713,0.11159999668598175,0.061000000685453415,-0.08930999785661697,0.17125000059604645,0.15884999930858612,-0.12151999771595001,-0.20642000436782837,-0.1625099927186966,0.21344000101089478,0.14517000317573547,0.17690999805927277,0.006550000049173832,-0.1607699990272522,0.0185100007802248,-0.11512000113725662,0.1179800033569336,-0.01573999971151352,0.1942099928855896,0.015939999371767044,0.12197999656200409,0.1657799929380417,0.20100000500679016,-0.14098000526428223,0.017179999500513077,0.15526999533176422,0.20377999544143677,0.1762399971485138,0.045260000973939896,0.13282999396324158,0.12492000311613083,0.2300799936056137,0.12317000329494476,0.21111999452114105,-0.07453999668359756,-0.040369998663663864,0.1301099956035614,0.1925400048494339,0.09999000281095505,0.06071000173687935,0.06362000107765198,0.18143999576568604,0.24434000253677368,0.06610000133514404,0.0010100000072270632,0.042649999260902405,0.06360000371932983,-0.01355000026524067,0.21112999320030212,0.17770999670028687,0.21074000000953674,-0.016860000789165497,0.24628999829292297,0.10506000369787216,0.21003000438213348,0.15261000394821167,0.12208999693393707,0.2289000004529953,0.03101000003516674,0.1052199974656105,-0.05034999921917915,0.09151999652385712,0.15871000289916992,0.06129999831318855,-0.009139999747276306,0.20069000124931335,-0.021299999207258224,-0.11085999757051468,0.15219999849796295,0.24792000651359558,0.19187000393867493,0.11804000288248062,-0.020109999924898148,0.11585000157356262,0.20062999427318573,0.19573000073432922,-0.0721300020813942,-0.12011999636888504,-0.03195999935269356,-0.22155000269412994,0.25383999943733215,0.24628999829292297,0.25227001309394836,0.24767999351024628,0.24893000721931458,-0.21175000071525574,-0.03886999934911728,0.186939999461174,-0.2258799970149994,0.23923000693321228,-0.24365000426769257,-0.24793000519275665,-0.24472999572753906,-0.24403999745845795,0.1062999963760376,-0.2366199940443039,0.2540299892425537,0.2540299892425537,0.2540299892425537,0.2540299892425537,0.2540299892425537,0.2540299892425537,0.2540299892425537,-0.22880999743938446,-0.2533299922943115,-0.24455000460147858,-0.24950000643730164,-0.25303998589515686,-0.24754999577999115,-0.24854999780654907,-0.21431000530719757,-0.223130002617836,0.23070000112056732,0.13702000677585602,-0.0771699994802475,0.16101999580860138,0.15602999925613403,0.051660001277923584,0.056710001081228256,0.13544000685214996,0.22536000609397888,-0.2540299892425537,-0.2540299892425537,-0.2540299892425537,-0.2540299892425537,-0.2540299892425537,-0.2540299892425537,-0.2540299892425537,-0.23535999655723572,-0.23417000472545624,-0.23005999624729156,-0.22788000106811523,-0.24814000725746155,-0.23658999800682068,-0.24835999310016632,-0.23301999270915985,-0.2508699893951416,0.21821999549865723,0.2469100058078766,0.24925999343395233,0.23834000527858734,0.2504200041294098,0.2306700050830841,0.24383999407291412,0.218299999833107,0.24382999539375305,0.23270000517368317,0.23260000348091125,0.22975000739097595,-0.2540299892425537,-0.2540299892425537,-0.2540299892425537,-0.2540299892425537,-0.2540299892425537,-0.2540299892425537,-0.2540299892425537,-0.22454999387264252,-0.22990000247955322,0.22439000010490417,0.22439000010490417,0.22439000010490417,0.22439000010490417,0.22439000010490417,0.22439000010490417,0.22439000010490417,0.22439000010490417,0.22439000010490417,0.22439000010490417,0.22439000010490417,0.22439000010490417,0.2540299892425537,-0.2131900042295456,0.22439000010490417,0.22439000010490417,0.22439000010490417,0.22439000010490417,0.22439000010490417,0.22439000010490417,0.22439000010490417,0.22439000010490417,0.22439000010490417,-0.0715399980545044,0.241239994764328,0.22476999461650848,0.2253500074148178,0.24705000221729279,0.1794700026512146,0.21504999697208405,0.168380007147789,-0.07700999826192856,0.08350999653339386,0.03206999972462654,0.2540299892425537,0.23163999617099762,0.23528000712394714,0.03562000021338463,-0.13839000463485718,-0.16200999915599823,-0.01768999919295311,-0.1806199997663498,0.10389000177383423,-0.053289998322725296,0.25317999720573425,0.2540299892425537,0.2540299892425537,0.2540299892425537,0.2540299892425537,0.2540299892425537,0.2540299892425537,-0.2536599934101105,0.23987999558448792,-0.2295999974012375,-0.21827000379562378,-0.21397000551223755,-0.2305700033903122,-0.22326000034809113,-0.2224300056695938,-0.15716999769210815,-0.0949999988079071,-0.15238000452518463,-0.159170001745224,-0.11731000244617462,0.0528700016438961,-0.01810000091791153,-0.05894999951124191,-0.2203100025653839,-0.047129999846220016,-0.1384200006723404,-0.1995300054550171,0.008919999934732914,0.2484000027179718,0.2490600049495697,0.2463800013065338,0.24612000584602356,0.2540299892425537,0.2540299892425537,0.2540299892425537,0.2540299892425537,0.2540299892425537,0.2540299892425537,0.2540299892425537,0.2540299892425537,0.2540299892425537,0.2540299892425537,0.2540299892425537,0.2540299892425537,0.2540299892425537,0.2540299892425537,0.2540299892425537,0.2540299892425537,-0.24045999348163605,0.22592000663280487,0.24216000735759735,0.24020999670028687,0.22746999561786652,0.23356999456882477,0.24875999987125397,0.23277999460697174,0.2235099971294403,0.24796000123023987,0.09561000019311905,-0.159170001745224,-0.1120700016617775,-0.0457100011408329,0.0038499999791383743,0.020309999585151672,-0.004720000084489584,0.2456900030374527,0.25367000699043274,0.24993999302387238,0.2521600127220154,-0.23397000133991241,-0.2276500016450882,-0.225040003657341,-0.230320006608963,-0.2443300038576126,-0.24003000557422638,-0.2480500042438507,-0.23879000544548035,0.13073000311851501,0.05479000136256218,-0.13461999595165253,-0.18359999358654022,-0.1098800003528595,0.04625999927520752,-0.15500999987125397,-0.07152999937534332,-0.24368000030517578,-0.0845400020480156,-0.24071000516414642,-0.091279998421669,0.04049000144004822,-0.19006000459194183,0.03798000141978264,-0.1368899941444397,0.001610000035725534,-0.11219000071287155,-0.023840000852942467,-0.18774999678134918,-0.1725900024175644,0.060770001262426376,-0.11802999675273895,-0.062460001558065414,-0.056049998849630356,-0.13558000326156616,0.026729999110102654,-0.19999000430107117,-0.1341100037097931,-0.08167000114917755,-0.2259799987077713,-0.25088998675346375,-0.12997999787330627,-0.09043999761343002,-0.025459999218583107,-0.25005999207496643,-0.06289999932050705,0.18007999658584595,0.033309999853372574,0.14905999600887299,0.09397000074386597,-0.015150000341236591,-0.05697000026702881,0.04448999837040901,0.04162999987602234,-0.1828099936246872,-0.22723999619483948,-0.04100000113248825,-0.22081999480724335,-0.23247000575065613,-0.2188200056552887,0.007029999978840351,-0.11441999673843384,-0.06069999933242798,-0.2224999964237213,-0.07220999896526337,-0.1312599927186966,0.05973000079393387,0.025860000401735306,-0.013949999585747719,0.08532000333070755,-0.15410999953746796,0.03943999856710434,0.017069999128580093,-0.1581300050020218,-0.15118999779224396,0.15212999284267426,-0.19253000617027283,0.13669000566005707,-0.16978000104427338,-0.21448999643325806,-0.02401999942958355,0.03175000101327896,-0.18986999988555908,-0.16101999580860138,-0.12578000128269196,-0.045820001512765884,0.03347000107169151,-0.06136000156402588,-0.10162000358104706,-0.24492999911308289,-0.1480100005865097,-0.09164000302553177,-0.12073999643325806,-0.05437999963760376,-0.16348999738693237,-0.2016499936580658,-0.18429000675678253,0.05147000029683113,-0.15845000743865967,-0.10813000053167343,-0.10385999828577042,0.1350799947977066,-0.23122000694274902,0.008270000107586384,-0.19723999500274658,-0.23407000303268433,-0.1433199942111969,0.01013999991118908,-0.20434999465942383,-0.18026000261306763,-0.2422800064086914,-0.12312000244855881,-0.2213200032711029,0.0026400000788271427,-0.1765500009059906,-0.20951999723911285,-0.11441999673843384,-0.1920900046825409,-0.07601000368595123,0.1062299981713295,0.03172999992966652,-0.11033999919891357,-0.0783500000834465,-0.05665000155568123,-0.11840000003576279,-0.2094999998807907,-0.066880002617836,-0.21753999590873718,0.11410000175237656,-0.1635199934244156,0.1239200010895729,-0.03010999970138073,-0.04210999980568886,-0.23844000697135925,-0.13165000081062317,-0.03748999908566475,-0.2337300032377243,0.0743200033903122,-0.14621999859809875,-0.23284000158309937,-0.06084999814629555,-0.15386000275611877,-0.20633000135421753,0.1050800010561943,-0.2116899937391281,0.05651000142097473,-0.06657999753952026,-0.16277000308036804,-0.036309998482465744,-0.24318000674247742,0.11738000065088272,-0.23433999717235565,-0.02889000065624714,-0.20969000458717346,-0.06394000351428986,-0.14110000431537628,-0.2377600073814392,-0.20155000686645508,-0.21352000534534454,0.0670199990272522,-0.17297999560832977,-0.009809999726712704,0.015799999237060547,-0.08109000325202942,-0.2365500032901764,-0.2156600058078766,-0.18953000009059906,-0.015469999983906746,-0.029729999601840973,-0.09455999732017517,0.0802299976348877,-0.22961999475955963,-0.23025000095367432,-0.16027000546455383,-0.10939999669790268,-0.21153999865055084,-0.02174999937415123,0.06249000132083893,-0.145579993724823,-0.2046400010585785,0.06168000027537346,-0.006260000169277191,0.07035999745130539,-0.09286999702453613,-0.24905000627040863,-0.06498000025749207,-0.21525999903678894,-0.23718999326229095,-0.1254899948835373,-0.2012300044298172,0.004410000052303076,-0.14263999462127686,0.04470000043511391,-0.23113000392913818,-0.04975000023841858,-0.023509999737143517,-0.16372999548912048,-0.1134599968791008,-0.031029999256134033,-0.11845999956130981,-0.22192999720573425,0.0789399966597557,-0.057840000838041306,0.13253000378608704,-0.19076000154018402,-0.07126999646425247,-0.24817000329494476,-0.12594999372959137,-0.03308999910950661,-0.15610000491142273,-0.00011000000085914508,0.1312199980020523,-0.16242000460624695,-0.24050000309944153,-0.24658000469207764,-0.2429800033569336,-0.24626000225543976,-0.21908000111579895,-0.24000999331474304,-0.23428000509738922,-0.25146999955177307,-0.2424899935722351,-0.22865000367164612,-0.22902999818325043,-0.22822000086307526,-0.2261199951171875,-0.2246900051832199,-0.22978000342845917,-0.22542999684810638,-0.2116899937391281,-0.2116899937391281,-0.2116899937391281,-0.2116899937391281,-0.2116899937391281,-0.2116899937391281,-0.2116899937391281,-0.2540299892425537,0.17152999341487885,0.07722999900579453,0.17207999527454376,0.09474000334739685,0.050599999725818634,0.22191999852657318,0.15681999921798706,-0.12804000079631805,-0.06503000110387802,0.026119999587535858,0.05262000113725662,0.20255999267101288,0.06558000296354294,0.12383999675512314,-0.018880000337958336,0.13243000209331512,0.16017000377178192,0.21788999438285828,0.026329999789595604,0.17315000295639038,0.08134999871253967,0.1799899935722351,-0.17757999897003174,0.1788100004196167,0.06084999814629555,0.012430000118911266,0.21956999599933624,0.08100000023841858,0.019589999690651894,0.12533000111579895,0.13274000585079193,0.16147999465465546,-0.07169999927282333,0.09974999725818634,0.11044999957084656,-0.05621999874711037,0.15060000121593475,0.018629999831318855,0.029980000108480453,0.09555000066757202,0.028610000386834145,0.21007999777793884,-9.999999747378752e-05,0.1808300018310547,0.04318000003695488,-0.010040000081062317,0.11720000207424164,0.06474000215530396,0.032680001109838486,0.2008499950170517,0.14544999599456787,0.05623000115156174,0.1318800002336502,0.0925000011920929,-0.07395000010728836,0.13615000247955322,0.0979200005531311,0.021709999069571495,0.08363000303506851,0.05573999881744385,0.11963000148534775,0.13334999978542328,0.15602000057697296,0.09773000329732895,0.05559999868273735,0.021849999204277992,0.20322999358177185,-0.05583000183105469,-0.07559999823570251,0.19415999948978424,0.05781000107526779,-0.00788000039756298,0.12270999699831009,0.13161000609397888,-0.06663999706506729,0.0522800013422966,0.08194000273942947,0.16593000292778015,-0.1214200034737587,0.10210999846458435,-0.002839999971911311,-0.00750999990850687,0.1418199986219406,0.03547000139951706,0.17371000349521637,0.058559998869895935,0.023760000243782997,0.20366999506950378,0.1015700027346611,0.15334999561309814,-0.08410000056028366,0.04729999974370003,0.21965999901294708,0.052639998495578766,-0.14455999433994293,0.12030000239610672,0.0050200000405311584,-0.053950000554323196,0.17570999264717102,0.13806000351905823,0.02068999968469143,0.07163000106811523,0.020090000703930855,0.18006999790668488,-0.01606000028550625,0.16218000650405884,0.041829999536275864,-0.04992000013589859,-0.12818999588489532,0.07479000091552734,0.08521000295877457,-0.05609999969601631,0.13369999825954437,0.022430000826716423,0.16335999965667725,0.11492999643087387,0.14597000181674957,0.11322999745607376,0.10958000272512436,0.2170500010251999,0.01679999940097332,0.19923999905586243,0.0961500033736229,0.017659999430179596,0.16276000440120697,0.08991999924182892,0.21974000334739685,0.0917700007557869,0.18964999914169312,0.1755400002002716,0.09677000343799591,-0.07297000288963318,0.1593800038099289,0.11087000370025635,-0.14837999641895294,0.1154400035738945,0.0742499977350235,0.019109999760985374,-0.13853000104427338,-0.2011599987745285,0.2132599949836731,0.1926800012588501,0.04749000072479248,0.06550999730825424,0.10868000239133835,-0.1277099996805191,0.05803000181913376,0.012409999966621399,-0.03711999952793121,0.0740400031208992,0.057760000228881836,0.06007999926805496,0.13885000348091125,0.2046699970960617,0.16408999264240265,0.051979999989271164,-0.06423000246286392,0.17250999808311462,0.19485999643802643,0.0001900000061141327,0.0938899964094162,-0.01933000050485134,0.03229000046849251,0.13075000047683716,0.026820000261068344,-0.1733900010585785,0.23190000653266907,-0.24126000702381134,-0.24546000361442566,-0.23770999908447266,-0.25169000029563904,-0.2460400015115738,-0.2508000135421753,-0.2371000051498413,-0.24445000290870667,-0.25262999534606934,0.22065000236034393,0.24070000648498535,0.22201000154018402,0.2179899960756302,0.21647000312805176,0.21496999263763428,0.23577000200748444,0.2328599989414215,0.2328599989414215,0.2328599989414215,0.2328599989414215,0.2328599989414215,0.2328599989414215,0.2328599989414215,0.2328599989414215,0.2328599989414215,0.2328599989414215,0.2328599989414215,0.2455900013446808,0.24542999267578125,0.24437999725341797,0.22693000733852386,0.23810000717639923,0.2453099936246872,0.22690999507904053,0.24390999972820282,0.24804000556468964,-0.25402000546455383,0.2376900017261505,0.249439999461174,0.25110000371932983,0.23833000659942627,0.24557000398635864,0.23025000095367432,0.21946999430656433,0.23512999713420868,0.2309200018644333,0.21207000315189362,0.2302599996328354,0.21626000106334686,0.23678000271320343,0.21855999529361725,0.23934000730514526,0.23841999471187592,0.21930000185966492,-0.23165999352931976,-0.22142000496387482,-0.22497999668121338,-0.22040000557899475,-0.21570999920368195,-0.21728000044822693,-0.21554000675678253,0.24129000306129456,-0.2540299892425537,-0.2540299892425537,-0.2540299892425537,-0.2540299892425537,-0.2540299892425537,-0.2540299892425537,-0.2540299892425537,-0.2540299892425537,-0.22439000010490417,-0.22439000010490417,-0.22439000010490417,-0.22439000010490417,-0.22439000010490417,-0.22439000010490417,-0.22439000010490417,-0.22439000010490417,-0.22439000010490417,-0.22439000010490417,-0.22439000010490417,-0.16321000456809998,-0.2002599984407425,-0.1019200012087822,0.01128000020980835,-0.12871000170707703,-0.030220000073313713,-0.10599000006914139,0.22633999586105347,-0.23160000145435333,-0.2537199854850769,-0.2534700036048889,-0.2486799955368042,-0.2502500116825104,-0.24824999272823334,-0.2511500120162964,-0.22940999269485474,-0.08421999961137772,-0.2540299892425537,-0.2540299892425537,-0.2540299892425537,-0.2540299892425537,-0.2540299892425537,-0.2540299892425537,-0.2540299892425537,-0.2540299892425537,0.2116899937391281,0.2116899937391281,0.2116899937391281,0.2116899937391281,0.2116899937391281,0.2116899937391281,0.2116899937391281,-0.12530000507831573,-0.06518000364303589,0.22536000609397888,-0.2463800013065338,-0.2391899973154068,-0.23582999408245087,-0.22408999502658844,-0.2190299928188324,-0.248539999127388,-0.2440200001001358,-0.2116899937391281,-0.2116899937391281,-0.2116899937391281,-0.2116899937391281,-0.2116899937391281,-0.2116899937391281,-0.2116899937391281,-0.2116899937391281,0.23261000216007233,0.22909000515937805,0.24110999703407288,0.23431000113487244,-0.21177999675273895,0.24664999544620514,0.2488899976015091,0.23389999568462372,0.23600000143051147,0.25108999013900757,0.24079999327659607,0.23917999863624573,-0.2532599866390228,0.1855500042438507,0.07357999682426453,0.02443999983370304,0.13443000614643097,0.2105800062417984,-0.22439000010490417,-0.22439000010490417,-0.22439000010490417,-0.22439000010490417,-0.22439000010490417,-0.22439000010490417,-0.22439000010490417,-0.22439000010490417,-0.22439000010490417,-0.22439000010490417,-0.22439000010490417,-0.23792999982833862,0.22481000423431396,0.22923000156879425,0.1404699981212616,0.05631000176072121,0.1234000027179718,-0.07900000363588333,0.192440003156662,-0.02686999924480915,0.21065999567508698,0.2116899937391281,0.2116899937391281,0.2116899937391281,0.2116899937391281,0.2116899937391281,0.2116899937391281,0.2116899937391281],\"y\":[0.10795000195503235,0.18219000101089478,0.19381000101566315,0.18397000432014465,0.1844100058078766,0.19086000323295593,0.19627000391483307,0.1816300004720688,0.1816300004720688,0.1816300004720688,0.1816300004720688,0.1816300004720688,-0.11632999777793884,0.04529000073671341,0.037289999425411224,-0.09504999965429306,0.1783899962902069,0.14154000580310822,-0.12756000459194183,0.15317000448703766,0.0863099992275238,0.10453999787569046,0.15198999643325806,0.15198999643325806,0.15198999643325806,-0.19867999851703644,0.17207999527454376,0.17847999930381775,0.17012999951839447,0.17844000458717346,0.17193999886512756,0.17874999344348907,0.18021999299526215,0.17892999947071075,0.17994999885559082,0.1692499965429306,0.17069000005722046,0.0481100007891655,-0.00761000020429492,0.004550000187009573,-0.12408000230789185,0.17159000039100647,-0.0007900000200606883,0.1410199999809265,0.04949000105261803,0.17910000681877136,0.13609999418258667,0.14044000208377838,0.14347000420093536,-0.08324000239372253,-0.036410000175237656,-0.048820000141859055,-0.0699400007724762,0.06021999940276146,0.09245999902486801,0.18036000430583954,0.1816300004720688,0.1816300004720688,-0.0007699999841861427,0.043949998915195465,0.05392000079154968,0.09036999940872192,0.07181999832391739,0.054030001163482666,0.13922999799251556,0.08750999718904495,-0.053029999136924744,0.1816300004720688,0.1816300004720688,0.15198999643325806,0.15198999643325806,0.15520000457763672,0.1520400047302246,0.15892000496387482,0.17156000435352325,0.15320000052452087,0.15561999380588531,0.1612199991941452,0.16112999618053436,0.1750900000333786,0.15639999508857727,0.16993999481201172,0.1816300004720688,0.1816300004720688,0.1816300004720688,0.1816300004720688,0.1816300004720688,0.1816300004720688,0.17513999342918396,0.17622999846935272,0.17764000594615936,0.15467999875545502,0.16007000207901,0.18080000579357147,0.16987000405788422,0.1728000044822693,0.1799200028181076,0.1561499983072281,0.18066999316215515,0.1725900024175644,0.18036000430583954,0.01606000028550625,0.18036000430583954,0.06233000010251999,-0.13968999683856964,0.037459999322891235,0.05948999896645546,-0.13327999413013458,-0.08083000034093857,-0.10792999714612961,-0.017149999737739563,-0.16346000134944916,-0.036010000854730606,0.1816300004720688,0.1816300004720688,0.1816300004720688,0.1816300004720688,0.1816300004720688,-0.20068000257015228,0.18036000430583954,0.1863899976015091,0.1865600049495697,0.19286000728607178,0.19800999760627747,0.18615999817848206,0.18925000727176666,0.1919800043106079,0.18294000625610352,0.18528999388217926,0.1816300004720688,0.1816300004720688,0.1816300004720688,0.18036000430583954,0.15198999643325806,0.15198999643325806,0.15198999643325806,0.15198999643325806,0.17844000458717346,-0.09854999929666519,0.1656399965286255,0.13203999400138855,0.17191000282764435,0.05279000103473663,0.15428000688552856,0.013629999943077564,0.1816300004720688,0.1816300004720688,0.1816300004720688,0.1816300004720688,0.17414000630378723,0.1578100025653839,0.1669899970293045,0.1764499992132187,0.1739100068807602,0.16192999482154846,0.1816300004720688,0.1816300004720688,0.0589199997484684,0.18036000430583954,0.17137999832630157,0.1816300004720688,0.08010999858379364,0.07530000060796738,0.13460999727249146,0.16060000658035278,0.1273300051689148,0.06474000215530396,0.11960999667644501,-0.0065299998968839645,0.11078000068664551,-0.004040000028908253,-0.0026400000788271427,0.13951000571250916,0.10055000334978104,-0.07041999697685242,0.05982999876141548,0.0917000025510788,0.16336999833583832,0.01448999997228384,-0.02491999976336956,-0.047690000385046005,-0.09894999861717224,-0.1416500061750412,-0.12223000079393387,0.029829999431967735,-0.09027999639511108,-0.06063999980688095,-0.20068000257015228,0.1816300004720688,0.1816300004720688,0.1816300004720688,0.1816300004720688,0.1816300004720688,0.18036000430583954,0.15198999643325806,0.15198999643325806,0.1816300004720688,0.1816300004720688,0.15198999643325806,0.15198999643325806,0.15198999643325806,0.18036000430583954,0.1816300004720688,0.1816300004720688,0.1816300004720688,0.07797999680042267,0.1816300004720688,-0.07996000349521637,0.20068000257015228,0.20068000257015228,0.20068000257015228,0.20068000257015228,0.20068000257015228,0.20068000257015228,0.20068000257015228,0.20068000257015228,0.20068000257015228,0.20068000257015228,0.20068000257015228,0.20068000257015228,0.20068000257015228,0.20068000257015228,0.20068000257015228,0.20068000257015228,0.20068000257015228,0.20068000257015228,0.20068000257015228,0.20068000257015228,0.20068000257015228,0.20068000257015228,0.20068000257015228,0.20068000257015228,0.20068000257015228,0.20068000257015228,0.20068000257015228,0.20068000257015228,0.20068000257015228,0.20068000257015228,0.20068000257015228,0.20068000257015228,0.20068000257015228,0.20068000257015228,0.20068000257015228,0.20068000257015228,0.20068000257015228,0.20068000257015228,0.20068000257015228,0.20068000257015228,0.20068000257015228,0.20068000257015228,0.20068000257015228,0.20068000257015228,0.20068000257015228,0.20068000257015228,0.20068000257015228,0.20068000257015228,0.20068000257015228,0.20068000257015228,0.20068000257015228,0.20068000257015228,0.20068000257015228,0.20068000257015228,0.20068000257015228,0.20068000257015228,0.20068000257015228,0.20068000257015228,0.20068000257015228,0.20068000257015228,0.20068000257015228,0.20068000257015228,0.20068000257015228,0.20068000257015228,0.20068000257015228,0.20068000257015228,0.20068000257015228,0.20068000257015228,0.20068000257015228,0.20068000257015228,0.20068000257015228,0.20068000257015228,0.20068000257015228,0.20068000257015228,0.20068000257015228,0.20068000257015228,0.20068000257015228,0.20068000257015228,0.20068000257015228,0.20068000257015228,0.20068000257015228,0.20068000257015228,0.20068000257015228,0.20068000257015228,0.20068000257015228,0.20068000257015228,0.20068000257015228,0.20068000257015228,0.20068000257015228,0.20068000257015228,0.20068000257015228,0.20068000257015228,0.20068000257015228,0.20068000257015228,0.20068000257015228,0.20068000257015228,0.20068000257015228,0.20068000257015228,0.20068000257015228,0.20068000257015228,0.20068000257015228,0.20068000257015228,0.20068000257015228,0.20068000257015228,0.20068000257015228,0.20068000257015228,0.20068000257015228,0.20068000257015228,0.20068000257015228,0.20068000257015228,0.20068000257015228,0.20068000257015228,0.20068000257015228,0.20068000257015228,0.20068000257015228,0.20068000257015228,0.20068000257015228,0.20068000257015228,0.20068000257015228,0.20068000257015228,0.20068000257015228,0.20068000257015228,0.20068000257015228,0.20068000257015228,0.20068000257015228,0.20068000257015228,0.20068000257015228,0.20068000257015228,0.20068000257015228,0.20068000257015228,0.20068000257015228,0.20068000257015228,0.20068000257015228,0.20068000257015228,0.20068000257015228,0.20068000257015228,0.20068000257015228,0.20068000257015228,0.20068000257015228,0.20068000257015228,0.20068000257015228,0.20068000257015228,0.20068000257015228,0.20068000257015228,0.20068000257015228,0.20068000257015228,0.20068000257015228,0.20068000257015228,0.20068000257015228,0.20068000257015228,0.20068000257015228,0.20068000257015228,0.20068000257015228,0.20068000257015228,0.20068000257015228,0.20068000257015228,0.20068000257015228,0.20068000257015228,0.20068000257015228,0.20068000257015228,0.20068000257015228,0.20068000257015228,0.20068000257015228,0.20068000257015228,0.20068000257015228,0.20068000257015228,0.20068000257015228,0.20068000257015228,0.20068000257015228,0.20068000257015228,0.20068000257015228,0.20068000257015228,0.20068000257015228,0.20068000257015228,0.20068000257015228,0.20068000257015228,0.20068000257015228,0.20068000257015228,0.20068000257015228,0.20068000257015228,0.20068000257015228,0.20068000257015228,0.20068000257015228,0.20068000257015228,0.20068000257015228,0.20068000257015228,0.20068000257015228,0.20068000257015228,0.20068000257015228,0.20068000257015228,0.20068000257015228,0.20068000257015228,0.20068000257015228,0.20068000257015228,0.20068000257015228,0.20068000257015228,0.20068000257015228,0.20068000257015228,0.20068000257015228,0.20068000257015228,0.20068000257015228,0.20068000257015228,0.20068000257015228,0.20068000257015228,0.20068000257015228,0.20068000257015228,0.20068000257015228,0.20068000257015228,0.20068000257015228,0.20068000257015228,0.20068000257015228,0.20068000257015228,0.20068000257015228,0.20068000257015228,0.20068000257015228,0.20068000257015228,0.17340999841690063,0.18152999877929688,0.16016000509262085,0.18052999675273895,0.17784999310970306,0.1696300059556961,0.16891999542713165,0.17621999979019165,0.1816300004720688,-0.20068000257015228,0.1816300004720688,-0.10287000238895416,-0.0019099999917671084,-0.1965000033378601,-0.0573900006711483,-0.020169999450445175,-0.13143999874591827,-0.16147999465465546,-0.1896599978208542,0.1816300004720688,0.1816300004720688,0.03753000125288963,-0.08641000092029572,-0.03976000100374222,-0.10768000036478043,-0.12499000132083893,0.12775999307632446,-0.1704699993133545,-0.18045000731945038,0.18036000430583954,0.1816300004720688,0.1816300004720688,-0.1938299983739853,-0.0703900009393692,-0.10317999869585037,-0.11625999957323074,0.011869999580085278,-0.1299699991941452,-0.10305000096559525,0.05835999920964241,0.1742199957370758,0.15198999643325806,0.15198999643325806,0.1816300004720688,0.18036000430583954,0.18036000430583954,0.1977500021457672,0.19513000547885895,0.20020000636577606,0.19981999695301056,0.1978600025177002,0.1968500018119812,0.1816300004720688,0.1816300004720688,0.05319000035524368,-0.15338000655174255,-0.07743000239133835,0.08412999659776688,-0.028540000319480896,-0.1901099979877472,-0.049559999257326126,-0.045079998672008514,0.04222999885678291,0.18177999556064606,0.19666999578475952,0.19434000551700592,0.18953999876976013,0.1905599981546402,0.19392000138759613,0.19413000345230103,0.18671000003814697,0.19684000313282013,0.1816300004720688,0.1816300004720688,0.17942999303340912,0.1816300004720688,0.1816300004720688,0.13765999674797058,-0.020190000534057617,0.009309999644756317,-0.057750001549720764,0.1359899938106537,0.08888000249862671,-0.11744999885559082,0.09939000010490417,0.15366999804973602,-0.20068000257015228,0.20068000257015228,0.20068000257015228,0.20068000257015228,0.20068000257015228,0.20068000257015228,0.20068000257015228,0.20068000257015228,0.20068000257015228,0.20068000257015228,0.20068000257015228,0.20068000257015228,0.20068000257015228,0.20068000257015228,0.20068000257015228,0.20068000257015228,0.20068000257015228,0.20068000257015228,0.20068000257015228,0.20068000257015228,0.20068000257015228,0.20068000257015228,0.20068000257015228,0.20068000257015228,0.20068000257015228,0.20068000257015228,0.20068000257015228,0.20068000257015228,0.20068000257015228,0.20068000257015228,0.20068000257015228,0.20068000257015228,0.20068000257015228,0.20068000257015228,0.20068000257015228,0.20068000257015228,0.20068000257015228,0.20068000257015228,0.20068000257015228,0.20068000257015228,0.20068000257015228,0.20068000257015228,0.20068000257015228,0.20068000257015228,0.20068000257015228,0.20068000257015228,0.20068000257015228,0.20068000257015228,0.20068000257015228,0.20068000257015228,0.20068000257015228,0.20068000257015228,0.20068000257015228,0.20068000257015228,0.20068000257015228,0.20068000257015228,0.20068000257015228,0.20068000257015228,0.20068000257015228,0.20068000257015228,0.20068000257015228,0.20068000257015228,0.20068000257015228,0.20068000257015228,0.20068000257015228,0.20068000257015228,0.20068000257015228,0.20068000257015228,0.20068000257015228,0.20068000257015228,0.20068000257015228,0.20068000257015228,0.20068000257015228,0.20068000257015228,0.20068000257015228,0.20068000257015228,0.20068000257015228,0.20068000257015228,0.20068000257015228,0.20068000257015228,0.20068000257015228,0.20068000257015228,0.20068000257015228,0.20068000257015228,0.20068000257015228,0.20068000257015228,0.20068000257015228,0.20068000257015228,0.20068000257015228,0.20068000257015228,0.20068000257015228,0.20068000257015228,0.20068000257015228,0.20068000257015228,0.20068000257015228,0.20068000257015228,0.20068000257015228,0.20068000257015228,0.20068000257015228,0.20068000257015228,0.20068000257015228,0.20068000257015228,0.20068000257015228,0.20068000257015228,0.20068000257015228,0.20068000257015228,0.20068000257015228,0.20068000257015228,0.20068000257015228,0.20068000257015228,0.20068000257015228,0.20068000257015228,0.20068000257015228,0.20068000257015228,0.20068000257015228,0.20068000257015228,0.20068000257015228,0.20068000257015228,0.20068000257015228,0.20068000257015228,0.20068000257015228,0.20068000257015228,0.20068000257015228,0.20068000257015228,0.20068000257015228,0.20068000257015228,0.20068000257015228,0.20068000257015228,0.20068000257015228,0.20068000257015228,0.20068000257015228,0.20068000257015228,0.20068000257015228,0.20068000257015228,0.20068000257015228,0.20068000257015228,0.20068000257015228,0.20068000257015228,0.20068000257015228,0.20068000257015228,0.20068000257015228,0.20068000257015228,0.20068000257015228,0.20068000257015228,0.20068000257015228,0.20068000257015228,0.20068000257015228,0.20068000257015228,0.20068000257015228,0.20068000257015228,0.20068000257015228,0.20068000257015228,0.20068000257015228,0.20068000257015228,0.20068000257015228,0.20068000257015228,0.20068000257015228,0.20068000257015228,0.20068000257015228,0.20068000257015228,0.20068000257015228,0.20068000257015228,0.20068000257015228,0.20068000257015228,0.20068000257015228,0.20068000257015228,0.20068000257015228,0.20068000257015228,0.20068000257015228,0.20068000257015228,0.20068000257015228,0.20068000257015228,0.20068000257015228,0.20068000257015228,0.20068000257015228,0.20068000257015228,0.20068000257015228,0.20068000257015228,0.20068000257015228,0.20068000257015228,0.20068000257015228,0.20068000257015228,0.20068000257015228,0.20068000257015228,0.20068000257015228,0.20068000257015228,0.20068000257015228,0.20068000257015228,0.20068000257015228,0.20068000257015228,0.20068000257015228,0.20068000257015228,0.20068000257015228,0.20068000257015228,0.20068000257015228,0.20068000257015228,0.20068000257015228,0.20068000257015228,0.20068000257015228,0.20068000257015228,0.20068000257015228,0.20068000257015228,0.20068000257015228,0.20068000257015228,0.20068000257015228,0.20068000257015228,0.20068000257015228,0.20068000257015228,0.20068000257015228,0.20068000257015228,0.20068000257015228,0.20068000257015228,0.20068000257015228,0.20068000257015228,0.20068000257015228,0.20068000257015228,0.20068000257015228,0.20068000257015228,0.20068000257015228,0.20068000257015228,0.20068000257015228,0.1816300004720688,0.1816300004720688,-0.16896000504493713,-0.030710000544786453,-0.18940000236034393,-0.054019998759031296,-0.13921000063419342,-0.1904599964618683,-0.1625099927186966,-0.1725199967622757,0.017960000783205032,0.020570000633597374,0.06812000274658203,0.029929999262094498,-0.18633000552654266,-0.1486400067806244,-0.08648999780416489,-0.16103999316692352,-0.16991999745368958,-0.04019999876618385,0.1120700016617775,-0.03547000139951706,0.061569999903440475,-0.030230000615119934,-0.037039998918771744,0.009170000441372395,0.1157199963927269,0.10117000341415405,0.1816300004720688,0.1816300004720688,0.1816300004720688,0.18036000430583954,0.17674000561237335,0.17459000647068024,0.17111000418663025,0.16619999706745148,0.1814199984073639,0.16193999350070953,0.17333999276161194,0.18015000224113464,0.1779399961233139,0.17175999283790588,0.16759000718593597,0.15198999643325806,0.15198999643325806,-0.06797000020742416,0.10436999797821045,0.06911999732255936,0.10202000290155411,0.006850000005215406,0.15463000535964966,0.17069000005722046,-0.08096999675035477,0.1816300004720688,-0.20068000257015228,0.15853999555110931,0.1794700026512146,0.1785999983549118,0.1709900051355362,0.17937999963760376,0.18010999262332916,0.16899000108242035,0.16347000002861023,0.1656699925661087,0.1623300015926361,0.1620199978351593,0.1591300070285797,0.06894999742507935,0.16425000131130219,-0.035610001534223557,-0.09577000141143799,-0.1172500029206276,-0.09661000221967697,0.024560000747442245,0.09121000021696091,0.10141000151634216,-0.0236200001090765,-0.19148999452590942,-0.03728000074625015,-0.10299000144004822,-0.1550299972295761,-0.17586000263690948,0.1816300004720688,-0.17235000431537628,0.11522000283002853,-0.0771699994802475,0.08563999831676483,-0.08335000276565552,0.17506000399589539,0.15625,-0.07237999886274338,0.14648999273777008,-0.09560000151395798,0.1766899973154068,0.17431999742984772,0.17217999696731567,0.1766500025987625,0.1765100061893463,0.1808999925851822,0.17048999667167664,0.1715099960565567,0.17794999480247498,0.17815999686717987,0.16941000521183014,0.17818999290466309,0.17693999409675598,0.15928000211715698,0.16218000650405884,0.15313999354839325,0.1699099987745285,0.1650799959897995,0.15323999524116516,0.15220999717712402,-0.20068000257015228,0.1816300004720688,-0.20068000257015228,-0.20068000257015228,0.08285000175237656,-0.20068000257015228,0.1816300004720688,0.1816300004720688,0.1816300004720688,0.1816300004720688,0.1816300004720688,0.1816300004720688,0.1816300004720688,0.1816300004720688,0.1816300004720688,0.1816300004720688,0.1816300004720688,0.1816300004720688,0.1816300004720688,0.1816300004720688,0.1816300004720688,0.1816300004720688,0.1816300004720688,0.1816300004720688,0.1816300004720688,0.1816300004720688,0.1816300004720688,0.1816300004720688,0.1816300004720688,0.1816300004720688,0.1816300004720688,0.1816300004720688,0.1816300004720688,0.1816300004720688,0.1816300004720688,0.1816300004720688,0.1816300004720688,0.1816300004720688,0.1816300004720688,0.1816300004720688,0.1816300004720688,0.1816300004720688,0.1816300004720688,0.1816300004720688,0.1816300004720688,0.1816300004720688,0.1816300004720688,0.1816300004720688,0.1816300004720688,0.1816300004720688,0.1816300004720688,0.1816300004720688,0.1816300004720688,0.1816300004720688,0.1816300004720688,0.1816300004720688,0.1816300004720688,0.1816300004720688,0.1816300004720688,0.1816300004720688,0.1816300004720688,0.1816300004720688,0.1816300004720688,0.1816300004720688,0.1816300004720688,0.1816300004720688,0.1816300004720688,0.1816300004720688,0.1816300004720688,0.1816300004720688,0.1816300004720688,0.1816300004720688,0.1816300004720688,0.1816300004720688,0.1816300004720688,0.1816300004720688,0.1816300004720688,0.1816300004720688,0.1816300004720688,0.1816300004720688,0.1816300004720688,0.1816300004720688,0.1816300004720688,0.1816300004720688,0.1816300004720688,0.1816300004720688,0.1816300004720688,0.1816300004720688,0.1816300004720688,0.1816300004720688,0.1816300004720688,0.1816300004720688,0.1816300004720688,0.1816300004720688,0.1816300004720688,0.1816300004720688,0.1816300004720688,0.1816300004720688,0.1816300004720688,0.1816300004720688,0.1816300004720688,0.1816300004720688,0.1816300004720688,0.1816300004720688,0.1816300004720688,0.1816300004720688,0.1816300004720688,0.1816300004720688,0.1816300004720688,0.1816300004720688,0.1816300004720688,0.1816300004720688,0.1816300004720688,0.1816300004720688,0.1816300004720688,0.1816300004720688,0.1816300004720688,0.1816300004720688,0.1816300004720688,0.1816300004720688,0.1816300004720688,0.1816300004720688,0.1816300004720688,0.1816300004720688,0.1816300004720688,0.1816300004720688,0.1816300004720688,0.1816300004720688,0.1816300004720688,0.1816300004720688,0.1816300004720688,0.1816300004720688,0.1816300004720688,0.1816300004720688,0.1816300004720688,0.1816300004720688,0.1816300004720688,0.1816300004720688,0.1816300004720688,0.1816300004720688,0.1816300004720688,0.1816300004720688,0.1816300004720688,0.1816300004720688,0.1816300004720688,0.1816300004720688,0.1816300004720688,0.1816300004720688,0.1816300004720688,0.1816300004720688,0.1816300004720688,0.1816300004720688,0.1816300004720688,0.1816300004720688,0.1816300004720688,0.1816300004720688,0.1816300004720688,0.1816300004720688,0.1816300004720688,0.1816300004720688,0.1816300004720688,0.1816300004720688,0.1816300004720688,0.1816300004720688,0.1816300004720688,0.1816300004720688,0.1816300004720688,0.1816300004720688,0.1816300004720688,0.1816300004720688,0.1816300004720688,0.1816300004720688,0.1816300004720688,0.1816300004720688,0.1816300004720688,0.1816300004720688,0.1816300004720688,0.1816300004720688,0.1816300004720688,0.1816300004720688,0.1816300004720688,0.1816300004720688,0.1816300004720688,0.1816300004720688,0.1816300004720688,0.1816300004720688,0.1816300004720688,0.1816300004720688,0.1816300004720688,0.1816300004720688,0.1816300004720688,0.1816300004720688,0.1816300004720688,0.1816300004720688,0.15198999643325806,0.15198999643325806,0.1816300004720688,0.16779999434947968,0.16015000641345978,0.051649998873472214,0.061879999935626984,0.0773100033402443,0.06055000051856041,-0.07461000233888626,-0.12826000154018402,0.14119000732898712,0.18268999457359314,0.19137999415397644,0.1861400008201599,0.18783000111579895,0.1868000030517578,0.19235000014305115,0.16019999980926514,0.15230999886989594,0.16606999933719635,0.15283000469207764,0.1648699939250946,0.16512000560760498,0.15227000415325165,0.17508000135421753,0.17737999558448792,0.17205999791622162,0.1645900011062622,0.15713000297546387,0.162540003657341,0.16143999993801117,0.1614599972963333,0.0428600013256073,0.07081999629735947,0.16524000465869904,0.1582999974489212,0.1553100049495697,0.15328000485897064,0.16666999459266663,0.15255999565124512,0.17053000628948212,0.16126999258995056,0.16761000454425812,0.1675799936056137,0.15563000738620758,0.16355000436306,0.18036000430583954,0.1967500001192093,0.18282000720500946,0.18828999996185303,0.18334999680519104,0.19008000195026398,0.189860001206398,0.0676800012588501,0.10179000347852707,0.039799999445676804,-0.03003999963402748,-0.06040000170469284,0.08851999789476395,0.07878000289201736,0.17361000180244446,0.15198999643325806,0.15198999643325806,0.15198999643325806,0.1765500009059906,0.1560399979352951,0.17818999290466309,0.18156999349594116,0.16322000324726105,0.18102000653743744,0.1691499948501587,0.15721000730991364,0.17573000490665436,0.16429999470710754,0.1785700023174286,0.16359999775886536,0.1816300004720688,-0.18509000539779663,0.1761299967765808,0.16132999956607819,0.16816000640392303,0.1757500022649765,0.1764799952507019,0.15440000593662262,0.10733000189065933,0.1816300004720688,0.1816300004720688,0.16937999427318573,0.15399999916553497,0.15267999470233917,0.1569100022315979,0.17056000232696533,0.1523600071668625,0.1747799962759018,0.16503000259399414,-0.08122999966144562,-0.05183999985456467,-0.03621000051498413,-0.08804000169038773,0.17708000540733337,0.1658799946308136,-0.09728000313043594,0.18036000430583954,0.1816300004720688,0.1816300004720688,0.1816300004720688,0.1816300004720688,0.1816300004720688,0.1816300004720688,0.1816300004720688,0.1816300004720688,0.1816300004720688,0.1816300004720688,0.1816300004720688,0.1816300004720688,0.1816300004720688,0.1816300004720688,0.1816300004720688,0.1816300004720688,0.1816300004720688,0.1816300004720688,0.1816300004720688,0.1816300004720688,0.1816300004720688,0.1816300004720688,0.1816300004720688,0.1816300004720688,0.1816300004720688,0.1816300004720688,0.1816300004720688,0.1816300004720688,0.1816300004720688,0.1816300004720688,0.1816300004720688,0.1816300004720688,0.1816300004720688,0.1816300004720688,0.1816300004720688,0.1816300004720688,0.1816300004720688,0.1816300004720688,0.1816300004720688,0.1816300004720688,0.1816300004720688,0.1816300004720688,0.1816300004720688,0.1816300004720688,0.1816300004720688,0.1816300004720688,0.1816300004720688,0.1816300004720688,0.1816300004720688,0.1816300004720688,0.1816300004720688,0.1816300004720688,0.1816300004720688,0.1816300004720688,0.1816300004720688,0.1816300004720688,0.1816300004720688,0.1816300004720688,0.1816300004720688,0.1816300004720688,0.1816300004720688,0.1816300004720688,0.1816300004720688,0.1816300004720688,0.1816300004720688,0.1816300004720688,0.1816300004720688,0.1816300004720688,0.1816300004720688,0.1816300004720688,0.1816300004720688,0.1816300004720688,0.1816300004720688,0.1816300004720688,0.1816300004720688,0.1816300004720688,0.1816300004720688,0.1816300004720688,0.1816300004720688,0.1816300004720688,0.1816300004720688,0.1816300004720688,0.1816300004720688,0.1816300004720688,0.1816300004720688,0.1816300004720688,0.1816300004720688,0.1816300004720688,0.1816300004720688,0.1816300004720688,0.1816300004720688,0.1816300004720688,0.1816300004720688,0.1816300004720688,0.1816300004720688,0.1816300004720688,0.1816300004720688,0.1816300004720688,0.1816300004720688,0.1816300004720688,0.1816300004720688,0.1816300004720688,0.1816300004720688,0.1816300004720688,0.1816300004720688,0.1816300004720688,0.1816300004720688,0.1816300004720688,0.1816300004720688,0.1816300004720688,0.1816300004720688,0.1816300004720688,0.1816300004720688,0.1816300004720688,0.1816300004720688,0.1816300004720688,0.1816300004720688,0.1816300004720688,0.1816300004720688,0.1816300004720688,0.1816300004720688,0.1816300004720688,0.1816300004720688,0.1816300004720688,0.1816300004720688,0.1816300004720688,0.1816300004720688,0.1816300004720688,0.1816300004720688,0.1816300004720688,0.1816300004720688,0.1816300004720688,0.1816300004720688,0.1816300004720688,0.1816300004720688,0.1816300004720688,0.1816300004720688,0.1816300004720688,0.1816300004720688,0.1816300004720688,0.1816300004720688,0.1816300004720688,0.1816300004720688,0.1816300004720688,0.1816300004720688,0.1816300004720688,0.1816300004720688,0.1816300004720688,0.1816300004720688,0.1816300004720688,0.1816300004720688,0.1816300004720688,0.1816300004720688,0.1816300004720688,0.1816300004720688,0.1816300004720688,0.1816300004720688,0.1816300004720688,0.1816300004720688,0.1816300004720688,0.1816300004720688,0.1816300004720688,0.1816300004720688,-0.03260999917984009,0.08474999666213989,0.1816300004720688,0.1816300004720688,0.1816300004720688,-0.02175999991595745,-0.015610000118613243,0.023679999634623528,-0.13714000582695007,-0.16572999954223633,-0.006060000043362379,0.07750000059604645,-0.16696999967098236,0.1816300004720688,0.1816300004720688,0.1816300004720688,-0.19811999797821045,0.11219000071287155,-0.19177000224590302,-0.1604599952697754,-0.1867000013589859,-0.11204999685287476,-0.01759999990463257,0.0010999999940395355,0.17833000421524048,0.17842000722885132,0.17510999739170074,0.1813800036907196,0.1640399992465973,0.15649999678134918,0.1816300004720688,0.05906999856233597,0.1816300004720688,0.1816300004720688,0.1816300004720688,0.13560999929904938,0.049949999898672104,-0.1651500016450882,-0.19777999818325043,-0.10989999771118164,0.03540999814867973,-0.12679000198841095,-0.1959799975156784,-0.17677000164985657,0.1816300004720688,0.13312000036239624,0.18036000430583954,0.16827000677585602,-0.00949000008404255,-0.04820000007748604,-0.12488000094890594,-0.026599999517202377,-0.12201999872922897,-0.15512999892234802,-0.19117000699043274,-0.10790999978780746,0.014360000379383564,0.1816300004720688,-0.10322999954223633,0.17792999744415283,0.17058999836444855,0.16850000619888306,0.16075000166893005,0.16864000260829926,0.17539000511169434,0.1816300004720688,0.18036000430583954,0.16946999728679657,-0.10728000104427338,0.059859998524188995,0.16335000097751617,0.08060000091791153,0.10412000119686127,-0.0736600011587143,-0.15681999921798706,-0.17670999467372894,0.04809999838471413,-0.14534999430179596,-0.022849999368190765,-0.061319999396800995,-0.19790999591350555,0.1816300004720688,0.1816300004720688,-0.01018999982625246,-0.03327000141143799,-0.020080000162124634,0.10656999796628952,0.06802000105381012,-0.16847999393939972,0.11466000229120255,-0.10506000369787216,0.1973399966955185,0.19177000224590302,0.19404999911785126,0.19392000138759613,0.19809000194072723,0.19293999671936035,0.19253000617027283,0.19705000519752502,0.05485000088810921,0.19080999493598938,0.18219000101089478,0.03994999825954437,-0.06742999702692032,-0.1675499975681305,-0.15327000617980957,-0.1564200073480606,-0.16933000087738037,-0.06047999858856201,0.016119999811053276,0.08117000013589859,0.1816300004720688,0.18036000430583954,0.1816300004720688,0.1816300004720688,-0.20068000257015228,0.1816300004720688,0.1816300004720688,-0.18779000639915466,-0.10892000049352646,-0.05110999941825867,0.057909999042749405,-0.042410001158714294,-0.11445000022649765,-0.011629999615252018,-0.09369000047445297,0.04986000061035156,0.1816300004720688,0.1816300004720688,0.1816300004720688,0.1816300004720688,0.1816300004720688,0.1816300004720688,0.17475999891757965,0.1758500039577484,0.16393999755382538,0.1737699955701828,0.15232999622821808,0.16425000131130219,0.1816300004720688,0.18998000025749207,0.18250000476837158,0.1936500072479248,0.18945999443531036,0.1873999983072281,0.18749000132083893,0.18730999529361725,0.18780000507831573,0.19564999639987946,0.1816300004720688,0.15481999516487122,0.15557000041007996,0.16101999580860138,0.1599300056695938,0.16032999753952026,0.1619500070810318,0.15424999594688416,0.1599300056695938,0.15688000619411469,0.17520999908447266,0.1559399962425232,0.18061000108718872,-0.15387000143527985,-0.14872999489307404,-0.003700000001117587,-0.05341999977827072,-0.007040000054985285,-0.14044000208377838,-0.18081000447273254,-0.09546999633312225,0.031700000166893005,0.16453999280929565,0.17392000555992126,0.1721400022506714,0.16492000222206116,0.1725900024175644,0.17848999798297882,0.1702599972486496,0.1816300004720688,0.1816300004720688,0.1816300004720688,0.1816300004720688,0.1816300004720688,0.1816300004720688,0.1816300004720688,0.1816300004720688,0.1816300004720688,0.1816300004720688,0.1816300004720688,0.1816300004720688,0.1816300004720688,0.1816300004720688,0.1816300004720688,0.1816300004720688,0.1816300004720688,0.1816300004720688,0.1816300004720688,0.1816300004720688,0.1816300004720688,0.1816300004720688,0.1816300004720688,0.1816300004720688,0.1816300004720688,0.1816300004720688,0.1816300004720688,0.1816300004720688,0.1816300004720688,0.1816300004720688,0.1816300004720688,0.1816300004720688,0.1816300004720688,0.1816300004720688,0.1816300004720688,0.1816300004720688,0.1816300004720688,0.1816300004720688,0.1816300004720688,0.1816300004720688,0.1816300004720688,0.1816300004720688,0.1816300004720688,0.1816300004720688,0.1816300004720688,0.1816300004720688,0.1816300004720688,0.1816300004720688,0.1816300004720688,0.1816300004720688,0.1816300004720688,0.1816300004720688,0.1816300004720688,0.1816300004720688,0.1816300004720688,0.1816300004720688,0.1816300004720688,0.1816300004720688,0.1816300004720688,0.1816300004720688,0.1816300004720688,0.1816300004720688,0.1816300004720688,0.1816300004720688,0.1816300004720688,0.1816300004720688,0.1816300004720688,0.1816300004720688,0.1816300004720688,0.1816300004720688,0.1816300004720688,0.1816300004720688,0.1816300004720688,0.1816300004720688,0.1816300004720688,0.1816300004720688,0.1816300004720688,0.1816300004720688,0.1816300004720688,0.1816300004720688,0.1816300004720688,0.1816300004720688,0.1816300004720688,0.1816300004720688,0.1816300004720688,0.1816300004720688,0.1816300004720688,0.1816300004720688,0.1816300004720688,0.1816300004720688,0.1816300004720688,0.1816300004720688,0.1816300004720688,0.1816300004720688,0.1816300004720688,0.1816300004720688,0.1816300004720688,0.1816300004720688,0.1816300004720688,0.1816300004720688,0.1816300004720688,0.1816300004720688,0.1816300004720688,0.1816300004720688,0.1816300004720688,0.1816300004720688,0.1816300004720688,0.1816300004720688,0.1816300004720688,0.1816300004720688,0.1816300004720688,0.1816300004720688,0.1816300004720688,0.1816300004720688,0.1816300004720688,0.1816300004720688,0.1816300004720688,0.1816300004720688,0.1816300004720688,0.1816300004720688,0.1816300004720688,0.1816300004720688,0.1816300004720688,0.1816300004720688,0.1816300004720688,0.1816300004720688,0.1816300004720688,0.1816300004720688,0.1816300004720688,0.1816300004720688,0.1816300004720688,0.1816300004720688,0.1816300004720688,0.1816300004720688,0.1816300004720688,0.1816300004720688,0.1816300004720688,0.1816300004720688,0.1816300004720688,0.1816300004720688,0.1816300004720688,0.1816300004720688,0.1816300004720688,0.1816300004720688,0.1816300004720688,0.1816300004720688,0.1816300004720688,0.1816300004720688,0.1816300004720688,0.1816300004720688,0.1816300004720688,0.1816300004720688,0.1816300004720688,0.1816300004720688,0.1816300004720688,0.1816300004720688,0.1816300004720688,0.1816300004720688,0.1816300004720688,0.1816300004720688,0.1816300004720688,0.1816300004720688,0.1816300004720688,0.1816300004720688,0.1816300004720688,0.1816300004720688,0.1816300004720688,0.1816300004720688,0.1816300004720688,0.1816300004720688,0.1816300004720688,0.1816300004720688,0.1816300004720688,0.1816300004720688,0.1816300004720688,0.0362900011241436,0.0806099995970726,-0.10305999964475632,-0.06391999870538712,-0.1796800047159195,0.03075999952852726,-0.025629999116063118,-0.14173999428749084,0.022430000826716423,0.15324999392032623,0.15735000371932983,0.15312999486923218,0.1541299968957901,0.16098999977111816,0.1727599948644638,0.1816300004720688,-0.13590000569820404,0.1816300004720688,-0.03573000058531761,0.1791599988937378,0.16780999302864075,0.09358000010251999,0.03781000152230263,-0.013679999858140945,-0.041120000183582306,-0.14494000375270844,0.027499999850988388,0.08850999921560287,-0.07739000022411346,-0.05150999873876572,-0.08104000240564346,-0.052799999713897705,-0.09505999833345413,-0.1726900041103363,0.04002000018954277,0.1528400033712387,0.1139099970459938,-0.03894000127911568,0.16865000128746033,0.1563500016927719,0.17104999721050262,0.1640699952840805,0.16556000709533691,0.17986999452114105,0.1633100062608719,0.17486000061035156,0.16110000014305115,0.18133999407291412,0.16613000631332397,0.13559000194072723,0.1598300039768219,0.10954000055789948,0.04317000135779381,0.0459199994802475,0.03977999836206436,0.15251000225543976,0.10785999894142151,-0.08822999894618988,0.10451000183820724,0.056540001183748245,0.17913000285625458,0.15711000561714172,0.16007000207901,0.15244999527931213,0.14213000237941742,0.041189998388290405,-0.15285000205039978,-0.20068000257015228,-0.1809999942779541,0.15415999293327332,-0.05923999845981598,0.0010999999940395355,0.032600000500679016,0.07738000154495239,-0.029529999941587448,0.05694999918341637,0.04799000173807144,0.06342999637126923,0.009700000286102295,0.027219999581575394,-0.0004400000034365803,0.1653600037097931,-0.06543999910354614,0.04709000140428543,0.18036000430583954,0.15198999643325806,0.15198999643325806,0.20068000257015228,0.20068000257015228,0.20068000257015228,0.20068000257015228,0.20068000257015228,0.20068000257015228,0.20068000257015228,0.20068000257015228,0.20068000257015228,0.20068000257015228,0.20068000257015228,0.20068000257015228,0.20068000257015228,0.20068000257015228,0.20068000257015228,0.20068000257015228,0.20068000257015228,0.20068000257015228,0.20068000257015228,0.20068000257015228,0.20068000257015228,0.20068000257015228,0.20068000257015228,0.20068000257015228,0.20068000257015228,0.20068000257015228,0.20068000257015228,0.20068000257015228,0.20068000257015228,0.20068000257015228,0.20068000257015228,0.20068000257015228,0.20068000257015228,0.20068000257015228,0.20068000257015228,0.20068000257015228,0.20068000257015228,0.20068000257015228,0.20068000257015228,0.20068000257015228,0.20068000257015228,0.20068000257015228,0.20068000257015228,0.20068000257015228,0.20068000257015228,0.20068000257015228,0.20068000257015228,0.20068000257015228,0.20068000257015228,0.20068000257015228,0.20068000257015228,0.20068000257015228,0.20068000257015228,0.20068000257015228,0.20068000257015228,0.20068000257015228,0.20068000257015228,0.20068000257015228,0.20068000257015228,0.20068000257015228,0.20068000257015228,0.20068000257015228,0.20068000257015228,0.20068000257015228,0.20068000257015228,0.20068000257015228,0.20068000257015228,0.20068000257015228,0.20068000257015228,0.20068000257015228,0.20068000257015228,0.20068000257015228,0.20068000257015228,0.20068000257015228,0.20068000257015228,0.20068000257015228,0.20068000257015228,0.20068000257015228,0.20068000257015228,0.20068000257015228,0.20068000257015228,0.20068000257015228,0.20068000257015228,0.20068000257015228,0.20068000257015228,0.20068000257015228,0.20068000257015228,0.20068000257015228,0.20068000257015228,0.20068000257015228,0.20068000257015228,0.20068000257015228,0.20068000257015228,0.20068000257015228,0.20068000257015228,0.20068000257015228,0.20068000257015228,0.20068000257015228,0.20068000257015228,0.20068000257015228,0.20068000257015228,0.20068000257015228,0.20068000257015228,0.20068000257015228,0.20068000257015228,0.20068000257015228,0.20068000257015228,0.20068000257015228,0.20068000257015228,0.20068000257015228,0.20068000257015228,0.20068000257015228,0.20068000257015228,0.20068000257015228,0.20068000257015228,0.20068000257015228,0.20068000257015228,0.20068000257015228,0.20068000257015228,0.20068000257015228,0.20068000257015228,0.20068000257015228,0.20068000257015228,0.20068000257015228,0.20068000257015228,0.20068000257015228,0.20068000257015228,0.20068000257015228,0.20068000257015228,0.20068000257015228,0.20068000257015228,0.20068000257015228,0.20068000257015228,0.20068000257015228,0.20068000257015228,0.20068000257015228,0.20068000257015228,0.20068000257015228,0.20068000257015228,0.20068000257015228,0.20068000257015228,0.20068000257015228,0.20068000257015228,0.20068000257015228,0.20068000257015228,0.20068000257015228,0.20068000257015228,0.20068000257015228,0.20068000257015228,0.20068000257015228,0.20068000257015228,0.20068000257015228,0.20068000257015228,0.20068000257015228,0.20068000257015228,0.20068000257015228,0.20068000257015228,0.20068000257015228,0.20068000257015228,0.20068000257015228,0.20068000257015228,0.20068000257015228,0.20068000257015228,0.20068000257015228,0.20068000257015228,0.20068000257015228,0.20068000257015228,0.20068000257015228,0.20068000257015228,0.20068000257015228,0.20068000257015228,0.20068000257015228,0.20068000257015228,0.20068000257015228,0.20068000257015228,0.20068000257015228,0.20068000257015228,0.20068000257015228,0.20068000257015228,0.20068000257015228,0.20068000257015228,0.20068000257015228,0.20068000257015228,0.20068000257015228,0.20068000257015228,0.20068000257015228,0.20068000257015228,0.20068000257015228,0.20068000257015228,0.1816300004720688,0.1816300004720688,0.1816300004720688,0.1816300004720688,0.1816300004720688,0.18036000430583954,0.15198999643325806,0.15198999643325806,0.18036000430583954,0.1816300004720688,0.1816300004720688,0.1816300004720688,0.1816300004720688,0.1816300004720688,0.1816300004720688,0.1816300004720688,0.19070999324321747,0.1911499947309494,0.19386999309062958,0.1853799968957901,0.19797000288963318,0.19146999716758728,0.19039000570774078,0.1626099944114685,-0.008969999849796295,0.1816300004720688,0.1816300004720688,0.1816300004720688,0.1816300004720688,0.1816300004720688,-0.20068000257015228,0.1816300004720688,0.1816300004720688,0.15793000161647797,0.156700000166893,0.16683000326156616,0.16348999738693237,0.16210000216960907,0.15373000502586365,0.17505000531673431,0.1816300004720688,0.03263000026345253,-0.061489999294281006,-0.188510000705719,0.05297999829053879,-0.14163999259471893,-0.16869999468326569,-0.051660001277923584,0.04910000041127205,0.11987999826669693,0.03660000115633011,0.11197999864816666,-0.03637000173330307,0.14836999773979187,0.12105999886989594,0.1050499975681305,-0.14486999809741974,0.17614999413490295,0.07270000129938126,0.10264000296592712,0.1712699979543686,-0.0560000017285347,0.0975399985909462,-0.0715700015425682,0.16614000499248505,0.09258999675512314,0.15198999643325806,0.15198999643325806,0.15198999643325806,0.18509000539779663,0.19140000641345978,0.1858000010251999,0.18862999975681305,0.18955999612808228,0.1892399936914444,0.18581999838352203,0.1816300004720688,0.1816300004720688,0.16387000679969788,0.17961999773979187,0.15871000289916992,0.15723000466823578,0.16426999866962433,0.16410000622272491,0.15830999612808228,0.15478000044822693,0.1701200008392334,0.1601399928331375,0.15286999940872192,0.15222999453544617,-0.07593999803066254,0.11185000091791153,0.15830999612808228,0.16348999738693237,0.15926000475883484,0.15244999527931213,0.17869000136852264,0.1598999947309494,0.16038000583648682,0.15755000710487366,0.16313999891281128,0.1816300004720688,0.1816300004720688,0.1816300004720688,0.1816300004720688,0.18036000430583954,0.19729000329971313,0.18355000019073486,0.1912200003862381,0.1943800002336502,0.18982000648975372,0.19117000699043274,-0.11721000075340271,0.1816300004720688,0.18036000430583954,0.15620000660419464,0.17278000712394714,0.17784999310970306,0.15365000069141388,0.16398000717163086,0.1539900004863739,0.16410000622272491,-0.015300000086426735,-0.022919999435544014,0.0014900000533089042,0.12251999974250793,0.08404000103473663,0.12640999257564545,0.07011999934911728,-0.06638000160455704,0.1816300004720688,-0.07562000304460526,0.017880000174045563,-0.1502400040626526,-0.15557000041007996,0.011470000259578228,0.1816300004720688,0.17293000221252441,0.1637900024652481,0.17012999951839447,0.1777999997138977,0.16784000396728516,0.17476999759674072,0.17768999934196472,0.1816300004720688,0.1816300004720688,0.1816300004720688,0.1816300004720688,0.15198999643325806,0.15198999643325806,0.1816300004720688,0.1816300004720688,0.1816300004720688,0.1816300004720688,0.19828000664710999,0.1990099996328354,0.19280000030994415,0.18456999957561493,0.19027000665664673,0.18467000126838684,0.18474000692367554,0.18192000687122345,-0.1212799996137619,-0.11043000221252441,0.07423999905586243,0.044690001755952835,-0.18900999426841736,-0.11929000169038773,-0.1010499969124794,-0.20036999881267548,0.1816300004720688,-0.12223999947309494,-0.1409900039434433,0.009270000271499157,-0.0776199996471405,-0.05398000031709671,-0.06605000048875809,-0.04187000170350075,-0.13665999472141266,-0.11308000236749649,0.1816300004720688,0.19905999302864075,0.19863000512123108,0.1991499960422516,0.19499999284744263,0.19081999361515045,0.19742000102996826,0.1816300004720688,0.1816300004720688,0.1816300004720688,0.1816300004720688,-0.018969999626278877,0.1431799978017807,0.11150000244379044,0.06713999807834625,-0.02879999950528145,0.05063999816775322,-0.09047000110149384,0.1816300004720688,0.1816300004720688,0.1816300004720688,0.1816300004720688,0.20068000257015228,0.20068000257015228,0.20068000257015228,0.20068000257015228,0.20068000257015228,0.20068000257015228,0.20068000257015228,0.20068000257015228,0.20068000257015228,0.20068000257015228,0.20068000257015228,0.20068000257015228,0.20068000257015228,0.20068000257015228,0.20068000257015228,0.20068000257015228,0.20068000257015228,0.20068000257015228,0.20068000257015228,0.20068000257015228,0.20068000257015228,0.20068000257015228,0.20068000257015228,0.20068000257015228,0.20068000257015228,0.20068000257015228,0.20068000257015228,0.20068000257015228,0.20068000257015228,0.20068000257015228,0.20068000257015228,0.20068000257015228,0.20068000257015228,0.20068000257015228,0.20068000257015228,0.20068000257015228,0.20068000257015228,0.20068000257015228,0.20068000257015228,0.20068000257015228,0.20068000257015228,0.20068000257015228,0.20068000257015228,0.20068000257015228,0.20068000257015228,0.20068000257015228,0.20068000257015228,0.20068000257015228,0.20068000257015228,0.20068000257015228,0.20068000257015228,0.20068000257015228,0.20068000257015228,0.20068000257015228,0.20068000257015228,0.20068000257015228,0.20068000257015228,0.20068000257015228,0.20068000257015228,0.20068000257015228,0.20068000257015228,0.20068000257015228,0.20068000257015228,0.20068000257015228,0.20068000257015228,0.20068000257015228,0.20068000257015228,0.20068000257015228,0.20068000257015228,0.20068000257015228,0.20068000257015228,0.20068000257015228,0.20068000257015228,0.20068000257015228,0.20068000257015228,0.20068000257015228,0.20068000257015228,0.20068000257015228,0.20068000257015228,0.20068000257015228,0.20068000257015228,0.20068000257015228,0.20068000257015228,0.20068000257015228,0.20068000257015228,0.20068000257015228,0.20068000257015228,0.20068000257015228,0.20068000257015228,0.20068000257015228,0.20068000257015228,0.20068000257015228,0.20068000257015228,0.20068000257015228,0.20068000257015228,0.20068000257015228,0.20068000257015228,0.20068000257015228,0.20068000257015228,0.20068000257015228,0.20068000257015228,0.20068000257015228,0.20068000257015228,0.20068000257015228,0.20068000257015228,0.20068000257015228,0.20068000257015228,0.20068000257015228,0.20068000257015228,0.20068000257015228,0.20068000257015228,0.20068000257015228,0.20068000257015228,0.20068000257015228,0.20068000257015228,0.20068000257015228,0.20068000257015228,0.20068000257015228,0.20068000257015228,0.20068000257015228,0.20068000257015228,0.20068000257015228,0.20068000257015228,0.20068000257015228,0.20068000257015228,0.20068000257015228,0.20068000257015228,0.20068000257015228,0.20068000257015228,0.20068000257015228,0.20068000257015228,0.20068000257015228,0.20068000257015228,0.20068000257015228,0.20068000257015228,0.20068000257015228,0.20068000257015228,0.20068000257015228,0.20068000257015228,0.20068000257015228,0.20068000257015228,0.20068000257015228,0.20068000257015228,0.20068000257015228,0.20068000257015228,0.20068000257015228,0.20068000257015228,0.20068000257015228,0.20068000257015228,0.20068000257015228,0.20068000257015228,0.20068000257015228,0.20068000257015228,0.20068000257015228,0.20068000257015228,0.20068000257015228,0.20068000257015228,0.20068000257015228,0.20068000257015228,0.20068000257015228,0.20068000257015228,0.20068000257015228,0.20068000257015228,0.20068000257015228,0.20068000257015228,0.20068000257015228,0.20068000257015228,0.20068000257015228,0.20068000257015228,0.20068000257015228,0.20068000257015228,0.20068000257015228,0.20068000257015228,0.20068000257015228,0.20068000257015228,0.20068000257015228,0.20068000257015228,0.20068000257015228,0.20068000257015228,0.20068000257015228,0.20068000257015228,0.20068000257015228,0.20068000257015228,0.20068000257015228,0.20068000257015228,0.20068000257015228,0.20068000257015228,0.20068000257015228,0.20068000257015228,0.20068000257015228,0.20068000257015228,0.20068000257015228,0.20068000257015228,0.20068000257015228,0.20068000257015228,0.20068000257015228,0.20068000257015228,0.20068000257015228,0.20068000257015228,0.1816300004720688,0.1816300004720688,-0.17417000234127045,-0.015200000256299973,0.08505000174045563,0.061969999223947525,-0.18207000195980072,-0.02855999954044819,-0.16263000667095184,0.09934999793767929,0.1816300004720688,0.1816300004720688,0.1816300004720688,0.1816300004720688,0.15198999643325806,0.15198999643325806,0.15198999643325806,0.15198999643325806,-0.12953999638557434,-0.06650999933481216,-0.12870000302791595,-0.011739999987185001,-0.12383999675512314,0.012120000086724758,-0.14509999752044678,-0.11808999627828598,0.1816300004720688,0.1816300004720688,0.1816300004720688,0.1816300004720688,0.1816300004720688,0.1816300004720688,0.1816300004720688,0.1816300004720688,0.1816300004720688,0.1816300004720688,0.1816300004720688,0.1816300004720688,0.1816300004720688,0.1816300004720688,0.1816300004720688,0.1816300004720688,0.1816300004720688,0.1816300004720688,0.1816300004720688,0.1816300004720688,0.1816300004720688,0.1816300004720688,0.1816300004720688,0.1816300004720688,0.1816300004720688,0.1816300004720688,0.1816300004720688,0.1816300004720688,0.1816300004720688,0.1816300004720688,0.1816300004720688,0.1816300004720688,0.1816300004720688,0.1816300004720688,0.1816300004720688,0.1816300004720688,0.1816300004720688,0.1816300004720688,0.1816300004720688,0.1816300004720688,0.1816300004720688,0.1816300004720688,0.1816300004720688,0.1816300004720688,0.1816300004720688,0.1816300004720688,0.1816300004720688,0.1816300004720688,0.1816300004720688,0.1816300004720688,0.1816300004720688,0.1816300004720688,0.1816300004720688,0.1816300004720688,0.1816300004720688,0.1816300004720688,0.1816300004720688,0.1816300004720688,0.1816300004720688,0.1816300004720688,0.1816300004720688,0.1816300004720688,0.1816300004720688,0.1816300004720688,0.1816300004720688,0.1816300004720688,0.1816300004720688,0.1816300004720688,0.1816300004720688,0.1816300004720688,0.1816300004720688,0.1816300004720688,0.1816300004720688,0.1816300004720688,0.1816300004720688,0.1816300004720688,0.1816300004720688,0.1816300004720688,0.1816300004720688,0.1816300004720688,0.1816300004720688,0.1816300004720688,0.1816300004720688,0.1816300004720688,0.1816300004720688,0.1816300004720688,0.1816300004720688,0.1816300004720688,0.1816300004720688,0.1816300004720688,0.1816300004720688,0.1816300004720688,0.1816300004720688,0.1816300004720688,0.1816300004720688,0.1816300004720688,0.1816300004720688,0.1816300004720688,0.1816300004720688,0.1816300004720688,0.1816300004720688,0.1816300004720688,0.1816300004720688,0.1816300004720688,0.1816300004720688,0.1816300004720688,0.1816300004720688,0.1816300004720688,0.1816300004720688,0.1816300004720688,0.1816300004720688,0.1816300004720688,0.1816300004720688,0.1816300004720688,0.1816300004720688,0.1816300004720688,0.1816300004720688,0.1816300004720688,0.1816300004720688,0.1816300004720688,0.1816300004720688,0.1816300004720688,0.1816300004720688,0.1816300004720688,0.1816300004720688,0.1816300004720688,0.1816300004720688,0.1816300004720688,0.1816300004720688,0.1816300004720688,0.1816300004720688,0.1816300004720688,0.1816300004720688,0.1816300004720688,0.1816300004720688,0.1816300004720688,0.1816300004720688,0.1816300004720688,0.1816300004720688,0.1816300004720688,0.1816300004720688,0.1816300004720688,0.1816300004720688,0.1816300004720688,0.1816300004720688,0.1816300004720688,0.1816300004720688,0.1816300004720688,0.1816300004720688,0.1816300004720688,0.1816300004720688,0.1816300004720688,0.1816300004720688,0.1816300004720688,0.1816300004720688,0.1816300004720688,0.1816300004720688,0.1816300004720688,0.1816300004720688,0.1816300004720688,0.1816300004720688,0.1816300004720688,0.1816300004720688,0.1816300004720688,0.1816300004720688,0.1816300004720688,0.1816300004720688,0.1816300004720688,0.07678999751806259,-0.13898000121116638,0.17184999585151672,0.11591999977827072,-0.18174999952316284,-0.06218000128865242,-0.02515999972820282,0.1296200007200241,-0.013810000382363796,0.11954999715089798,0.12873999774456024,0.09025999903678894,0.03189000114798546,-0.02116999961435795,0.1147800013422966,0.1546500027179718,0.16015000641345978,0.16043999791145325,0.15512000024318695,0.17558999359607697,0.1638299971818924,0.16808000206947327,0.16508999466896057,0.16742999851703644,0.1665399968624115,0.16317999362945557,-0.03660000115633011,0.017669999971985817,-0.05812999978661537,0.09104999899864197,0.13163000345230103,0.04596000164747238,0.12630000710487366,0.03866000100970268,0.1564600020647049,-0.14936000108718872,0.05683000013232231,-0.14252999424934387,0.10307999700307846,-0.02962999977171421,-0.008080000057816505,0.0695900022983551,0.13745999336242676,0.1816300004720688,-0.20068000257015228,0.14055000245571136,0.1083500012755394,-0.1422100067138672,0.042410001158714294,0.004189999774098396,0.0852700024843216,0.09561999887228012,0.17463000118732452,0.048889998346567154,-0.011219999752938747,0.03245000168681145,0.17127999663352966,0.12083999812602997,-0.03911000117659569,-0.12555000185966492,0.1816300004720688,-0.1657399982213974,-0.15484000742435455,-0.08205000311136246,-9.999999747378752e-06,-0.10379000008106232,-0.11416000127792358,-0.05178000032901764,-0.09206999838352203,0.1624400019645691,0.16132999956607819,0.17829999327659607,0.15445999801158905,0.15321999788284302,0.15955999493598938,0.15573999285697937,0.15996000170707703,0.15456999838352203,0.1666399985551834,0.16966000199317932,0.1627800017595291,0.17670999467372894,0.16711999475955963,0.1680299937725067,0.17815999686717987,0.16505999863147736,0.17684000730514526,0.1816300004720688,0.1816300004720688,0.1816300004720688,0.1816300004720688,0.1816300004720688,0.1816300004720688,-0.20068000257015228,-0.20068000257015228,0.1816300004720688,0.1816300004720688,0.18987999856472015,0.193790003657341,0.1899300068616867,0.18967999517917633,0.20042000710964203,0.18482999503612518,0.19754000008106232,0.19452999532222748,-0.1420000046491623,-0.15583999454975128,-0.10552000254392624,0.06401000171899796,-0.0021299999207258224,-0.13133999705314636,-0.09630999714136124,0.15198999643325806,0.15198999643325806,0.1816300004720688,-0.12939999997615814,0.03581000119447708,0.026019999757409096,0.09993000328540802,0.1602800041437149,0.08279000222682953,0.1437399983406067,-0.010230000130832195,0.1465499997138977,0.12570999562740326,0.15835000574588776,0.034609999507665634,-0.06298000365495682,0.17806999385356903,0.09299000352621078,0.15198999643325806,0.15198999643325806,0.1816300004720688,0.1816300004720688,-0.09375,-0.12670999765396118,-0.06835000216960907,-0.08489999920129776,-0.1793999969959259,-0.11111000180244446,-0.1604599952697754,-0.04464999958872795,0.03472999855875969,0.1867000013589859,0.19857999682426453,0.19659000635147095,0.18889999389648438,0.1915300041437149,0.1785999983549118,0.1541299968957901,0.17309999465942383,0.15725000202655792,0.1585800051689148,0.15394000709056854,0.16132000088691711,0.15922999382019043,0.1599700003862381,0.16222000122070312,0.15565000474452972,0.1816300004720688,0.1816300004720688,0.1816300004720688,0.15953999757766724,0.15749000012874603,0.1591300070285797,0.15758000314235687,0.17175999283790588,0.15518000721931458,0.17574000358581543,-0.023399999365210533,-0.10090000182390213,-0.131290003657341,-0.08823999762535095,-0.014879999682307243,-0.12793000042438507,0.002580000087618828],\"z\":[0.38089999556541443,-0.3810499906539917,-0.3810499906539917,-0.3810499906539917,-0.3810499906539917,-0.3810499906539917,-0.3810499906539917,0.35256001353263855,0.35179001092910767,-0.35141998529434204,-0.3518800139427185,0.11533000320196152,0.3387100100517273,0.3387100100517273,0.3387100100517273,0.3387100100517273,0.3387100100517273,0.3387100100517273,0.3387100100517273,0.3387100100517273,0.338919997215271,-0.3404099941253662,-0.040539998561143875,-0.3358300030231476,-0.1073400005698204,0.3392600119113922,0.07906000316143036,-0.08991000056266785,-0.2405499964952469,0.14552000164985657,-0.06778000295162201,-0.005779999773949385,-0.03945999965071678,-0.16537000238895416,-0.30820998549461365,-0.20659999549388885,-0.33664000034332275,0.3393799960613251,0.3387100100517273,0.3387100100517273,0.3387100100517273,0.3387100100517273,0.3387100100517273,0.3387100100517273,0.3387100100517273,0.3387100100517273,-0.3499299883842468,-0.3559400141239166,-0.37198999524116516,-0.34547001123428345,-0.3465299904346466,-0.34602999687194824,-0.3465900123119354,-0.34940001368522644,-0.34310001134872437,-0.3765699863433838,-0.3576900064945221,-0.359279990196228,0.3411400020122528,0.3535600006580353,0.34213000535964966,0.3586699962615967,0.3636699914932251,0.3556399941444397,0.34988999366760254,0.3690899908542633,0.34422001242637634,-0.31053000688552856,0.2833699882030487,-0.35697999596595764,-0.35648998618125916,-0.17786000669002533,0.2633799910545349,0.19031000137329102,0.1243399977684021,0.33243000507354736,-0.2137800008058548,-0.11687000095844269,0.12285000085830688,0.3190000057220459,-0.1538199931383133,0.3119100034236908,-0.04772000014781952,-0.18206000328063965,-0.307559996843338,-0.23033000528812408,-0.09848999977111816,0.055730000138282776,-0.300709992647171,0.11440999805927277,0.17279000580310822,-0.33149001002311707,-0.22293999791145325,0.005520000122487545,0.012199999764561653,-0.00011000000085914508,-0.2126999944448471,-0.2546899914741516,-0.32043999433517456,-0.08865000307559967,0.3754499852657318,0.3393700122833252,-0.34804999828338623,0.38102999329566956,0.3810499906539917,0.3810499906539917,0.3810499906539917,0.3810499906539917,0.3810499906539917,0.3810499906539917,0.3810499906539917,0.3810499906539917,0.3810499906539917,0.3689500093460083,0.26767000555992126,0.3344799876213074,0.11541000008583069,0.3578700125217438,-0.34887999296188354,-0.38082000613212585,0.18272000551223755,0.09322000294923782,0.1297300010919571,0.3666599988937378,0.2159699946641922,0.009639999829232693,0.09098999947309494,-0.07980000227689743,-0.10724999755620956,-0.019109999760985374,0.29475000500679016,0.17652000486850739,-0.36559998989105225,-0.14927999675273895,-0.24818000197410583,0.09013000130653381,-0.22032999992370605,0.3724699914455414,0.35071998834609985,0.3761900067329407,0.3707500100135803,0.3474999964237213,0.3446100056171417,0.3441399931907654,0.3512899875640869,0.021880000829696655,-0.2573600113391876,0.24467000365257263,0.10884000360965729,-0.3598800003528595,-0.3598800003528595,-0.3598800003528595,-0.3598800003528595,-0.3598800003528595,-0.3598800003528595,0.3657200038433075,0.2941499948501587,-0.38016998767852783,0.3746199905872345,0.3542400002479553,-0.23569999635219574,0.3639500141143799,0.35653001070022583,0.3651700019836426,0.3541699945926666,0.36991000175476074,0.3688400089740753,0.3636400103569031,0.3713200092315674,0.36149999499320984,-0.3810499906539917,-0.3810499906539917,-0.3810499906539917,-0.3810499906539917,-0.3810499906539917,-0.3810499906539917,-0.3810499906539917,-0.3810499906539917,-0.3810499906539917,-0.3387100100517273,-0.3387100100517273,-0.3387100100517273,-0.3387100100517273,-0.3387100100517273,-0.3387100100517273,-0.3387100100517273,-0.3387100100517273,0.3564999997615814,0.2140599936246872,-0.19205999374389648,0.24300000071525574,0.3260299861431122,0.13865000009536743,-0.3519499897956848,0.35637998580932617,0.35697999596595764,-0.35912999510765076,-0.3542200028896332,-0.04602999985218048,0.11449000239372253,-0.06265000253915787,-0.3635300099849701,-0.3615899980068207,-0.3619300127029419,0.17883999645709991,0.38029998540878296,0.2742699980735779,-0.34060001373291016,0.2262900024652481,0.37744998931884766,-0.0154600003734231,0.14810000360012054,0.1646600067615509,0.29666000604629517,0.35409998893737793,0.16955000162124634,0.20566999912261963,0.2189600020647049,0.3626999855041504,0.2636699974536896,-0.1732099950313568,-0.060819998383522034,-0.1714800000190735,0.36983999609947205,0.3029699921607971,0.3089100122451782,-0.11990000307559967,0.1023700013756752,0.1043500006198883,0.2502099871635437,0.24942000210285187,0.35047000646591187,-0.23417000472545624,0.3231399953365326,-0.1422100067138672,0.10397999733686447,-0.05268999934196472,0.229420006275177,0.2911500036716461,0.1936199963092804,0.37648001313209534,0.3037700057029724,0.016950000077486038,0.22245000302791595,-0.14730000495910645,-0.012029999867081642,0.2866399884223938,0.04862000048160553,0.07583999633789062,0.1494400054216385,0.32767000794410706,0.24668000638484955,0.32387998700141907,0.25565001368522644,0.25393998622894287,-0.06967999786138535,0.1677200049161911,-0.11766999959945679,0.2368600070476532,-0.022949999198317528,0.36746999621391296,-0.20663000643253326,-0.22565999627113342,0.30285000801086426,0.2793999910354614,0.21219000220298767,0.2236199975013733,0.35929998755455017,0.036809999495744705,0.14080999791622162,0.3064799904823303,0.07898999750614166,0.026019999757409096,0.17106999456882477,0.1358799934387207,0.0769599974155426,-0.16342000663280487,0.12002000212669373,-0.08506999909877777,-0.37026000022888184,-0.05950000137090683,0.34053000807762146,0.2515699863433838,0.29273998737335205,0.31182000041007996,0.26139000058174133,-0.20430000126361847,0.365339994430542,0.3624599874019623,0.017869999632239342,-0.19132000207901,0.2058199942111969,0.25435999035835266,0.20340999960899353,0.11738000065088272,0.3011600077152252,0.13220000267028809,0.34422001242637634,0.11309000104665756,0.27772000432014465,-0.07354000210762024,0.1802700012922287,0.26723000407218933,0.003860000055283308,0.34681999683380127,0.3230299949645996,0.3704800009727478,0.2615799903869629,-0.02969999983906746,-0.04684999957680702,0.32012999057769775,0.3225800096988678,0.36153000593185425,0.3604399859905243,0.2752000093460083,0.1160999983549118,0.06735999882221222,0.3519800007343292,0.29563000798225403,0.05894000083208084,0.15565000474452972,0.15063999593257904,0.04864000156521797,0.344870001077652,0.2681500017642975,0.18046000599861145,0.14188000559806824,0.16888999938964844,-0.05697000026702881,0.23127999901771545,0.19717000424861908,0.29631999135017395,0.3300899863243103,0.1404300034046173,-0.06378000229597092,0.37751999497413635,0.2663100063800812,-0.04836000129580498,-0.1607999950647354,-0.01867000013589859,0.23588000237941742,0.28933000564575195,0.16033999621868134,-0.0457100011408329,-0.1039000004529953,-0.08748000115156174,0.32916998863220215,0.13048000633716583,0.242249995470047,-0.2303999960422516,-0.14756999909877777,-0.22883999347686768,-0.17608000338077545,0.26916998624801636,-0.025450000539422035,-0.2314700037240982,0.05716000124812126,-0.03985999897122383,0.22790999710559845,-0.014720000326633453,0.07327000051736832,-0.092569999396801,0.14566999673843384,0.36114999651908875,0.1660500019788742,0.1551000028848648,0.33458998799324036,-0.03897000104188919,-0.1130400002002716,-0.056049998849630356,0.3377699851989746,-0.03274000063538551,-0.014349999837577343,0.2722199857234955,0.10289999842643738,0.1408199965953827,-0.016179999336600304,-0.07637999951839447,0.09493999928236008,0.26429998874664307,0.1812400072813034,-0.2148600071668625,0.18512000143527985,0.3625999987125397,0.08528999984264374,0.29951000213623047,-0.2994999885559082,0.046480000019073486,0.09257999807596207,0.15859000384807587,0.21116000413894653,0.18986999988555908,-0.09854000061750412,0.2598699927330017,0.2772800028324127,0.00977999996393919,0.06571000069379807,0.30254998803138733,0.34553998708724976,0.3013400137424469,0.17135000228881836,0.33037999272346497,-0.0746999979019165,0.3759300112724304,0.3419100046157837,0.03711999952793121,0.012959999963641167,-0.04058000072836876,-0.007519999984651804,0.08111000061035156,0.31509000062942505,0.30017000436782837,-0.11208000034093857,0.06366000324487686,0.34645000100135803,0.05437000095844269,-0.06582000106573105,0.36111000180244446,0.2680499851703644,0.2069700062274933,0.131400004029274,0.26045000553131104,0.3184100091457367,-0.14337000250816345,0.35141000151634216,0.35141000151634216,0.35141000151634216,0.35141000151634216,0.35141000151634216,0.35141000151634216,0.35141000151634216,0.35141000151634216,-0.36032000184059143,0.3420200049877167,0.2754899859428406,-0.3411400020122528,-0.34112998843193054,-0.3543800115585327,-0.34758999943733215,-0.35488998889923096,-0.3522999882698059,-0.351639986038208,-0.37602001428604126,0.17901000380516052,0.2878200113773346,-0.34345000982284546,-0.3412199914455414,-0.36149999499320984,-0.3556100130081177,-0.36469998955726624,-0.3458699882030487,-0.36226001381874084,-0.3696399927139282,-0.37049001455307007,-0.3539600074291229,-0.3531300127506256,0.3387100100517273,0.3387100100517273,0.3387100100517273,0.3387100100517273,0.3387100100517273,0.3387100100517273,0.3387100100517273,0.3387100100517273,-0.34014999866485596,-0.2630600035190582,-0.055560000240802765,0.3616900146007538,0.3442800045013428,0.35517001152038574,0.3810499906539917,0.3810499906539917,0.3810499906539917,0.3810499906539917,0.3810499906539917,0.3810499906539917,0.2771799862384796,-0.21900999546051025,0.3522000014781952,0.37257999181747437,0.34894999861717224,0.34373998641967773,0.3450300097465515,0.34182998538017273,0.35060998797416687,0.34606000781059265,0.34104999899864197,0.37529999017715454,-0.08780000358819962,0.270689994096756,0.07283999770879745,0.3050200045108795,0.2500300109386444,0.37786999344825745,0.3451099991798401,0.1372700035572052,-0.21195000410079956,0.09148000180721283,-0.33882999420166016,-0.24289000034332275,0.22318999469280243,-0.3460499942302704,-0.3556700050830841,-0.34303000569343567,-0.3494899868965149,-0.3599799871444702,-0.3451800048351288,-0.3479500114917755,-0.355320006608963,-0.3499099910259247,0.35047000646591187,-0.37279999256134033,0.011869999580085278,-0.3180699944496155,-0.17102999985218048,-0.3382300138473511,-0.23725999891757965,-0.1101899966597557,-0.31637001037597656,-0.16086000204086304,-0.22592000663280487,-0.35451000928878784,-0.126460000872612,-0.046300001442432404,0.3070400059223175,-0.09618999809026718,-0.22363999485969543,-0.3320100009441376,-0.3268199861049652,-0.02135000005364418,-0.17979000508785248,-0.05640999972820282,-0.21969999372959137,0.21046000719070435,-0.06976000219583511,-0.320250004529953,-0.3809199929237366,0.22953000664710999,-0.06939999759197235,-0.3622699975967407,-0.12862999737262726,0.012769999913871288,-0.24854999780654907,-0.2543700039386749,0.030500000342726707,-0.3219900131225586,-0.3056100010871887,0.07618000358343124,0.0803299993276596,-0.2454099953174591,-0.00506999995559454,-0.20205000042915344,0.006819999776780605,-0.12598000466823578,-0.062470000237226486,-0.15904000401496887,-0.049059998244047165,-0.3386400043964386,-0.2656700015068054,0.02012999914586544,-0.20983000099658966,-0.1526300013065338,-0.14608000218868256,-0.303629994392395,-0.040130000561475754,0.08143000304698944,-0.3024899959564209,-0.2976300120353699,-0.24504999816417694,-0.3422600030899048,-0.16662000119686127,-0.07229000329971313,-0.13229000568389893,0.29563000798225403,-0.21443000435829163,-0.182109996676445,0.06233000010251999,-0.07124000042676926,-0.31905001401901245,0.27230000495910645,-0.2214999943971634,0.24616000056266785,-0.21740999817848206,-0.00786999985575676,-0.32973000407218933,-0.32662999629974365,0.034630000591278076,0.0689300000667572,0.028680000454187393,-0.38034000992774963,-0.27191999554634094,-0.10995999723672867,-0.35199999809265137,-0.017309999093413353,0.0420599989593029,-0.29319998621940613,-0.1801699995994568,-0.013369999825954437,-0.08501999825239182,-0.005830000154674053,0.2850100100040436,-0.21026000380516052,-0.3425399959087372,0.08753000199794769,-0.34880000352859497,0.21118000149726868,-0.31463000178337097,-0.28453001379966736,-0.29297998547554016,-0.2745400071144104,-0.1497199982404709,-0.11033999919891357,0.296999990940094,-0.08217000216245651,0.12907999753952026,-0.1445399969816208,-0.05019000172615051,-0.023970000445842743,-0.36476999521255493,0.06476999819278717,-0.12031999975442886,-0.15396000444889069,-0.13999000191688538,0.17371000349521637,-0.25185999274253845,-0.2669300138950348,-0.3378300070762634,-0.2384600043296814,-0.20677000284194946,-0.2736999988555908,0.24763000011444092,-0.2917400002479553,-0.190420001745224,-0.23159000277519226,-0.28294000029563904,-0.32047998905181885,0.08880999684333801,-0.37860000133514404,0.019260000437498093,-0.3031199872493744,-0.09322000294923782,0.04650000110268593,-0.3495100140571594,-0.22086000442504883,-0.12168999761343002,-0.22982999682426453,0.08271999657154083,-0.13067999482154846,-0.15467999875545502,0.21831999719142914,-0.007689999882131815,-0.07778000086545944,-0.09279999881982803,-0.16021999716758728,-0.12093999981880188,-0.06526999920606613,-0.1326099932193756,-0.2752000093460083,-0.12178999930620193,-0.10915999859571457,-0.29927998781204224,0.0691400021314621,-0.18979999423027039,-0.1373399943113327,0.14505000412464142,-0.21086999773979187,-0.22036999464035034,0.15026000142097473,-0.24798999726772308,-0.3143399953842163,-0.10982000082731247,0.0015200000489130616,-0.020230000838637352,-0.3224000036716461,0.29686999320983887,-0.38027000427246094,-0.2589400112628937,-0.02881000004708767,-0.3172999918460846,-0.25944000482559204,-0.31314000487327576,-0.16722999513149261,0.026270000264048576,0.1532599925994873,-0.18796999752521515,-0.039069999009370804,-0.030339999124407768,-0.23273999989032745,-0.15320000052452087,0.19165000319480896,-0.11813999712467194,0.20216000080108643,0.2220900058746338,-0.16186000406742096,-0.18546000123023987,-0.17217999696731567,0.025800000876188278,-0.3539400100708008,-0.15265999734401703,0.22010000050067902,0.3598400056362152,-0.020679999142885208,-0.05324999988079071,-0.2275799959897995,-0.35912999510765076,-0.02962999977171421,-0.16621999442577362,-0.08558999747037888,0.2026900053024292,-0.2797900140285492,-0.28380998969078064,-0.18810999393463135,-0.13816000521183014,-0.13837000727653503,-0.018650000914931297,-0.23954999446868896,-0.29829999804496765,-0.3376699984073639,-0.23837999999523163,-0.12281999737024307,-0.19192999601364136,-0.1355299949645996,-0.340039998292923,-0.13360999524593353,-0.2266799956560135,-0.2726300060749054,-0.24390999972820282,-0.3356899917125702,-0.34198999404907227,-0.1340399980545044,-0.2726599872112274,-0.324290007352829,-0.33118999004364014,0.3777799904346466,0.37325000762939453,0.34992000460624695,0.3731299936771393,0.3479500114917755,0.3422999978065491,0.35113000869750977,0.3722200095653534,0.3688800036907196,0.3387100100517273,0.3387100100517273,0.3387100100517273,0.3387100100517273,0.3387100100517273,0.3387100100517273,0.3387100100517273,0.3387100100517273,-0.3388800024986267,0.3810499906539917,0.3810499906539917,0.3810499906539917,0.3810499906539917,0.3810499906539917,0.3810499906539917,0.3810499906539917,0.3810499906539917,0.21876999735832214,0.08991000056266785,0.12262000143527985,-0.34323999285697937,0.09898000210523605,-0.031029999256134033,-0.1560399979352951,-0.09057000279426575,-0.13962000608444214,-0.2605400085449219,-0.11636000126600266,0.29986000061035156,-0.2881399989128113,-0.17381000518798828,-0.10811000317335129,0.3590500056743622,0.3563399910926819,0.33908000588417053,0.3428199887275696,0.35440999269485474,0.3610000014305115,0.36059001088142395,0.3666999936103821,0.3691900074481964,0.3447200059890747,-0.37070000171661377,0.36513999104499817,0.22755999863147736,0.10284999758005142,0.160630002617836,0.0006200000061653554,-0.014870000071823597,-0.26552000641822815,-0.042010001838207245,0.2875699996948242,0.12857000529766083,0.2341800034046173,0.19402000308036804,0.2714900076389313,-0.3409700095653534,-0.34165000915527344,-0.35144999623298645,-0.34477999806404114,-0.3449000120162964,-0.3666299879550934,0.3810499906539917,0.3810499906539917,0.3810499906539917,0.3810499906539917,0.3810499906539917,0.3810499906539917,0.3810499906539917,0.3810499906539917,0.3810499906539917,-0.04814000055193901,-0.38100001215934753,0.3665199875831604,0.37351998686790466,0.37856000661849976,0.36772000789642334,0.3698500096797943,0.36030998826026917,0.3700000047683716,0.35857000946998596,-0.3403800129890442,0.3193899989128113,0.31373000144958496,0.1139800027012825,0.2983799874782562,-0.11153999716043472,0.2755100131034851,0.19008000195026398,0.015119999647140503,-0.22448000311851501,-0.1372399926185608,0.26194000244140625,0.2612000107765198,-0.3598800003528595,-0.3598800003528595,-0.3598800003528595,-0.3598800003528595,-0.3598800003528595,-0.3598800003528595,-0.3598800003528595,-0.3598800003528595,-0.36103999614715576,0.017969999462366104,-0.36134999990463257,0.3680399954319,-0.38058000802993774,-0.34804001450538635,0.305510014295578,0.3444800078868866,0.2971700131893158,0.015239999629557133,0.3400000035762787,-0.043480001389980316,0.3315100073814392,-0.06948000192642212,0.21581000089645386,-0.19836999475955963,0.1646600067615509,0.0931600034236908,-0.07957000285387039,-0.07317999750375748,0.049539998173713684,-0.18018999695777893,0.21870000660419464,0.1716800034046173,-0.05940999835729599,-0.21731999516487122,-0.18960000574588776,0.13895000517368317,0.32242000102996826,0.274399995803833,0.21532000601291656,0.19440999627113342,-0.02921999990940094,0.1325100064277649,0.23609000444412231,0.24404999613761902,0.23160000145435333,0.0028699999675154686,0.2104099988937378,0.22282999753952026,-0.3239400088787079,-0.004230000078678131,-0.0012400000123307109,0.06526000052690506,0.011309999972581863,0.04548000171780586,0.24804000556468964,0.14326000213623047,0.10547000169754028,0.2047400027513504,-0.18084000051021576,0.20633000135421753,0.26326999068260193,0.17741000652313232,-0.19248999655246735,-0.07951000332832336,0.11926999688148499,-0.11441999673843384,0.1265600025653839,0.20498999953269958,0.24345000088214874,0.18614999949932098,0.15253999829292297,0.21698999404907227,0.26438000798225403,0.3413200080394745,0.27880001068115234,0.14614999294281006,0.291949987411499,0.15761999785900116,0.2059900015592575,0.2964400053024292,-0.025210000574588776,0.14229999482631683,0.35409000515937805,0.275409996509552,-0.091839998960495,-0.12654000520706177,0.30785998702049255,0.2642799913883209,-0.2574099898338318,-0.04035999998450279,0.21774999797344208,0.2933799922466278,0.34825998544692993,0.3557099997997284,0.014639999717473984,-0.2204899936914444,0.2526699900627136,0.19798000156879425,-0.2405100017786026,-0.24619999527931213,-0.1305299997329712,0.3324800133705139,0.09905999898910522,-0.2837499976158142,-0.07231999933719635,0.013000000268220901,0.2645300030708313,0.27432000637054443,0.3499299883842468,0.21623000502586365,0.30195000767707825,-0.10790000110864639,-0.08991999924182892,0.24741999804973602,-0.15117999911308289,0.354669988155365,0.3058899939060211,-0.04267000034451485,-0.20352999866008759,0.27175000309944153,0.1688999980688095,0.12977999448776245,0.10876999795436859,-0.1393599957227707,0.062130000442266464,0.10599000006914139,0.08622000366449356,0.323419988155365,0.306549996137619,0.10796000063419342,0.1924699991941452,0.34323999285697937,0.06982000172138214,0.13804000616073608,0.13569000363349915,0.16875000298023224,0.04075000062584877,0.1527400016784668,0.3075299859046936,0.26260000467300415,0.35916998982429504,-0.025800000876188278,0.15286999940872192,-0.14082999527454376,0.041519999504089355,0.3525199890136719,0.11048000305891037,0.33493998646736145,-0.06418000161647797,0.09933999925851822,0.0478999987244606,0.3565100133419037,0.3357900083065033,0.07676000148057938,0.2124900072813034,0.23695999383926392,-0.16220000386238098,0.03612000122666359,0.2795400023460388,0.3237999975681305,0.34544000029563904,0.27733999490737915,-0.2145400047302246,0.23826000094413757,0.1261499971151352,-0.16463999450206757,-0.22006000578403473,0.266510009765625,0.13931000232696533,-0.09257999807596207,0.09821999818086624,0.3486199975013733,0.06956999748945236,0.13200999796390533,0.3190999925136566,-0.05640999972820282,0.2942500114440918,0.09330999851226807,0.2506299912929535,0.07692000269889832,0.20726999640464783,0.11428000032901764,0.24115000665187836,0.12396000325679779,0.1861799955368042,-0.08974000066518784,0.2848699986934662,0.2950200140476227,0.2961699962615967,0.3075000047683716,0.11856000125408173,-0.28022000193595886,-0.1993200033903122,0.03602999821305275,0.26438000798225403,-0.22620999813079834,0.27132999897003174,0.04826999828219414,0.151869997382164,0.3771199882030487,0.36517998576164246,0.365200012922287,0.3589099943637848,0.3566499948501587,0.3698199987411499,0.34389999508857727,0.3556399941444397,0.359499990940094,0.3772999942302704,0.3610999882221222,0.36542001366615295,0.3783299922943115,0.3737199902534485,0.3580299913883209,0.3810499906539917,0.3810499906539917,0.3810499906539917,0.3810499906539917,0.3810499906539917,0.3810499906539917,-0.3598800003528595,-0.3598800003528595,-0.3598800003528595,-0.3598800003528595,-0.3598800003528595,-0.3598800003528595,-0.3598800003528595,0.10683999955654144,-0.17506000399589539,-0.14485999941825867,-0.1886799931526184,-0.28797000646591187,-0.21185000240802765,-0.30788999795913696,-0.3187499940395355,0.3794499933719635,0.34014999866485596,-0.2017499953508377,0.07643000036478043,0.24143999814987183,-0.310699999332428,-0.13774000108242035,-0.1615999937057495,-0.30063000321388245,-0.16165000200271606,-0.3386699855327606,-0.0754299983382225,-0.08280999958515167,0.05779999867081642,-0.3695000112056732,0.3810499906539917,0.3810499906539917,0.3810499906539917,0.3810499906539917,0.3810499906539917,0.3810499906539917,-0.35238000750541687,-0.3645099997520447,-0.3712100088596344,-0.37244999408721924,-0.3772999942302704,-0.37327998876571655,-0.36869001388549805,-0.34318000078201294,-0.20032000541687012,0.1249300017952919,-0.09442999958992004,0.3264000117778778,0.29256999492645264,-0.1285099983215332,-0.29082998633384705,0.2953299880027771,-0.21961000561714172,0.21355000138282776,0.2762799859046936,-0.11932999640703201,0.27268001437187195,-0.017109999433159828,0.1905899941921234,-0.2598100006580353,0.33897000551223755,-0.3598800003528595,-0.3598800003528595,-0.3598800003528595,-0.3598800003528595,-0.3598800003528595,-0.3598800003528595,0.3407300114631653,-0.36869001388549805,-0.36531001329421997,0.3598800003528595,0.3598800003528595,0.3598800003528595,0.3598800003528595,0.3598800003528595,0.3598800003528595,0.3598800003528595,0.3437800109386444,0.3720099925994873,0.3747900128364563,0.3667899966239929,0.3785899877548218,0.3631399869918823,0.3750999867916107,0.37143000960350037,0.3453499972820282,-0.3684599995613098,0.32940998673439026,0.3153499960899353,-0.011479999870061874,-0.027089999988675117,-0.07249999791383743,-0.0066200001165270805,0.21012000739574432,-0.07244999706745148,-0.2281399965286255,-0.093469999730587,0.29374998807907104,-0.2147900015115738,-0.29618000984191895,0.23083999752998352,0.2980700135231018,0.14267000555992126,0.34108999371528625,0.32405999302864075,0.25867998600006104,-0.04355999827384949,0.029370000585913658,0.316540002822876,0.19518999755382538,0.17872999608516693,0.18002000451087952,0.07162000238895416,-0.010990000329911709,0.1389400064945221,0.20521000027656555,0.024399999529123306,-0.05959999933838844,0.11729999631643295,0.19397999346256256,0.3202100098133087,0.21703000366687775,0.3324100077152252,0.3046700060367584,-0.09200000017881393,0.24330000579357147,0.0434500016272068,0.33823999762535095,-0.130280002951622,0.2081799954175949,0.19922000169754028,0.1708499938249588,0.005369999911636114,0.23580999672412872,0.038600001484155655,0.035349998623132706,0.07794000208377838,0.22240999341011047,-0.12131000310182571,0.17639000713825226,0.33024999499320984,0.2551800012588501,0.335860013961792,-0.020190000534057617,-0.06968999654054642,0.34560999274253845,-0.0342399999499321,0.18271000683307648,0.13423000276088715,0.20037999749183655,-0.1433500051498413,0.2894900143146515,0.31266000866889954,-0.2691600024700165,-0.0993800014257431,0.11894000321626663,0.20778000354766846,-0.2011999934911728,0.22742000222206116,0.15240000188350677,0.3095000088214874,0.1885800063610077,-0.04197999835014343,0.05494000017642975,0.04238000139594078,-0.015599999576807022,-0.09367000311613083,-0.17112000286579132,0.25540000200271606,0.33153998851776123,0.1301400065422058,0.1676499992609024,0.08314000070095062,0.14229999482631683,0.29225000739097595,0.1514900028705597,0.0739699974656105,0.027990000322461128,0.32592999935150146,0.3266499936580658,0.28595998883247375,0.3109999895095825,0.2488500028848648,0.3381800055503845,0.3559400141239166,0.06903000175952911,-0.15310999751091003,-0.15746000409126282,0.2999100089073181,0.046790000051259995,0.1845099925994873,0.006909999996423721,0.06377000361680984,0.2508600056171417,0.0746999979019165,-0.061489999294281006,0.029260000213980675,0.17587000131607056,0.32043999433517456,0.32592999935150146,0.18907000124454498,-0.01271000038832426,-0.14151999354362488,-0.18499000370502472,0.17790000140666962,-0.03821999952197075,0.33796998858451843,-0.09047999978065491,0.32997000217437744,0.3312000036239624,0.003869999898597598,0.06855999678373337,0.20664000511169434,0.32343998551368713,0.14093999564647675,0.10540000349283218,0.028349999338388443,0.3168700039386749,-0.026820000261068344,0.34564998745918274,0.25433000922203064,0.16248999536037445,0.21999000012874603,-0.3161599934101105,0.20264999568462372,0.1297300010919571,0.3391300141811371,0.11270000040531158,0.2419700026512146,0.22925999760627747,0.12150999903678894,0.27573999762535095,0.003060000017285347,0.33910998702049255,0.15661999583244324,0.3020099997520447,-0.09736000001430511,0.26350000500679016,0.068060003221035,-0.1154400035738945,-0.1613599956035614,0.2722100019454956,0.3243800103664398,0.3011699914932251,0.13882000744342804,0.32260000705718994,0.2528800070285797,0.06620000302791595,0.20292000472545624,-0.3809399902820587,0.37994998693466187,0.3780600130558014,0.3652699887752533,0.3715499937534332,-0.3387100100517273,-0.3387100100517273,-0.3387100100517273,-0.3387100100517273,-0.3387100100517273,-0.3387100100517273,-0.3387100100517273,-0.3387100100517273,-0.37915998697280884,-0.3804199993610382,-0.3782599866390228,-0.3478800058364868,-0.3744800090789795,-0.3723500072956085,-0.3675599992275238,-0.3739500045776367,-0.36871999502182007,-0.3694800138473511,-0.36149001121520996,0.35141000151634216,0.35141000151634216,0.35141000151634216,0.35141000151634216,0.35141000151634216,0.35141000151634216,0.04828000068664551,-0.3402799963951111,-0.37744998931884766,-0.37443000078201294,-0.12185999751091003,0.3390200138092041,0.3430899977684021,0.3415200114250183,0.3543199896812439,0.36348000168800354,0.34929001331329346,0.3684299886226654,0.36640000343322754,0.35519999265670776,0.3377000093460083,0.38086000084877014,-0.3456000089645386,-0.3387100100517273,0.3387100100517273,0.3387100100517273,0.3387100100517273,0.3387100100517273,0.3387100100517273,0.3387100100517273,0.3387100100517273,0.3387100100517273,0.3808799982070923,-0.3267599940299988,-0.34071001410484314,-0.35141000151634216,-0.35141000151634216,-0.35141000151634216,-0.35141000151634216,-0.35141000151634216,-0.35141000151634216,0.37297001481056213,-0.34718000888824463,-0.37560001015663147,-0.34498998522758484,-0.35041001439094543,-0.3668699860572815,-0.3435100018978119,-0.3493100106716156,-0.34977999329566956,0.3387100100517273,0.3387100100517273,0.3387100100517273,0.3387100100517273,0.3387100100517273,0.3387100100517273,0.3387100100517273,0.35745999217033386,0.3553900122642517,0.35117998719215393,0.34817999601364136,0.3448599874973297,0.35587000846862793,0.36096999049186707,0.34209999442100525,0.37042000889778137,0.34303998947143555,-0.08247999846935272,-0.023730000481009483,0.08219999819993973,-0.33489999175071716,0.13312000036239624,-0.37626001238822937,-0.1062299981713295,0.0007300000288523734,0.3791700005531311,-0.3810499906539917,-0.3810499906539917,-0.3810499906539917,-0.3810499906539917,-0.3810499906539917,-0.3810499906539917,-0.3810499906539917,-0.3810499906539917,-0.3810499906539917,-0.3810499906539917,-0.3810499906539917,0.274619996547699,0.34303998947143555,0.09459000080823898,0.15479999780654907,-0.36948999762535095,0.2560499906539917,0.011490000411868095,0.34961000084877014,0.36155998706817627,0.35701000690460205,0.3761399984359741,0.3647899925708771,0.35534998774528503,0.36807000637054443,0.3788599967956543,0.36937999725341797,-0.37494999170303345,-0.370059996843338,-0.3641200065612793,-0.3753899931907654,0.2110700011253357,-0.36588001251220703,0.35141000151634216,0.35141000151634216,0.35141000151634216,0.35141000151634216,0.35141000151634216,0.35141000151634216,-0.31442001461982727,0.018950000405311584,0.049070000648498535,-0.19156000018119812,-0.16128000617027283,0.10538999736309052,-0.19904999434947968,-0.03348999843001366,-0.357479989528656,-0.31578999757766724,0.04944000020623207,0.1527400016784668,-0.2654399871826172,-0.27402999997138977,0.01496999990195036,0.12714000046253204,-0.28025999665260315,0.2032500058412552,-0.07229000329971313,-0.019689999520778656,-0.29006001353263855,-0.20972000062465668,-0.35179001092910767,-0.3575499951839447,-0.35343998670578003,-0.3480300009250641,-0.35262998938560486,-0.35242998600006104,-0.34929999709129333,-0.343639999628067,-0.342629998922348,0.3390200138092041,-0.35141000151634216,-0.35141000151634216,-0.35141000151634216,-0.35141000151634216,-0.35141000151634216,-0.35141000151634216,-0.35141000151634216,0.28014999628067017,-0.05964000150561333,-0.05265999957919121,0.14635999500751495,-0.16503000259399414,-0.17117999494075775,0.030220000073313713,-0.25439000129699707,-0.358489990234375,-0.2950200140476227,0.287339985370636,0.13368000090122223,0.30500999093055725,-0.18208999931812286,-0.26649001240730286,-0.10070999711751938,-0.2777099907398224,-0.17011000216007233,-0.3215999901294708,-0.3365100026130676,-0.31452998518943787,-0.03053000010550022,-0.3221200108528137,-0.031190000474452972,-0.30581000447273254,-0.17688000202178955,-0.2878600060939789,0.07407999783754349,0.11542999744415283,0.0036700000055134296,-0.08143000304698944,0.07574000209569931,-0.15211999416351318,-0.014499999582767487,0.13766999542713165,-0.3008800148963928,-0.1430100053548813,-0.3501099944114685,-0.010099999606609344,-0.3235799968242645,-0.2396399974822998,-0.35705000162124634,-0.3573099970817566,-0.21496999263763428,-0.21536999940872192,-0.07552000135183334,-0.19565999507904053,-0.22235000133514404,0.13007999956607819,0.12554000318050385,-0.0021299999207258224,-0.35819000005722046,0.13395999372005463,-0.20985999703407288,-0.017400000244379044,-0.20582999289035797,-0.13450999557971954,0.01998000033199787,-0.2662999927997589,0.26763999462127686,0.20740999281406403,-0.21431000530719757,-0.2973800003528595,-0.34871000051498413,-0.034129999577999115,0.22337999939918518,-0.2437400072813034,-0.32363998889923096,-0.07789000123739243,-0.23520000278949738,-0.1976899951696396,-0.2484399974346161,-0.3287599980831146,-0.19314000010490417,-0.3002299964427948,0.00041000000783242285,0.06897000223398209,-0.047520000487565994,-0.1671600043773651,0.20266999304294586,-0.06503000110387802,-0.09910000115633011,-0.22404000163078308,0.04030999913811684,0.03943999856710434,-0.34575000405311584,-0.020659999921917915,-0.27250999212265015,-0.034170001745224,0.09431000053882599,-0.13644999265670776,0.20889000594615936,-0.08962000161409378,-0.31828999519348145,-0.23366999626159668,0.06194999814033508,0.22788000106811523,-0.30967000126838684,-0.16203999519348145,-0.16696999967098236,-0.3272300064563751,-0.06515999883413315,0.3066900074481964,-0.25635001063346863,-0.3341600000858307,-0.09880000352859497,-0.03869999945163727,-0.08748999983072281,0.2519899904727936,-0.05265999957919121,-0.26563000679016113,-0.1291700005531311,-0.3189300000667572,-0.3359200060367584,-0.3093099892139435,-0.15756000578403473,0.1832199990749359,-0.07354000210762024,-0.1006999984383583,-0.35604000091552734,-0.3212699890136719,-0.33296000957489014,0.08299999684095383,-0.1036200001835823,-0.3585500121116638,0.11546999961137772,-0.19697999954223633,-0.16461999714374542,-0.19022999703884125,-0.2372400015592575,0.023900000378489494,-0.1003199964761734,-0.047529999166727066,-0.07485999912023544,-0.11311999708414078,0.0017900000093504786,-0.08203999698162079,-0.17398999631404877,-0.35304000973701477,-0.10066000372171402,-0.2917400002479553,-0.1170400008559227,-0.1320199966430664,0.21547000110149384,0.23781999945640564,0.08857999742031097,-0.19844000041484833,0.08154000341892242,-0.2077299952507019,0.21367000043392181,-0.3503899872303009,-0.25042998790740967,0.023819999769330025,-0.1425199955701828,-0.23058000206947327,-0.31290000677108765,-0.30070000886917114,-0.221220001578331,-0.0478300005197525,-0.10578999668359756,0.04188999906182289,-0.2739199995994568,-0.29767000675201416,0.15076999366283417,0.0545400008559227,-0.01686999946832657,-0.3461399972438812,0.14071999490261078,-0.04665999859571457,-0.3535799980163574,-0.35927000641822815,0.20397000014781952,-0.1386999934911728,0.23397000133991241,-0.26093000173568726,0.3465299904346466,0.3454900085926056,0.3501099944114685,0.3583199977874756,0.3611699938774109,0.354669988155365,0.35673999786376953,0.34391000866889954,0.35534998774528503,-0.35141000151634216,-0.35141000151634216,-0.35141000151634216,-0.35141000151634216,-0.35141000151634216,-0.35141000151634216,-0.355569988489151,-0.3810099959373474,0.11665999889373779,0.3387100100517273,0.3387100100517273,0.3387100100517273,0.3387100100517273,0.3387100100517273,0.3387100100517273,-0.3810499906539917,-0.3810499906539917,-0.3810499906539917,-0.3810499906539917,-0.3810499906539917,0.3810499906539917,0.3810499906539917,0.3810499906539917,0.3810499906539917,0.3810499906539917,0.3810499906539917,0.3810499906539917,0.3810499906539917,0.3810499906539917,0.3288800120353699,0.2819199860095978,-0.02092999964952469,0.31797000765800476,0.1113400012254715,0.14922000467777252,0.32537999749183655,-0.1436000019311905,0.14036999642848969,-0.10786999762058258,0.25593000650405884,-0.37685999274253845,-0.3676300048828125,-0.35225000977516174,-0.37713998556137085,-0.3701399862766266,-0.35916000604629517,-0.36118999123573303,-0.36987999081611633,-0.37727999687194824,0.3810499906539917,0.3810499906539917,0.3810499906539917,0.3810499906539917,0.3810499906539917,0.3810499906539917,0.3810499906539917,0.3810499906539917,0.38023999333381653,-0.37373000383377075,-0.3387799859046936,-0.35561999678611755,-0.34341999888420105,-0.3544299900531769,-0.35175999999046326,-0.3660700023174286,-0.34606999158859253,-0.35464000701904297,-0.3387100100517273,-0.3387100100517273,-0.3387100100517273,-0.3387100100517273,-0.3387100100517273,-0.3387100100517273,-0.3387100100517273,-0.3387100100517273,0.36823999881744385,0.3561899960041046,0.35857999324798584,0.029200000688433647,-0.3474699854850769,-0.3023500144481659,-0.05841999873518944,-0.29322001338005066,-0.2151300013065338,-0.20081999897956848,0.16256000101566315,0.02711999975144863,-0.1003900021314621,-0.044849999248981476,-0.35161998867988586,0.10147000104188919,0.03313000127673149,-0.09668000042438507,-0.23765000700950623,-0.3734300136566162,-0.0487699992954731,0.15761999785900116,-0.32936999201774597,-0.1544799953699112,0.2683500051498413,-0.33507001399993896,-0.3163599967956543,-0.2630400061607361,-0.28843000531196594,0.046709999442100525,-0.30842000246047974,-0.10997000336647034,-0.26673999428749084,0.13075999915599823,-0.19526000320911407,0.19774000346660614,-0.3292900025844574,-0.3074899911880493,-0.3278299868106842,-0.25325000286102295,-0.3298799991607666,-0.24533000588417053,-0.3514400124549866,-0.2529999911785126,0.09431000053882599,0.006409999914467335,-0.07276000082492828,-0.3017300069332123,-0.16268999874591827,-0.17329999804496765,-0.16588999330997467,-0.07614000141620636,-0.04811999946832657,-0.16952000558376312,-0.058789998292922974,-0.15990999341011047,-0.09128999710083008,0.12483000010251999,-0.06996999680995941,-0.27379000186920166,0.0744900032877922,-0.054420001804828644,-0.11868000030517578,-0.19972999393939972,-0.3194499909877777,0.035739999264478683,-0.14330999553203583,-0.11722999811172485,-0.033319998532533646,-0.35745999217033386,-0.37494999170303345,0.054979998618364334,0.03911000117659569,-0.3230400085449219,-0.22202999889850616,-0.36427000164985657,-0.0514799989759922,-0.3174799978733063,-0.22542999684810638,0.124549999833107,0.14833000302314758,-0.24205000698566437,-0.18925000727176666,-0.3654400110244751,-0.05770000070333481,0.20321999490261078,0.1327899992465973,-0.12987999618053436,-0.19970999658107758,0.0364300012588501,-0.33090001344680786,-0.17268000543117523,-0.05751999840140343,0.10919000208377838,-0.2747899889945984,-0.29232001304626465,-0.015200000256299973,0.0013200000394135714,-0.37665998935699463,0.10918000340461731,-0.27305999398231506,-0.054249998182058334,-0.07182999700307846,-0.32300999760627747,-0.018069999292492867,-0.2175700068473816,-0.2391200065612793,-0.05770000070333481,0.12740999460220337,-0.1128000020980835,-0.12428999692201614,-0.1855199933052063,-0.25995001196861267,-0.30173999071121216,0.0594400018453598,-0.16572999954223633,-0.09775999933481216,0.21040000021457672,-0.331279993057251,-0.36344999074935913,-0.2890700101852417,0.09241999685764313,-0.25885000824928284,-0.23465999960899353,-0.1766500025987625,-0.2841399908065796,-0.3608500063419342,-0.19964000582695007,-0.20397000014781952,-0.26642999053001404,-0.32548999786376953,-0.11168999969959259,-0.18682999908924103,0.03677000105381012,-0.2616400122642517,-0.2626500129699707,-0.03779999911785126,-0.31894001364707947,0.08913999795913696,0.1425500065088272,-0.18007999658584595,0.1824900060892105,-0.07079999893903732,0.06724999845027924,-0.13565999269485474,0.03677000105381012,-0.3787199854850769,-0.2880699932575226,-0.3666900098323822,0.13110999763011932,-0.15605999529361725,-0.10550999641418457,-0.31345000863075256,0.10385999828577042,-0.15634000301361084,-0.13968999683856964,-0.3108299970626831,0.04899999871850014,-0.298770010471344,-0.30768999457359314,-0.08019000291824341,-0.34683001041412354,-0.1475600004196167,-0.3562900125980377,0.1331299990415573,0.037370000034570694,0.20972000062465668,-0.06684999912977219,-0.2543500065803528,0.3265399932861328,-0.08128999918699265,-0.18207000195980072,-0.2503899931907654,0.053700000047683716,-0.14555999636650085,0.08656000345945358,-0.10565999895334244,-0.09279000014066696,-0.17779000103473663,-0.2551099956035614,-0.3241199851036072,0.2598699927330017,-0.06949000060558319,0.15101000666618347,-0.0935399979352951,0.07970000058412552,0.05942000076174736,-0.07525999844074249,-0.36217001080513,-0.20993000268936157,-0.1576700061559677,-0.3550199866294861,-0.1717900037765503,-0.3582899868488312,0.24607999622821808,-0.22032999992370605,-0.14236000180244446,0.3652999997138977,-0.35234999656677246,-0.3583599925041199,0.3713800013065338,0.3685300052165985,0.2957899868488312,-0.02677999995648861,-0.3277899920940399,0.3108299970626831,0.3771600127220154,-0.2585799992084503,-0.06757000088691711,-0.24973000586032867,-0.11253000050783157,-0.37518998980522156,-0.36862999200820923,-0.31922999024391174,-0.10006000101566315,-0.3387100100517273,0.38051000237464905,-0.24305999279022217,-0.14541000127792358,-0.3240300118923187,0.04893999919295311,-0.3569599986076355,0.35436999797821045,0.1902099996805191,0.19950999319553375,-0.35141000151634216,-0.35141000151634216,-0.35141000151634216,-0.35141000151634216,-0.35141000151634216,-0.35141000151634216,-0.35141000151634216,0.2558099925518036,-0.36807000637054443,-0.37669000029563904,-0.3606700003147125,-0.367900013923645,-0.35839998722076416,-0.3571299910545349,-0.3637999892234802,-0.3387100100517273,-0.3387100100517273,-0.3387100100517273,-0.3387100100517273,-0.3387100100517273,-0.3387100100517273,-0.3387100100517273,-0.3387100100517273,-0.3387100100517273,0.3387100100517273,0.3387100100517273,0.3387100100517273,0.3387100100517273,0.3387100100517273,0.3387100100517273,0.3387100100517273,0.3387100100517273,0.3387100100517273,0.23508000373840332,-0.270579993724823,0.14940999448299408,0.15146000683307648,-0.3314000070095062,-0.04521999880671501,-0.0689300000667572,0.052400000393390656,-0.34244000911712646,-0.16672000288963318,0.03285999968647957,-0.13287000358104706,-0.17636999487876892,-0.2988399863243103,-0.17705999314785004,0.10312999784946442,-0.05000999942421913,-0.33191999793052673,-0.3185099959373474,0.2055100053548813,-0.3179300129413605,0.06233999878168106,-0.3061099946498871,-0.008080000057816505,0.37900999188423157,0.38095998764038086,-0.23079000413417816,-0.20632000267505646,-0.10384000092744827,-0.030549999326467514,-0.2718699872493744,-0.23941999673843384,0.11946000158786774,-0.01688000001013279,-0.28101998567581177,0.35284000635147095,-0.12826000154018402,-0.23444999754428864,0.16699999570846558,-0.36719000339508057,-0.3810499906539917,-0.3810499906539917,-0.3810499906539917,-0.3810499906539917,-0.3810499906539917,-0.3810499906539917,-0.37902000546455383,-0.09836000204086304,0.35363999009132385,0.35141000151634216,0.35141000151634216,0.35141000151634216,0.35141000151634216,0.35141000151634216,0.35141000151634216,0.35141000151634216,0.3806400001049042,-0.3747600018978119,-0.3641799986362457,-0.3750399947166443,-0.3569999933242798,-0.3633599877357483,-0.36594000458717346,0.33959999680519104,0.1465499997138977,-0.3387100100517273,-0.3387100100517273,-0.3387100100517273,-0.3387100100517273,-0.3387100100517273,0.22281000018119812,0.3598800003528595,0.3598800003528595,0.3598800003528595,0.3598800003528595,0.3598800003528595,0.3598800003528595,0.3598800003528595,0.3759300112724304,0.37240999937057495,0.3777199983596802,0.3746199905872345,-0.35749000310897827,-0.3577899932861328,0.05505000054836273,0.1798900067806244,0.30834999680519104,0.13056999444961548,0.3575800061225891,0.3161799907684326,0.37630999088287354,0.017669999971985817,0.1429000049829483,0.2910099923610687,0.13145999610424042,0.25178998708724976,0.3691299855709076,0.3677000105381012,0.36838001012802124,0.3711099922657013,0.3584200143814087,0.3758699893951416,0.3743000030517578,0.3594599962234497,-0.15353000164031982,-0.3387100100517273,-0.3387100100517273,-0.3387100100517273,-0.3387100100517273,-0.3387100100517273,-0.3387100100517273,-0.3387100100517273,-0.3387100100517273,-0.3387100100517273,-0.3773399889469147,-0.3810499906539917,-0.3810499906539917,-0.3810499906539917,-0.3810499906539917,-0.3810499906539917,-0.3810499906539917,-0.23904000222682953,0.10264000296592712,-0.30136001110076904,0.011979999952018261,0.3810499906539917,0.3810499906539917,0.3810499906539917,0.3810499906539917,0.3810499906539917,0.3810499906539917,0.3810499906539917,0.2868500053882599,0.3597399890422821,0.35694000124931335,0.3576900064945221,-0.054919999092817307,0.11461000144481659,0.09386000037193298,0.015690000727772713,0.2842499911785126,0.1865299940109253,0.16067999601364136,0.23815999925136566,0.09870000183582306,0.15818999707698822,-0.07553000003099442,0.35168999433517456,0.03782999888062477,0.3637999892234802,-0.15181000530719757,0.1579899936914444,0.26662999391555786,0.03666999936103821,0.2514500021934509,-0.02135000005364418,0.14665000140666962,0.11166000366210938,0.36708998680114746,0.3335700035095215,0.046300001442432404,0.3131999969482422,0.30956000089645386,0.278439998626709,0.18653999269008636,0.2857300043106079,0.20333999395370483,0.0933300033211708,0.06202000007033348,0.0772399976849556,0.3461500108242035,0.11602000147104263,0.29423001408576965,0.28543001413345337,0.12338999658823013,0.26405999064445496,0.1298000067472458,0.27204999327659607,-0.02435999922454357,0.27206000685691833,0.3684999942779541,0.34294000267982483,0.19752000272274017,0.016289999708533287,0.04197999835014343,0.32666999101638794,0.16707000136375427,-0.10764999687671661,0.2545500099658966,0.0926399976015091,0.3090299963951111,0.2825399935245514,0.1809300035238266,0.1774899959564209,-0.03658000007271767,0.3674600124359131,0.051830001175403595,0.34435001015663147,0.1373099982738495,0.32374998927116394,-0.15345999598503113,0.21112999320030212,-0.13395999372005463,-0.1992499977350235,0.020360000431537628,0.25321999192237854,-0.00953999999910593,0.1720999926328659,0.02841000072658062,0.21981999278068542,0.06165999919176102,-0.07337000221014023,0.053289998322725296,-0.3328700065612793,-0.09476999938488007,-0.007300000172108412,0.17547999322414398,-0.01460999995470047,-0.1169700026512146,0.3618899881839752,0.0732399970293045,0.1595499962568283,0.22084000706672668,0.27147001028060913,-0.15444999933242798,0.23691999912261963,0.05609000101685524,0.3048099875450134,0.21010999381542206,-0.28828001022338867,-0.018559999763965607,0.1028200015425682,0.022019999101758003,0.3040800094604492,0.10063999891281128,0.13409000635147095,0.24535000324249268,0.22111999988555908,-0.005470000207424164,0.098580002784729,-0.12400999665260315,-0.17246000468730927,0.20795999467372894,0.32767000794410706,0.12926000356674194,-0.06589999794960022,-0.007439999841153622,0.07947000116109848,-0.11648000031709671,0.14077000319957733,0.3660300076007843,-0.12104000151157379,0.2987000048160553,0.10808999836444855,0.2453099936246872,0.11507000029087067,-0.002630000002682209,0.23191000521183014,0.15918999910354614,0.045010000467300415,-0.19255000352859497,0.23520000278949738,0.28435999155044556,-0.2169400006532669,-0.07855000346899033,0.0643099993467331,0.18006999790668488,0.270579993724823,0.3537200093269348,0.10148999840021133,0.0644799992442131,0.19483999907970428,0.21509000658988953,-0.28167998790740967,0.3637099862098694,-0.2372799962759018,0.1266999989748001,0.16272999346256256,0.2542699873447418,0.20202000439167023,-0.32850000262260437,0.22764000296592712,-0.0021299999207258224,0.18150000274181366,0.23013000190258026,0.01372000016272068,0.24558000266551971,0.05816999822854996,0.2517699897289276,-0.3116300106048584,0.014270000159740448,0.02841999940574169,-0.023679999634623528,0.1650400012731552,0.157260000705719,-0.31356000900268555,-0.004600000102072954,0.26677998900413513,0.01384000014513731,0.2588199973106384,0.02768000029027462,0.26440000534057617,-0.2096100002527237,-0.012129999697208405,0.09386999905109406,0.16040000319480896,0.3497999906539917,0.010300000198185444,-0.26736000180244446,0.37533000111579895,-0.13925999402999878,0.2633199989795685,-0.1046300008893013,-0.022609999403357506,0.03646000102162361,0.11833000183105469,0.2547599971294403,-0.3352400064468384,-0.023730000481009483,0.3678399920463562,-0.22630000114440918,0.2829500138759613,0.15185999870300293,0.2283399999141693,-0.056710001081228256,0.1659799963235855,0.34977999329566956,0.3451499938964844,0.24448999762535095,0.15000000596046448,-0.2531299889087677,0.19327999651432037,0.23327000439167023,-0.18717999756336212,0.164900004863739,0.38016000390052795,0.37553998827934265,-0.3810499906539917,-0.3810499906539917,-0.3810499906539917,-0.3810499906539917,-0.3810499906539917,-0.3810499906539917,-0.3810499906539917,-0.3810499906539917,-0.12660999596118927,0.16795000433921814,0.058240000158548355,0.26923999190330505,0.02889999933540821,-0.024310000240802765,0.1884700059890747,0.3001500070095062,0.35444000363349915,0.3719800114631653,0.3716999888420105,0.3731200098991394,0.3746800124645233,0.37696000933647156,0.34727001190185547,-0.3790299892425537,-0.14805999398231506,-0.08068999648094177,-0.29954999685287476,-0.26212000846862793,-0.10471999645233154,-0.15018999576568604,0.1244800016283989,-0.22662000358104706,-0.1891299933195114,-0.07817000150680542,0.058010000735521317,-0.15680000185966492,-0.3231799900531769,-0.2679400146007538,-0.12496999651193619,-0.12020000070333481,-0.2083899974822998,0.19446000456809998,-0.03214000165462494,-0.21229000389575958,0.006279999855905771,0.1991499960422516,-0.28953999280929565,0.045159999281167984,-0.2534399926662445,-0.018219999969005585,0.02419999986886978,-0.313400000333786,-0.29440999031066895,-0.089819997549057,0.18639999628067017,0.17691999673843384,-0.28044000267982483,-0.045729998499155045,0.06145000085234642,-0.33781999349594116,-0.2797900140285492,-0.03181000053882599,-0.2154500037431717,0.061000000685453415,-0.09352999925613403,-0.31442999839782715,-0.3395499885082245,-0.030409999191761017,-0.20890000462532043,-0.26438000798225403,0.16221000254154205,-0.2839899957180023,-0.2308100014925003,-0.28692999482154846,0.16843000054359436,0.0013699999544769526,-0.02873999997973442,0.14030000567436218,-0.1830199956893921,-0.3487299978733063,-0.1850699931383133,-0.25525999069213867,-0.0014700000174343586,0.04554999992251396,0.17728999257087708,0.15147000551223755,0.09968999773263931,0.0053400001488626,-0.2790899872779846,-0.3570300042629242,0.17462000250816345,-0.2756800055503845,-0.29499000310897827,0.23163999617099762,-0.05375000089406967,-0.12477999925613403,-0.3093299865722656,-0.11084999889135361,-0.16504999995231628,-0.2260199934244156,-0.09769999980926514,0.036090001463890076,-0.2839600145816803,-0.1358100026845932,-0.013170000165700912,-0.1424199938774109,0.12841999530792236,-0.29563000798225403,-0.013939999975264072,-0.3590199947357178,-0.3287700116634369,-0.271369993686676,0.06241999939084053,-0.20577000081539154,-0.2554500102996826,-0.03359000012278557,0.30469998717308044,-0.18569999933242798,-0.27417001128196716,-0.13425999879837036,-0.31088998913764954,-0.2700499892234802,0.12309999763965607,-0.18898999691009521,-0.023579999804496765,-0.1804800033569336,-0.2699199914932251,-0.326200008392334,-0.05502999946475029,-0.2872200012207031,-0.2796199917793274,-0.23767000436782837,-0.24963000416755676,-0.035009998828172684,-0.3464899957180023,-0.13370999693870544,-0.001290000043809414,-0.15148000419139862,0.09122999757528305,0.07774999737739563,0.08709999918937683,-0.2559399902820587,-0.1892399936914444,-0.07588999718427658,-0.010929999873042107,0.07998000085353851,-0.07215999811887741,-0.33956998586654663,0.2610599994659424,0.07208000123500824,-0.1329900026321411,0.09065999835729599,0.16696999967098236,0.28071001172065735,0.07773999869823456,-0.22428999841213226,-0.05561000108718872,0.08218000084161758,-0.34768998622894287,0.1318099945783615,-0.21807999908924103,-0.2237599939107895,-0.35220998525619507,-0.3364599943161011,-0.2476000040769577,-0.3317500054836273,0.031369999051094055,-0.11930999904870987,0.04098999872803688,-0.2963399887084961,0.056540001183748245,-0.1420699954032898,-0.11686000227928162,-0.23161999881267548,-0.14059999585151672,-0.06954000145196915,0.03587000072002411,0.05826999992132187,0.005330000072717667,-0.2602800130844116,-0.1271200031042099,-0.036720000207424164,0.15725000202655792,-0.1865600049495697,0.09576000273227692,-0.2687999904155731,-0.05618000030517578,0.0628499984741211,-0.31894999742507935,0.3605400025844574,-0.1072700023651123,0.14114999771118164,-0.3810499906539917,-0.3810499906539917,-0.3810499906539917,-0.3810499906539917,-0.3810499906539917,-0.3810499906539917,-0.3810499906539917,-0.33882999420166016,0.3810499906539917,0.3810499906539917,0.3810499906539917,0.3810499906539917,0.3810499906539917,0.3810499906539917,0.3810499906539917,-0.013629999943077564,0.10784000158309937,-0.05550999939441681,0.15734000504016876,0.32600998878479004,0.09393999725580215,0.29135000705718994,0.2560099959373474,0.016090000048279762,0.21233999729156494,0.043779999017715454,-0.3810499906539917,-0.3810499906539917,-0.3810499906539917,-0.3810499906539917,-0.3810499906539917,-0.3810499906539917,-0.3810499906539917,-0.3810499906539917,-0.3810499906539917,0.37915000319480896,-0.3810499906539917,-0.3810499906539917,-0.3810499906539917,-0.3810499906539917,-0.3810499906539917,-0.3810499906539917,-0.3810499906539917,-0.2773599922657013,0.35069000720977783,-0.38016000390052795,-0.3387100100517273,-0.3387100100517273,-0.3387100100517273,-0.3387100100517273,-0.3387100100517273,-0.3387100100517273,-0.3387100100517273,-0.3810499906539917,-0.3810499906539917,-0.3810499906539917,-0.3810499906539917,-0.3810499906539917,-0.3810499906539917,-0.3810499906539917,0.19693000614643097,0.3672400116920471,0.3415600061416626,0.3540399968624115,0.35447001457214355,0.3597800135612488,0.3504300117492676,0.3597699999809265,0.3622500002384186,0.15573999285697937,0.14168000221252441,0.31518998742103577,-0.11299999803304672,0.1604900062084198,0.024739999324083328,0.24381999671459198,-0.03596000000834465,0.18407000601291656,0.33138999342918396,0.20779000222682953,0.3598800003528595,0.3598800003528595,0.3598800003528595,0.3598800003528595,0.3598800003528595,0.3598800003528595,0.3598800003528595,0.0430000014603138,-0.026639999821782112,-0.14921000599861145,0.06818000227212906,0.2266799956560135,-0.04975999891757965,-0.37233999371528625,0.37011998891830444,-0.09196999669075012,-0.3663400113582611,0.23161999881267548,0.2639800012111664,0.14284999668598175,0.35537999868392944,-0.24199999868869781,0.33382999897003174,-0.14076000452041626,0.32580000162124634,-0.34828001260757446,-0.35389000177383423,-0.37259000539779663,-0.3702299892902374,-0.376120001077652,-0.37356001138687134,-0.3569999933242798,-0.35385000705718994,-0.3592599928379059,-0.03979000076651573,-0.3387100100517273,-0.3387100100517273,-0.3387100100517273,-0.3387100100517273,-0.3387100100517273,-0.3387100100517273,-0.3387100100517273,-0.37544000148773193,-0.3540399968624115,-0.34975001215934753,-0.34804999828338623,-0.3700900077819824,-0.37735000252723694,-0.37575000524520874,-0.3574399948120117,0.133760005235672,0.24779999256134033,0.06317999958992004,-0.05933000147342682,0.3795599937438965,0.3810499906539917,0.3810499906539917,0.3810499906539917,0.3810499906539917,0.3810499906539917,0.3810499906539917,0.3810499906539917,0.33917999267578125,0.3810499906539917,0.3810499906539917,0.3810499906539917,0.3810499906539917,0.3810499906539917,0.29638999700546265,0.006200000178068876,0.15992000699043274,0.15331000089645386,-0.13887999951839447,-0.1204100027680397,0.1785700023174286,0.2626500129699707,0.19915999472141266,-0.09549999982118607,0.12389999628067017,-0.02761000022292137,0.2503100037574768,0.16088999807834625,0.3598800003528595,0.3598800003528595,0.3598800003528595,0.3598800003528595,0.3598800003528595,0.3598800003528595,0.3598800003528595,-0.3645099997520447,-0.36239999532699585,-0.35433000326156616,-0.3580099940299988,-0.37595999240875244,-0.3778499960899353,-0.3781999945640564],\"type\":\"scatter3d\"}],                        {\"template\":{\"data\":{\"bar\":[{\"error_x\":{\"color\":\"#2a3f5f\"},\"error_y\":{\"color\":\"#2a3f5f\"},\"marker\":{\"line\":{\"color\":\"#E5ECF6\",\"width\":0.5},\"pattern\":{\"fillmode\":\"overlay\",\"size\":10,\"solidity\":0.2}},\"type\":\"bar\"}],\"barpolar\":[{\"marker\":{\"line\":{\"color\":\"#E5ECF6\",\"width\":0.5},\"pattern\":{\"fillmode\":\"overlay\",\"size\":10,\"solidity\":0.2}},\"type\":\"barpolar\"}],\"carpet\":[{\"aaxis\":{\"endlinecolor\":\"#2a3f5f\",\"gridcolor\":\"white\",\"linecolor\":\"white\",\"minorgridcolor\":\"white\",\"startlinecolor\":\"#2a3f5f\"},\"baxis\":{\"endlinecolor\":\"#2a3f5f\",\"gridcolor\":\"white\",\"linecolor\":\"white\",\"minorgridcolor\":\"white\",\"startlinecolor\":\"#2a3f5f\"},\"type\":\"carpet\"}],\"choropleth\":[{\"colorbar\":{\"outlinewidth\":0,\"ticks\":\"\"},\"type\":\"choropleth\"}],\"contour\":[{\"colorbar\":{\"outlinewidth\":0,\"ticks\":\"\"},\"colorscale\":[[0.0,\"#0d0887\"],[0.1111111111111111,\"#46039f\"],[0.2222222222222222,\"#7201a8\"],[0.3333333333333333,\"#9c179e\"],[0.4444444444444444,\"#bd3786\"],[0.5555555555555556,\"#d8576b\"],[0.6666666666666666,\"#ed7953\"],[0.7777777777777778,\"#fb9f3a\"],[0.8888888888888888,\"#fdca26\"],[1.0,\"#f0f921\"]],\"type\":\"contour\"}],\"contourcarpet\":[{\"colorbar\":{\"outlinewidth\":0,\"ticks\":\"\"},\"type\":\"contourcarpet\"}],\"heatmap\":[{\"colorbar\":{\"outlinewidth\":0,\"ticks\":\"\"},\"colorscale\":[[0.0,\"#0d0887\"],[0.1111111111111111,\"#46039f\"],[0.2222222222222222,\"#7201a8\"],[0.3333333333333333,\"#9c179e\"],[0.4444444444444444,\"#bd3786\"],[0.5555555555555556,\"#d8576b\"],[0.6666666666666666,\"#ed7953\"],[0.7777777777777778,\"#fb9f3a\"],[0.8888888888888888,\"#fdca26\"],[1.0,\"#f0f921\"]],\"type\":\"heatmap\"}],\"heatmapgl\":[{\"colorbar\":{\"outlinewidth\":0,\"ticks\":\"\"},\"colorscale\":[[0.0,\"#0d0887\"],[0.1111111111111111,\"#46039f\"],[0.2222222222222222,\"#7201a8\"],[0.3333333333333333,\"#9c179e\"],[0.4444444444444444,\"#bd3786\"],[0.5555555555555556,\"#d8576b\"],[0.6666666666666666,\"#ed7953\"],[0.7777777777777778,\"#fb9f3a\"],[0.8888888888888888,\"#fdca26\"],[1.0,\"#f0f921\"]],\"type\":\"heatmapgl\"}],\"histogram\":[{\"marker\":{\"pattern\":{\"fillmode\":\"overlay\",\"size\":10,\"solidity\":0.2}},\"type\":\"histogram\"}],\"histogram2d\":[{\"colorbar\":{\"outlinewidth\":0,\"ticks\":\"\"},\"colorscale\":[[0.0,\"#0d0887\"],[0.1111111111111111,\"#46039f\"],[0.2222222222222222,\"#7201a8\"],[0.3333333333333333,\"#9c179e\"],[0.4444444444444444,\"#bd3786\"],[0.5555555555555556,\"#d8576b\"],[0.6666666666666666,\"#ed7953\"],[0.7777777777777778,\"#fb9f3a\"],[0.8888888888888888,\"#fdca26\"],[1.0,\"#f0f921\"]],\"type\":\"histogram2d\"}],\"histogram2dcontour\":[{\"colorbar\":{\"outlinewidth\":0,\"ticks\":\"\"},\"colorscale\":[[0.0,\"#0d0887\"],[0.1111111111111111,\"#46039f\"],[0.2222222222222222,\"#7201a8\"],[0.3333333333333333,\"#9c179e\"],[0.4444444444444444,\"#bd3786\"],[0.5555555555555556,\"#d8576b\"],[0.6666666666666666,\"#ed7953\"],[0.7777777777777778,\"#fb9f3a\"],[0.8888888888888888,\"#fdca26\"],[1.0,\"#f0f921\"]],\"type\":\"histogram2dcontour\"}],\"mesh3d\":[{\"colorbar\":{\"outlinewidth\":0,\"ticks\":\"\"},\"type\":\"mesh3d\"}],\"parcoords\":[{\"line\":{\"colorbar\":{\"outlinewidth\":0,\"ticks\":\"\"}},\"type\":\"parcoords\"}],\"pie\":[{\"automargin\":true,\"type\":\"pie\"}],\"scatter\":[{\"marker\":{\"colorbar\":{\"outlinewidth\":0,\"ticks\":\"\"}},\"type\":\"scatter\"}],\"scatter3d\":[{\"line\":{\"colorbar\":{\"outlinewidth\":0,\"ticks\":\"\"}},\"marker\":{\"colorbar\":{\"outlinewidth\":0,\"ticks\":\"\"}},\"type\":\"scatter3d\"}],\"scattercarpet\":[{\"marker\":{\"colorbar\":{\"outlinewidth\":0,\"ticks\":\"\"}},\"type\":\"scattercarpet\"}],\"scattergeo\":[{\"marker\":{\"colorbar\":{\"outlinewidth\":0,\"ticks\":\"\"}},\"type\":\"scattergeo\"}],\"scattergl\":[{\"marker\":{\"colorbar\":{\"outlinewidth\":0,\"ticks\":\"\"}},\"type\":\"scattergl\"}],\"scattermapbox\":[{\"marker\":{\"colorbar\":{\"outlinewidth\":0,\"ticks\":\"\"}},\"type\":\"scattermapbox\"}],\"scatterpolar\":[{\"marker\":{\"colorbar\":{\"outlinewidth\":0,\"ticks\":\"\"}},\"type\":\"scatterpolar\"}],\"scatterpolargl\":[{\"marker\":{\"colorbar\":{\"outlinewidth\":0,\"ticks\":\"\"}},\"type\":\"scatterpolargl\"}],\"scatterternary\":[{\"marker\":{\"colorbar\":{\"outlinewidth\":0,\"ticks\":\"\"}},\"type\":\"scatterternary\"}],\"surface\":[{\"colorbar\":{\"outlinewidth\":0,\"ticks\":\"\"},\"colorscale\":[[0.0,\"#0d0887\"],[0.1111111111111111,\"#46039f\"],[0.2222222222222222,\"#7201a8\"],[0.3333333333333333,\"#9c179e\"],[0.4444444444444444,\"#bd3786\"],[0.5555555555555556,\"#d8576b\"],[0.6666666666666666,\"#ed7953\"],[0.7777777777777778,\"#fb9f3a\"],[0.8888888888888888,\"#fdca26\"],[1.0,\"#f0f921\"]],\"type\":\"surface\"}],\"table\":[{\"cells\":{\"fill\":{\"color\":\"#EBF0F8\"},\"line\":{\"color\":\"white\"}},\"header\":{\"fill\":{\"color\":\"#C8D4E3\"},\"line\":{\"color\":\"white\"}},\"type\":\"table\"}]},\"layout\":{\"annotationdefaults\":{\"arrowcolor\":\"#2a3f5f\",\"arrowhead\":0,\"arrowwidth\":1},\"autotypenumbers\":\"strict\",\"coloraxis\":{\"colorbar\":{\"outlinewidth\":0,\"ticks\":\"\"}},\"colorscale\":{\"diverging\":[[0,\"#8e0152\"],[0.1,\"#c51b7d\"],[0.2,\"#de77ae\"],[0.3,\"#f1b6da\"],[0.4,\"#fde0ef\"],[0.5,\"#f7f7f7\"],[0.6,\"#e6f5d0\"],[0.7,\"#b8e186\"],[0.8,\"#7fbc41\"],[0.9,\"#4d9221\"],[1,\"#276419\"]],\"sequential\":[[0.0,\"#0d0887\"],[0.1111111111111111,\"#46039f\"],[0.2222222222222222,\"#7201a8\"],[0.3333333333333333,\"#9c179e\"],[0.4444444444444444,\"#bd3786\"],[0.5555555555555556,\"#d8576b\"],[0.6666666666666666,\"#ed7953\"],[0.7777777777777778,\"#fb9f3a\"],[0.8888888888888888,\"#fdca26\"],[1.0,\"#f0f921\"]],\"sequentialminus\":[[0.0,\"#0d0887\"],[0.1111111111111111,\"#46039f\"],[0.2222222222222222,\"#7201a8\"],[0.3333333333333333,\"#9c179e\"],[0.4444444444444444,\"#bd3786\"],[0.5555555555555556,\"#d8576b\"],[0.6666666666666666,\"#ed7953\"],[0.7777777777777778,\"#fb9f3a\"],[0.8888888888888888,\"#fdca26\"],[1.0,\"#f0f921\"]]},\"colorway\":[\"#636efa\",\"#EF553B\",\"#00cc96\",\"#ab63fa\",\"#FFA15A\",\"#19d3f3\",\"#FF6692\",\"#B6E880\",\"#FF97FF\",\"#FECB52\"],\"font\":{\"color\":\"#2a3f5f\"},\"geo\":{\"bgcolor\":\"white\",\"lakecolor\":\"white\",\"landcolor\":\"#E5ECF6\",\"showlakes\":true,\"showland\":true,\"subunitcolor\":\"white\"},\"hoverlabel\":{\"align\":\"left\"},\"hovermode\":\"closest\",\"mapbox\":{\"style\":\"light\"},\"paper_bgcolor\":\"white\",\"plot_bgcolor\":\"#E5ECF6\",\"polar\":{\"angularaxis\":{\"gridcolor\":\"white\",\"linecolor\":\"white\",\"ticks\":\"\"},\"bgcolor\":\"#E5ECF6\",\"radialaxis\":{\"gridcolor\":\"white\",\"linecolor\":\"white\",\"ticks\":\"\"}},\"scene\":{\"xaxis\":{\"backgroundcolor\":\"#E5ECF6\",\"gridcolor\":\"white\",\"gridwidth\":2,\"linecolor\":\"white\",\"showbackground\":true,\"ticks\":\"\",\"zerolinecolor\":\"white\"},\"yaxis\":{\"backgroundcolor\":\"#E5ECF6\",\"gridcolor\":\"white\",\"gridwidth\":2,\"linecolor\":\"white\",\"showbackground\":true,\"ticks\":\"\",\"zerolinecolor\":\"white\"},\"zaxis\":{\"backgroundcolor\":\"#E5ECF6\",\"gridcolor\":\"white\",\"gridwidth\":2,\"linecolor\":\"white\",\"showbackground\":true,\"ticks\":\"\",\"zerolinecolor\":\"white\"}},\"shapedefaults\":{\"line\":{\"color\":\"#2a3f5f\"}},\"ternary\":{\"aaxis\":{\"gridcolor\":\"white\",\"linecolor\":\"white\",\"ticks\":\"\"},\"baxis\":{\"gridcolor\":\"white\",\"linecolor\":\"white\",\"ticks\":\"\"},\"bgcolor\":\"#E5ECF6\",\"caxis\":{\"gridcolor\":\"white\",\"linecolor\":\"white\",\"ticks\":\"\"}},\"title\":{\"x\":0.05},\"xaxis\":{\"automargin\":true,\"gridcolor\":\"white\",\"linecolor\":\"white\",\"ticks\":\"\",\"title\":{\"standoff\":15},\"zerolinecolor\":\"white\",\"zerolinewidth\":2},\"yaxis\":{\"automargin\":true,\"gridcolor\":\"white\",\"linecolor\":\"white\",\"ticks\":\"\",\"title\":{\"standoff\":15},\"zerolinecolor\":\"white\",\"zerolinewidth\":2}}},\"scene\":{\"domain\":{\"x\":[0.0,1.0],\"y\":[0.0,1.0]},\"xaxis\":{\"title\":{\"text\":\"x\"}},\"yaxis\":{\"title\":{\"text\":\"y\"}},\"zaxis\":{\"title\":{\"text\":\"z\"}}},\"legend\":{\"tracegroupgap\":0},\"margin\":{\"t\":60}},                        {\"responsive\": true}                    ).then(function(){\n",
              "                            \n",
              "var gd = document.getElementById('a4ba884a-03b0-4af2-9970-d4b760f26a4a');\n",
              "var x = new MutationObserver(function (mutations, observer) {{\n",
              "        var display = window.getComputedStyle(gd).display;\n",
              "        if (!display || display === 'none') {{\n",
              "            console.log([gd, 'removed!']);\n",
              "            Plotly.purge(gd);\n",
              "            observer.disconnect();\n",
              "        }}\n",
              "}});\n",
              "\n",
              "// Listen for the removal of the full notebook cells\n",
              "var notebookContainer = gd.closest('#notebook-container');\n",
              "if (notebookContainer) {{\n",
              "    x.observe(notebookContainer, {childList: true});\n",
              "}}\n",
              "\n",
              "// Listen for the clearing of the current output cell\n",
              "var outputEl = gd.closest('.output');\n",
              "if (outputEl) {{\n",
              "    x.observe(outputEl, {childList: true});\n",
              "}}\n",
              "\n",
              "                        })                };                            </script>        </div>\n",
              "</body>\n",
              "</html>"
            ]
          },
          "metadata": {},
          "output_type": "display_data"
        }
      ],
      "source": [
        "plot_3d_shape(sample[similar_idx].cpu())"
      ]
    },
    {
      "cell_type": "markdown",
      "metadata": {
        "id": "kppFmNVKa2K6"
      },
      "source": [
        "This confirms that our embedding space has a proper arrangement and that our contrastive loss separated different entities successfully."
      ]
    }
  ],
  "metadata": {
    "accelerator": "GPU",
    "colab": {
      "collapsed_sections": [
        "2-pAk_rLhhiV",
        "DQDYyNK_-j--",
        "rEyNxSuPGrHX",
        "Lle1XiGfEsn7",
        "U0QjhMfhJ8W7",
        "J49zjaa5cxRe"
      ],
      "provenance": []
    },
    "kernelspec": {
      "display_name": "contrastive_test",
      "language": "python",
      "name": "python3"
    },
    "language_info": {
      "codemirror_mode": {
        "name": "ipython",
        "version": 3
      },
      "file_extension": ".py",
      "mimetype": "text/x-python",
      "name": "python",
      "nbconvert_exporter": "python",
      "pygments_lexer": "ipython3",
      "version": "3.9.23"
    }
  },
  "nbformat": 4,
  "nbformat_minor": 0
}
