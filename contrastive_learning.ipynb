{
  "cells": [
    {
      "cell_type": "markdown",
      "metadata": {
        "id": "JTqAbOIjjSXm"
      },
      "source": [
        "## Contrastive Learning in PyTorch with Point Clouds\n",
        "\n"
      ]
    },
    {
      "cell_type": "markdown",
      "metadata": {
        "id": "2-pAk_rLhhiV"
      },
      "source": [
        "## Installation / Setup"
      ]
    },
    {
      "cell_type": "code",
      "execution_count": 2,
      "metadata": {},
      "outputs": [
        {
          "name": "stdout",
          "output_type": "stream",
          "text": [
            "Torch version: 2.1.0+cu118\n",
            "CUDA available: False\n",
            "GPU: No GPU\n",
            "PyG installed and working. Sample layer: <class 'torch_geometric.nn.conv.gcn_conv.GCNConv'>\n"
          ]
        }
      ],
      "source": [
        "import torch\n",
        "import torch_geometric\n",
        "\n",
        "print(\"Torch version:\", torch.__version__)\n",
        "print(\"CUDA available:\", torch.cuda.is_available())\n",
        "print(\"GPU:\", torch.cuda.get_device_name(0) if torch.cuda.is_available() else \"No GPU\")\n",
        "\n",
        "from torch_geometric.nn import GCNConv\n",
        "print(\"PyG installed and working. Sample layer:\", GCNConv)"
      ]
    },
    {
      "cell_type": "markdown",
      "metadata": {
        "id": "sH4vLmajhONv"
      },
      "source": [
        "✋ **Note: You'll need to restart your runtime and execute the two cells again.** ✋"
      ]
    },
    {
      "cell_type": "markdown",
      "metadata": {
        "id": "DQDYyNK_-j--"
      },
      "source": [
        "## Dataset\n",
        "\n",
        "Goal:\n",
        "- Self-Supervised Representation Learning of Shapes\n",
        "- Can be used for downstream tasks like clustering, fine-tuning, outlier-detection, ...\n",
        "- Pointcloud = Set of unconnected nodes --> PyG\n",
        "- [ShapeNet Dataset](https://paperswithcode.com/dataset/shapenet) - we just use a subset of classes and act like we didn't have labels\n",
        "- I select 5k data points as otherwise I run out of memory on Colab\n",
        "\n"
      ]
    },
    {
      "cell_type": "code",
      "execution_count": 3,
      "metadata": {
        "colab": {
          "base_uri": "https://localhost:8080/"
        },
        "id": "MtcN0Et2h21F",
        "outputId": "283bfc8d-da6c-4e32-969b-c97ca3188a6c"
      },
      "outputs": [
        {
          "name": "stdout",
          "output_type": "stream",
          "text": [
            "Number of Samples:  3991\n",
            "Sample Data Object:\n",
            " Data(pos=[1024, 3], y=[1])\n"
          ]
        }
      ],
      "source": [
        "from torch_geometric.datasets import ModelNet\n",
        "from torch_geometric.transforms import SamplePoints\n",
        "\n",
        "# Transform to sample a fixed number of points from the mesh\n",
        "transform = SamplePoints(1024)\n",
        "\n",
        "# Load the ModelNet10 dataset\n",
        "dataset = ModelNet(root=\"./modelnet\", name='10', train=True, transform=transform)\n",
        "\n",
        "# Shuffle and limit to 5000 samples if needed\n",
        "dataset = dataset.shuffle()[:15000]\n",
        "\n",
        "# Print basic info\n",
        "print(\"Number of Samples: \", len(dataset))\n",
        "print(\"Sample Data Object:\\n\", dataset[0])\n"
      ]
    },
    {
      "cell_type": "markdown",
      "metadata": {
        "id": "X05pyLpSiHlB"
      },
      "source": [
        "Attribute Name  | Description\n",
        "-------------------|------------------\n",
        "Pos       | Normalized positions as 3D coordinates\n",
        "X       |  Normal vectors\n",
        "Y       | Class label"
      ]
    },
    {
      "cell_type": "code",
      "execution_count": 4,
      "metadata": {
        "colab": {
          "base_uri": "https://localhost:8080/"
        },
        "id": "tXjyMJP6B3bx",
        "outputId": "568d6384-d83c-4ca8-8001-9f5514be413f"
      },
      "outputs": [
        {
          "data": {
            "text/plain": [
              "tensor([[ 17.9275, -16.8773,  -8.5441],\n",
              "        [-24.8642,  12.9990,  -7.4804],\n",
              "        [-31.1372, -29.6489, -23.5788],\n",
              "        ...,\n",
              "        [ -3.5768, -28.4089,  -5.8266],\n",
              "        [ -4.5351,  22.3727,  -2.5119],\n",
              "        [  0.2342,  40.0983,  22.0852]])"
            ]
          },
          "execution_count": 4,
          "metadata": {},
          "output_type": "execute_result"
        }
      ],
      "source": [
        "dataset[0].pos"
      ]
    },
    {
      "cell_type": "markdown",
      "metadata": {
        "id": "SoaKy33ckunB"
      },
      "source": [
        "Let's use plotly to inspect the data ..."
      ]
    },
    {
      "cell_type": "code",
      "execution_count": 7,
      "metadata": {
        "colab": {
          "base_uri": "https://localhost:8080/"
        },
        "id": "XLuBtphVvlMZ",
        "outputId": "9da63d0d-0abb-4042-ce52-479ebea825cc"
      },
      "outputs": [
        {
          "name": "stdout",
          "output_type": "stream",
          "text": [
            "Number of data points:  1024\n"
          ]
        },
        {
          "data": {
            "application/vnd.plotly.v1+json": {
              "config": {
                "plotlyServerURL": "https://plot.ly"
              },
              "data": [
                {
                  "hovertemplate": "x=%{x}<br>y=%{y}<br>z=%{z}<extra></extra>",
                  "legendgroup": "",
                  "marker": {
                    "color": "#636efa",
                    "opacity": 0.3,
                    "symbol": "circle"
                  },
                  "mode": "markers",
                  "name": "",
                  "scene": "scene",
                  "showlegend": false,
                  "type": "scatter3d",
                  "x": {
                    "bdata": "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",
                    "dtype": "f4"
                  },
                  "y": {
                    "bdata": "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",
                    "dtype": "f4"
                  },
                  "z": {
                    "bdata": "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",
                    "dtype": "f4"
                  }
                }
              ],
              "layout": {
                "legend": {
                  "tracegroupgap": 0
                },
                "margin": {
                  "t": 60
                },
                "scene": {
                  "domain": {
                    "x": [
                      0,
                      1
                    ],
                    "y": [
                      0,
                      1
                    ]
                  },
                  "xaxis": {
                    "title": {
                      "text": "x"
                    }
                  },
                  "yaxis": {
                    "title": {
                      "text": "y"
                    }
                  },
                  "zaxis": {
                    "title": {
                      "text": "z"
                    }
                  }
                },
                "template": {
                  "data": {
                    "bar": [
                      {
                        "error_x": {
                          "color": "#2a3f5f"
                        },
                        "error_y": {
                          "color": "#2a3f5f"
                        },
                        "marker": {
                          "line": {
                            "color": "#E5ECF6",
                            "width": 0.5
                          },
                          "pattern": {
                            "fillmode": "overlay",
                            "size": 10,
                            "solidity": 0.2
                          }
                        },
                        "type": "bar"
                      }
                    ],
                    "barpolar": [
                      {
                        "marker": {
                          "line": {
                            "color": "#E5ECF6",
                            "width": 0.5
                          },
                          "pattern": {
                            "fillmode": "overlay",
                            "size": 10,
                            "solidity": 0.2
                          }
                        },
                        "type": "barpolar"
                      }
                    ],
                    "carpet": [
                      {
                        "aaxis": {
                          "endlinecolor": "#2a3f5f",
                          "gridcolor": "white",
                          "linecolor": "white",
                          "minorgridcolor": "white",
                          "startlinecolor": "#2a3f5f"
                        },
                        "baxis": {
                          "endlinecolor": "#2a3f5f",
                          "gridcolor": "white",
                          "linecolor": "white",
                          "minorgridcolor": "white",
                          "startlinecolor": "#2a3f5f"
                        },
                        "type": "carpet"
                      }
                    ],
                    "choropleth": [
                      {
                        "colorbar": {
                          "outlinewidth": 0,
                          "ticks": ""
                        },
                        "type": "choropleth"
                      }
                    ],
                    "contour": [
                      {
                        "colorbar": {
                          "outlinewidth": 0,
                          "ticks": ""
                        },
                        "colorscale": [
                          [
                            0,
                            "#0d0887"
                          ],
                          [
                            0.1111111111111111,
                            "#46039f"
                          ],
                          [
                            0.2222222222222222,
                            "#7201a8"
                          ],
                          [
                            0.3333333333333333,
                            "#9c179e"
                          ],
                          [
                            0.4444444444444444,
                            "#bd3786"
                          ],
                          [
                            0.5555555555555556,
                            "#d8576b"
                          ],
                          [
                            0.6666666666666666,
                            "#ed7953"
                          ],
                          [
                            0.7777777777777778,
                            "#fb9f3a"
                          ],
                          [
                            0.8888888888888888,
                            "#fdca26"
                          ],
                          [
                            1,
                            "#f0f921"
                          ]
                        ],
                        "type": "contour"
                      }
                    ],
                    "contourcarpet": [
                      {
                        "colorbar": {
                          "outlinewidth": 0,
                          "ticks": ""
                        },
                        "type": "contourcarpet"
                      }
                    ],
                    "heatmap": [
                      {
                        "colorbar": {
                          "outlinewidth": 0,
                          "ticks": ""
                        },
                        "colorscale": [
                          [
                            0,
                            "#0d0887"
                          ],
                          [
                            0.1111111111111111,
                            "#46039f"
                          ],
                          [
                            0.2222222222222222,
                            "#7201a8"
                          ],
                          [
                            0.3333333333333333,
                            "#9c179e"
                          ],
                          [
                            0.4444444444444444,
                            "#bd3786"
                          ],
                          [
                            0.5555555555555556,
                            "#d8576b"
                          ],
                          [
                            0.6666666666666666,
                            "#ed7953"
                          ],
                          [
                            0.7777777777777778,
                            "#fb9f3a"
                          ],
                          [
                            0.8888888888888888,
                            "#fdca26"
                          ],
                          [
                            1,
                            "#f0f921"
                          ]
                        ],
                        "type": "heatmap"
                      }
                    ],
                    "histogram": [
                      {
                        "marker": {
                          "pattern": {
                            "fillmode": "overlay",
                            "size": 10,
                            "solidity": 0.2
                          }
                        },
                        "type": "histogram"
                      }
                    ],
                    "histogram2d": [
                      {
                        "colorbar": {
                          "outlinewidth": 0,
                          "ticks": ""
                        },
                        "colorscale": [
                          [
                            0,
                            "#0d0887"
                          ],
                          [
                            0.1111111111111111,
                            "#46039f"
                          ],
                          [
                            0.2222222222222222,
                            "#7201a8"
                          ],
                          [
                            0.3333333333333333,
                            "#9c179e"
                          ],
                          [
                            0.4444444444444444,
                            "#bd3786"
                          ],
                          [
                            0.5555555555555556,
                            "#d8576b"
                          ],
                          [
                            0.6666666666666666,
                            "#ed7953"
                          ],
                          [
                            0.7777777777777778,
                            "#fb9f3a"
                          ],
                          [
                            0.8888888888888888,
                            "#fdca26"
                          ],
                          [
                            1,
                            "#f0f921"
                          ]
                        ],
                        "type": "histogram2d"
                      }
                    ],
                    "histogram2dcontour": [
                      {
                        "colorbar": {
                          "outlinewidth": 0,
                          "ticks": ""
                        },
                        "colorscale": [
                          [
                            0,
                            "#0d0887"
                          ],
                          [
                            0.1111111111111111,
                            "#46039f"
                          ],
                          [
                            0.2222222222222222,
                            "#7201a8"
                          ],
                          [
                            0.3333333333333333,
                            "#9c179e"
                          ],
                          [
                            0.4444444444444444,
                            "#bd3786"
                          ],
                          [
                            0.5555555555555556,
                            "#d8576b"
                          ],
                          [
                            0.6666666666666666,
                            "#ed7953"
                          ],
                          [
                            0.7777777777777778,
                            "#fb9f3a"
                          ],
                          [
                            0.8888888888888888,
                            "#fdca26"
                          ],
                          [
                            1,
                            "#f0f921"
                          ]
                        ],
                        "type": "histogram2dcontour"
                      }
                    ],
                    "mesh3d": [
                      {
                        "colorbar": {
                          "outlinewidth": 0,
                          "ticks": ""
                        },
                        "type": "mesh3d"
                      }
                    ],
                    "parcoords": [
                      {
                        "line": {
                          "colorbar": {
                            "outlinewidth": 0,
                            "ticks": ""
                          }
                        },
                        "type": "parcoords"
                      }
                    ],
                    "pie": [
                      {
                        "automargin": true,
                        "type": "pie"
                      }
                    ],
                    "scatter": [
                      {
                        "fillpattern": {
                          "fillmode": "overlay",
                          "size": 10,
                          "solidity": 0.2
                        },
                        "type": "scatter"
                      }
                    ],
                    "scatter3d": [
                      {
                        "line": {
                          "colorbar": {
                            "outlinewidth": 0,
                            "ticks": ""
                          }
                        },
                        "marker": {
                          "colorbar": {
                            "outlinewidth": 0,
                            "ticks": ""
                          }
                        },
                        "type": "scatter3d"
                      }
                    ],
                    "scattercarpet": [
                      {
                        "marker": {
                          "colorbar": {
                            "outlinewidth": 0,
                            "ticks": ""
                          }
                        },
                        "type": "scattercarpet"
                      }
                    ],
                    "scattergeo": [
                      {
                        "marker": {
                          "colorbar": {
                            "outlinewidth": 0,
                            "ticks": ""
                          }
                        },
                        "type": "scattergeo"
                      }
                    ],
                    "scattergl": [
                      {
                        "marker": {
                          "colorbar": {
                            "outlinewidth": 0,
                            "ticks": ""
                          }
                        },
                        "type": "scattergl"
                      }
                    ],
                    "scattermap": [
                      {
                        "marker": {
                          "colorbar": {
                            "outlinewidth": 0,
                            "ticks": ""
                          }
                        },
                        "type": "scattermap"
                      }
                    ],
                    "scattermapbox": [
                      {
                        "marker": {
                          "colorbar": {
                            "outlinewidth": 0,
                            "ticks": ""
                          }
                        },
                        "type": "scattermapbox"
                      }
                    ],
                    "scatterpolar": [
                      {
                        "marker": {
                          "colorbar": {
                            "outlinewidth": 0,
                            "ticks": ""
                          }
                        },
                        "type": "scatterpolar"
                      }
                    ],
                    "scatterpolargl": [
                      {
                        "marker": {
                          "colorbar": {
                            "outlinewidth": 0,
                            "ticks": ""
                          }
                        },
                        "type": "scatterpolargl"
                      }
                    ],
                    "scatterternary": [
                      {
                        "marker": {
                          "colorbar": {
                            "outlinewidth": 0,
                            "ticks": ""
                          }
                        },
                        "type": "scatterternary"
                      }
                    ],
                    "surface": [
                      {
                        "colorbar": {
                          "outlinewidth": 0,
                          "ticks": ""
                        },
                        "colorscale": [
                          [
                            0,
                            "#0d0887"
                          ],
                          [
                            0.1111111111111111,
                            "#46039f"
                          ],
                          [
                            0.2222222222222222,
                            "#7201a8"
                          ],
                          [
                            0.3333333333333333,
                            "#9c179e"
                          ],
                          [
                            0.4444444444444444,
                            "#bd3786"
                          ],
                          [
                            0.5555555555555556,
                            "#d8576b"
                          ],
                          [
                            0.6666666666666666,
                            "#ed7953"
                          ],
                          [
                            0.7777777777777778,
                            "#fb9f3a"
                          ],
                          [
                            0.8888888888888888,
                            "#fdca26"
                          ],
                          [
                            1,
                            "#f0f921"
                          ]
                        ],
                        "type": "surface"
                      }
                    ],
                    "table": [
                      {
                        "cells": {
                          "fill": {
                            "color": "#EBF0F8"
                          },
                          "line": {
                            "color": "white"
                          }
                        },
                        "header": {
                          "fill": {
                            "color": "#C8D4E3"
                          },
                          "line": {
                            "color": "white"
                          }
                        },
                        "type": "table"
                      }
                    ]
                  },
                  "layout": {
                    "annotationdefaults": {
                      "arrowcolor": "#2a3f5f",
                      "arrowhead": 0,
                      "arrowwidth": 1
                    },
                    "autotypenumbers": "strict",
                    "coloraxis": {
                      "colorbar": {
                        "outlinewidth": 0,
                        "ticks": ""
                      }
                    },
                    "colorscale": {
                      "diverging": [
                        [
                          0,
                          "#8e0152"
                        ],
                        [
                          0.1,
                          "#c51b7d"
                        ],
                        [
                          0.2,
                          "#de77ae"
                        ],
                        [
                          0.3,
                          "#f1b6da"
                        ],
                        [
                          0.4,
                          "#fde0ef"
                        ],
                        [
                          0.5,
                          "#f7f7f7"
                        ],
                        [
                          0.6,
                          "#e6f5d0"
                        ],
                        [
                          0.7,
                          "#b8e186"
                        ],
                        [
                          0.8,
                          "#7fbc41"
                        ],
                        [
                          0.9,
                          "#4d9221"
                        ],
                        [
                          1,
                          "#276419"
                        ]
                      ],
                      "sequential": [
                        [
                          0,
                          "#0d0887"
                        ],
                        [
                          0.1111111111111111,
                          "#46039f"
                        ],
                        [
                          0.2222222222222222,
                          "#7201a8"
                        ],
                        [
                          0.3333333333333333,
                          "#9c179e"
                        ],
                        [
                          0.4444444444444444,
                          "#bd3786"
                        ],
                        [
                          0.5555555555555556,
                          "#d8576b"
                        ],
                        [
                          0.6666666666666666,
                          "#ed7953"
                        ],
                        [
                          0.7777777777777778,
                          "#fb9f3a"
                        ],
                        [
                          0.8888888888888888,
                          "#fdca26"
                        ],
                        [
                          1,
                          "#f0f921"
                        ]
                      ],
                      "sequentialminus": [
                        [
                          0,
                          "#0d0887"
                        ],
                        [
                          0.1111111111111111,
                          "#46039f"
                        ],
                        [
                          0.2222222222222222,
                          "#7201a8"
                        ],
                        [
                          0.3333333333333333,
                          "#9c179e"
                        ],
                        [
                          0.4444444444444444,
                          "#bd3786"
                        ],
                        [
                          0.5555555555555556,
                          "#d8576b"
                        ],
                        [
                          0.6666666666666666,
                          "#ed7953"
                        ],
                        [
                          0.7777777777777778,
                          "#fb9f3a"
                        ],
                        [
                          0.8888888888888888,
                          "#fdca26"
                        ],
                        [
                          1,
                          "#f0f921"
                        ]
                      ]
                    },
                    "colorway": [
                      "#636efa",
                      "#EF553B",
                      "#00cc96",
                      "#ab63fa",
                      "#FFA15A",
                      "#19d3f3",
                      "#FF6692",
                      "#B6E880",
                      "#FF97FF",
                      "#FECB52"
                    ],
                    "font": {
                      "color": "#2a3f5f"
                    },
                    "geo": {
                      "bgcolor": "white",
                      "lakecolor": "white",
                      "landcolor": "#E5ECF6",
                      "showlakes": true,
                      "showland": true,
                      "subunitcolor": "white"
                    },
                    "hoverlabel": {
                      "align": "left"
                    },
                    "hovermode": "closest",
                    "mapbox": {
                      "style": "light"
                    },
                    "paper_bgcolor": "white",
                    "plot_bgcolor": "#E5ECF6",
                    "polar": {
                      "angularaxis": {
                        "gridcolor": "white",
                        "linecolor": "white",
                        "ticks": ""
                      },
                      "bgcolor": "#E5ECF6",
                      "radialaxis": {
                        "gridcolor": "white",
                        "linecolor": "white",
                        "ticks": ""
                      }
                    },
                    "scene": {
                      "xaxis": {
                        "backgroundcolor": "#E5ECF6",
                        "gridcolor": "white",
                        "gridwidth": 2,
                        "linecolor": "white",
                        "showbackground": true,
                        "ticks": "",
                        "zerolinecolor": "white"
                      },
                      "yaxis": {
                        "backgroundcolor": "#E5ECF6",
                        "gridcolor": "white",
                        "gridwidth": 2,
                        "linecolor": "white",
                        "showbackground": true,
                        "ticks": "",
                        "zerolinecolor": "white"
                      },
                      "zaxis": {
                        "backgroundcolor": "#E5ECF6",
                        "gridcolor": "white",
                        "gridwidth": 2,
                        "linecolor": "white",
                        "showbackground": true,
                        "ticks": "",
                        "zerolinecolor": "white"
                      }
                    },
                    "shapedefaults": {
                      "line": {
                        "color": "#2a3f5f"
                      }
                    },
                    "ternary": {
                      "aaxis": {
                        "gridcolor": "white",
                        "linecolor": "white",
                        "ticks": ""
                      },
                      "baxis": {
                        "gridcolor": "white",
                        "linecolor": "white",
                        "ticks": ""
                      },
                      "bgcolor": "#E5ECF6",
                      "caxis": {
                        "gridcolor": "white",
                        "linecolor": "white",
                        "ticks": ""
                      }
                    },
                    "title": {
                      "x": 0.05
                    },
                    "xaxis": {
                      "automargin": true,
                      "gridcolor": "white",
                      "linecolor": "white",
                      "ticks": "",
                      "title": {
                        "standoff": 15
                      },
                      "zerolinecolor": "white",
                      "zerolinewidth": 2
                    },
                    "yaxis": {
                      "automargin": true,
                      "gridcolor": "white",
                      "linecolor": "white",
                      "ticks": "",
                      "title": {
                        "standoff": 15
                      },
                      "zerolinecolor": "white",
                      "zerolinewidth": 2
                    }
                  }
                }
              }
            }
          },
          "metadata": {},
          "output_type": "display_data"
        }
      ],
      "source": [
        "#!pip install plotly --quiet\n",
        "import plotly.express as px\n",
        "\n",
        "def plot_3d_shape(shape):\n",
        "    print(\"Number of data points: \", shape.pos.shape[0])\n",
        "    x = shape.pos[:, 0]\n",
        "    y = shape.pos[:, 1]\n",
        "    z = shape.pos[:, 2]\n",
        "    fig = px.scatter_3d(x=x, y=y, z=z, opacity=0.3)\n",
        "    fig.show()\n",
        "\n",
        "# Pick a sample\n",
        "sample_idx = 2\n",
        "plot_3d_shape(dataset[sample_idx])"
      ]
    },
    {
      "cell_type": "code",
      "execution_count": 10,
      "metadata": {
        "colab": {
          "base_uri": "https://localhost:8080/"
        },
        "id": "_R4TFMbclLij",
        "outputId": "5baaa657-f224-43ca-d5bb-8b9be0584ee4"
      },
      "outputs": [
        {
          "name": "stdout",
          "output_type": "stream",
          "text": [
            "{'bathtub': 106, 'bed': 515, 'chair': 889, 'desk': 200, 'dresser': 200, 'monitor': 465, 'night_stand': 200, 'sofa': 680, 'table': 392, 'toilet': 344}\n"
          ]
        }
      ],
      "source": [
        "# Manually define the categories for ModelNet10 as a workaround\n",
        "modelnet10_categories = [\n",
        "    'bathtub', 'bed', 'chair', 'desk', 'dresser', 'monitor',\n",
        "    'night_stand', 'sofa', 'table', 'toilet'\n",
        "]\n",
        "\n",
        "# Initialize cat_dict using the hardcoded categories\n",
        "cat_dict = {key: 0 for key in modelnet10_categories}\n",
        "\n",
        "# Iterate through datapoints and count categories\n",
        "for datapoint in dataset:\n",
        "    # Corrected line: use datapoint.y to get the numerical label\n",
        "    # and .item() to convert the tensor to a Python integer\n",
        "    category_index = datapoint.y.item()\n",
        "    cat_dict[modelnet10_categories[category_index]] += 1\n",
        "\n",
        "print(cat_dict)"
      ]
    },
    {
      "cell_type": "markdown",
      "metadata": {
        "id": "rEyNxSuPGrHX"
      },
      "source": [
        "## Data Preparation\n",
        "\n",
        "- In some scenarios it makes sense to pre-compute the augmentations (for example if heavy computations are involved)\n",
        "- This would require to store multiple Data Points in one Data Object, which is possible in PyTorch\n",
        "- Here we will compute the augmentations on the fly and use the below transformations for this\n",
        "- Later, for each data point we will need 2 augmentations (positive pair)\n",
        "- What are good augmentations for Point Clouds?\n",
        "    - Rotation (if the used layer is not rotation invariant)\n",
        "    - Jittering (can be seen as adding noise to the coordinates)\n",
        "    - Shifting / Shearing\n",
        "    - ... many more\n",
        "\n",
        "\n"
      ]
    },
    {
      "cell_type": "code",
      "execution_count": 11,
      "metadata": {
        "id": "tlOnmFOUd9OP"
      },
      "outputs": [],
      "source": [
        "from torch_geometric.loader import DataLoader\n",
        "import torch_geometric.transforms as T\n",
        "\n",
        "data_loader = DataLoader(dataset, batch_size=32, shuffle=True)\n",
        "\n",
        "# We're lucky and pytorch geometric helps us with pre-implemented transforms\n",
        "# which can also be applied on the whole batch directly\n",
        "augmentation = T.Compose([T.RandomJitter(0.03), T.RandomFlip(1), T.RandomShear(0.2)])"
      ]
    },
    {
      "cell_type": "markdown",
      "metadata": {
        "id": "ce7gMHZQH54Q"
      },
      "source": [
        "Let's have a look at some samples ..."
      ]
    },
    {
      "cell_type": "code",
      "execution_count": 1,
      "metadata": {
        "colab": {
          "base_uri": "https://localhost:8080/"
        },
        "id": "9rVbZMjDkjRm",
        "outputId": "163a5814-cdfa-4f10-c6ed-41ae708a2c4a"
      },
      "outputs": [
        {
          "ename": "NameError",
          "evalue": "name 'data_loader' is not defined",
          "output_type": "error",
          "traceback": [
            "\u001b[0;31m---------------------------------------------------------------------------\u001b[0m",
            "\u001b[0;31mNameError\u001b[0m                                 Traceback (most recent call last)",
            "Cell \u001b[0;32mIn[1], line 2\u001b[0m\n\u001b[1;32m      1\u001b[0m \u001b[38;5;66;03m# Original data point\u001b[39;00m\n\u001b[0;32m----> 2\u001b[0m sample \u001b[38;5;241m=\u001b[39m \u001b[38;5;28mnext\u001b[39m(\u001b[38;5;28miter\u001b[39m(\u001b[43mdata_loader\u001b[49m))\n\u001b[1;32m      3\u001b[0m plot_3d_shape(sample[\u001b[38;5;241m5\u001b[39m])\n",
            "\u001b[0;31mNameError\u001b[0m: name 'data_loader' is not defined"
          ]
        }
      ],
      "source": [
        "# Original data point\n",
        "sample = next(iter(data_loader))\n",
        "plot_3d_shape(sample[5])"
      ]
    },
    {
      "cell_type": "code",
      "execution_count": 13,
      "metadata": {
        "colab": {
          "base_uri": "https://localhost:8080/"
        },
        "id": "JU_NCJ1Zjw4F",
        "outputId": "52e36550-9ecb-46fb-dede-aceec4a6a0dd"
      },
      "outputs": [
        {
          "name": "stdout",
          "output_type": "stream",
          "text": [
            "Number of data points:  1024\n"
          ]
        },
        {
          "data": {
            "application/vnd.plotly.v1+json": {
              "config": {
                "plotlyServerURL": "https://plot.ly"
              },
              "data": [
                {
                  "hovertemplate": "x=%{x}<br>y=%{y}<br>z=%{z}<extra></extra>",
                  "legendgroup": "",
                  "marker": {
                    "color": "#636efa",
                    "opacity": 0.3,
                    "symbol": "circle"
                  },
                  "mode": "markers",
                  "name": "",
                  "scene": "scene",
                  "showlegend": false,
                  "type": "scatter3d",
                  "x": {
                    "bdata": "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",
                    "dtype": "f4"
                  },
                  "y": {
                    "bdata": "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",
                    "dtype": "f4"
                  },
                  "z": {
                    "bdata": "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",
                    "dtype": "f4"
                  }
                }
              ],
              "layout": {
                "legend": {
                  "tracegroupgap": 0
                },
                "margin": {
                  "t": 60
                },
                "scene": {
                  "domain": {
                    "x": [
                      0,
                      1
                    ],
                    "y": [
                      0,
                      1
                    ]
                  },
                  "xaxis": {
                    "title": {
                      "text": "x"
                    }
                  },
                  "yaxis": {
                    "title": {
                      "text": "y"
                    }
                  },
                  "zaxis": {
                    "title": {
                      "text": "z"
                    }
                  }
                },
                "template": {
                  "data": {
                    "bar": [
                      {
                        "error_x": {
                          "color": "#2a3f5f"
                        },
                        "error_y": {
                          "color": "#2a3f5f"
                        },
                        "marker": {
                          "line": {
                            "color": "#E5ECF6",
                            "width": 0.5
                          },
                          "pattern": {
                            "fillmode": "overlay",
                            "size": 10,
                            "solidity": 0.2
                          }
                        },
                        "type": "bar"
                      }
                    ],
                    "barpolar": [
                      {
                        "marker": {
                          "line": {
                            "color": "#E5ECF6",
                            "width": 0.5
                          },
                          "pattern": {
                            "fillmode": "overlay",
                            "size": 10,
                            "solidity": 0.2
                          }
                        },
                        "type": "barpolar"
                      }
                    ],
                    "carpet": [
                      {
                        "aaxis": {
                          "endlinecolor": "#2a3f5f",
                          "gridcolor": "white",
                          "linecolor": "white",
                          "minorgridcolor": "white",
                          "startlinecolor": "#2a3f5f"
                        },
                        "baxis": {
                          "endlinecolor": "#2a3f5f",
                          "gridcolor": "white",
                          "linecolor": "white",
                          "minorgridcolor": "white",
                          "startlinecolor": "#2a3f5f"
                        },
                        "type": "carpet"
                      }
                    ],
                    "choropleth": [
                      {
                        "colorbar": {
                          "outlinewidth": 0,
                          "ticks": ""
                        },
                        "type": "choropleth"
                      }
                    ],
                    "contour": [
                      {
                        "colorbar": {
                          "outlinewidth": 0,
                          "ticks": ""
                        },
                        "colorscale": [
                          [
                            0,
                            "#0d0887"
                          ],
                          [
                            0.1111111111111111,
                            "#46039f"
                          ],
                          [
                            0.2222222222222222,
                            "#7201a8"
                          ],
                          [
                            0.3333333333333333,
                            "#9c179e"
                          ],
                          [
                            0.4444444444444444,
                            "#bd3786"
                          ],
                          [
                            0.5555555555555556,
                            "#d8576b"
                          ],
                          [
                            0.6666666666666666,
                            "#ed7953"
                          ],
                          [
                            0.7777777777777778,
                            "#fb9f3a"
                          ],
                          [
                            0.8888888888888888,
                            "#fdca26"
                          ],
                          [
                            1,
                            "#f0f921"
                          ]
                        ],
                        "type": "contour"
                      }
                    ],
                    "contourcarpet": [
                      {
                        "colorbar": {
                          "outlinewidth": 0,
                          "ticks": ""
                        },
                        "type": "contourcarpet"
                      }
                    ],
                    "heatmap": [
                      {
                        "colorbar": {
                          "outlinewidth": 0,
                          "ticks": ""
                        },
                        "colorscale": [
                          [
                            0,
                            "#0d0887"
                          ],
                          [
                            0.1111111111111111,
                            "#46039f"
                          ],
                          [
                            0.2222222222222222,
                            "#7201a8"
                          ],
                          [
                            0.3333333333333333,
                            "#9c179e"
                          ],
                          [
                            0.4444444444444444,
                            "#bd3786"
                          ],
                          [
                            0.5555555555555556,
                            "#d8576b"
                          ],
                          [
                            0.6666666666666666,
                            "#ed7953"
                          ],
                          [
                            0.7777777777777778,
                            "#fb9f3a"
                          ],
                          [
                            0.8888888888888888,
                            "#fdca26"
                          ],
                          [
                            1,
                            "#f0f921"
                          ]
                        ],
                        "type": "heatmap"
                      }
                    ],
                    "histogram": [
                      {
                        "marker": {
                          "pattern": {
                            "fillmode": "overlay",
                            "size": 10,
                            "solidity": 0.2
                          }
                        },
                        "type": "histogram"
                      }
                    ],
                    "histogram2d": [
                      {
                        "colorbar": {
                          "outlinewidth": 0,
                          "ticks": ""
                        },
                        "colorscale": [
                          [
                            0,
                            "#0d0887"
                          ],
                          [
                            0.1111111111111111,
                            "#46039f"
                          ],
                          [
                            0.2222222222222222,
                            "#7201a8"
                          ],
                          [
                            0.3333333333333333,
                            "#9c179e"
                          ],
                          [
                            0.4444444444444444,
                            "#bd3786"
                          ],
                          [
                            0.5555555555555556,
                            "#d8576b"
                          ],
                          [
                            0.6666666666666666,
                            "#ed7953"
                          ],
                          [
                            0.7777777777777778,
                            "#fb9f3a"
                          ],
                          [
                            0.8888888888888888,
                            "#fdca26"
                          ],
                          [
                            1,
                            "#f0f921"
                          ]
                        ],
                        "type": "histogram2d"
                      }
                    ],
                    "histogram2dcontour": [
                      {
                        "colorbar": {
                          "outlinewidth": 0,
                          "ticks": ""
                        },
                        "colorscale": [
                          [
                            0,
                            "#0d0887"
                          ],
                          [
                            0.1111111111111111,
                            "#46039f"
                          ],
                          [
                            0.2222222222222222,
                            "#7201a8"
                          ],
                          [
                            0.3333333333333333,
                            "#9c179e"
                          ],
                          [
                            0.4444444444444444,
                            "#bd3786"
                          ],
                          [
                            0.5555555555555556,
                            "#d8576b"
                          ],
                          [
                            0.6666666666666666,
                            "#ed7953"
                          ],
                          [
                            0.7777777777777778,
                            "#fb9f3a"
                          ],
                          [
                            0.8888888888888888,
                            "#fdca26"
                          ],
                          [
                            1,
                            "#f0f921"
                          ]
                        ],
                        "type": "histogram2dcontour"
                      }
                    ],
                    "mesh3d": [
                      {
                        "colorbar": {
                          "outlinewidth": 0,
                          "ticks": ""
                        },
                        "type": "mesh3d"
                      }
                    ],
                    "parcoords": [
                      {
                        "line": {
                          "colorbar": {
                            "outlinewidth": 0,
                            "ticks": ""
                          }
                        },
                        "type": "parcoords"
                      }
                    ],
                    "pie": [
                      {
                        "automargin": true,
                        "type": "pie"
                      }
                    ],
                    "scatter": [
                      {
                        "fillpattern": {
                          "fillmode": "overlay",
                          "size": 10,
                          "solidity": 0.2
                        },
                        "type": "scatter"
                      }
                    ],
                    "scatter3d": [
                      {
                        "line": {
                          "colorbar": {
                            "outlinewidth": 0,
                            "ticks": ""
                          }
                        },
                        "marker": {
                          "colorbar": {
                            "outlinewidth": 0,
                            "ticks": ""
                          }
                        },
                        "type": "scatter3d"
                      }
                    ],
                    "scattercarpet": [
                      {
                        "marker": {
                          "colorbar": {
                            "outlinewidth": 0,
                            "ticks": ""
                          }
                        },
                        "type": "scattercarpet"
                      }
                    ],
                    "scattergeo": [
                      {
                        "marker": {
                          "colorbar": {
                            "outlinewidth": 0,
                            "ticks": ""
                          }
                        },
                        "type": "scattergeo"
                      }
                    ],
                    "scattergl": [
                      {
                        "marker": {
                          "colorbar": {
                            "outlinewidth": 0,
                            "ticks": ""
                          }
                        },
                        "type": "scattergl"
                      }
                    ],
                    "scattermap": [
                      {
                        "marker": {
                          "colorbar": {
                            "outlinewidth": 0,
                            "ticks": ""
                          }
                        },
                        "type": "scattermap"
                      }
                    ],
                    "scattermapbox": [
                      {
                        "marker": {
                          "colorbar": {
                            "outlinewidth": 0,
                            "ticks": ""
                          }
                        },
                        "type": "scattermapbox"
                      }
                    ],
                    "scatterpolar": [
                      {
                        "marker": {
                          "colorbar": {
                            "outlinewidth": 0,
                            "ticks": ""
                          }
                        },
                        "type": "scatterpolar"
                      }
                    ],
                    "scatterpolargl": [
                      {
                        "marker": {
                          "colorbar": {
                            "outlinewidth": 0,
                            "ticks": ""
                          }
                        },
                        "type": "scatterpolargl"
                      }
                    ],
                    "scatterternary": [
                      {
                        "marker": {
                          "colorbar": {
                            "outlinewidth": 0,
                            "ticks": ""
                          }
                        },
                        "type": "scatterternary"
                      }
                    ],
                    "surface": [
                      {
                        "colorbar": {
                          "outlinewidth": 0,
                          "ticks": ""
                        },
                        "colorscale": [
                          [
                            0,
                            "#0d0887"
                          ],
                          [
                            0.1111111111111111,
                            "#46039f"
                          ],
                          [
                            0.2222222222222222,
                            "#7201a8"
                          ],
                          [
                            0.3333333333333333,
                            "#9c179e"
                          ],
                          [
                            0.4444444444444444,
                            "#bd3786"
                          ],
                          [
                            0.5555555555555556,
                            "#d8576b"
                          ],
                          [
                            0.6666666666666666,
                            "#ed7953"
                          ],
                          [
                            0.7777777777777778,
                            "#fb9f3a"
                          ],
                          [
                            0.8888888888888888,
                            "#fdca26"
                          ],
                          [
                            1,
                            "#f0f921"
                          ]
                        ],
                        "type": "surface"
                      }
                    ],
                    "table": [
                      {
                        "cells": {
                          "fill": {
                            "color": "#EBF0F8"
                          },
                          "line": {
                            "color": "white"
                          }
                        },
                        "header": {
                          "fill": {
                            "color": "#C8D4E3"
                          },
                          "line": {
                            "color": "white"
                          }
                        },
                        "type": "table"
                      }
                    ]
                  },
                  "layout": {
                    "annotationdefaults": {
                      "arrowcolor": "#2a3f5f",
                      "arrowhead": 0,
                      "arrowwidth": 1
                    },
                    "autotypenumbers": "strict",
                    "coloraxis": {
                      "colorbar": {
                        "outlinewidth": 0,
                        "ticks": ""
                      }
                    },
                    "colorscale": {
                      "diverging": [
                        [
                          0,
                          "#8e0152"
                        ],
                        [
                          0.1,
                          "#c51b7d"
                        ],
                        [
                          0.2,
                          "#de77ae"
                        ],
                        [
                          0.3,
                          "#f1b6da"
                        ],
                        [
                          0.4,
                          "#fde0ef"
                        ],
                        [
                          0.5,
                          "#f7f7f7"
                        ],
                        [
                          0.6,
                          "#e6f5d0"
                        ],
                        [
                          0.7,
                          "#b8e186"
                        ],
                        [
                          0.8,
                          "#7fbc41"
                        ],
                        [
                          0.9,
                          "#4d9221"
                        ],
                        [
                          1,
                          "#276419"
                        ]
                      ],
                      "sequential": [
                        [
                          0,
                          "#0d0887"
                        ],
                        [
                          0.1111111111111111,
                          "#46039f"
                        ],
                        [
                          0.2222222222222222,
                          "#7201a8"
                        ],
                        [
                          0.3333333333333333,
                          "#9c179e"
                        ],
                        [
                          0.4444444444444444,
                          "#bd3786"
                        ],
                        [
                          0.5555555555555556,
                          "#d8576b"
                        ],
                        [
                          0.6666666666666666,
                          "#ed7953"
                        ],
                        [
                          0.7777777777777778,
                          "#fb9f3a"
                        ],
                        [
                          0.8888888888888888,
                          "#fdca26"
                        ],
                        [
                          1,
                          "#f0f921"
                        ]
                      ],
                      "sequentialminus": [
                        [
                          0,
                          "#0d0887"
                        ],
                        [
                          0.1111111111111111,
                          "#46039f"
                        ],
                        [
                          0.2222222222222222,
                          "#7201a8"
                        ],
                        [
                          0.3333333333333333,
                          "#9c179e"
                        ],
                        [
                          0.4444444444444444,
                          "#bd3786"
                        ],
                        [
                          0.5555555555555556,
                          "#d8576b"
                        ],
                        [
                          0.6666666666666666,
                          "#ed7953"
                        ],
                        [
                          0.7777777777777778,
                          "#fb9f3a"
                        ],
                        [
                          0.8888888888888888,
                          "#fdca26"
                        ],
                        [
                          1,
                          "#f0f921"
                        ]
                      ]
                    },
                    "colorway": [
                      "#636efa",
                      "#EF553B",
                      "#00cc96",
                      "#ab63fa",
                      "#FFA15A",
                      "#19d3f3",
                      "#FF6692",
                      "#B6E880",
                      "#FF97FF",
                      "#FECB52"
                    ],
                    "font": {
                      "color": "#2a3f5f"
                    },
                    "geo": {
                      "bgcolor": "white",
                      "lakecolor": "white",
                      "landcolor": "#E5ECF6",
                      "showlakes": true,
                      "showland": true,
                      "subunitcolor": "white"
                    },
                    "hoverlabel": {
                      "align": "left"
                    },
                    "hovermode": "closest",
                    "mapbox": {
                      "style": "light"
                    },
                    "paper_bgcolor": "white",
                    "plot_bgcolor": "#E5ECF6",
                    "polar": {
                      "angularaxis": {
                        "gridcolor": "white",
                        "linecolor": "white",
                        "ticks": ""
                      },
                      "bgcolor": "#E5ECF6",
                      "radialaxis": {
                        "gridcolor": "white",
                        "linecolor": "white",
                        "ticks": ""
                      }
                    },
                    "scene": {
                      "xaxis": {
                        "backgroundcolor": "#E5ECF6",
                        "gridcolor": "white",
                        "gridwidth": 2,
                        "linecolor": "white",
                        "showbackground": true,
                        "ticks": "",
                        "zerolinecolor": "white"
                      },
                      "yaxis": {
                        "backgroundcolor": "#E5ECF6",
                        "gridcolor": "white",
                        "gridwidth": 2,
                        "linecolor": "white",
                        "showbackground": true,
                        "ticks": "",
                        "zerolinecolor": "white"
                      },
                      "zaxis": {
                        "backgroundcolor": "#E5ECF6",
                        "gridcolor": "white",
                        "gridwidth": 2,
                        "linecolor": "white",
                        "showbackground": true,
                        "ticks": "",
                        "zerolinecolor": "white"
                      }
                    },
                    "shapedefaults": {
                      "line": {
                        "color": "#2a3f5f"
                      }
                    },
                    "ternary": {
                      "aaxis": {
                        "gridcolor": "white",
                        "linecolor": "white",
                        "ticks": ""
                      },
                      "baxis": {
                        "gridcolor": "white",
                        "linecolor": "white",
                        "ticks": ""
                      },
                      "bgcolor": "#E5ECF6",
                      "caxis": {
                        "gridcolor": "white",
                        "linecolor": "white",
                        "ticks": ""
                      }
                    },
                    "title": {
                      "x": 0.05
                    },
                    "xaxis": {
                      "automargin": true,
                      "gridcolor": "white",
                      "linecolor": "white",
                      "ticks": "",
                      "title": {
                        "standoff": 15
                      },
                      "zerolinecolor": "white",
                      "zerolinewidth": 2
                    },
                    "yaxis": {
                      "automargin": true,
                      "gridcolor": "white",
                      "linecolor": "white",
                      "ticks": "",
                      "title": {
                        "standoff": 15
                      },
                      "zerolinecolor": "white",
                      "zerolinewidth": 2
                    }
                  }
                }
              }
            }
          },
          "metadata": {},
          "output_type": "display_data"
        }
      ],
      "source": [
        "# Augmented data point\n",
        "transformered = augmentation(sample)\n",
        "plot_3d_shape(transformered[0])"
      ]
    },
    {
      "cell_type": "markdown",
      "metadata": {
        "id": "Lle1XiGfEsn7"
      },
      "source": [
        "## Model\n",
        "\n",
        "- Different choices for Point Cloud Feature-Learning layers (PointNet, PointNet++, EdgeConv, PointTransformer, ...)\n",
        "- In PyTorch geometric we find an implementation of DynamicEdgeConv\n",
        "- It uses the parameter k to detect the nearest neighbors which form a subgraph\n",
        "- If you have many points, you can also sample a subset\n",
        "- In the paper they use 4 layers, here we just have 2\n",
        "- Implementation is inspired by [this PyG example](https://github.com/pyg-team/pytorch_geometric/blob/a6e349621d4caf8b381fe58f8e57109b2d0947ed/examples/dgcnn_segmentation.py)\n",
        "- We only apply augmentations during training\n",
        "\n",
        "\n",
        "\n",
        "\n"
      ]
    },
    {
      "cell_type": "code",
      "execution_count": 14,
      "metadata": {
        "id": "i3G7KOpFIhjZ"
      },
      "outputs": [],
      "source": [
        "import torch\n",
        "from torch.nn import Linear\n",
        "import torch.nn.functional as F\n",
        "from torch_geometric.nn import MLP, DynamicEdgeConv, global_max_pool\n",
        "\n",
        "\n",
        "class Model(torch.nn.Module):\n",
        "    def __init__(self, k=20, aggr='max'):\n",
        "        super().__init__()\n",
        "        # Feature extraction\n",
        "        self.conv1 = DynamicEdgeConv(MLP([2 * 3, 64, 64]), k, aggr)\n",
        "        self.conv2 = DynamicEdgeConv(MLP([2 * 64, 128]), k, aggr)\n",
        "        # Encoder head\n",
        "        self.lin1 = Linear(128 + 64, 128)\n",
        "        # Projection head (See explanation in SimCLRv2)\n",
        "        self.mlp = MLP([128, 256, 32], norm=None)\n",
        "\n",
        "    def forward(self, data, train=True):\n",
        "        if train:\n",
        "            # Get 2 augmentations of the batch\n",
        "            augm_1 = augmentation(data)\n",
        "            augm_2 = augmentation(data)\n",
        "\n",
        "            # Extract properties\n",
        "            pos_1, batch_1 = augm_1.pos, augm_1.batch\n",
        "            pos_2, batch_2 = augm_2.pos, augm_2.batch\n",
        "\n",
        "            # Get representations for first augmented view\n",
        "            x1 = self.conv1(pos_1, batch_1)\n",
        "            x2 = self.conv2(x1, batch_1)\n",
        "            h_points_1 = self.lin1(torch.cat([x1, x2], dim=1))\n",
        "\n",
        "            # Get representations for second augmented view\n",
        "            x1 = self.conv1(pos_2, batch_2)\n",
        "            x2 = self.conv2(x1, batch_2)\n",
        "            h_points_2 = self.lin1(torch.cat([x1, x2], dim=1))\n",
        "\n",
        "            # Global representation\n",
        "            h_1 = global_max_pool(h_points_1, batch_1)\n",
        "            h_2 = global_max_pool(h_points_2, batch_2)\n",
        "        else:\n",
        "            x1 = self.conv1(data.pos, data.batch)\n",
        "            x2 = self.conv2(x1, data.batch)\n",
        "            h_points = self.lin1(torch.cat([x1, x2], dim=1))\n",
        "            return global_max_pool(h_points, data.batch)\n",
        "\n",
        "        # Transformation for loss function\n",
        "        compact_h_1 = self.mlp(h_1)\n",
        "        compact_h_2 = self.mlp(h_2)\n",
        "        return h_1, h_2, compact_h_1, compact_h_2"
      ]
    },
    {
      "cell_type": "markdown",
      "metadata": {
        "id": "aAh2QgX9Nof1"
      },
      "source": [
        "Possible improvement: Only pass once through model by stacking augmentations"
      ]
    },
    {
      "cell_type": "markdown",
      "metadata": {
        "id": "U0QjhMfhJ8W7"
      },
      "source": [
        "## Training"
      ]
    },
    {
      "cell_type": "markdown",
      "metadata": {
        "id": "fI18VkeQxadF"
      },
      "source": [
        "- We use InfoNCE / NT-Xent Loss implemented in pytorch metric learning library\n",
        "- Temperature allows to balance the similarity measure (make it more peaked)\n",
        "- Typical values are around 0.1 / 0.2"
      ]
    },
    {
      "cell_type": "code",
      "execution_count": null,
      "metadata": {
        "colab": {
          "base_uri": "https://localhost:8080/"
        },
        "id": "FGxTDy0sLDTp",
        "outputId": "680c5ef2-f970-47c2-d542-e457a5a984fb"
      },
      "outputs": [],
      "source": [
        "# See https://kevinmusgrave.github.io/pytorch-metric-learning/losses/#ntxentloss\n",
        "# !pip install pytorch-metric-learning -q\n",
        "\n",
        "from pytorch_metric_learning.losses import NTXentLoss\n",
        "loss_func = NTXentLoss(temperature=0.10)"
      ]
    },
    {
      "cell_type": "code",
      "execution_count": 16,
      "metadata": {
        "id": "DDplPASCKNRD"
      },
      "outputs": [],
      "source": [
        "device = torch.device('cuda' if torch.cuda.is_available() else 'cpu')\n",
        "model = Model().to(device)\n",
        "optimizer = torch.optim.Adam(model.parameters(), lr=0.001)\n",
        "scheduler = torch.optim.lr_scheduler.StepLR(optimizer, step_size=20, gamma=0.5)\n",
        "\n",
        "# Use a large batch size (might lead to RAM issues)\n",
        "# Free Colab Version has ~ 12 GB of RAM\n",
        "data_loader = DataLoader(dataset, batch_size=32, shuffle=True)\n"
      ]
    },
    {
      "cell_type": "markdown",
      "metadata": {
        "id": "LASK3n1qz8Fx"
      },
      "source": [
        "- No test dataset, as the evaluation can be done \"downstream\"\n",
        "- The compact representations go into the loss function\n",
        "- During test time no augmentations are applied and we can use the output representations"
      ]
    },
    {
      "cell_type": "code",
      "execution_count": 17,
      "metadata": {
        "colab": {
          "base_uri": "https://localhost:8080/"
        },
        "id": "PXLT7Up7Kd9g",
        "outputId": "2be7307a-b67e-490b-e497-9f395e3e887c"
      },
      "outputs": [
        {
          "name": "stderr",
          "output_type": "stream",
          "text": [
            "100%|██████████| 125/125 [11:17<00:00,  5.42s/it]\n"
          ]
        },
        {
          "name": "stdout",
          "output_type": "stream",
          "text": [
            "Epoch 001, Loss: 2.3005\n"
          ]
        },
        {
          "name": "stderr",
          "output_type": "stream",
          "text": [
            "100%|██████████| 125/125 [10:44<00:00,  5.16s/it]\n"
          ]
        },
        {
          "name": "stdout",
          "output_type": "stream",
          "text": [
            "Epoch 002, Loss: 1.5227\n"
          ]
        },
        {
          "name": "stderr",
          "output_type": "stream",
          "text": [
            "100%|██████████| 125/125 [10:33<00:00,  5.06s/it]"
          ]
        },
        {
          "name": "stdout",
          "output_type": "stream",
          "text": [
            "Epoch 003, Loss: 1.2788\n"
          ]
        },
        {
          "name": "stderr",
          "output_type": "stream",
          "text": [
            "\n"
          ]
        }
      ],
      "source": [
        "import tqdm\n",
        "\n",
        "def train():\n",
        "    model.train()\n",
        "    total_loss = 0\n",
        "    for _, data in enumerate(tqdm.tqdm(data_loader)):\n",
        "        data = data.to(device)\n",
        "        optimizer.zero_grad()\n",
        "        # Get data representations\n",
        "        h_1, h_2, compact_h_1, compact_h_2 = model(data)\n",
        "        # Prepare for loss\n",
        "        embeddings = torch.cat((compact_h_1, compact_h_2))\n",
        "        # The same index corresponds to a positive pair\n",
        "        indices = torch.arange(0, compact_h_1.size(0), device=compact_h_2.device)\n",
        "        labels = torch.cat((indices, indices))\n",
        "        loss = loss_func(embeddings, labels)\n",
        "        loss.backward()\n",
        "        total_loss += loss.item() * data.num_graphs\n",
        "        optimizer.step()\n",
        "    return total_loss / len(dataset)\n",
        "\n",
        "for epoch in range(1, 4):\n",
        "    loss = train()\n",
        "    print(f'Epoch {epoch:03d}, Loss: {loss:.4f}')\n",
        "    scheduler.step()"
      ]
    },
    {
      "cell_type": "markdown",
      "metadata": {
        "id": "J49zjaa5cxRe"
      },
      "source": [
        "## Evaluation of the Embeddings"
      ]
    },
    {
      "cell_type": "code",
      "execution_count": 33,
      "metadata": {
        "colab": {
          "base_uri": "https://localhost:8080/",
          "height": 265
        },
        "id": "z97R1Vhou0uQ",
        "outputId": "24a95dd8-5e6b-4b46-c143-4b2f5849293e"
      },
      "outputs": [
        {
          "name": "stdout",
          "output_type": "stream",
          "text": [
            "Shape of embeddings (h): torch.Size([32, 128])\n",
            "Shape of labels: (32,)\n"
          ]
        },
        {
          "data": {
            "image/png": "[encoded data removed]",
            "text/plain": [
              "<Figure size 1200x1000 with 1 Axes>"
            ]
          },
          "metadata": {},
          "output_type": "display_data"
        }
      ],
      "source": [
        "from sklearn.manifold import TSNE\n",
        "import seaborn as sns\n",
        "import pandas as pd\n",
        "import matplotlib.pyplot as plt\n",
        "import torch # Necessary for .cpu().detach() and .to(device)\n",
        "import numpy as np # Necessary for .numpy()\n",
        "\n",
        "# --- Your existing setup (data_loader, model, device) must be defined before this block ---\n",
        "\n",
        "# Get sample batch\n",
        "sample = next(iter(data_loader))\n",
        "\n",
        "# Move the entire sample batch to the appropriate device\n",
        "sample = sample.to(device)\n",
        "\n",
        "# Get representations from your model\n",
        "h = model(sample, train=False)\n",
        "h = h.cpu().detach()\n",
        "\n",
        "# --- THE ONLY LINE MODIFIED TO FIX THE AttributeError ---\n",
        "# As confirmed by your 'sample.keys' output, your labels are in 'sample.y'.\n",
        "labels = sample.y.cpu().detach().numpy()\n",
        "# --------------------------------------------------------\n",
        "\n",
        "print(f\"Shape of embeddings (h): {h.shape}\")\n",
        "print(f\"Shape of labels: {labels.shape}\")\n",
        "\n",
        "# Get low-dimensional t-SNE Embeddings\n",
        "h_embedded = TSNE(n_components=2, learning_rate='auto',\n",
        "                   init='random').fit_transform(h.numpy())\n",
        "\n",
        "# Plot\n",
        "plt.figure(figsize=(12, 10)) # Added figure creation for proper display\n",
        "ax = sns.scatterplot(x=h_embedded[:,0], y=h_embedded[:,1], hue=labels,\n",
        "                    alpha=0.5, palette=\"tab10\")\n",
        "\n",
        "# Add labels to be able to identify the data points\n",
        "# This matches your original code: annotations are sequential numbers (0, 1, 2, ...)\n",
        "annotations = list(range(len(h_embedded[:,0])))\n",
        "\n",
        "def label_points(x, y, val, ax):\n",
        "    a = pd.concat({'x': x, 'y': y, 'val': val}, axis=1)\n",
        "    for i, point in a.iterrows():\n",
        "        # Using a slightly smaller font size for better readability if many points\n",
        "        ax.text(point['x']+.02, point['y'], str(int(point['val'])), fontsize=7)\n",
        "\n",
        "label_points(pd.Series(h_embedded[:,0]),\n",
        "            pd.Series(h_embedded[:,1]),\n",
        "            pd.Series(annotations), # Passing the sequential annotations here\n",
        "            plt.gca())\n",
        "\n",
        "plt.title(\"t-SNE Visualization of Embeddings\")\n",
        "plt.xlabel(\"t-SNE Dimension 1\")\n",
        "plt.ylabel(\"t-SNE Dimension 2\")\n",
        "plt.legend(title=\"Class ID\") # Legend will show the numerical class IDs\n",
        "plt.grid(True, linestyle='--', alpha=0.5) # Add a grid for better readability\n",
        "plt.show() # Display the plot"
      ]
    },
    {
      "cell_type": "markdown",
      "metadata": {
        "id": "gdEaaGAGY7X_"
      },
      "source": [
        "Let's find the most similar and most different data points ...\n",
        "\n",
        "[Source](https://stackoverflow.com/questions/50411191/how-to-compute-the-cosine-similarity-in-pytorch-for-all-rows-in-a-matrix-with-re)"
      ]
    },
    {
      "cell_type": "code",
      "execution_count": 36,
      "metadata": {
        "colab": {
          "base_uri": "https://localhost:8080/"
        },
        "id": "NwEq0v63Y4F4",
        "outputId": "0aa953f3-113e-4753-aab2-9945bbe08719"
      },
      "outputs": [
        {
          "name": "stdout",
          "output_type": "stream",
          "text": [
            "Most similar data point in the embedding space for 11 is 1\n"
          ]
        }
      ],
      "source": [
        "import numpy as np\n",
        "\n",
        "def sim_matrix(a, b, eps=1e-8):\n",
        "    \"\"\"\n",
        "    Eps for numerical stability\n",
        "    \"\"\"\n",
        "    a_n, b_n = a.norm(dim=1)[:, None], b.norm(dim=1)[:, None]\n",
        "    a_norm = a / torch.max(a_n, eps * torch.ones_like(a_n))\n",
        "    b_norm = b / torch.max(b_n, eps * torch.ones_like(b_n))\n",
        "    sim_mt = torch.mm(a_norm, b_norm.transpose(0, 1))\n",
        "    return sim_mt\n",
        "\n",
        "similarity = sim_matrix(h, h)\n",
        "max_indices = torch.topk(similarity, k=2)[1][:, 1]\n",
        "max_vals  = torch.topk(similarity, k=2)[0][:, 1]\n",
        "\n",
        "# Select index\n",
        "idx = 11\n",
        "similar_idx = max_indices[idx]\n",
        "print(f\"Most similar data point in the embedding space for {idx} is {similar_idx}\")"
      ]
    },
    {
      "cell_type": "markdown",
      "metadata": {
        "id": "mZJvNho8nQoW"
      },
      "source": [
        "Categories are: \"Table\", \"Lamp\", \"Guitar\", \"Motorbike\", \"Skateboard\"\n",
        "\n",
        "**Note**: This is only based on the data in the current batch!"
      ]
    },
    {
      "cell_type": "code",
      "execution_count": 37,
      "metadata": {
        "colab": {
          "base_uri": "https://localhost:8080/",
          "height": 559
        },
        "id": "qMv3cc_bb6ag",
        "outputId": "0445673e-e9e3-43e4-8741-ef89c28663f5"
      },
      "outputs": [
        {
          "name": "stdout",
          "output_type": "stream",
          "text": [
            "Number of data points:  1024\n"
          ]
        },
        {
          "data": {
            "application/vnd.plotly.v1+json": {
              "config": {
                "plotlyServerURL": "https://plot.ly"
              },
              "data": [
                {
                  "hovertemplate": "x=%{x}<br>y=%{y}<br>z=%{z}<extra></extra>",
                  "legendgroup": "",
                  "marker": {
                    "color": "#636efa",
                    "opacity": 0.3,
                    "symbol": "circle"
                  },
                  "mode": "markers",
                  "name": "",
                  "scene": "scene",
                  "showlegend": false,
                  "type": "scatter3d",
                  "x": {
                    "bdata": "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",
                    "dtype": "f4"
                  },
                  "y": {
                    "bdata": "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",
                    "dtype": "f4"
                  },
                  "z": {
                    "bdata": "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",
                    "dtype": "f4"
                  }
                }
              ],
              "layout": {
                "legend": {
                  "tracegroupgap": 0
                },
                "margin": {
                  "t": 60
                },
                "scene": {
                  "domain": {
                    "x": [
                      0,
                      1
                    ],
                    "y": [
                      0,
                      1
                    ]
                  },
                  "xaxis": {
                    "title": {
                      "text": "x"
                    }
                  },
                  "yaxis": {
                    "title": {
                      "text": "y"
                    }
                  },
                  "zaxis": {
                    "title": {
                      "text": "z"
                    }
                  }
                },
                "template": {
                  "data": {
                    "bar": [
                      {
                        "error_x": {
                          "color": "#2a3f5f"
                        },
                        "error_y": {
                          "color": "#2a3f5f"
                        },
                        "marker": {
                          "line": {
                            "color": "#E5ECF6",
                            "width": 0.5
                          },
                          "pattern": {
                            "fillmode": "overlay",
                            "size": 10,
                            "solidity": 0.2
                          }
                        },
                        "type": "bar"
                      }
                    ],
                    "barpolar": [
                      {
                        "marker": {
                          "line": {
                            "color": "#E5ECF6",
                            "width": 0.5
                          },
                          "pattern": {
                            "fillmode": "overlay",
                            "size": 10,
                            "solidity": 0.2
                          }
                        },
                        "type": "barpolar"
                      }
                    ],
                    "carpet": [
                      {
                        "aaxis": {
                          "endlinecolor": "#2a3f5f",
                          "gridcolor": "white",
                          "linecolor": "white",
                          "minorgridcolor": "white",
                          "startlinecolor": "#2a3f5f"
                        },
                        "baxis": {
                          "endlinecolor": "#2a3f5f",
                          "gridcolor": "white",
                          "linecolor": "white",
                          "minorgridcolor": "white",
                          "startlinecolor": "#2a3f5f"
                        },
                        "type": "carpet"
                      }
                    ],
                    "choropleth": [
                      {
                        "colorbar": {
                          "outlinewidth": 0,
                          "ticks": ""
                        },
                        "type": "choropleth"
                      }
                    ],
                    "contour": [
                      {
                        "colorbar": {
                          "outlinewidth": 0,
                          "ticks": ""
                        },
                        "colorscale": [
                          [
                            0,
                            "#0d0887"
                          ],
                          [
                            0.1111111111111111,
                            "#46039f"
                          ],
                          [
                            0.2222222222222222,
                            "#7201a8"
                          ],
                          [
                            0.3333333333333333,
                            "#9c179e"
                          ],
                          [
                            0.4444444444444444,
                            "#bd3786"
                          ],
                          [
                            0.5555555555555556,
                            "#d8576b"
                          ],
                          [
                            0.6666666666666666,
                            "#ed7953"
                          ],
                          [
                            0.7777777777777778,
                            "#fb9f3a"
                          ],
                          [
                            0.8888888888888888,
                            "#fdca26"
                          ],
                          [
                            1,
                            "#f0f921"
                          ]
                        ],
                        "type": "contour"
                      }
                    ],
                    "contourcarpet": [
                      {
                        "colorbar": {
                          "outlinewidth": 0,
                          "ticks": ""
                        },
                        "type": "contourcarpet"
                      }
                    ],
                    "heatmap": [
                      {
                        "colorbar": {
                          "outlinewidth": 0,
                          "ticks": ""
                        },
                        "colorscale": [
                          [
                            0,
                            "#0d0887"
                          ],
                          [
                            0.1111111111111111,
                            "#46039f"
                          ],
                          [
                            0.2222222222222222,
                            "#7201a8"
                          ],
                          [
                            0.3333333333333333,
                            "#9c179e"
                          ],
                          [
                            0.4444444444444444,
                            "#bd3786"
                          ],
                          [
                            0.5555555555555556,
                            "#d8576b"
                          ],
                          [
                            0.6666666666666666,
                            "#ed7953"
                          ],
                          [
                            0.7777777777777778,
                            "#fb9f3a"
                          ],
                          [
                            0.8888888888888888,
                            "#fdca26"
                          ],
                          [
                            1,
                            "#f0f921"
                          ]
                        ],
                        "type": "heatmap"
                      }
                    ],
                    "histogram": [
                      {
                        "marker": {
                          "pattern": {
                            "fillmode": "overlay",
                            "size": 10,
                            "solidity": 0.2
                          }
                        },
                        "type": "histogram"
                      }
                    ],
                    "histogram2d": [
                      {
                        "colorbar": {
                          "outlinewidth": 0,
                          "ticks": ""
                        },
                        "colorscale": [
                          [
                            0,
                            "#0d0887"
                          ],
                          [
                            0.1111111111111111,
                            "#46039f"
                          ],
                          [
                            0.2222222222222222,
                            "#7201a8"
                          ],
                          [
                            0.3333333333333333,
                            "#9c179e"
                          ],
                          [
                            0.4444444444444444,
                            "#bd3786"
                          ],
                          [
                            0.5555555555555556,
                            "#d8576b"
                          ],
                          [
                            0.6666666666666666,
                            "#ed7953"
                          ],
                          [
                            0.7777777777777778,
                            "#fb9f3a"
                          ],
                          [
                            0.8888888888888888,
                            "#fdca26"
                          ],
                          [
                            1,
                            "#f0f921"
                          ]
                        ],
                        "type": "histogram2d"
                      }
                    ],
                    "histogram2dcontour": [
                      {
                        "colorbar": {
                          "outlinewidth": 0,
                          "ticks": ""
                        },
                        "colorscale": [
                          [
                            0,
                            "#0d0887"
                          ],
                          [
                            0.1111111111111111,
                            "#46039f"
                          ],
                          [
                            0.2222222222222222,
                            "#7201a8"
                          ],
                          [
                            0.3333333333333333,
                            "#9c179e"
                          ],
                          [
                            0.4444444444444444,
                            "#bd3786"
                          ],
                          [
                            0.5555555555555556,
                            "#d8576b"
                          ],
                          [
                            0.6666666666666666,
                            "#ed7953"
                          ],
                          [
                            0.7777777777777778,
                            "#fb9f3a"
                          ],
                          [
                            0.8888888888888888,
                            "#fdca26"
                          ],
                          [
                            1,
                            "#f0f921"
                          ]
                        ],
                        "type": "histogram2dcontour"
                      }
                    ],
                    "mesh3d": [
                      {
                        "colorbar": {
                          "outlinewidth": 0,
                          "ticks": ""
                        },
                        "type": "mesh3d"
                      }
                    ],
                    "parcoords": [
                      {
                        "line": {
                          "colorbar": {
                            "outlinewidth": 0,
                            "ticks": ""
                          }
                        },
                        "type": "parcoords"
                      }
                    ],
                    "pie": [
                      {
                        "automargin": true,
                        "type": "pie"
                      }
                    ],
                    "scatter": [
                      {
                        "fillpattern": {
                          "fillmode": "overlay",
                          "size": 10,
                          "solidity": 0.2
                        },
                        "type": "scatter"
                      }
                    ],
                    "scatter3d": [
                      {
                        "line": {
                          "colorbar": {
                            "outlinewidth": 0,
                            "ticks": ""
                          }
                        },
                        "marker": {
                          "colorbar": {
                            "outlinewidth": 0,
                            "ticks": ""
                          }
                        },
                        "type": "scatter3d"
                      }
                    ],
                    "scattercarpet": [
                      {
                        "marker": {
                          "colorbar": {
                            "outlinewidth": 0,
                            "ticks": ""
                          }
                        },
                        "type": "scattercarpet"
                      }
                    ],
                    "scattergeo": [
                      {
                        "marker": {
                          "colorbar": {
                            "outlinewidth": 0,
                            "ticks": ""
                          }
                        },
                        "type": "scattergeo"
                      }
                    ],
                    "scattergl": [
                      {
                        "marker": {
                          "colorbar": {
                            "outlinewidth": 0,
                            "ticks": ""
                          }
                        },
                        "type": "scattergl"
                      }
                    ],
                    "scattermap": [
                      {
                        "marker": {
                          "colorbar": {
                            "outlinewidth": 0,
                            "ticks": ""
                          }
                        },
                        "type": "scattermap"
                      }
                    ],
                    "scattermapbox": [
                      {
                        "marker": {
                          "colorbar": {
                            "outlinewidth": 0,
                            "ticks": ""
                          }
                        },
                        "type": "scattermapbox"
                      }
                    ],
                    "scatterpolar": [
                      {
                        "marker": {
                          "colorbar": {
                            "outlinewidth": 0,
                            "ticks": ""
                          }
                        },
                        "type": "scatterpolar"
                      }
                    ],
                    "scatterpolargl": [
                      {
                        "marker": {
                          "colorbar": {
                            "outlinewidth": 0,
                            "ticks": ""
                          }
                        },
                        "type": "scatterpolargl"
                      }
                    ],
                    "scatterternary": [
                      {
                        "marker": {
                          "colorbar": {
                            "outlinewidth": 0,
                            "ticks": ""
                          }
                        },
                        "type": "scatterternary"
                      }
                    ],
                    "surface": [
                      {
                        "colorbar": {
                          "outlinewidth": 0,
                          "ticks": ""
                        },
                        "colorscale": [
                          [
                            0,
                            "#0d0887"
                          ],
                          [
                            0.1111111111111111,
                            "#46039f"
                          ],
                          [
                            0.2222222222222222,
                            "#7201a8"
                          ],
                          [
                            0.3333333333333333,
                            "#9c179e"
                          ],
                          [
                            0.4444444444444444,
                            "#bd3786"
                          ],
                          [
                            0.5555555555555556,
                            "#d8576b"
                          ],
                          [
                            0.6666666666666666,
                            "#ed7953"
                          ],
                          [
                            0.7777777777777778,
                            "#fb9f3a"
                          ],
                          [
                            0.8888888888888888,
                            "#fdca26"
                          ],
                          [
                            1,
                            "#f0f921"
                          ]
                        ],
                        "type": "surface"
                      }
                    ],
                    "table": [
                      {
                        "cells": {
                          "fill": {
                            "color": "#EBF0F8"
                          },
                          "line": {
                            "color": "white"
                          }
                        },
                        "header": {
                          "fill": {
                            "color": "#C8D4E3"
                          },
                          "line": {
                            "color": "white"
                          }
                        },
                        "type": "table"
                      }
                    ]
                  },
                  "layout": {
                    "annotationdefaults": {
                      "arrowcolor": "#2a3f5f",
                      "arrowhead": 0,
                      "arrowwidth": 1
                    },
                    "autotypenumbers": "strict",
                    "coloraxis": {
                      "colorbar": {
                        "outlinewidth": 0,
                        "ticks": ""
                      }
                    },
                    "colorscale": {
                      "diverging": [
                        [
                          0,
                          "#8e0152"
                        ],
                        [
                          0.1,
                          "#c51b7d"
                        ],
                        [
                          0.2,
                          "#de77ae"
                        ],
                        [
                          0.3,
                          "#f1b6da"
                        ],
                        [
                          0.4,
                          "#fde0ef"
                        ],
                        [
                          0.5,
                          "#f7f7f7"
                        ],
                        [
                          0.6,
                          "#e6f5d0"
                        ],
                        [
                          0.7,
                          "#b8e186"
                        ],
                        [
                          0.8,
                          "#7fbc41"
                        ],
                        [
                          0.9,
                          "#4d9221"
                        ],
                        [
                          1,
                          "#276419"
                        ]
                      ],
                      "sequential": [
                        [
                          0,
                          "#0d0887"
                        ],
                        [
                          0.1111111111111111,
                          "#46039f"
                        ],
                        [
                          0.2222222222222222,
                          "#7201a8"
                        ],
                        [
                          0.3333333333333333,
                          "#9c179e"
                        ],
                        [
                          0.4444444444444444,
                          "#bd3786"
                        ],
                        [
                          0.5555555555555556,
                          "#d8576b"
                        ],
                        [
                          0.6666666666666666,
                          "#ed7953"
                        ],
                        [
                          0.7777777777777778,
                          "#fb9f3a"
                        ],
                        [
                          0.8888888888888888,
                          "#fdca26"
                        ],
                        [
                          1,
                          "#f0f921"
                        ]
                      ],
                      "sequentialminus": [
                        [
                          0,
                          "#0d0887"
                        ],
                        [
                          0.1111111111111111,
                          "#46039f"
                        ],
                        [
                          0.2222222222222222,
                          "#7201a8"
                        ],
                        [
                          0.3333333333333333,
                          "#9c179e"
                        ],
                        [
                          0.4444444444444444,
                          "#bd3786"
                        ],
                        [
                          0.5555555555555556,
                          "#d8576b"
                        ],
                        [
                          0.6666666666666666,
                          "#ed7953"
                        ],
                        [
                          0.7777777777777778,
                          "#fb9f3a"
                        ],
                        [
                          0.8888888888888888,
                          "#fdca26"
                        ],
                        [
                          1,
                          "#f0f921"
                        ]
                      ]
                    },
                    "colorway": [
                      "#636efa",
                      "#EF553B",
                      "#00cc96",
                      "#ab63fa",
                      "#FFA15A",
                      "#19d3f3",
                      "#FF6692",
                      "#B6E880",
                      "#FF97FF",
                      "#FECB52"
                    ],
                    "font": {
                      "color": "#2a3f5f"
                    },
                    "geo": {
                      "bgcolor": "white",
                      "lakecolor": "white",
                      "landcolor": "#E5ECF6",
                      "showlakes": true,
                      "showland": true,
                      "subunitcolor": "white"
                    },
                    "hoverlabel": {
                      "align": "left"
                    },
                    "hovermode": "closest",
                    "mapbox": {
                      "style": "light"
                    },
                    "paper_bgcolor": "white",
                    "plot_bgcolor": "#E5ECF6",
                    "polar": {
                      "angularaxis": {
                        "gridcolor": "white",
                        "linecolor": "white",
                        "ticks": ""
                      },
                      "bgcolor": "#E5ECF6",
                      "radialaxis": {
                        "gridcolor": "white",
                        "linecolor": "white",
                        "ticks": ""
                      }
                    },
                    "scene": {
                      "xaxis": {
                        "backgroundcolor": "#E5ECF6",
                        "gridcolor": "white",
                        "gridwidth": 2,
                        "linecolor": "white",
                        "showbackground": true,
                        "ticks": "",
                        "zerolinecolor": "white"
                      },
                      "yaxis": {
                        "backgroundcolor": "#E5ECF6",
                        "gridcolor": "white",
                        "gridwidth": 2,
                        "linecolor": "white",
                        "showbackground": true,
                        "ticks": "",
                        "zerolinecolor": "white"
                      },
                      "zaxis": {
                        "backgroundcolor": "#E5ECF6",
                        "gridcolor": "white",
                        "gridwidth": 2,
                        "linecolor": "white",
                        "showbackground": true,
                        "ticks": "",
                        "zerolinecolor": "white"
                      }
                    },
                    "shapedefaults": {
                      "line": {
                        "color": "#2a3f5f"
                      }
                    },
                    "ternary": {
                      "aaxis": {
                        "gridcolor": "white",
                        "linecolor": "white",
                        "ticks": ""
                      },
                      "baxis": {
                        "gridcolor": "white",
                        "linecolor": "white",
                        "ticks": ""
                      },
                      "bgcolor": "#E5ECF6",
                      "caxis": {
                        "gridcolor": "white",
                        "linecolor": "white",
                        "ticks": ""
                      }
                    },
                    "title": {
                      "x": 0.05
                    },
                    "xaxis": {
                      "automargin": true,
                      "gridcolor": "white",
                      "linecolor": "white",
                      "ticks": "",
                      "title": {
                        "standoff": 15
                      },
                      "zerolinecolor": "white",
                      "zerolinewidth": 2
                    },
                    "yaxis": {
                      "automargin": true,
                      "gridcolor": "white",
                      "linecolor": "white",
                      "ticks": "",
                      "title": {
                        "standoff": 15
                      },
                      "zerolinecolor": "white",
                      "zerolinewidth": 2
                    }
                  }
                }
              }
            }
          },
          "metadata": {},
          "output_type": "display_data"
        }
      ],
      "source": [
        "plot_3d_shape(sample[idx].cpu())"
      ]
    },
    {
      "cell_type": "code",
      "execution_count": 38,
      "metadata": {
        "colab": {
          "base_uri": "https://localhost:8080/",
          "height": 559
        },
        "id": "i7Q86ALucDEx",
        "outputId": "466bb100-1262-48d9-839a-c8fe7aea096b"
      },
      "outputs": [
        {
          "name": "stdout",
          "output_type": "stream",
          "text": [
            "Number of data points:  1024\n"
          ]
        },
        {
          "data": {
            "application/vnd.plotly.v1+json": {
              "config": {
                "plotlyServerURL": "https://plot.ly"
              },
              "data": [
                {
                  "hovertemplate": "x=%{x}<br>y=%{y}<br>z=%{z}<extra></extra>",
                  "legendgroup": "",
                  "marker": {
                    "color": "#636efa",
                    "opacity": 0.3,
                    "symbol": "circle"
                  },
                  "mode": "markers",
                  "name": "",
                  "scene": "scene",
                  "showlegend": false,
                  "type": "scatter3d",
                  "x": {
                    "bdata": "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",
                    "dtype": "f4"
                  },
                  "y": {
                    "bdata": "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",
                    "dtype": "f4"
                  },
                  "z": {
                    "bdata": "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",
                    "dtype": "f4"
                  }
                }
              ],
              "layout": {
                "legend": {
                  "tracegroupgap": 0
                },
                "margin": {
                  "t": 60
                },
                "scene": {
                  "domain": {
                    "x": [
                      0,
                      1
                    ],
                    "y": [
                      0,
                      1
                    ]
                  },
                  "xaxis": {
                    "title": {
                      "text": "x"
                    }
                  },
                  "yaxis": {
                    "title": {
                      "text": "y"
                    }
                  },
                  "zaxis": {
                    "title": {
                      "text": "z"
                    }
                  }
                },
                "template": {
                  "data": {
                    "bar": [
                      {
                        "error_x": {
                          "color": "#2a3f5f"
                        },
                        "error_y": {
                          "color": "#2a3f5f"
                        },
                        "marker": {
                          "line": {
                            "color": "#E5ECF6",
                            "width": 0.5
                          },
                          "pattern": {
                            "fillmode": "overlay",
                            "size": 10,
                            "solidity": 0.2
                          }
                        },
                        "type": "bar"
                      }
                    ],
                    "barpolar": [
                      {
                        "marker": {
                          "line": {
                            "color": "#E5ECF6",
                            "width": 0.5
                          },
                          "pattern": {
                            "fillmode": "overlay",
                            "size": 10,
                            "solidity": 0.2
                          }
                        },
                        "type": "barpolar"
                      }
                    ],
                    "carpet": [
                      {
                        "aaxis": {
                          "endlinecolor": "#2a3f5f",
                          "gridcolor": "white",
                          "linecolor": "white",
                          "minorgridcolor": "white",
                          "startlinecolor": "#2a3f5f"
                        },
                        "baxis": {
                          "endlinecolor": "#2a3f5f",
                          "gridcolor": "white",
                          "linecolor": "white",
                          "minorgridcolor": "white",
                          "startlinecolor": "#2a3f5f"
                        },
                        "type": "carpet"
                      }
                    ],
                    "choropleth": [
                      {
                        "colorbar": {
                          "outlinewidth": 0,
                          "ticks": ""
                        },
                        "type": "choropleth"
                      }
                    ],
                    "contour": [
                      {
                        "colorbar": {
                          "outlinewidth": 0,
                          "ticks": ""
                        },
                        "colorscale": [
                          [
                            0,
                            "#0d0887"
                          ],
                          [
                            0.1111111111111111,
                            "#46039f"
                          ],
                          [
                            0.2222222222222222,
                            "#7201a8"
                          ],
                          [
                            0.3333333333333333,
                            "#9c179e"
                          ],
                          [
                            0.4444444444444444,
                            "#bd3786"
                          ],
                          [
                            0.5555555555555556,
                            "#d8576b"
                          ],
                          [
                            0.6666666666666666,
                            "#ed7953"
                          ],
                          [
                            0.7777777777777778,
                            "#fb9f3a"
                          ],
                          [
                            0.8888888888888888,
                            "#fdca26"
                          ],
                          [
                            1,
                            "#f0f921"
                          ]
                        ],
                        "type": "contour"
                      }
                    ],
                    "contourcarpet": [
                      {
                        "colorbar": {
                          "outlinewidth": 0,
                          "ticks": ""
                        },
                        "type": "contourcarpet"
                      }
                    ],
                    "heatmap": [
                      {
                        "colorbar": {
                          "outlinewidth": 0,
                          "ticks": ""
                        },
                        "colorscale": [
                          [
                            0,
                            "#0d0887"
                          ],
                          [
                            0.1111111111111111,
                            "#46039f"
                          ],
                          [
                            0.2222222222222222,
                            "#7201a8"
                          ],
                          [
                            0.3333333333333333,
                            "#9c179e"
                          ],
                          [
                            0.4444444444444444,
                            "#bd3786"
                          ],
                          [
                            0.5555555555555556,
                            "#d8576b"
                          ],
                          [
                            0.6666666666666666,
                            "#ed7953"
                          ],
                          [
                            0.7777777777777778,
                            "#fb9f3a"
                          ],
                          [
                            0.8888888888888888,
                            "#fdca26"
                          ],
                          [
                            1,
                            "#f0f921"
                          ]
                        ],
                        "type": "heatmap"
                      }
                    ],
                    "histogram": [
                      {
                        "marker": {
                          "pattern": {
                            "fillmode": "overlay",
                            "size": 10,
                            "solidity": 0.2
                          }
                        },
                        "type": "histogram"
                      }
                    ],
                    "histogram2d": [
                      {
                        "colorbar": {
                          "outlinewidth": 0,
                          "ticks": ""
                        },
                        "colorscale": [
                          [
                            0,
                            "#0d0887"
                          ],
                          [
                            0.1111111111111111,
                            "#46039f"
                          ],
                          [
                            0.2222222222222222,
                            "#7201a8"
                          ],
                          [
                            0.3333333333333333,
                            "#9c179e"
                          ],
                          [
                            0.4444444444444444,
                            "#bd3786"
                          ],
                          [
                            0.5555555555555556,
                            "#d8576b"
                          ],
                          [
                            0.6666666666666666,
                            "#ed7953"
                          ],
                          [
                            0.7777777777777778,
                            "#fb9f3a"
                          ],
                          [
                            0.8888888888888888,
                            "#fdca26"
                          ],
                          [
                            1,
                            "#f0f921"
                          ]
                        ],
                        "type": "histogram2d"
                      }
                    ],
                    "histogram2dcontour": [
                      {
                        "colorbar": {
                          "outlinewidth": 0,
                          "ticks": ""
                        },
                        "colorscale": [
                          [
                            0,
                            "#0d0887"
                          ],
                          [
                            0.1111111111111111,
                            "#46039f"
                          ],
                          [
                            0.2222222222222222,
                            "#7201a8"
                          ],
                          [
                            0.3333333333333333,
                            "#9c179e"
                          ],
                          [
                            0.4444444444444444,
                            "#bd3786"
                          ],
                          [
                            0.5555555555555556,
                            "#d8576b"
                          ],
                          [
                            0.6666666666666666,
                            "#ed7953"
                          ],
                          [
                            0.7777777777777778,
                            "#fb9f3a"
                          ],
                          [
                            0.8888888888888888,
                            "#fdca26"
                          ],
                          [
                            1,
                            "#f0f921"
                          ]
                        ],
                        "type": "histogram2dcontour"
                      }
                    ],
                    "mesh3d": [
                      {
                        "colorbar": {
                          "outlinewidth": 0,
                          "ticks": ""
                        },
                        "type": "mesh3d"
                      }
                    ],
                    "parcoords": [
                      {
                        "line": {
                          "colorbar": {
                            "outlinewidth": 0,
                            "ticks": ""
                          }
                        },
                        "type": "parcoords"
                      }
                    ],
                    "pie": [
                      {
                        "automargin": true,
                        "type": "pie"
                      }
                    ],
                    "scatter": [
                      {
                        "fillpattern": {
                          "fillmode": "overlay",
                          "size": 10,
                          "solidity": 0.2
                        },
                        "type": "scatter"
                      }
                    ],
                    "scatter3d": [
                      {
                        "line": {
                          "colorbar": {
                            "outlinewidth": 0,
                            "ticks": ""
                          }
                        },
                        "marker": {
                          "colorbar": {
                            "outlinewidth": 0,
                            "ticks": ""
                          }
                        },
                        "type": "scatter3d"
                      }
                    ],
                    "scattercarpet": [
                      {
                        "marker": {
                          "colorbar": {
                            "outlinewidth": 0,
                            "ticks": ""
                          }
                        },
                        "type": "scattercarpet"
                      }
                    ],
                    "scattergeo": [
                      {
                        "marker": {
                          "colorbar": {
                            "outlinewidth": 0,
                            "ticks": ""
                          }
                        },
                        "type": "scattergeo"
                      }
                    ],
                    "scattergl": [
                      {
                        "marker": {
                          "colorbar": {
                            "outlinewidth": 0,
                            "ticks": ""
                          }
                        },
                        "type": "scattergl"
                      }
                    ],
                    "scattermap": [
                      {
                        "marker": {
                          "colorbar": {
                            "outlinewidth": 0,
                            "ticks": ""
                          }
                        },
                        "type": "scattermap"
                      }
                    ],
                    "scattermapbox": [
                      {
                        "marker": {
                          "colorbar": {
                            "outlinewidth": 0,
                            "ticks": ""
                          }
                        },
                        "type": "scattermapbox"
                      }
                    ],
                    "scatterpolar": [
                      {
                        "marker": {
                          "colorbar": {
                            "outlinewidth": 0,
                            "ticks": ""
                          }
                        },
                        "type": "scatterpolar"
                      }
                    ],
                    "scatterpolargl": [
                      {
                        "marker": {
                          "colorbar": {
                            "outlinewidth": 0,
                            "ticks": ""
                          }
                        },
                        "type": "scatterpolargl"
                      }
                    ],
                    "scatterternary": [
                      {
                        "marker": {
                          "colorbar": {
                            "outlinewidth": 0,
                            "ticks": ""
                          }
                        },
                        "type": "scatterternary"
                      }
                    ],
                    "surface": [
                      {
                        "colorbar": {
                          "outlinewidth": 0,
                          "ticks": ""
                        },
                        "colorscale": [
                          [
                            0,
                            "#0d0887"
                          ],
                          [
                            0.1111111111111111,
                            "#46039f"
                          ],
                          [
                            0.2222222222222222,
                            "#7201a8"
                          ],
                          [
                            0.3333333333333333,
                            "#9c179e"
                          ],
                          [
                            0.4444444444444444,
                            "#bd3786"
                          ],
                          [
                            0.5555555555555556,
                            "#d8576b"
                          ],
                          [
                            0.6666666666666666,
                            "#ed7953"
                          ],
                          [
                            0.7777777777777778,
                            "#fb9f3a"
                          ],
                          [
                            0.8888888888888888,
                            "#fdca26"
                          ],
                          [
                            1,
                            "#f0f921"
                          ]
                        ],
                        "type": "surface"
                      }
                    ],
                    "table": [
                      {
                        "cells": {
                          "fill": {
                            "color": "#EBF0F8"
                          },
                          "line": {
                            "color": "white"
                          }
                        },
                        "header": {
                          "fill": {
                            "color": "#C8D4E3"
                          },
                          "line": {
                            "color": "white"
                          }
                        },
                        "type": "table"
                      }
                    ]
                  },
                  "layout": {
                    "annotationdefaults": {
                      "arrowcolor": "#2a3f5f",
                      "arrowhead": 0,
                      "arrowwidth": 1
                    },
                    "autotypenumbers": "strict",
                    "coloraxis": {
                      "colorbar": {
                        "outlinewidth": 0,
                        "ticks": ""
                      }
                    },
                    "colorscale": {
                      "diverging": [
                        [
                          0,
                          "#8e0152"
                        ],
                        [
                          0.1,
                          "#c51b7d"
                        ],
                        [
                          0.2,
                          "#de77ae"
                        ],
                        [
                          0.3,
                          "#f1b6da"
                        ],
                        [
                          0.4,
                          "#fde0ef"
                        ],
                        [
                          0.5,
                          "#f7f7f7"
                        ],
                        [
                          0.6,
                          "#e6f5d0"
                        ],
                        [
                          0.7,
                          "#b8e186"
                        ],
                        [
                          0.8,
                          "#7fbc41"
                        ],
                        [
                          0.9,
                          "#4d9221"
                        ],
                        [
                          1,
                          "#276419"
                        ]
                      ],
                      "sequential": [
                        [
                          0,
                          "#0d0887"
                        ],
                        [
                          0.1111111111111111,
                          "#46039f"
                        ],
                        [
                          0.2222222222222222,
                          "#7201a8"
                        ],
                        [
                          0.3333333333333333,
                          "#9c179e"
                        ],
                        [
                          0.4444444444444444,
                          "#bd3786"
                        ],
                        [
                          0.5555555555555556,
                          "#d8576b"
                        ],
                        [
                          0.6666666666666666,
                          "#ed7953"
                        ],
                        [
                          0.7777777777777778,
                          "#fb9f3a"
                        ],
                        [
                          0.8888888888888888,
                          "#fdca26"
                        ],
                        [
                          1,
                          "#f0f921"
                        ]
                      ],
                      "sequentialminus": [
                        [
                          0,
                          "#0d0887"
                        ],
                        [
                          0.1111111111111111,
                          "#46039f"
                        ],
                        [
                          0.2222222222222222,
                          "#7201a8"
                        ],
                        [
                          0.3333333333333333,
                          "#9c179e"
                        ],
                        [
                          0.4444444444444444,
                          "#bd3786"
                        ],
                        [
                          0.5555555555555556,
                          "#d8576b"
                        ],
                        [
                          0.6666666666666666,
                          "#ed7953"
                        ],
                        [
                          0.7777777777777778,
                          "#fb9f3a"
                        ],
                        [
                          0.8888888888888888,
                          "#fdca26"
                        ],
                        [
                          1,
                          "#f0f921"
                        ]
                      ]
                    },
                    "colorway": [
                      "#636efa",
                      "#EF553B",
                      "#00cc96",
                      "#ab63fa",
                      "#FFA15A",
                      "#19d3f3",
                      "#FF6692",
                      "#B6E880",
                      "#FF97FF",
                      "#FECB52"
                    ],
                    "font": {
                      "color": "#2a3f5f"
                    },
                    "geo": {
                      "bgcolor": "white",
                      "lakecolor": "white",
                      "landcolor": "#E5ECF6",
                      "showlakes": true,
                      "showland": true,
                      "subunitcolor": "white"
                    },
                    "hoverlabel": {
                      "align": "left"
                    },
                    "hovermode": "closest",
                    "mapbox": {
                      "style": "light"
                    },
                    "paper_bgcolor": "white",
                    "plot_bgcolor": "#E5ECF6",
                    "polar": {
                      "angularaxis": {
                        "gridcolor": "white",
                        "linecolor": "white",
                        "ticks": ""
                      },
                      "bgcolor": "#E5ECF6",
                      "radialaxis": {
                        "gridcolor": "white",
                        "linecolor": "white",
                        "ticks": ""
                      }
                    },
                    "scene": {
                      "xaxis": {
                        "backgroundcolor": "#E5ECF6",
                        "gridcolor": "white",
                        "gridwidth": 2,
                        "linecolor": "white",
                        "showbackground": true,
                        "ticks": "",
                        "zerolinecolor": "white"
                      },
                      "yaxis": {
                        "backgroundcolor": "#E5ECF6",
                        "gridcolor": "white",
                        "gridwidth": 2,
                        "linecolor": "white",
                        "showbackground": true,
                        "ticks": "",
                        "zerolinecolor": "white"
                      },
                      "zaxis": {
                        "backgroundcolor": "#E5ECF6",
                        "gridcolor": "white",
                        "gridwidth": 2,
                        "linecolor": "white",
                        "showbackground": true,
                        "ticks": "",
                        "zerolinecolor": "white"
                      }
                    },
                    "shapedefaults": {
                      "line": {
                        "color": "#2a3f5f"
                      }
                    },
                    "ternary": {
                      "aaxis": {
                        "gridcolor": "white",
                        "linecolor": "white",
                        "ticks": ""
                      },
                      "baxis": {
                        "gridcolor": "white",
                        "linecolor": "white",
                        "ticks": ""
                      },
                      "bgcolor": "#E5ECF6",
                      "caxis": {
                        "gridcolor": "white",
                        "linecolor": "white",
                        "ticks": ""
                      }
                    },
                    "title": {
                      "x": 0.05
                    },
                    "xaxis": {
                      "automargin": true,
                      "gridcolor": "white",
                      "linecolor": "white",
                      "ticks": "",
                      "title": {
                        "standoff": 15
                      },
                      "zerolinecolor": "white",
                      "zerolinewidth": 2
                    },
                    "yaxis": {
                      "automargin": true,
                      "gridcolor": "white",
                      "linecolor": "white",
                      "ticks": "",
                      "title": {
                        "standoff": 15
                      },
                      "zerolinecolor": "white",
                      "zerolinewidth": 2
                    }
                  }
                }
              }
            }
          },
          "metadata": {},
          "output_type": "display_data"
        }
      ],
      "source": [
        "plot_3d_shape(sample[similar_idx].cpu())"
      ]
    },
    {
      "cell_type": "markdown",
      "metadata": {
        "id": "kppFmNVKa2K6"
      },
      "source": [
        "This confirms that our embedding space has a proper arrangement and that our contrastive loss separated different entities successfully."
      ]
    }
  ],
  "metadata": {
    "accelerator": "GPU",
    "colab": {
      "collapsed_sections": [
        "2-pAk_rLhhiV",
        "DQDYyNK_-j--",
        "rEyNxSuPGrHX",
        "Lle1XiGfEsn7",
        "U0QjhMfhJ8W7",
        "J49zjaa5cxRe"
      ],
      "provenance": []
    },
    "kernelspec": {
      "display_name": "contrastive_test",
      "language": "python",
      "name": "python3"
    },
    "language_info": {
      "codemirror_mode": {
        "name": "ipython",
        "version": 3
      },
      "file_extension": ".py",
      "mimetype": "text/x-python",
      "name": "python",
      "nbconvert_exporter": "python",
      "pygments_lexer": "ipython3",
      "version": "3.9.23"
    }
  },
  "nbformat": 4,
  "nbformat_minor": 0
}
